{
 "cells": [
  {
   "cell_type": "markdown",
   "metadata": {},
   "source": [
    "# Introduction Azure ML\n",
    "<br>\n",
    "\n",
    "<img src='https://github.com/retkowsky/images/blob/master/AzureMLservicebanniere.png?raw=true'>\n",
    "\n",
    "\n",
    "> Documentation : https://docs.microsoft.com/en-us/azure/machine-learning/"
   ]
  },
  {
   "cell_type": "markdown",
   "metadata": {},
   "source": [
    "## 0. Paramétrage"
   ]
  },
  {
   "cell_type": "code",
   "execution_count": 32,
   "metadata": {},
   "outputs": [],
   "source": [
    "import numpy as np"
   ]
  },
  {
   "cell_type": "code",
   "execution_count": 1,
   "metadata": {},
   "outputs": [
    {
     "data": {
      "text/plain": [
       "'3.6.9 |Anaconda, Inc.| (default, Jul 30 2019, 19:07:31) \\n[GCC 7.3.0]'"
      ]
     },
     "execution_count": 1,
     "metadata": {},
     "output_type": "execute_result"
    }
   ],
   "source": [
    "import sys\n",
    "sys.version"
   ]
  },
  {
   "cell_type": "code",
   "execution_count": 2,
   "metadata": {},
   "outputs": [
    {
     "name": "stdout",
     "output_type": "stream",
     "text": [
      "2020-04-15 13:52:00.562229\n"
     ]
    }
   ],
   "source": [
    "import datetime\n",
    "now = datetime.datetime.now()\n",
    "print(now)"
   ]
  },
  {
   "cell_type": "code",
   "execution_count": 3,
   "metadata": {},
   "outputs": [
    {
     "name": "stdout",
     "output_type": "stream",
     "text": [
      "Version Azure ML service :  1.2.0\n"
     ]
    }
   ],
   "source": [
    "import azureml.core\n",
    "from azureml.core import Experiment, Workspace\n",
    "\n",
    "print(\"Version Azure ML service : \", azureml.core.VERSION)"
   ]
  },
  {
   "cell_type": "code",
   "execution_count": 4,
   "metadata": {},
   "outputs": [
    {
     "name": "stdout",
     "output_type": "stream",
     "text": [
      "Workspace name: workshopAML2020\n",
      "Azure region: westeurope\n",
      "Resource group: workshopAML2020-rg\n"
     ]
    }
   ],
   "source": [
    "# Rappel des infos du workspace Azure ML service\n",
    "ws = Workspace.from_config()\n",
    "print('Workspace name: ' + ws.name, \n",
    "      'Azure region: ' + ws.location, \n",
    "      'Resource group: ' + ws.resource_group, sep='\\n')"
   ]
  },
  {
   "cell_type": "code",
   "execution_count": 5,
   "metadata": {},
   "outputs": [
    {
     "name": "stdout",
     "output_type": "stream",
     "text": [
      "Compute Targets:\n",
      "\t instance-aks : AKS\n",
      "\t Designer : AmlCompute\n",
      "\t instance : ComputeInstance\n",
      "\t gpuclusterNC6 : AmlCompute\n",
      "\t cpu-cluster : AmlCompute\n",
      "\t instance-sr : ComputeInstance\n",
      "Datastores:\n",
      "\t teststorageserge : AzureBlob\n",
      "\t azureml_globaldatasets : AzureBlob\n",
      "\t workspaceblobstore : AzureBlob\n",
      "\t workspacefilestore : AzureFile\n",
      "Datasets:\n",
      "\t monfichier\n",
      "\t Iris\n",
      "\t mnist dataset\n",
      "\t diabetes dataset\n"
     ]
    }
   ],
   "source": [
    "from azureml.core import ComputeTarget, Datastore, Dataset\n",
    "\n",
    "print(\"Compute Targets:\")\n",
    "for compute_name in ws.compute_targets:\n",
    "    compute = ws.compute_targets[compute_name]\n",
    "    print(\"\\t\", compute.name, ':', compute.type)\n",
    "    \n",
    "print(\"Datastores:\")\n",
    "for datastore_name in ws.datastores:\n",
    "    datastore = Datastore.get(ws, datastore_name)\n",
    "    print(\"\\t\", datastore.name, ':', datastore.datastore_type)\n",
    "    \n",
    "print(\"Datasets:\")\n",
    "for dataset_name in list(ws.datasets.keys()):\n",
    "    dataset = Dataset.get_by_name(ws, dataset_name)\n",
    "    print(\"\\t\", dataset.name)\n"
   ]
  },
  {
   "cell_type": "markdown",
   "metadata": {},
   "source": [
    "### Workspace Azure ML"
   ]
  },
  {
   "cell_type": "markdown",
   "metadata": {},
   "source": [
    "<img src=\"https://github.com/retkowsky/images/blob/master/workspace.png?raw=true\">"
   ]
  },
  {
   "cell_type": "markdown",
   "metadata": {},
   "source": [
    "## 1. Chargement des données"
   ]
  },
  {
   "cell_type": "code",
   "execution_count": 27,
   "metadata": {},
   "outputs": [],
   "source": [
    "from sklearn.datasets import load_diabetes\n",
    "from sklearn.linear_model import Ridge\n",
    "from sklearn.metrics import mean_squared_error\n",
    "from sklearn.model_selection import train_test_split\n",
    "from sklearn.externals import joblib"
   ]
  },
  {
   "cell_type": "code",
   "execution_count": 7,
   "metadata": {},
   "outputs": [],
   "source": [
    "X, y = load_diabetes(return_X_y = True)\n",
    "columns = ['age', 'gender', 'bmi', 'bp', 's1', 's2', 's3', 's4', 's5', 's6']"
   ]
  },
  {
   "cell_type": "code",
   "execution_count": 8,
   "metadata": {},
   "outputs": [],
   "source": [
    "# Let's create the training dataset + test dataset\n",
    "X_train, X_test, y_train, y_test = train_test_split(X, y, test_size=0.2, random_state=0)\n",
    "\n",
    "data = {\n",
    "    \"train\":{\"X\": X_train, \"y\": y_train},        \n",
    "    \"test\":{\"X\": X_test, \"y\": y_test}\n",
    "}"
   ]
  },
  {
   "cell_type": "code",
   "execution_count": 9,
   "metadata": {},
   "outputs": [
    {
     "name": "stdout",
     "output_type": "stream",
     "text": [
      "Training = 353 observations\n"
     ]
    }
   ],
   "source": [
    "print (\"Training =\", len(data['train']['X']), 'observations')"
   ]
  },
  {
   "cell_type": "code",
   "execution_count": 10,
   "metadata": {},
   "outputs": [
    {
     "name": "stdout",
     "output_type": "stream",
     "text": [
      "Test = 89 observations\n"
     ]
    }
   ],
   "source": [
    "print (\"Test =\", len(data['test']['X']), 'observations')"
   ]
  },
  {
   "cell_type": "markdown",
   "metadata": {},
   "source": [
    "## 2. Modélisation"
   ]
  },
  {
   "cell_type": "markdown",
   "metadata": {},
   "source": [
    "Nous allons réaliser un modèle de régression **Ridge**.<br> \n",
    "<img src='https://github.com/retkowsky/images/blob/master/ridge.png?raw=true'>\n",
    "<br>\n",
    "C'est une version régularisée de la régression linéaire.\n",
    "Cela permet d'ajuster les données avec des coefficents de pondération du modèle les plus petits possibles.\n",
    "- Si le paramétre = 0 => nous avons dans ce cas une régression linéaire.\n",
    "- Si le paramétre a une valeur importante, alors les coefficients de pondérations ont des valeurs proches de 0 => on aura dans ce cas une ligne horizontale qui passe par la moyenne des données.\n",
    "\n"
   ]
  },
  {
   "cell_type": "code",
   "execution_count": 11,
   "metadata": {},
   "outputs": [],
   "source": [
    "experiment = Experiment(workspace=ws, name=\"Exemple1-IntroductionAML\")"
   ]
  },
  {
   "cell_type": "markdown",
   "metadata": {},
   "source": [
    "Les étapes\n",
    "1. Logs d'informations\n",
    "2. Modélisation\n",
    "3. Logs de résultats de modèles\n",
    "4. Sauvegarde modèle"
   ]
  },
  {
   "cell_type": "code",
   "execution_count": 12,
   "metadata": {},
   "outputs": [],
   "source": [
    "def regridge(k):\n",
    "    \n",
    "    from datetime import datetime\n",
    "    maintenant = datetime.now()\n",
    "\n",
    "    # 1. Run\n",
    "    run = experiment.start_logging()\n",
    "    print('Valeur de k =', k)\n",
    "    \n",
    "    # 2. Logs des valeurs du Run\n",
    "    run.log('k', k)\n",
    "    run.log('date_log', str(maintenant))\n",
    "\n",
    "    # 3. Modèle Ridge\n",
    "    regression_model = Ridge(alpha=k)\n",
    "    regression_model.fit(data['train']['X'], data['train']['y'])\n",
    "    preds = regression_model.predict(data['test']['X'])\n",
    "\n",
    "    # 4. Log des métriques du modèle\n",
    "    print('MSE =', mean_squared_error(data['test']['y'], preds))\n",
    "    run.log('mse', mean_squared_error(data['test']['y'], preds))\n",
    "\n",
    "    # 5. Export modèle\n",
    "    joblib.dump(value=regression_model, filename='modelenotebook-k-'+str(k)+'.pkl')\n",
    "\n",
    "    # 6. Ajout de tags au run\n",
    "    run.tag(\"Langage\", \"Python\")\n",
    "    run.tag(\"Version_Python\", \"3.6.9\")\n",
    "    run.tag(\"Version_AzureML\", \"1.2.0\")\n",
    "    run.tag(\"Team\", \"DataScience\")\n",
    "    run.tag(\"Pays\", \"France\") \n",
    "    run.tag(\"Auteur\", \"Serge\") \n",
    "    \n",
    "    # 6. Fin\n",
    "    run.complete()"
   ]
  },
  {
   "cell_type": "markdown",
   "metadata": {},
   "source": [
    "Rappel: Définition MSE\n",
    "<img src=\"https://wikimedia.org/api/rest_v1/media/math/render/svg/e258221518869aa1c6561bb75b99476c4734108e\">"
   ]
  },
  {
   "cell_type": "markdown",
   "metadata": {},
   "source": [
    "### On appelle la fonction avec différentes valeurs de k"
   ]
  },
  {
   "cell_type": "code",
   "execution_count": 13,
   "metadata": {},
   "outputs": [
    {
     "name": "stdout",
     "output_type": "stream",
     "text": [
      "Valeur de k = 0.1\n",
      "MSE = 3372.649627810032\n"
     ]
    }
   ],
   "source": [
    "regridge(0.1)"
   ]
  },
  {
   "cell_type": "code",
   "execution_count": 14,
   "metadata": {},
   "outputs": [
    {
     "name": "stdout",
     "output_type": "stream",
     "text": [
      "Valeur de k = 0.2\n",
      "MSE = 3325.2946794678764\n"
     ]
    }
   ],
   "source": [
    "regridge(0.2)"
   ]
  },
  {
   "cell_type": "code",
   "execution_count": 15,
   "metadata": {},
   "outputs": [
    {
     "name": "stdout",
     "output_type": "stream",
     "text": [
      "Valeur de k = 0.3\n",
      "MSE = 3302.6736334017255\n"
     ]
    }
   ],
   "source": [
    "regridge(0.3)"
   ]
  },
  {
   "cell_type": "code",
   "execution_count": 16,
   "metadata": {},
   "outputs": [
    {
     "name": "stdout",
     "output_type": "stream",
     "text": [
      "Valeur de k = 0.4\n",
      "MSE = 3295.741064355809\n"
     ]
    }
   ],
   "source": [
    "regridge(0.4)"
   ]
  },
  {
   "cell_type": "code",
   "execution_count": 17,
   "metadata": {},
   "outputs": [
    {
     "name": "stdout",
     "output_type": "stream",
     "text": [
      "Valeur de k = 0.5\n",
      "MSE = 3298.9096058070622\n"
     ]
    }
   ],
   "source": [
    "regridge(0.5)"
   ]
  },
  {
   "cell_type": "code",
   "execution_count": 18,
   "metadata": {},
   "outputs": [
    {
     "name": "stdout",
     "output_type": "stream",
     "text": [
      "-rwxrwxrwx 1 root root 645 Apr 15 13:59 \u001b[0m\u001b[01;32mmodelenotebook-k-0.1.pkl\u001b[0m*\r\n",
      "-rwxrwxrwx 1 root root 645 Apr 15 14:00 \u001b[01;32mmodelenotebook-k-0.2.pkl\u001b[0m*\r\n",
      "-rwxrwxrwx 1 root root 645 Apr 15 14:00 \u001b[01;32mmodelenotebook-k-0.3.pkl\u001b[0m*\r\n",
      "-rwxrwxrwx 1 root root 645 Apr 15 14:01 \u001b[01;32mmodelenotebook-k-0.4.pkl\u001b[0m*\r\n",
      "-rwxrwxrwx 1 root root 645 Apr 15 14:01 \u001b[01;32mmodelenotebook-k-0.5.pkl\u001b[0m*\r\n"
     ]
    }
   ],
   "source": [
    "# Liste des pickle de chaque modèle pour chaque valeur de k\n",
    "%ls modelenotebook-k*.pkl -l"
   ]
  },
  {
   "cell_type": "markdown",
   "metadata": {},
   "source": [
    "## On visualise les métriques par Run de l'expérimentation"
   ]
  },
  {
   "cell_type": "code",
   "execution_count": 49,
   "metadata": {},
   "outputs": [
    {
     "name": "stdout",
     "output_type": "stream",
     "text": [
      "\n",
      "Run ID : 3a0b497f-9a3f-44f7-b511-9dc88a8a71b9\n",
      "- k 0.5\n",
      "- date_log 2020-04-14 08:54:37.375614\n",
      "- mse 3298.9096058070622\n",
      "\n",
      "Run ID : 7e6a8bcb-8b25-4361-ae88-7b9da27aa27b\n",
      "- k 0.4\n",
      "- date_log 2020-04-14 08:54:08.329277\n",
      "- mse 3295.741064355809\n",
      "\n",
      "Run ID : 78e35623-af4f-45ac-bc86-d777b4eb6a2d\n",
      "- k 0.3\n",
      "- date_log 2020-04-14 08:53:38.499777\n",
      "- mse 3302.6736334017255\n",
      "\n",
      "Run ID : db6a8284-3bf1-4480-900b-45cf0bec8c9c\n",
      "- k 0.2\n",
      "- date_log 2020-04-14 08:53:09.564376\n",
      "- mse 3325.2946794678764\n",
      "\n",
      "Run ID : 6ffbf583-304d-45e6-b0ca-2abd68359f0b\n",
      "- k 0.1\n",
      "- date_log 2020-04-14 08:51:12.371310\n",
      "- mse 3372.649627810032\n",
      "\n",
      "Run ID : c3b97fed-edf9-4297-8148-17395085e10f\n",
      "\n",
      "Run ID : 0f4e7b03-d14a-448e-b723-cb744b3dac27\n",
      "- k 0.4\n",
      "- date_log 2020-04-14 07:15:07.052050\n",
      "- mse 3295.741064355809\n",
      "\n",
      "Run ID : c8fbd06f-84d9-4225-9d06-6152b15aaa0c\n",
      "- k 0.3\n",
      "- date_log 2020-04-14 07:14:39.779805\n",
      "- mse 3302.6736334017255\n",
      "\n",
      "Run ID : 77005e3d-40ab-49a0-b372-7a115b2c93f5\n",
      "- k 0.2\n",
      "- date_log 2020-04-14 07:14:09.893438\n",
      "- mse 3325.2946794678764\n",
      "\n",
      "Run ID : 2b12b061-aa75-4ddc-a431-505247c3dd22\n",
      "- k 0.1\n",
      "- date_log 2020-04-14 07:13:07.061260\n",
      "- mse 3372.649627810032\n",
      "\n",
      "Run ID : 17580a99-2f1e-4f50-be27-73e98d11d9fa\n",
      "- k 0.4\n",
      "- date_log 2020-04-02 07:47:07.021182\n",
      "- mse 3295.741064355809\n",
      "\n",
      "Run ID : e0605aaf-711c-4ca5-a3fd-adb6241680e5\n",
      "- k 0.3\n",
      "- date_log 2020-04-02 07:46:50.467208\n",
      "- mse 3302.6736334017255\n",
      "\n",
      "Run ID : b65d8205-7f2a-42c1-965b-4e904b142cd4\n",
      "- k 0.2\n",
      "- date_log 2020-04-02 07:46:32.803062\n",
      "- mse 3325.2946794678764\n",
      "\n",
      "Run ID : cfb393fb-c818-4f45-8a18-3dacc64788cd\n",
      "- k 0.1\n",
      "- date_log 2020-04-02 07:46:11.124368\n",
      "- mse 3372.649627810032\n",
      "\n",
      "Run ID : edaf3b93-c4cc-4ec4-a589-a79e1d29f3d5\n",
      "- k 0.4\n",
      "- date_log 2020-04-01 13:56:38.232557\n",
      "- mse 3295.741064355809\n",
      "\n",
      "Run ID : 5cc70173-9b6c-4ce3-9808-44007e0ab886\n",
      "- k 0.3\n",
      "- date_log 2020-04-01 13:56:15.028493\n",
      "- mse 3302.6736334017255\n",
      "\n",
      "Run ID : d12cecc3-73ca-43b5-a2f8-38e608ec62a8\n",
      "- k 0.2\n",
      "- date_log 2020-04-01 13:55:59.143611\n",
      "- mse 3325.2946794678764\n",
      "\n",
      "Run ID : f4273814-19d0-4d4c-93fb-5d91c1b2add6\n",
      "- k 0.1\n",
      "- date_log 2020-04-01 13:55:37.774773\n",
      "- mse 3372.649627810032\n",
      "\n",
      "Run ID : cf1e944f-9cac-456b-b553-04345236e54b\n",
      "- k 0.3\n",
      "- date_log 2020-03-31 13:19:26.949992\n",
      "- mse 3302.6736334017255\n",
      "\n",
      "Run ID : c4e43946-7f48-4ad0-8d20-63daae362047\n",
      "- k 0.2\n",
      "- date_log 2020-03-31 13:19:10.247074\n",
      "- mse 3325.2946794678764\n",
      "\n",
      "Run ID : 317bba50-a9bf-4f7e-820c-06b5a2636060\n",
      "- k 0.1\n",
      "- date_log 2020-03-31 13:18:23.155986\n",
      "- mse 3372.649627810032\n",
      "\n",
      "Run ID : 95102dde-1b8c-48c5-a14a-ac41cd545cf1\n",
      "- k 0.4\n",
      "- date_log 2020-03-30 12:21:09.200375\n",
      "- mse 3295.741064355809\n",
      "\n",
      "Run ID : b39e3092-664e-410c-96f0-ba8b65c0af12\n",
      "- k 0.3\n",
      "- date_log 2020-03-30 12:20:48.203275\n",
      "- mse 3302.6736334017255\n",
      "\n",
      "Run ID : 512ef459-2886-4866-a83e-7579b381a07b\n",
      "- k 0.2\n",
      "- date_log 2020-03-30 12:20:28.376535\n",
      "- mse 3325.2946794678764\n",
      "\n",
      "Run ID : d74c826e-d9d7-4744-bb74-8d6bb0d0b3ae\n",
      "- k 0.1\n",
      "- date_log 2020-03-30 12:20:05.572305\n",
      "- mse 3372.649627810032\n"
     ]
    }
   ],
   "source": [
    "# Liste des métriques par Run\n",
    "from azureml.core import Experiment, Run\n",
    "\n",
    "diabetes_experiment = ws.experiments['Exemple1-IntroductionAML']\n",
    "for logged_run in diabetes_experiment.get_runs():\n",
    "    print()\n",
    "    print('Run ID :', logged_run.id)\n",
    "    metrics = logged_run.get_metrics()\n",
    "    for key in metrics.keys():\n",
    "        print('-', key, metrics.get(key))"
   ]
  },
  {
   "cell_type": "code",
   "execution_count": 50,
   "metadata": {},
   "outputs": [
    {
     "data": {
      "text/html": [
       "<table style=\"width:100%\"><tr><th>Name</th><th>Workspace</th><th>Report Page</th><th>Docs Page</th></tr><tr><td>Exemple1-IntroductionAML</td><td>workshopAML2020</td><td><a href=\"https://ml.azure.com/experiments/Exemple1-IntroductionAML?wsid=/subscriptions/70b8f39e-8863-49f7-b6ba-34a80799550c/resourcegroups/workshopAML2020-rg/workspaces/workshopAML2020\" target=\"_blank\" rel=\"noopener\">Link to Azure Machine Learning studio</a></td><td><a href=\"https://docs.microsoft.com/en-us/python/api/azureml-core/azureml.core.experiment.Experiment?view=azure-ml-py\" target=\"_blank\" rel=\"noopener\">Link to Documentation</a></td></tr></table>"
      ],
      "text/plain": [
       "Experiment(Name: Exemple1-IntroductionAML,\n",
       "Workspace: workshopAML2020)"
      ]
     },
     "execution_count": 50,
     "metadata": {},
     "output_type": "execute_result"
    }
   ],
   "source": [
    "experiment"
   ]
  },
  {
   "cell_type": "markdown",
   "metadata": {},
   "source": [
    "> Nous pouvons visualiser les résultats sur le portail dans la section **experiments**"
   ]
  },
  {
   "cell_type": "markdown",
   "metadata": {},
   "source": [
    "## 3. Utilisation MLFlow\n",
    "\n",
    "<img src=\"https://docs.microsoft.com/en-us/azure/machine-learning/service/media/how-to-use-mlflow/mlflow-diagram-track.png\">"
   ]
  },
  {
   "cell_type": "markdown",
   "metadata": {},
   "source": [
    "Documentation: https://docs.microsoft.com/en-us/azure/machine-learning/service/how-to-use-mlflow"
   ]
  },
  {
   "cell_type": "markdown",
   "metadata": {},
   "source": [
    "> https://mlflow.org/"
   ]
  },
  {
   "cell_type": "code",
   "execution_count": 28,
   "metadata": {},
   "outputs": [],
   "source": [
    "import mlflow\n",
    "import mlflow.sklearn\n",
    "import azureml.core\n",
    "from azureml.core import Workspace\n",
    "import matplotlib.pyplot as plt"
   ]
  },
  {
   "cell_type": "code",
   "execution_count": 52,
   "metadata": {},
   "outputs": [],
   "source": [
    "# A installer si besoin\n",
    "#!pip install azureml-mlflow"
   ]
  },
  {
   "cell_type": "code",
   "execution_count": 53,
   "metadata": {},
   "outputs": [],
   "source": [
    "ws = Workspace.from_config()\n",
    "\n",
    "mlflow.set_tracking_uri(ws.get_mlflow_tracking_uri())\n",
    "\n",
    "experiment_name = \"Exemple1-MLFlow\"\n",
    "mlflow.set_experiment(experiment_name)"
   ]
  },
  {
   "cell_type": "code",
   "execution_count": 54,
   "metadata": {},
   "outputs": [
    {
     "name": "stdout",
     "output_type": "stream",
     "text": [
      "Données : 353 observations d'apprentissage et 89 observations de test.\n",
      "k = 0.4\n",
      "Mean Squared Error = 3295.741064355809\n"
     ]
    },
    {
     "name": "stderr",
     "output_type": "stream",
     "text": [
      "2020/04/14 08:55:57 WARNING mlflow.models: Logging model metadata to the tracking server has failed, possibly due older server version. The model artifacts have been logged successfully under azureml://experiments/Exemple1-MLFlow/runs/35550859-3cc8-479c-a664-07c239bba02b/artifacts. In addition to exporting model artifacts, MLflow clients 1.7.0 and above attempt to record model metadata to the  tracking store. If logging to a mlflow server via REST, consider  upgrading the server version to MLflow 1.7.0 or above.\n"
     ]
    },
    {
     "data": {
      "image/png": "[encoded data removed]",
      "text/plain": [
       "<Figure size 432x288 with 1 Axes>"
      ]
     },
     "metadata": {
      "needs_background": "light"
     },
     "output_type": "display_data"
    }
   ],
   "source": [
    "import numpy as np\n",
    "from sklearn.datasets import load_diabetes\n",
    "from sklearn.linear_model import Ridge\n",
    "from sklearn.metrics import mean_squared_error\n",
    "from sklearn.model_selection import train_test_split\n",
    "\n",
    "X, y = load_diabetes(return_X_y = True)\n",
    "columns = ['age', 'gender', 'bmi', 'bp', 's1', 's2', 's3', 's4', 's5', 's6']\n",
    "X_train, X_test, y_train, y_test = train_test_split(X, y, test_size=0.2, random_state=0)\n",
    "data = {\n",
    "    \"train\":{\"X\": X_train, \"y\": y_train},        \n",
    "    \"test\":{\"X\": X_test, \"y\": y_test}\n",
    "}\n",
    "\n",
    "print (\"Données :\", len(data['train']['X']), \"observations d'apprentissage et\",len(data['test']['X']), \"observations de test.\")\n",
    "\n",
    "model_save_path = \"model\"\n",
    "\n",
    "k=0.4\n",
    "\n",
    "with mlflow.start_run() as run:\n",
    "    \n",
    "    mlflow.log_metric('k', k)\n",
    "    print('k =', k)\n",
    "    \n",
    "    regression_model = Ridge(alpha=k)\n",
    "    regression_model.fit(data['train']['X'], data['train']['y'])\n",
    "    preds = regression_model.predict(data['test']['X'])\n",
    "\n",
    "    print('Mean Squared Error =', mean_squared_error(data['test']['y'], preds))\n",
    "    mlflow.log_metric('mse', mean_squared_error(data['test']['y'], preds))\n",
    "    \n",
    "    mlflow.sklearn.log_model(regression_model,model_save_path)\n",
    "    \n",
    "    fig = plt.figure(1)\n",
    "    idx = np.argsort(data['test']['y'])\n",
    "    plt.plot(data['test']['y'][idx],preds[idx])\n",
    "    fig.savefig(\"mongraphique.png\")\n",
    "    mlflow.log_artifact(\"mongraphique.png\")\n",
    "    "
   ]
  },
  {
   "cell_type": "code",
   "execution_count": 55,
   "metadata": {},
   "outputs": [
    {
     "data": {
      "text/html": [
       "<table style=\"width:100%\"><tr><th>Name</th><th>Workspace</th><th>Report Page</th><th>Docs Page</th></tr><tr><td>Exemple1-MLFlow</td><td>workshopAML2020</td><td><a href=\"https://ml.azure.com/experiments/Exemple1-MLFlow?wsid=/subscriptions/70b8f39e-8863-49f7-b6ba-34a80799550c/resourcegroups/workshopAML2020-rg/workspaces/workshopAML2020\" target=\"_blank\" rel=\"noopener\">Link to Azure Machine Learning studio</a></td><td><a href=\"https://docs.microsoft.com/en-us/python/api/azureml-core/azureml.core.experiment.Experiment?view=azure-ml-py\" target=\"_blank\" rel=\"noopener\">Link to Documentation</a></td></tr></table>"
      ],
      "text/plain": [
       "Experiment(Name: Exemple1-MLFlow,\n",
       "Workspace: workshopAML2020)"
      ]
     },
     "execution_count": 55,
     "metadata": {},
     "output_type": "execute_result"
    }
   ],
   "source": [
    "ws.experiments[experiment_name]"
   ]
  },
  {
   "cell_type": "markdown",
   "metadata": {},
   "source": [
    "## 4. Autres exemples de logging d'informations"
   ]
  },
  {
   "cell_type": "code",
   "execution_count": 19,
   "metadata": {},
   "outputs": [],
   "source": [
    "experiment = Experiment(workspace=ws, name='Exemple1-Logging')"
   ]
  },
  {
   "cell_type": "code",
   "execution_count": 29,
   "metadata": {},
   "outputs": [],
   "source": [
    "from tqdm import tqdm"
   ]
  },
  {
   "cell_type": "code",
   "execution_count": 21,
   "metadata": {},
   "outputs": [],
   "source": [
    "# start logging for the run\n",
    "run = experiment.start_logging()\n",
    "\n",
    "# change the scale factor on different runs to see how you can compare multiple runs\n",
    "scale_factor = 3\n",
    "\n",
    "# change the category on different runs to see how to organize data in reports\n",
    "category = 'Rouge'"
   ]
  },
  {
   "cell_type": "code",
   "execution_count": 22,
   "metadata": {},
   "outputs": [
    {
     "data": {
      "text/html": [
       "<table style=\"width:100%\"><tr><th>Experiment</th><th>Id</th><th>Type</th><th>Status</th><th>Details Page</th><th>Docs Page</th></tr><tr><td>Exemple1-Logging</td><td>811295a2-ec40-455f-bc5c-edc312515ca7</td><td></td><td>Running</td><td><a href=\"https://ml.azure.com/experiments/Exemple1-Logging/runs/811295a2-ec40-455f-bc5c-edc312515ca7?wsid=/subscriptions/70b8f39e-8863-49f7-b6ba-34a80799550c/resourcegroups/workshopAML2020-rg/workspaces/workshopAML2020\" target=\"_blank\" rel=\"noopener\">Link to Azure Machine Learning studio</a></td><td><a href=\"https://docs.microsoft.com/en-us/python/api/azureml-core/azureml.core.run.Run?view=azure-ml-py\" target=\"_blank\" rel=\"noopener\">Link to Documentation</a></td></tr></table>"
      ],
      "text/plain": [
       "Run(Experiment: Exemple1-Logging,\n",
       "Id: 811295a2-ec40-455f-bc5c-edc312515ca7,\n",
       "Type: None,\n",
       "Status: Running)"
      ]
     },
     "execution_count": 22,
     "metadata": {},
     "output_type": "execute_result"
    }
   ],
   "source": [
    "run"
   ]
  },
  {
   "cell_type": "code",
   "execution_count": 23,
   "metadata": {},
   "outputs": [
    {
     "data": {
      "text/html": [
       "<table style=\"width:100%\"><tr><th>Name</th><th>Workspace</th><th>Report Page</th><th>Docs Page</th></tr><tr><td>Exemple1-Logging</td><td>workshopAML2020</td><td><a href=\"https://ml.azure.com/experiments/Exemple1-Logging?wsid=/subscriptions/70b8f39e-8863-49f7-b6ba-34a80799550c/resourcegroups/workshopAML2020-rg/workspaces/workshopAML2020\" target=\"_blank\" rel=\"noopener\">Link to Azure Machine Learning studio</a></td><td><a href=\"https://docs.microsoft.com/en-us/python/api/azureml-core/azureml.core.experiment.Experiment?view=azure-ml-py\" target=\"_blank\" rel=\"noopener\">Link to Documentation</a></td></tr></table>"
      ],
      "text/plain": [
       "Experiment(Name: Exemple1-Logging,\n",
       "Workspace: workshopAML2020)"
      ]
     },
     "execution_count": 23,
     "metadata": {},
     "output_type": "execute_result"
    }
   ],
   "source": [
    "experiment"
   ]
  },
  {
   "cell_type": "code",
   "execution_count": 24,
   "metadata": {},
   "outputs": [],
   "source": [
    "# log chaine de caractères\n",
    "run.log(name='Category', value=category)"
   ]
  },
  {
   "cell_type": "code",
   "execution_count": 25,
   "metadata": {},
   "outputs": [],
   "source": [
    "# log donneés numériques\n",
    "run.log(name=\"scale factor\", value = scale_factor)\n",
    "run.log(name='Magic Number', value=42 * scale_factor)"
   ]
  },
  {
   "cell_type": "code",
   "execution_count": 33,
   "metadata": {},
   "outputs": [
    {
     "name": "stderr",
     "output_type": "stream",
     "text": [
      "100%|██████████| 20/20 [00:00<00:00, 7619.08it/s]\n"
     ]
    }
   ],
   "source": [
    "fibonacci_values = [0, 1, 1, 2, 3, 5, 8, 13, 21, 34, 55, 89]\n",
    "scaled_values = (i * scale_factor for i in fibonacci_values)\n",
    "\n",
    "# Log a list of values. Note this will generate a single-variable line chart.\n",
    "run.log_list(name='Fibonacci', value=scaled_values)\n",
    "\n",
    "for i in tqdm(range(-10, 10)):\n",
    "    # log a metric value repeatedly, this will generate a single-variable line chart.\n",
    "    run.log(name='Sigmoid', value=1 / (1 + np.exp(-i)))"
   ]
  },
  {
   "cell_type": "code",
   "execution_count": 34,
   "metadata": {},
   "outputs": [
    {
     "name": "stderr",
     "output_type": "stream",
     "text": [
      "100%|██████████| 20/20 [00:00<00:00, 6323.87it/s]\n"
     ]
    }
   ],
   "source": [
    "# create a dictionary to hold a table of values\n",
    "sines = {}\n",
    "sines['angle'] = []\n",
    "sines['sine'] = []\n",
    "\n",
    "for i in tqdm(range(-10, 10)):\n",
    "    angle = i / 2.0 * scale_factor\n",
    "    \n",
    "    # log a 2 (or more) values as a metric repeatedly. This will generate a 2-variable line chart if you have 2 numerical columns.\n",
    "    run.log_row(name='Cosine Wave', angle=angle, cos=np.cos(angle))\n",
    "        \n",
    "    sines['angle'].append(angle)\n",
    "    sines['sine'].append(np.sin(angle))\n",
    "\n",
    "# log a dictionary as a table, this will generate a 2-variable chart if you have 2 numerical columns\n",
    "run.log_table(name='Sine Wave', value=sines)"
   ]
  },
  {
   "cell_type": "code",
   "execution_count": 35,
   "metadata": {},
   "outputs": [
    {
     "data": {
      "image/png": "[encoded data removed]",
      "text/plain": [
       "<Figure size 432x288 with 1 Axes>"
      ]
     },
     "metadata": {
      "needs_background": "light"
     },
     "output_type": "display_data"
    }
   ],
   "source": [
    "%matplotlib inline\n",
    "\n",
    "import matplotlib.pyplot as plt\n",
    "angle = np.linspace(-3, 3, 50) * scale_factor\n",
    "plt.plot(angle,np.tanh(angle), label='tanh')\n",
    "plt.legend(fontsize=12)\n",
    "plt.title('Tangente hyperbolique', fontsize=16)\n",
    "plt.grid(True)\n",
    "\n",
    "run.log_image(name='Hyperbolic Tangent', plot=plt)"
   ]
  },
  {
   "cell_type": "code",
   "execution_count": 36,
   "metadata": {},
   "outputs": [
    {
     "data": {
      "text/plain": [
       "<azureml._restclient.models.batch_artifact_content_information_dto.BatchArtifactContentInformationDto at 0x7f2aa4f20908>"
      ]
     },
     "execution_count": 36,
     "metadata": {},
     "output_type": "execute_result"
    }
   ],
   "source": [
    "file_name = 'outputs/myfile.txt'\n",
    "\n",
    "with open(file_name, \"w\") as f:\n",
    "    f.write('This is an output file that will be uploaded.\\n')\n",
    "\n",
    "# Upload the file explicitly into artifacts \n",
    "run.upload_file(name = file_name, path_or_stream = file_name)"
   ]
  },
  {
   "cell_type": "code",
   "execution_count": 37,
   "metadata": {},
   "outputs": [],
   "source": [
    "run.complete()"
   ]
  },
  {
   "cell_type": "code",
   "execution_count": 38,
   "metadata": {},
   "outputs": [
    {
     "data": {
      "text/html": [
       "<table style=\"width:100%\"><tr><th>Name</th><th>Workspace</th><th>Report Page</th><th>Docs Page</th></tr><tr><td>Exemple1-Logging</td><td>workshopAML2020</td><td><a href=\"https://ml.azure.com/experiments/Exemple1-Logging?wsid=/subscriptions/70b8f39e-8863-49f7-b6ba-34a80799550c/resourcegroups/workshopAML2020-rg/workspaces/workshopAML2020\" target=\"_blank\" rel=\"noopener\">Link to Azure Machine Learning studio</a></td><td><a href=\"https://docs.microsoft.com/en-us/python/api/azureml-core/azureml.core.experiment.Experiment?view=azure-ml-py\" target=\"_blank\" rel=\"noopener\">Link to Documentation</a></td></tr></table>"
      ],
      "text/plain": [
       "Experiment(Name: Exemple1-Logging,\n",
       "Workspace: workshopAML2020)"
      ]
     },
     "execution_count": 38,
     "metadata": {},
     "output_type": "execute_result"
    }
   ],
   "source": [
    "experiment"
   ]
  },
  {
   "cell_type": "code",
   "execution_count": 69,
   "metadata": {},
   "outputs": [
    {
     "name": "stdout",
     "output_type": "stream",
     "text": [
      "Run ID: 6f9d3dd2-9959-4b1f-a465-bbee8a3ae7c2\n",
      "- Category Rouge\n",
      "- scale factor 3\n",
      "- Magic Number 126\n",
      "- Fibonacci [0, 3, 3, 6, 9, 15, 24, 39, 63, 102, 165, 267]\n",
      "- Sigmoid [4.5397868702434395e-05, 0.00012339457598623172, 0.0003353501304664781, 0.0009110511944006454, 0.0024726231566347743, 0.0066928509242848554, 0.01798620996209156, 0.04742587317756678, 0.11920292202211755, 0.2689414213699951, 0.5, 0.7310585786300049, 0.8807970779778823, 0.9525741268224334, 0.9820137900379085, 0.9933071490757153, 0.9975273768433653, 0.9990889488055994, 0.9996646498695336, 0.9998766054240137]\n",
      "- Cosine Wave {'angle': [-15.0, -13.5, -12, -10.5, -9, -7.5, -6, -4.5, -3, -1.5, 0, 1.5, 3, 4.5, 6, 7.5, 9, 10.5, 12, 13.5], 'cos': [-0.7596879128588213, 0.594920663309892, 0.8438539587324921, -0.4755369279959925, -0.9111302618846769, 0.3466353178350258, 0.960170286650366, -0.2107957994307797, -0.9899924966004454, 0.0707372016677029, 1, 0.0707372016677029, -0.9899924966004454, -0.2107957994307797, 0.960170286650366, 0.3466353178350258, -0.9111302618846769, -0.4755369279959925, 0.8438539587324921, 0.594920663309892]}\n",
      "- Sine Wave {'angle': [-15.0, -13.5, -12, -10.5, -9, -7.5, -6, -4.5, -3, -1.5, 0, 1.5, 3, 4.5, 6, 7.5, 9, 10.5, 12, 13.5], 'sine': [-0.6502878401571168, -0.803784426551621, 0.5365729180004349, 0.87969575997167, -0.4121184852417566, -0.9379999767747389, 0.27941549819892586, 0.977530117665097, -0.1411200080598672, -0.9974949866040544, 0, 0.9974949866040544, 0.1411200080598672, -0.977530117665097, -0.27941549819892586, 0.9379999767747389, 0.4121184852417566, -0.87969575997167, -0.5365729180004349, 0.803784426551621]}\n",
      "- Hyperbolic Tangent aml://artifactId/ExperimentRun/dcid.6f9d3dd2-9959-4b1f-a465-bbee8a3ae7c2/Hyperbolic Tangent_1586854594.png\n",
      "Run ID: 269faaf2-ed1e-4c83-b092-423a6b24a8ba\n",
      "Run ID: 6ff4d531-8e5c-4d8f-bc11-d04f24b6ec04\n",
      "Run ID: ce1ab61d-8f26-4adc-915a-cecb52a1d196\n",
      "- Hyperbolic Tangent aml://artifactId/ExperimentRun/dcid.ce1ab61d-8f26-4adc-915a-cecb52a1d196/Hyperbolic Tangent_1585813670.png\n",
      "- Category Rouge\n",
      "- scale factor 3\n",
      "- Magic Number 126\n",
      "- Fibonacci [0, 3, 3, 6, 9, 15, 24, 39, 63, 102, 165, 267]\n",
      "- Sigmoid [4.5397868702434395e-05, 0.00012339457598623172, 0.0003353501304664781, 0.0009110511944006454, 0.0024726231566347743, 0.0066928509242848554, 0.01798620996209156, 0.04742587317756678, 0.11920292202211755, 0.2689414213699951, 0.5, 0.7310585786300049, 0.8807970779778823, 0.9525741268224334, 0.9820137900379085, 0.9933071490757153, 0.9975273768433653, 0.9990889488055994, 0.9996646498695336, 0.9998766054240137]\n",
      "- Cosine Wave {'angle': [-15.0, -13.5, -12, -10.5, -9, -7.5, -6, -4.5, -3, -1.5, 0, 1.5, 3, 4.5, 6, 7.5, 9, 10.5, 12, 13.5], 'cos': [-0.7596879128588213, 0.594920663309892, 0.8438539587324921, -0.4755369279959925, -0.9111302618846769, 0.3466353178350258, 0.960170286650366, -0.2107957994307797, -0.9899924966004454, 0.0707372016677029, 1, 0.0707372016677029, -0.9899924966004454, -0.2107957994307797, 0.960170286650366, 0.3466353178350258, -0.9111302618846769, -0.4755369279959925, 0.8438539587324921, 0.594920663309892]}\n",
      "- Sine Wave {'angle': [-15.0, -13.5, -12, -10.5, -9, -7.5, -6, -4.5, -3, -1.5, 0, 1.5, 3, 4.5, 6, 7.5, 9, 10.5, 12, 13.5], 'sine': [-0.6502878401571168, -0.803784426551621, 0.5365729180004349, 0.87969575997167, -0.4121184852417566, -0.9379999767747389, 0.27941549819892586, 0.977530117665097, -0.1411200080598672, -0.9974949866040544, 0, 0.9974949866040544, 0.1411200080598672, -0.977530117665097, -0.27941549819892586, 0.9379999767747389, 0.4121184852417566, -0.87969575997167, -0.5365729180004349, 0.803784426551621]}\n",
      "Run ID: 5b957bf2-67d7-40b9-9336-df94a60b4ff9\n",
      "- Hyperbolic Tangent aml://artifactId/ExperimentRun/dcid.5b957bf2-67d7-40b9-9336-df94a60b4ff9/Hyperbolic Tangent_1585571111.png\n",
      "- Category Rouge\n",
      "- scale factor 3\n",
      "- Magic Number 126\n",
      "- Fibonacci [0, 3, 3, 6, 9, 15, 24, 39, 63, 102, 165, 267]\n",
      "- Sigmoid [4.5397868702434395e-05, 0.00012339457598623172, 0.0003353501304664781, 0.0009110511944006454, 0.0024726231566347743, 0.0066928509242848554, 0.01798620996209156, 0.04742587317756678, 0.11920292202211755, 0.2689414213699951, 0.5, 0.7310585786300049, 0.8807970779778823, 0.9525741268224334, 0.9820137900379085, 0.9933071490757153, 0.9975273768433653, 0.9990889488055994, 0.9996646498695336, 0.9998766054240137]\n",
      "- Cosine Wave {'angle': [-15.0, -13.5, -12, -10.5, -9, -7.5, -6, -4.5, -3, -1.5, 0, 1.5, 3, 4.5, 6, 7.5, 9, 10.5, 12, 13.5], 'cos': [-0.7596879128588213, 0.594920663309892, 0.8438539587324921, -0.4755369279959925, -0.9111302618846769, 0.3466353178350258, 0.960170286650366, -0.2107957994307797, -0.9899924966004454, 0.0707372016677029, 1, 0.0707372016677029, -0.9899924966004454, -0.2107957994307797, 0.960170286650366, 0.3466353178350258, -0.9111302618846769, -0.4755369279959925, 0.8438539587324921, 0.594920663309892]}\n",
      "- Sine Wave {'angle': [-15.0, -13.5, -12, -10.5, -9, -7.5, -6, -4.5, -3, -1.5, 0, 1.5, 3, 4.5, 6, 7.5, 9, 10.5, 12, 13.5], 'sine': [-0.6502878401571168, -0.803784426551621, 0.5365729180004349, 0.87969575997167, -0.4121184852417566, -0.9379999767747389, 0.27941549819892586, 0.977530117665097, -0.1411200080598672, -0.9974949866040544, 0, 0.9974949866040544, 0.1411200080598672, -0.977530117665097, -0.27941549819892586, 0.9379999767747389, 0.4121184852417566, -0.87969575997167, -0.5365729180004349, 0.803784426551621]}\n",
      "Run ID: d939f4b2-da66-425f-b479-45e83f32691f\n",
      "- Hyperbolic Tangent aml://artifactId/ExperimentRun/dcid.d939f4b2-da66-425f-b479-45e83f32691f/Hyperbolic Tangent_1585045402.png\n",
      "- Category Rouge\n",
      "- scale factor 3\n",
      "- Magic Number 126\n",
      "- Fibonacci [0, 3, 3, 6, 9, 15, 24, 39, 63, 102, 165, 267]\n",
      "- Sigmoid [4.5397868702434395e-05, 0.00012339457598623172, 0.0003353501304664781, 0.0009110511944006454, 0.0024726231566347743, 0.0066928509242848554, 0.01798620996209156, 0.04742587317756678, 0.11920292202211755, 0.2689414213699951, 0.5, 0.7310585786300049, 0.8807970779778823, 0.9525741268224334, 0.9820137900379085, 0.9933071490757153, 0.9975273768433653, 0.9990889488055994, 0.9996646498695336, 0.9998766054240137]\n",
      "- Cosine Wave {'angle': [-15.0, -13.5, -12, -10.5, -9, -7.5, -6, -4.5, -3, -1.5, 0, 1.5, 3, 4.5, 6, 7.5, 9, 10.5, 12, 13.5], 'cos': [-0.7596879128588213, 0.594920663309892, 0.8438539587324921, -0.4755369279959925, -0.9111302618846769, 0.3466353178350258, 0.960170286650366, -0.2107957994307797, -0.9899924966004454, 0.0707372016677029, 1, 0.0707372016677029, -0.9899924966004454, -0.2107957994307797, 0.960170286650366, 0.3466353178350258, -0.9111302618846769, -0.4755369279959925, 0.8438539587324921, 0.594920663309892]}\n",
      "- Sine Wave {'angle': [-15.0, -13.5, -12, -10.5, -9, -7.5, -6, -4.5, -3, -1.5, 0, 1.5, 3, 4.5, 6, 7.5, 9, 10.5, 12, 13.5], 'sine': [-0.6502878401571168, -0.803784426551621, 0.5365729180004349, 0.87969575997167, -0.4121184852417566, -0.9379999767747389, 0.27941549819892586, 0.977530117665097, -0.1411200080598672, -0.9974949866040544, 0, 0.9974949866040544, 0.1411200080598672, -0.977530117665097, -0.27941549819892586, 0.9379999767747389, 0.4121184852417566, -0.87969575997167, -0.5365729180004349, 0.803784426551621]}\n",
      "Run ID: 63b3b24f-e5b8-47b7-b8e1-bf98258e1dd7\n",
      "- Hyperbolic Tangent aml://artifactId/ExperimentRun/dcid.63b3b24f-e5b8-47b7-b8e1-bf98258e1dd7/Hyperbolic Tangent_1584980359.png\n",
      "- Category Rouge\n",
      "- scale factor 3\n",
      "- Magic Number 126\n",
      "- Fibonacci [0, 3, 3, 6, 9, 15, 24, 39, 63, 102, 165, 267]\n",
      "- Sigmoid [4.5397868702434395e-05, 0.00012339457598623172, 0.0003353501304664781, 0.0009110511944006454, 0.0024726231566347743, 0.0066928509242848554, 0.01798620996209156, 0.04742587317756678, 0.11920292202211755, 0.2689414213699951, 0.5, 0.7310585786300049, 0.8807970779778823, 0.9525741268224334, 0.9820137900379085, 0.9933071490757153, 0.9975273768433653, 0.9990889488055994, 0.9996646498695336, 0.9998766054240137]\n",
      "- Cosine Wave {'angle': [-15.0, -13.5, -12, -10.5, -9, -7.5, -6, -4.5, -3, -1.5, 0, 1.5, 3, 4.5, 6, 7.5, 9, 10.5, 12, 13.5], 'cos': [-0.7596879128588213, 0.594920663309892, 0.8438539587324921, -0.4755369279959925, -0.9111302618846769, 0.3466353178350258, 0.960170286650366, -0.2107957994307797, -0.9899924966004454, 0.0707372016677029, 1, 0.0707372016677029, -0.9899924966004454, -0.2107957994307797, 0.960170286650366, 0.3466353178350258, -0.9111302618846769, -0.4755369279959925, 0.8438539587324921, 0.594920663309892]}\n",
      "- Sine Wave {'angle': [-15.0, -13.5, -12, -10.5, -9, -7.5, -6, -4.5, -3, -1.5, 0, 1.5, 3, 4.5, 6, 7.5, 9, 10.5, 12, 13.5], 'sine': [-0.6502878401571168, -0.803784426551621, 0.5365729180004349, 0.87969575997167, -0.4121184852417566, -0.9379999767747389, 0.27941549819892586, 0.977530117665097, -0.1411200080598672, -0.9974949866040544, 0, 0.9974949866040544, 0.1411200080598672, -0.977530117665097, -0.27941549819892586, 0.9379999767747389, 0.4121184852417566, -0.87969575997167, -0.5365729180004349, 0.803784426551621]}\n",
      "Run ID: 468614ce-5b65-47bc-b194-65ab38b277b2\n"
     ]
    },
    {
     "name": "stdout",
     "output_type": "stream",
     "text": [
      "- Category Rouge\n",
      "- scale factor 3\n",
      "- Magic Number 126\n",
      "- Fibonacci [0, 3, 3, 6, 9, 15, 24, 39, 63, 102, 165, 267]\n",
      "- Sigmoid [4.5397868702434395e-05, 0.00012339457598623172, 0.0003353501304664781, 0.0009110511944006454, 0.0024726231566347743, 0.0066928509242848554, 0.01798620996209156, 0.04742587317756678, 0.11920292202211755, 0.2689414213699951, 0.5, 0.7310585786300049, 0.8807970779778823, 0.9525741268224334, 0.9820137900379085, 0.9933071490757153, 0.9975273768433653, 0.9990889488055994, 0.9996646498695336, 0.9998766054240137]\n",
      "- Cosine Wave {'angle': [-15.0, -13.5, -12, -10.5, -9, -7.5, -6, -4.5, -3, -1.5, 0, 1.5, 3, 4.5, 6, 7.5, 9, 10.5, 12, 13.5], 'cos': [-0.7596879128588213, 0.594920663309892, 0.8438539587324921, -0.4755369279959925, -0.9111302618846769, 0.3466353178350258, 0.960170286650366, -0.2107957994307797, -0.9899924966004454, 0.0707372016677029, 1, 0.0707372016677029, -0.9899924966004454, -0.2107957994307797, 0.960170286650366, 0.3466353178350258, -0.9111302618846769, -0.4755369279959925, 0.8438539587324921, 0.594920663309892]}\n",
      "- Sine Wave {'angle': [-15.0, -13.5, -12, -10.5, -9, -7.5, -6, -4.5, -3, -1.5, 0, 1.5, 3, 4.5, 6, 7.5, 9, 10.5, 12, 13.5], 'sine': [-0.6502878401571168, -0.803784426551621, 0.5365729180004349, 0.87969575997167, -0.4121184852417566, -0.9379999767747389, 0.27941549819892586, 0.977530117665097, -0.1411200080598672, -0.9974949866040544, 0, 0.9974949866040544, 0.1411200080598672, -0.977530117665097, -0.27941549819892586, 0.9379999767747389, 0.4121184852417566, -0.87969575997167, -0.5365729180004349, 0.803784426551621]}\n",
      "- Hyperbolic Tangent aml://artifactId/ExperimentRun/dcid.468614ce-5b65-47bc-b194-65ab38b277b2/Hyperbolic Tangent_1584624443.png\n"
     ]
    }
   ],
   "source": [
    "from azureml.core import Experiment, Run\n",
    "\n",
    "diabetes_experiment = ws.experiments['Exemple1-Logging']\n",
    "for logged_run in diabetes_experiment.get_runs():\n",
    "    print('Run ID:', logged_run.id)\n",
    "    metrics = logged_run.get_metrics()\n",
    "    for key in metrics.keys():\n",
    "        print('-', key, metrics.get(key))\n"
   ]
  },
  {
   "cell_type": "markdown",
   "metadata": {},
   "source": [
    "## 5. Azure Open Datasets\n",
    "<img src=\"https://github.com/retkowsky/images/blob/master/opendata.jpg?raw=true\">"
   ]
  },
  {
   "cell_type": "markdown",
   "metadata": {},
   "source": [
    "> https://azure.microsoft.com/fr-fr/services/open-datasets/"
   ]
  },
  {
   "cell_type": "code",
   "execution_count": 70,
   "metadata": {},
   "outputs": [],
   "source": [
    "#!pip install azureml-opendatasets"
   ]
  },
  {
   "cell_type": "code",
   "execution_count": 71,
   "metadata": {},
   "outputs": [],
   "source": [
    "# Dataset jours fériés\n",
    "from azureml.opendatasets import PublicHolidays\n",
    "\n",
    "from datetime import datetime\n",
    "from dateutil import parser\n",
    "from dateutil.relativedelta import relativedelta"
   ]
  },
  {
   "cell_type": "code",
   "execution_count": 72,
   "metadata": {},
   "outputs": [],
   "source": [
    "# Intervalle\n",
    "intervalle=24\n",
    "fin = datetime.today() + relativedelta(months=intervalle)\n",
    "debut = datetime.today() - relativedelta(months=intervalle)"
   ]
  },
  {
   "cell_type": "code",
   "execution_count": 75,
   "metadata": {},
   "outputs": [
    {
     "name": "stdout",
     "output_type": "stream",
     "text": [
      "Today : 2020-04-14 08:56:49.117767\n"
     ]
    }
   ],
   "source": [
    "from datetime import datetime\n",
    "maintenant = datetime.now()\n",
    "print(\"Today :\", maintenant)"
   ]
  },
  {
   "cell_type": "code",
   "execution_count": 78,
   "metadata": {},
   "outputs": [
    {
     "name": "stdout",
     "output_type": "stream",
     "text": [
      "Début : 2018-04-14 08:56:46.998233\n"
     ]
    }
   ],
   "source": [
    "print(\"Début :\", debut)"
   ]
  },
  {
   "cell_type": "code",
   "execution_count": 79,
   "metadata": {},
   "outputs": [
    {
     "name": "stdout",
     "output_type": "stream",
     "text": [
      "Fin : 2022-04-14 08:56:46.998114\n"
     ]
    }
   ],
   "source": [
    "print(\"Fin :\", fin)"
   ]
  },
  {
   "cell_type": "code",
   "execution_count": 80,
   "metadata": {},
   "outputs": [
    {
     "name": "stdout",
     "output_type": "stream",
     "text": [
      "[Info] read from https://azureopendatastorage.blob.core.windows.net/holidaydatacontainer/Processed/part-00000-tid-3761978751890887559-1e5c61a5-ffeb-4e8c-a97d-05b20a19d136-649-c000.snappy.parquet\n"
     ]
    }
   ],
   "source": [
    "hol = PublicHolidays(start_date=debut, end_date=fin)\n",
    "joursferies = hol.to_pandas_dataframe()"
   ]
  },
  {
   "cell_type": "code",
   "execution_count": 81,
   "metadata": {},
   "outputs": [
    {
     "data": {
      "text/plain": [
       "(2164, 6)"
      ]
     },
     "execution_count": 81,
     "metadata": {},
     "output_type": "execute_result"
    }
   ],
   "source": [
    "joursferies.shape"
   ]
  },
  {
   "cell_type": "code",
   "execution_count": 82,
   "metadata": {},
   "outputs": [
    {
     "data": {
      "text/html": [
       "<div>\n",
       "<style scoped>\n",
       "    .dataframe tbody tr th:only-of-type {\n",
       "        vertical-align: middle;\n",
       "    }\n",
       "\n",
       "    .dataframe tbody tr th {\n",
       "        vertical-align: top;\n",
       "    }\n",
       "\n",
       "    .dataframe thead th {\n",
       "        text-align: right;\n",
       "    }\n",
       "</style>\n",
       "<table border=\"1\" class=\"dataframe\">\n",
       "  <thead>\n",
       "    <tr style=\"text-align: right;\">\n",
       "      <th></th>\n",
       "      <th>countryOrRegion</th>\n",
       "      <th>holidayName</th>\n",
       "      <th>normalizeHolidayName</th>\n",
       "      <th>isPaidTimeOff</th>\n",
       "      <th>countryRegionCode</th>\n",
       "      <th>date</th>\n",
       "    </tr>\n",
       "  </thead>\n",
       "  <tbody>\n",
       "    <tr>\n",
       "      <th>24920</th>\n",
       "      <td>Norway</td>\n",
       "      <td>Søndag</td>\n",
       "      <td>Søndag</td>\n",
       "      <td>None</td>\n",
       "      <td>NO</td>\n",
       "      <td>2018-04-15</td>\n",
       "    </tr>\n",
       "    <tr>\n",
       "      <th>24921</th>\n",
       "      <td>Sweden</td>\n",
       "      <td>Söndag</td>\n",
       "      <td>Söndag</td>\n",
       "      <td>None</td>\n",
       "      <td>SE</td>\n",
       "      <td>2018-04-15</td>\n",
       "    </tr>\n",
       "    <tr>\n",
       "      <th>24922</th>\n",
       "      <td>Belarus</td>\n",
       "      <td>Радуница</td>\n",
       "      <td>Радуница</td>\n",
       "      <td>None</td>\n",
       "      <td>BY</td>\n",
       "      <td>2018-04-17</td>\n",
       "    </tr>\n",
       "    <tr>\n",
       "      <th>24923</th>\n",
       "      <td>Brazil</td>\n",
       "      <td>Tiradentes</td>\n",
       "      <td>Tiradentes</td>\n",
       "      <td>None</td>\n",
       "      <td>BR</td>\n",
       "      <td>2018-04-21</td>\n",
       "    </tr>\n",
       "    <tr>\n",
       "      <th>24924</th>\n",
       "      <td>Norway</td>\n",
       "      <td>Søndag</td>\n",
       "      <td>Søndag</td>\n",
       "      <td>None</td>\n",
       "      <td>NO</td>\n",
       "      <td>2018-04-22</td>\n",
       "    </tr>\n",
       "  </tbody>\n",
       "</table>\n",
       "</div>"
      ],
      "text/plain": [
       "      countryOrRegion holidayName normalizeHolidayName isPaidTimeOff  \\\n",
       "24920          Norway      Søndag               Søndag          None   \n",
       "24921          Sweden      Söndag               Söndag          None   \n",
       "24922         Belarus    Радуница             Радуница          None   \n",
       "24923          Brazil  Tiradentes           Tiradentes          None   \n",
       "24924          Norway      Søndag               Søndag          None   \n",
       "\n",
       "      countryRegionCode       date  \n",
       "24920                NO 2018-04-15  \n",
       "24921                SE 2018-04-15  \n",
       "24922                BY 2018-04-17  \n",
       "24923                BR 2018-04-21  \n",
       "24924                NO 2018-04-22  "
      ]
     },
     "execution_count": 82,
     "metadata": {},
     "output_type": "execute_result"
    }
   ],
   "source": [
    "joursferies.head()"
   ]
  },
  {
   "cell_type": "code",
   "execution_count": 83,
   "metadata": {},
   "outputs": [],
   "source": [
    "# Pour avoir les jours féries en France\n",
    "joursferiesFR=joursferies[joursferies.countryRegionCode == 'FR']"
   ]
  },
  {
   "cell_type": "code",
   "execution_count": 84,
   "metadata": {},
   "outputs": [
    {
     "name": "stdout",
     "output_type": "stream",
     "text": [
      "Nombre de jours fériés sur la période = 43\n"
     ]
    }
   ],
   "source": [
    "print(\"Nombre de jours fériés sur la période =\", len(joursferiesFR.index))"
   ]
  },
  {
   "cell_type": "code",
   "execution_count": 85,
   "metadata": {},
   "outputs": [
    {
     "data": {
      "text/html": [
       "<div>\n",
       "<style scoped>\n",
       "    .dataframe tbody tr th:only-of-type {\n",
       "        vertical-align: middle;\n",
       "    }\n",
       "\n",
       "    .dataframe tbody tr th {\n",
       "        vertical-align: top;\n",
       "    }\n",
       "\n",
       "    .dataframe thead th {\n",
       "        text-align: right;\n",
       "    }\n",
       "</style>\n",
       "<table border=\"1\" class=\"dataframe\">\n",
       "  <thead>\n",
       "    <tr style=\"text-align: right;\">\n",
       "      <th></th>\n",
       "      <th>countryOrRegion</th>\n",
       "      <th>holidayName</th>\n",
       "      <th>normalizeHolidayName</th>\n",
       "      <th>isPaidTimeOff</th>\n",
       "      <th>countryRegionCode</th>\n",
       "      <th>date</th>\n",
       "    </tr>\n",
       "  </thead>\n",
       "  <tbody>\n",
       "    <tr>\n",
       "      <th>24948</th>\n",
       "      <td>France</td>\n",
       "      <td>Fête du Travail</td>\n",
       "      <td>Fête du Travail</td>\n",
       "      <td>None</td>\n",
       "      <td>FR</td>\n",
       "      <td>2018-05-01</td>\n",
       "    </tr>\n",
       "    <tr>\n",
       "      <th>24976</th>\n",
       "      <td>France</td>\n",
       "      <td>Armistice 1945</td>\n",
       "      <td>Armistice 1945</td>\n",
       "      <td>None</td>\n",
       "      <td>FR</td>\n",
       "      <td>2018-05-08</td>\n",
       "    </tr>\n",
       "    <tr>\n",
       "      <th>24983</th>\n",
       "      <td>France</td>\n",
       "      <td>Ascension</td>\n",
       "      <td>Ascension</td>\n",
       "      <td>None</td>\n",
       "      <td>FR</td>\n",
       "      <td>2018-05-10</td>\n",
       "    </tr>\n",
       "    <tr>\n",
       "      <th>25006</th>\n",
       "      <td>France</td>\n",
       "      <td>Lundi de Pentecôte</td>\n",
       "      <td>Lundi de Pentecôte</td>\n",
       "      <td>None</td>\n",
       "      <td>FR</td>\n",
       "      <td>2018-05-21</td>\n",
       "    </tr>\n",
       "    <tr>\n",
       "      <th>25070</th>\n",
       "      <td>France</td>\n",
       "      <td>Fête nationale</td>\n",
       "      <td>Fête nationale</td>\n",
       "      <td>None</td>\n",
       "      <td>FR</td>\n",
       "      <td>2018-07-14</td>\n",
       "    </tr>\n",
       "    <tr>\n",
       "      <th>25096</th>\n",
       "      <td>France</td>\n",
       "      <td>Assomption</td>\n",
       "      <td>Assomption</td>\n",
       "      <td>None</td>\n",
       "      <td>FR</td>\n",
       "      <td>2018-08-15</td>\n",
       "    </tr>\n",
       "    <tr>\n",
       "      <th>25166</th>\n",
       "      <td>France</td>\n",
       "      <td>Toussaint</td>\n",
       "      <td>Toussaint</td>\n",
       "      <td>None</td>\n",
       "      <td>FR</td>\n",
       "      <td>2018-11-01</td>\n",
       "    </tr>\n",
       "    <tr>\n",
       "      <th>25183</th>\n",
       "      <td>France</td>\n",
       "      <td>Armistice 1918</td>\n",
       "      <td>Armistice 1918</td>\n",
       "      <td>None</td>\n",
       "      <td>FR</td>\n",
       "      <td>2018-11-11</td>\n",
       "    </tr>\n",
       "    <tr>\n",
       "      <th>25242</th>\n",
       "      <td>France</td>\n",
       "      <td>Noël</td>\n",
       "      <td>Noël</td>\n",
       "      <td>None</td>\n",
       "      <td>FR</td>\n",
       "      <td>2018-12-25</td>\n",
       "    </tr>\n",
       "    <tr>\n",
       "      <th>25307</th>\n",
       "      <td>France</td>\n",
       "      <td>Jour de l'an</td>\n",
       "      <td>Jour de l'an</td>\n",
       "      <td>None</td>\n",
       "      <td>FR</td>\n",
       "      <td>2019-01-01</td>\n",
       "    </tr>\n",
       "    <tr>\n",
       "      <th>25456</th>\n",
       "      <td>France</td>\n",
       "      <td>Lundi de Pâques</td>\n",
       "      <td>Lundi de Pâques</td>\n",
       "      <td>None</td>\n",
       "      <td>FR</td>\n",
       "      <td>2019-04-22</td>\n",
       "    </tr>\n",
       "    <tr>\n",
       "      <th>25494</th>\n",
       "      <td>France</td>\n",
       "      <td>Fête du Travail</td>\n",
       "      <td>Fête du Travail</td>\n",
       "      <td>None</td>\n",
       "      <td>FR</td>\n",
       "      <td>2019-05-01</td>\n",
       "    </tr>\n",
       "    <tr>\n",
       "      <th>25526</th>\n",
       "      <td>France</td>\n",
       "      <td>Armistice 1945</td>\n",
       "      <td>Armistice 1945</td>\n",
       "      <td>None</td>\n",
       "      <td>FR</td>\n",
       "      <td>2019-05-08</td>\n",
       "    </tr>\n",
       "    <tr>\n",
       "      <th>25551</th>\n",
       "      <td>France</td>\n",
       "      <td>Ascension</td>\n",
       "      <td>Ascension</td>\n",
       "      <td>None</td>\n",
       "      <td>FR</td>\n",
       "      <td>2019-05-30</td>\n",
       "    </tr>\n",
       "    <tr>\n",
       "      <th>25577</th>\n",
       "      <td>France</td>\n",
       "      <td>Lundi de Pentecôte</td>\n",
       "      <td>Lundi de Pentecôte</td>\n",
       "      <td>None</td>\n",
       "      <td>FR</td>\n",
       "      <td>2019-06-10</td>\n",
       "    </tr>\n",
       "    <tr>\n",
       "      <th>25621</th>\n",
       "      <td>France</td>\n",
       "      <td>Fête nationale</td>\n",
       "      <td>Fête nationale</td>\n",
       "      <td>None</td>\n",
       "      <td>FR</td>\n",
       "      <td>2019-07-14</td>\n",
       "    </tr>\n",
       "    <tr>\n",
       "      <th>25647</th>\n",
       "      <td>France</td>\n",
       "      <td>Assomption</td>\n",
       "      <td>Assomption</td>\n",
       "      <td>None</td>\n",
       "      <td>FR</td>\n",
       "      <td>2019-08-15</td>\n",
       "    </tr>\n",
       "    <tr>\n",
       "      <th>25716</th>\n",
       "      <td>France</td>\n",
       "      <td>Toussaint</td>\n",
       "      <td>Toussaint</td>\n",
       "      <td>None</td>\n",
       "      <td>FR</td>\n",
       "      <td>2019-11-01</td>\n",
       "    </tr>\n",
       "    <tr>\n",
       "      <th>25736</th>\n",
       "      <td>France</td>\n",
       "      <td>Armistice 1918</td>\n",
       "      <td>Armistice 1918</td>\n",
       "      <td>None</td>\n",
       "      <td>FR</td>\n",
       "      <td>2019-11-11</td>\n",
       "    </tr>\n",
       "    <tr>\n",
       "      <th>25786</th>\n",
       "      <td>France</td>\n",
       "      <td>Noël</td>\n",
       "      <td>Noël</td>\n",
       "      <td>None</td>\n",
       "      <td>FR</td>\n",
       "      <td>2019-12-25</td>\n",
       "    </tr>\n",
       "    <tr>\n",
       "      <th>25851</th>\n",
       "      <td>France</td>\n",
       "      <td>Jour de l'an</td>\n",
       "      <td>Jour de l'an</td>\n",
       "      <td>None</td>\n",
       "      <td>FR</td>\n",
       "      <td>2020-01-01</td>\n",
       "    </tr>\n",
       "    <tr>\n",
       "      <th>25999</th>\n",
       "      <td>France</td>\n",
       "      <td>Lundi de Pâques</td>\n",
       "      <td>Lundi de Pâques</td>\n",
       "      <td>None</td>\n",
       "      <td>FR</td>\n",
       "      <td>2020-04-13</td>\n",
       "    </tr>\n",
       "    <tr>\n",
       "      <th>26041</th>\n",
       "      <td>France</td>\n",
       "      <td>Fête du Travail</td>\n",
       "      <td>Fête du Travail</td>\n",
       "      <td>None</td>\n",
       "      <td>FR</td>\n",
       "      <td>2020-05-01</td>\n",
       "    </tr>\n",
       "    <tr>\n",
       "      <th>26067</th>\n",
       "      <td>France</td>\n",
       "      <td>Armistice 1945</td>\n",
       "      <td>Armistice 1945</td>\n",
       "      <td>None</td>\n",
       "      <td>FR</td>\n",
       "      <td>2020-05-08</td>\n",
       "    </tr>\n",
       "    <tr>\n",
       "      <th>26084</th>\n",
       "      <td>France</td>\n",
       "      <td>Ascension</td>\n",
       "      <td>Ascension</td>\n",
       "      <td>None</td>\n",
       "      <td>FR</td>\n",
       "      <td>2020-05-21</td>\n",
       "    </tr>\n",
       "    <tr>\n",
       "      <th>26113</th>\n",
       "      <td>France</td>\n",
       "      <td>Lundi de Pentecôte</td>\n",
       "      <td>Lundi de Pentecôte</td>\n",
       "      <td>None</td>\n",
       "      <td>FR</td>\n",
       "      <td>2020-06-01</td>\n",
       "    </tr>\n",
       "    <tr>\n",
       "      <th>26166</th>\n",
       "      <td>France</td>\n",
       "      <td>Fête nationale</td>\n",
       "      <td>Fête nationale</td>\n",
       "      <td>None</td>\n",
       "      <td>FR</td>\n",
       "      <td>2020-07-14</td>\n",
       "    </tr>\n",
       "    <tr>\n",
       "      <th>26192</th>\n",
       "      <td>France</td>\n",
       "      <td>Assomption</td>\n",
       "      <td>Assomption</td>\n",
       "      <td>None</td>\n",
       "      <td>FR</td>\n",
       "      <td>2020-08-15</td>\n",
       "    </tr>\n",
       "    <tr>\n",
       "      <th>26261</th>\n",
       "      <td>France</td>\n",
       "      <td>Toussaint</td>\n",
       "      <td>Toussaint</td>\n",
       "      <td>None</td>\n",
       "      <td>FR</td>\n",
       "      <td>2020-11-01</td>\n",
       "    </tr>\n",
       "    <tr>\n",
       "      <th>26277</th>\n",
       "      <td>France</td>\n",
       "      <td>Armistice 1918</td>\n",
       "      <td>Armistice 1918</td>\n",
       "      <td>None</td>\n",
       "      <td>FR</td>\n",
       "      <td>2020-11-11</td>\n",
       "    </tr>\n",
       "    <tr>\n",
       "      <th>26330</th>\n",
       "      <td>France</td>\n",
       "      <td>Noël</td>\n",
       "      <td>Noël</td>\n",
       "      <td>None</td>\n",
       "      <td>FR</td>\n",
       "      <td>2020-12-25</td>\n",
       "    </tr>\n",
       "    <tr>\n",
       "      <th>26403</th>\n",
       "      <td>France</td>\n",
       "      <td>Jour de l'an</td>\n",
       "      <td>Jour de l'an</td>\n",
       "      <td>None</td>\n",
       "      <td>FR</td>\n",
       "      <td>2021-01-01</td>\n",
       "    </tr>\n",
       "    <tr>\n",
       "      <th>26551</th>\n",
       "      <td>France</td>\n",
       "      <td>Lundi de Pâques</td>\n",
       "      <td>Lundi de Pâques</td>\n",
       "      <td>None</td>\n",
       "      <td>FR</td>\n",
       "      <td>2021-04-05</td>\n",
       "    </tr>\n",
       "    <tr>\n",
       "      <th>26595</th>\n",
       "      <td>France</td>\n",
       "      <td>Fête du Travail</td>\n",
       "      <td>Fête du Travail</td>\n",
       "      <td>None</td>\n",
       "      <td>FR</td>\n",
       "      <td>2021-05-01</td>\n",
       "    </tr>\n",
       "    <tr>\n",
       "      <th>26624</th>\n",
       "      <td>France</td>\n",
       "      <td>Armistice 1945</td>\n",
       "      <td>Armistice 1945</td>\n",
       "      <td>None</td>\n",
       "      <td>FR</td>\n",
       "      <td>2021-05-08</td>\n",
       "    </tr>\n",
       "    <tr>\n",
       "      <th>26634</th>\n",
       "      <td>France</td>\n",
       "      <td>Ascension</td>\n",
       "      <td>Ascension</td>\n",
       "      <td>None</td>\n",
       "      <td>FR</td>\n",
       "      <td>2021-05-13</td>\n",
       "    </tr>\n",
       "    <tr>\n",
       "      <th>26657</th>\n",
       "      <td>France</td>\n",
       "      <td>Lundi de Pentecôte</td>\n",
       "      <td>Lundi de Pentecôte</td>\n",
       "      <td>None</td>\n",
       "      <td>FR</td>\n",
       "      <td>2021-05-24</td>\n",
       "    </tr>\n",
       "    <tr>\n",
       "      <th>26719</th>\n",
       "      <td>France</td>\n",
       "      <td>Fête nationale</td>\n",
       "      <td>Fête nationale</td>\n",
       "      <td>None</td>\n",
       "      <td>FR</td>\n",
       "      <td>2021-07-14</td>\n",
       "    </tr>\n",
       "    <tr>\n",
       "      <th>26743</th>\n",
       "      <td>France</td>\n",
       "      <td>Assomption</td>\n",
       "      <td>Assomption</td>\n",
       "      <td>None</td>\n",
       "      <td>FR</td>\n",
       "      <td>2021-08-15</td>\n",
       "    </tr>\n",
       "    <tr>\n",
       "      <th>26813</th>\n",
       "      <td>France</td>\n",
       "      <td>Toussaint</td>\n",
       "      <td>Toussaint</td>\n",
       "      <td>None</td>\n",
       "      <td>FR</td>\n",
       "      <td>2021-11-01</td>\n",
       "    </tr>\n",
       "    <tr>\n",
       "      <th>26828</th>\n",
       "      <td>France</td>\n",
       "      <td>Armistice 1918</td>\n",
       "      <td>Armistice 1918</td>\n",
       "      <td>None</td>\n",
       "      <td>FR</td>\n",
       "      <td>2021-11-11</td>\n",
       "    </tr>\n",
       "    <tr>\n",
       "      <th>26884</th>\n",
       "      <td>France</td>\n",
       "      <td>Noël</td>\n",
       "      <td>Noël</td>\n",
       "      <td>None</td>\n",
       "      <td>FR</td>\n",
       "      <td>2021-12-25</td>\n",
       "    </tr>\n",
       "    <tr>\n",
       "      <th>26967</th>\n",
       "      <td>France</td>\n",
       "      <td>Jour de l'an</td>\n",
       "      <td>Jour de l'an</td>\n",
       "      <td>None</td>\n",
       "      <td>FR</td>\n",
       "      <td>2022-01-01</td>\n",
       "    </tr>\n",
       "  </tbody>\n",
       "</table>\n",
       "</div>"
      ],
      "text/plain": [
       "      countryOrRegion         holidayName normalizeHolidayName isPaidTimeOff  \\\n",
       "24948          France     Fête du Travail      Fête du Travail          None   \n",
       "24976          France      Armistice 1945       Armistice 1945          None   \n",
       "24983          France           Ascension            Ascension          None   \n",
       "25006          France  Lundi de Pentecôte   Lundi de Pentecôte          None   \n",
       "25070          France      Fête nationale       Fête nationale          None   \n",
       "25096          France          Assomption           Assomption          None   \n",
       "25166          France           Toussaint            Toussaint          None   \n",
       "25183          France      Armistice 1918       Armistice 1918          None   \n",
       "25242          France                Noël                 Noël          None   \n",
       "25307          France        Jour de l'an         Jour de l'an          None   \n",
       "25456          France     Lundi de Pâques      Lundi de Pâques          None   \n",
       "25494          France     Fête du Travail      Fête du Travail          None   \n",
       "25526          France      Armistice 1945       Armistice 1945          None   \n",
       "25551          France           Ascension            Ascension          None   \n",
       "25577          France  Lundi de Pentecôte   Lundi de Pentecôte          None   \n",
       "25621          France      Fête nationale       Fête nationale          None   \n",
       "25647          France          Assomption           Assomption          None   \n",
       "25716          France           Toussaint            Toussaint          None   \n",
       "25736          France      Armistice 1918       Armistice 1918          None   \n",
       "25786          France                Noël                 Noël          None   \n",
       "25851          France        Jour de l'an         Jour de l'an          None   \n",
       "25999          France     Lundi de Pâques      Lundi de Pâques          None   \n",
       "26041          France     Fête du Travail      Fête du Travail          None   \n",
       "26067          France      Armistice 1945       Armistice 1945          None   \n",
       "26084          France           Ascension            Ascension          None   \n",
       "26113          France  Lundi de Pentecôte   Lundi de Pentecôte          None   \n",
       "26166          France      Fête nationale       Fête nationale          None   \n",
       "26192          France          Assomption           Assomption          None   \n",
       "26261          France           Toussaint            Toussaint          None   \n",
       "26277          France      Armistice 1918       Armistice 1918          None   \n",
       "26330          France                Noël                 Noël          None   \n",
       "26403          France        Jour de l'an         Jour de l'an          None   \n",
       "26551          France     Lundi de Pâques      Lundi de Pâques          None   \n",
       "26595          France     Fête du Travail      Fête du Travail          None   \n",
       "26624          France      Armistice 1945       Armistice 1945          None   \n",
       "26634          France           Ascension            Ascension          None   \n",
       "26657          France  Lundi de Pentecôte   Lundi de Pentecôte          None   \n",
       "26719          France      Fête nationale       Fête nationale          None   \n",
       "26743          France          Assomption           Assomption          None   \n",
       "26813          France           Toussaint            Toussaint          None   \n",
       "26828          France      Armistice 1918       Armistice 1918          None   \n",
       "26884          France                Noël                 Noël          None   \n",
       "26967          France        Jour de l'an         Jour de l'an          None   \n",
       "\n",
       "      countryRegionCode       date  \n",
       "24948                FR 2018-05-01  \n",
       "24976                FR 2018-05-08  \n",
       "24983                FR 2018-05-10  \n",
       "25006                FR 2018-05-21  \n",
       "25070                FR 2018-07-14  \n",
       "25096                FR 2018-08-15  \n",
       "25166                FR 2018-11-01  \n",
       "25183                FR 2018-11-11  \n",
       "25242                FR 2018-12-25  \n",
       "25307                FR 2019-01-01  \n",
       "25456                FR 2019-04-22  \n",
       "25494                FR 2019-05-01  \n",
       "25526                FR 2019-05-08  \n",
       "25551                FR 2019-05-30  \n",
       "25577                FR 2019-06-10  \n",
       "25621                FR 2019-07-14  \n",
       "25647                FR 2019-08-15  \n",
       "25716                FR 2019-11-01  \n",
       "25736                FR 2019-11-11  \n",
       "25786                FR 2019-12-25  \n",
       "25851                FR 2020-01-01  \n",
       "25999                FR 2020-04-13  \n",
       "26041                FR 2020-05-01  \n",
       "26067                FR 2020-05-08  \n",
       "26084                FR 2020-05-21  \n",
       "26113                FR 2020-06-01  \n",
       "26166                FR 2020-07-14  \n",
       "26192                FR 2020-08-15  \n",
       "26261                FR 2020-11-01  \n",
       "26277                FR 2020-11-11  \n",
       "26330                FR 2020-12-25  \n",
       "26403                FR 2021-01-01  \n",
       "26551                FR 2021-04-05  \n",
       "26595                FR 2021-05-01  \n",
       "26624                FR 2021-05-08  \n",
       "26634                FR 2021-05-13  \n",
       "26657                FR 2021-05-24  \n",
       "26719                FR 2021-07-14  \n",
       "26743                FR 2021-08-15  \n",
       "26813                FR 2021-11-01  \n",
       "26828                FR 2021-11-11  \n",
       "26884                FR 2021-12-25  \n",
       "26967                FR 2022-01-01  "
      ]
     },
     "execution_count": 85,
     "metadata": {},
     "output_type": "execute_result"
    }
   ],
   "source": [
    "joursferiesFR"
   ]
  },
  {
   "cell_type": "code",
   "execution_count": 86,
   "metadata": {},
   "outputs": [],
   "source": [
    "# Export fichier CSV\n",
    "joursferiesFR.to_csv(r'exportjoursferies.csv', index = False)"
   ]
  },
  {
   "cell_type": "code",
   "execution_count": 87,
   "metadata": {},
   "outputs": [],
   "source": [
    "# Export fichier EXCEL\n",
    "joursferiesFR.to_excel('exportjoursferies.xlsx')  "
   ]
  },
  {
   "cell_type": "code",
   "execution_count": 88,
   "metadata": {},
   "outputs": [
    {
     "name": "stdout",
     "output_type": "stream",
     "text": [
      "-rwxrwxrwx 1 root root 2198 Apr 14 08:57 \u001b[0m\u001b[01;32mexportjoursferies.csv\u001b[0m*\r\n",
      "-rwxrwxrwx 1 root root 6842 Apr 14 08:57 \u001b[01;32mexportjoursferies.xlsx\u001b[0m*\r\n"
     ]
    }
   ],
   "source": [
    "%ls exportjoursferies.* -l"
   ]
  },
  {
   "cell_type": "markdown",
   "metadata": {},
   "source": [
    "<img src=\"https://github.com/retkowsky/images/blob/master/Powered-by-MS-Azure-logo-v2.png?raw=true\" height=\"300\" width=\"300\">"
   ]
  }
 ],
 "metadata": {
  "kernelspec": {
   "display_name": "Python 3.6 - AzureML",
   "language": "python",
   "name": "python3-azureml"
  },
  "language_info": {
   "codemirror_mode": {
    "name": "ipython",
    "version": 3
   },
   "file_extension": ".py",
   "mimetype": "text/x-python",
   "name": "python",
   "nbconvert_exporter": "python",
   "pygments_lexer": "ipython3",
   "version": "3.6.9"
  }
 },
 "nbformat": 4,
 "nbformat_minor": 2
}
