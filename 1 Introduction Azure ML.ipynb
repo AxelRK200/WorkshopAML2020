{
 "cells": [
  {
   "cell_type": "markdown",
   "metadata": {},
   "source": [
    "# Introduction Azure ML<br> (expérimentations, runs, logs)\n",
    "<br>\n",
    "\n",
    "<img src='https://github.com/retkowsky/images/blob/master/AzureMLservicebanniere.png?raw=true'>\n",
    "\n",
    "\n",
    "Documentation : https://docs.microsoft.com/en-us/azure/machine-learning/"
   ]
  },
  {
   "cell_type": "markdown",
   "metadata": {},
   "source": [
    "In this tutorial, you complete the end-to-end steps to get started with the Azure Machine Learning Python SDK running \n",
    "in Jupyter notebooks. \n",
    "\n",
    "In this tutorial, you:\n",
    "- Run some Python code\n",
    "- Log results into an Azure ML experiment\n",
    "- Save ML models into Azure ML repository\n",
    "- Use MLFlow integration with Azure ML\n",
    "- Use Azure OpenDatasets"
   ]
  },
  {
   "cell_type": "markdown",
   "metadata": {},
   "source": [
    "## Architecture et concepts"
   ]
  },
  {
   "cell_type": "markdown",
   "metadata": {},
   "source": [
    "> https://docs.microsoft.com/en-us/azure/machine-learning/concept-azure-machine-learning-architecture"
   ]
  },
  {
   "cell_type": "markdown",
   "metadata": {},
   "source": [
    "<img src=\"https://github.com/retkowsky/images/blob/master/workspace.png?raw=true\">"
   ]
  },
  {
   "cell_type": "markdown",
   "metadata": {},
   "source": [
    "> Architectures Azure : https://docs.microsoft.com/en-us/azure/architecture/browse/"
   ]
  },
  {
   "cell_type": "markdown",
   "metadata": {},
   "source": [
    "## 0. Paramétrage"
   ]
  },
  {
   "cell_type": "code",
   "execution_count": 1,
   "metadata": {},
   "outputs": [],
   "source": [
    "import numpy as np"
   ]
  },
  {
   "cell_type": "code",
   "execution_count": 2,
   "metadata": {},
   "outputs": [
    {
     "name": "stdout",
     "output_type": "stream",
     "text": [
      "Aujourd'hui : 2020-05-06 10:19:21.781070\n"
     ]
    }
   ],
   "source": [
    "import datetime\n",
    "now = datetime.datetime.now()\n",
    "print(\"Aujourd'hui :\", now)"
   ]
  },
  {
   "cell_type": "code",
   "execution_count": 3,
   "metadata": {},
   "outputs": [
    {
     "data": {
      "text/plain": [
       "'3.6.9 |Anaconda, Inc.| (default, Jul 30 2019, 19:07:31) \\n[GCC 7.3.0]'"
      ]
     },
     "execution_count": 3,
     "metadata": {},
     "output_type": "execute_result"
    }
   ],
   "source": [
    "import sys\n",
    "sys.version"
   ]
  },
  {
   "cell_type": "code",
   "execution_count": 4,
   "metadata": {},
   "outputs": [
    {
     "data": {
      "text/plain": [
       "{'Platform': 'Linux',\n",
       " 'Platform-release': '4.15.0-1071-azure',\n",
       " 'Platform-version': '#76-Ubuntu SMP Wed Feb 12 03:02:44 UTC 2020',\n",
       " 'Architecture': 'x86_64',\n",
       " 'Hostname': 'instance',\n",
       " 'IP-address': '127.0.0.1',\n",
       " 'MAC-address': '00:0d:3a:ac:af:90',\n",
       " 'Processor': 'x86_64',\n",
       " 'RAM': '14 Go'}"
      ]
     },
     "execution_count": 4,
     "metadata": {},
     "output_type": "execute_result"
    }
   ],
   "source": [
    "import platform,socket,re,uuid,json,psutil,logging\n",
    "\n",
    "def getSystemInfo():\n",
    "    try:\n",
    "        info={}\n",
    "        info['Platform']=platform.system()\n",
    "        info['Platform-release']=platform.release()\n",
    "        info['Platform-version']=platform.version()\n",
    "        info['Architecture']=platform.machine()\n",
    "        info['Hostname']=socket.gethostname()\n",
    "        info['IP-address']=socket.gethostbyname(socket.gethostname())\n",
    "        info['MAC-address']=':'.join(re.findall('..', '%012x' % uuid.getnode()))\n",
    "        info['Processor']=platform.processor()\n",
    "        info['RAM']=str(round(psutil.virtual_memory().total / (1024.0 **3)))+\" Go\"\n",
    "        return json.dumps(info)\n",
    "    except Exception as e:\n",
    "        logging.exception(e)\n",
    "\n",
    "json.loads(getSystemInfo())"
   ]
  },
  {
   "cell_type": "code",
   "execution_count": 5,
   "metadata": {},
   "outputs": [
    {
     "name": "stdout",
     "output_type": "stream",
     "text": [
      "Version Azure ML service : 1.4.0\n"
     ]
    }
   ],
   "source": [
    "import azureml.core\n",
    "from azureml.core import Experiment, Workspace\n",
    "\n",
    "print(\"Version Azure ML service :\", azureml.core.VERSION)"
   ]
  },
  {
   "cell_type": "code",
   "execution_count": 6,
   "metadata": {},
   "outputs": [
    {
     "name": "stdout",
     "output_type": "stream",
     "text": [
      "Workspace name: workshopAML2020\n",
      "Azure region: westeurope\n",
      "Resource group: workshopAML2020-rg\n"
     ]
    }
   ],
   "source": [
    "# Rappel des infos du workspace Azure ML service\n",
    "ws = Workspace.from_config()\n",
    "print('Workspace name: ' + ws.name, \n",
    "      'Azure region: ' + ws.location, \n",
    "      'Resource group: ' + ws.resource_group, sep='\\n')"
   ]
  },
  {
   "cell_type": "code",
   "execution_count": 7,
   "metadata": {},
   "outputs": [
    {
     "name": "stdout",
     "output_type": "stream",
     "text": [
      "Compute Targets:\n",
      "\t drift-aks : AKS\n",
      "\t instance-aks : AKS\n",
      "\t instance : ComputeInstance\n",
      "\t AutoML : AmlCompute\n",
      "\t cpu-cluster : AmlCompute\n",
      "\t cpupipelines : AmlCompute\n",
      "\t clustergpuNC6 : AmlCompute\n",
      "\t gpuclusterNC6 : AmlCompute\n",
      "\t cpu-standardd4 : AmlCompute\n",
      "Datastores:\n",
      "\t azureml : AzureBlob\n",
      "\t modelservingdata : AzureBlob\n",
      "\t aiexportdata : AzureBlob\n",
      "\t modeldata : AzureBlob\n",
      "\t teststorageserge : AzureBlob\n",
      "\t azureml_globaldatasets : AzureBlob\n",
      "\t workspaceblobstore : AzureBlob\n",
      "\t workspacefilestore : AzureFile\n",
      "Datasets:\n",
      "\t drift-demo-dataset\n",
      "\t target\n",
      "\t dataset\n",
      "\t Iris\n",
      "\t mnist dataset\n",
      "\t diabetes dataset\n"
     ]
    }
   ],
   "source": [
    "from azureml.core import ComputeTarget, Datastore, Dataset\n",
    "\n",
    "print(\"Compute Targets:\")\n",
    "for compute_name in ws.compute_targets:\n",
    "    compute = ws.compute_targets[compute_name]\n",
    "    print(\"\\t\", compute.name, ':', compute.type)\n",
    "    \n",
    "print(\"Datastores:\")\n",
    "for datastore_name in ws.datastores:\n",
    "    datastore = Datastore.get(ws, datastore_name)\n",
    "    print(\"\\t\", datastore.name, ':', datastore.datastore_type)\n",
    "    \n",
    "print(\"Datasets:\")\n",
    "for dataset_name in list(ws.datasets.keys()):\n",
    "    dataset = Dataset.get_by_name(ws, dataset_name)\n",
    "    print(\"\\t\", dataset.name)"
   ]
  },
  {
   "cell_type": "markdown",
   "metadata": {},
   "source": [
    "## 1. Chargement des données"
   ]
  },
  {
   "cell_type": "code",
   "execution_count": 8,
   "metadata": {},
   "outputs": [],
   "source": [
    "from sklearn.datasets import load_diabetes\n",
    "from sklearn.linear_model import Ridge\n",
    "from sklearn.metrics import mean_squared_error\n",
    "from sklearn.model_selection import train_test_split\n",
    "from sklearn.externals import joblib"
   ]
  },
  {
   "cell_type": "code",
   "execution_count": 9,
   "metadata": {},
   "outputs": [
    {
     "name": "stdout",
     "output_type": "stream",
     "text": [
      "Version scikit-learn : 0.20.3\n"
     ]
    }
   ],
   "source": [
    "# scikit-learn version\n",
    "import sklearn\n",
    "print(\"Version scikit-learn :\", sklearn.__version__)"
   ]
  },
  {
   "cell_type": "markdown",
   "metadata": {},
   "source": [
    "#### Données : DIABETES\n",
    "From Bradley Efron, Trevor Hastie, Iain Johnstone and Robert Tibshirani (2004) \"Least Angle Regression,\" Annals of Statistics (with discussion), 407-499, we have\n",
    "\n",
    "\"Ten baseline variables, age, sex, body mass index, average blood pressure, and six blood serum measurements were obtained for each of n = 442 diabetes patients, as well as the response of interest, a quantitative measure of disease progression one year after baseline.\"\n",
    "> https://www4.stat.ncsu.edu/~boos/var.select/diabetes.html"
   ]
  },
  {
   "cell_type": "code",
   "execution_count": 10,
   "metadata": {},
   "outputs": [],
   "source": [
    "X, y = load_diabetes(return_X_y = True)\n",
    "columns = ['age', 'gender', 'bmi', 'bp', 's1', 's2', 's3', 's4', 's5', 's6']"
   ]
  },
  {
   "cell_type": "code",
   "execution_count": 11,
   "metadata": {},
   "outputs": [],
   "source": [
    "# Taille en % de la base de test\n",
    "testsizepct=0.20"
   ]
  },
  {
   "cell_type": "code",
   "execution_count": 12,
   "metadata": {},
   "outputs": [],
   "source": [
    "X_train, X_test, y_train, y_test = train_test_split(X, y, test_size=testsizepct, random_state=0)\n",
    "\n",
    "data = {\n",
    "    \"train\":{\"X\": X_train, \"y\": y_train},        \n",
    "    \"test\":{\"X\": X_test, \"y\": y_test}\n",
    "}"
   ]
  },
  {
   "cell_type": "code",
   "execution_count": 13,
   "metadata": {},
   "outputs": [],
   "source": [
    "nobstrain=len(data['train']['X'])"
   ]
  },
  {
   "cell_type": "code",
   "execution_count": 14,
   "metadata": {},
   "outputs": [],
   "source": [
    "nobstest=len(data['test']['X'])"
   ]
  },
  {
   "cell_type": "code",
   "execution_count": 15,
   "metadata": {},
   "outputs": [
    {
     "name": "stdout",
     "output_type": "stream",
     "text": [
      "Training = 353 observations\n",
      "Test = 89 observations\n"
     ]
    }
   ],
   "source": [
    "print (\"Training =\", nobstrain, 'observations')\n",
    "print (\"Test =\", nobstest, 'observations')"
   ]
  },
  {
   "cell_type": "markdown",
   "metadata": {},
   "source": [
    "## 2. Modélisation"
   ]
  },
  {
   "cell_type": "markdown",
   "metadata": {},
   "source": [
    "Nous allons réaliser un modèle de régression **Ridge**.<br> \n",
    "<img src='https://github.com/retkowsky/images/blob/master/ridge.png?raw=true'>\n",
    "<br>\n",
    "C'est une version régularisée de la régression linéaire.\n",
    "Cela permet d'ajuster les données avec des coefficents de pondération du modèle les plus petits possibles.\n",
    "- Si le paramétre = 0 => nous avons dans ce cas une régression linéaire.\n",
    "- Si le paramétre a une valeur importante, alors les coefficients de pondérations ont des valeurs proches de 0 => on aura dans ce cas une ligne horizontale qui passe par la moyenne des données.\n",
    "\n"
   ]
  },
  {
   "cell_type": "code",
   "execution_count": 16,
   "metadata": {},
   "outputs": [],
   "source": [
    "experiment = Experiment(workspace=ws, name=\"Exemple1-IntroAzureML\")"
   ]
  },
  {
   "cell_type": "markdown",
   "metadata": {},
   "source": [
    "Les étapes\n",
    "1. Logs d'informations\n",
    "2. Modélisation\n",
    "3. Logs de résultats de modèles et graphiques\n",
    "4. Sauvegarde modèle"
   ]
  },
  {
   "cell_type": "code",
   "execution_count": 17,
   "metadata": {},
   "outputs": [],
   "source": [
    "def regridge(k):\n",
    "    \n",
    "    # 1. On démarre le logging des informations\n",
    "    run = experiment.start_logging()\n",
    "    \n",
    "    print('k =', k)\n",
    "    print()    \n",
    "       \n",
    "    # 2. Logs d'informations au run\n",
    "    run.log('k', k) # On loggue la valeur de k dans l'expérimentation Azure ML\n",
    "    run.log('Test Size', testsizepct) # On loggue la valeur dans l'expérimentation Azure ML\n",
    "    run.log('Nobs Training', nobstrain) # On loggue la valeur dans l'expérimentation Azure ML\n",
    "    run.log('Nobs Test', nobstest) # On loggue la valeur dans l'expérimentation Azure ML\n",
    "    \n",
    "    # 3. Construction d'un modèle de régression Ridge avec la valeur de k comme hyperparamètre\n",
    "    regression_model = Ridge(alpha=k)\n",
    "    regression_model.fit(data['train']['X'], data['train']['y'])\n",
    "    preds = regression_model.predict(data['test']['X'])\n",
    "\n",
    "    # 4. Log de la métrique Mean Squared Error du modèle dans l'expérimentation\n",
    "    from sklearn.metrics import r2_score\n",
    "    \n",
    "    print('- MSE =', mean_squared_error(data['test']['y'], preds))\n",
    "    print('- R2 =', r2_score(data['test']['y'], preds))\n",
    "    \n",
    "    run.log('mse', mean_squared_error(data['test']['y'], preds))\n",
    "    run.log('R2', r2_score(data['test']['y'], preds))\n",
    "\n",
    "    # 5. Export modèle pour chaque valeur de k\n",
    "    joblib.dump(value=regression_model, filename='RegRidgeModele-k-'+str(k)+'.pkl')\n",
    "\n",
    "    # 6. Ajout de tags personnalisés au run\n",
    "    run.tag(\"Langage\", \"Python\")\n",
    "    run.tag(\"Version_Python\", \"3.6.9\")\n",
    "    run.tag(\"Version_AzureML\", \"1.4.0\")\n",
    "    run.tag(\"Team\", \"DataScience\")\n",
    "    run.tag(\"Pays\", \"France\") \n",
    "    run.tag(\"Auteur\", \"Serge\") \n",
    "    \n",
    "    # 7. Création et log d'un graphique\n",
    "    %matplotlib inline\n",
    "    import matplotlib.pyplot as plt\n",
    "\n",
    "    fig = plt.figure(1)\n",
    "    idx = np.argsort(data['test']['y'])\n",
    "    plt.plot(data['test']['y'][idx],preds[idx])\n",
    "    \n",
    "    fig.savefig(\"RegRidgeGraphique-k-\"+str(k)+\".png\") # On sauvegarde chaque graphique avec un nom personnalisé\n",
    "    plt.title('Ajustement Régression Ridge', fontsize=10)\n",
    "    \n",
    "    run.log_image(name='Ajustement Régression Ridge', plot=plt) # On loggue dans l'expérimentation l'image du graphique\n",
    "    \n",
    "    # 6. Fin du run\n",
    "    run.complete()"
   ]
  },
  {
   "cell_type": "markdown",
   "metadata": {},
   "source": [
    "Rappel: Définition MSE\n",
    "<img src=\"https://wikimedia.org/api/rest_v1/media/math/render/svg/e258221518869aa1c6561bb75b99476c4734108e\">"
   ]
  },
  {
   "cell_type": "markdown",
   "metadata": {},
   "source": [
    "### Appel de la fonction"
   ]
  },
  {
   "cell_type": "code",
   "execution_count": 18,
   "metadata": {},
   "outputs": [
    {
     "name": "stdout",
     "output_type": "stream",
     "text": [
      "k = 0.1\n",
      "\n",
      "- MSE = 3372.649627810032\n",
      "- R2 = 0.3422976558630022\n"
     ]
    },
    {
     "data": {
      "image/png": "[encoded data removed]",
      "text/plain": [
       "<Figure size 432x288 with 1 Axes>"
      ]
     },
     "metadata": {
      "needs_background": "light"
     },
     "output_type": "display_data"
    }
   ],
   "source": [
    "regridge(0.1)"
   ]
  },
  {
   "cell_type": "code",
   "execution_count": 19,
   "metadata": {},
   "outputs": [
    {
     "name": "stdout",
     "output_type": "stream",
     "text": [
      "k = 0.2\n",
      "\n",
      "- MSE = 3325.2946794678764\n",
      "- R2 = 0.35153237158155903\n"
     ]
    },
    {
     "data": {
      "image/png": "[encoded data removed]",
      "text/plain": [
       "<Figure size 432x288 with 1 Axes>"
      ]
     },
     "metadata": {
      "needs_background": "light"
     },
     "output_type": "display_data"
    }
   ],
   "source": [
    "regridge(0.2)"
   ]
  },
  {
   "cell_type": "code",
   "execution_count": 20,
   "metadata": {},
   "outputs": [
    {
     "name": "stdout",
     "output_type": "stream",
     "text": [
      "k = 0.3\n",
      "\n",
      "- MSE = 3302.6736334017255\n",
      "- R2 = 0.35594371478835374\n"
     ]
    },
    {
     "data": {
      "image/png": "[encoded data removed]",
      "text/plain": [
       "<Figure size 432x288 with 1 Axes>"
      ]
     },
     "metadata": {
      "needs_background": "light"
     },
     "output_type": "display_data"
    }
   ],
   "source": [
    "regridge(0.3)"
   ]
  },
  {
   "cell_type": "code",
   "execution_count": 21,
   "metadata": {},
   "outputs": [
    {
     "name": "stdout",
     "output_type": "stream",
     "text": [
      "k = 0.4\n",
      "\n",
      "- MSE = 3295.741064355809\n",
      "- R2 = 0.3572956390661659\n"
     ]
    },
    {
     "data": {
      "image/png": "[encoded data removed]",
      "text/plain": [
       "<Figure size 432x288 with 1 Axes>"
      ]
     },
     "metadata": {
      "needs_background": "light"
     },
     "output_type": "display_data"
    }
   ],
   "source": [
    "regridge(0.4)"
   ]
  },
  {
   "cell_type": "code",
   "execution_count": 22,
   "metadata": {},
   "outputs": [
    {
     "name": "stdout",
     "output_type": "stream",
     "text": [
      "-rwxrwxrwx 1 root root 645 May  6 10:20 \u001b[0m\u001b[01;32mRegRidgeModele-k-0.1.pkl\u001b[0m*\r\n",
      "-rwxrwxrwx 1 root root 645 May  6 10:21 \u001b[01;32mRegRidgeModele-k-0.2.pkl\u001b[0m*\r\n",
      "-rwxrwxrwx 1 root root 645 May  6 10:22 \u001b[01;32mRegRidgeModele-k-0.3.pkl\u001b[0m*\r\n",
      "-rwxrwxrwx 1 root root 645 May  6 10:23 \u001b[01;32mRegRidgeModele-k-0.4.pkl\u001b[0m*\r\n"
     ]
    }
   ],
   "source": [
    "# Liste des pickle des modèles sauvegardés (dans la vm)\n",
    "%ls RegRidgeModele*.pkl -l"
   ]
  },
  {
   "cell_type": "code",
   "execution_count": 23,
   "metadata": {},
   "outputs": [
    {
     "name": "stdout",
     "output_type": "stream",
     "text": [
      "-rwxrwxrwx 1 root root 23117 May  6 10:20 \u001b[0m\u001b[01;32mRegRidgeGraphique-k-0.1.png\u001b[0m*\r\n",
      "-rwxrwxrwx 1 root root 24886 May  6 10:21 \u001b[01;32mRegRidgeGraphique-k-0.2.png\u001b[0m*\r\n",
      "-rwxrwxrwx 1 root root 24425 May  6 10:22 \u001b[01;32mRegRidgeGraphique-k-0.3.png\u001b[0m*\r\n",
      "-rwxrwxrwx 1 root root 24759 May  6 10:23 \u001b[01;32mRegRidgeGraphique-k-0.4.png\u001b[0m*\r\n"
     ]
    }
   ],
   "source": [
    "# Liste des graphiques sauvegardés (dans la vm)\n",
    "%ls RegRidgeGraphique*.png -l"
   ]
  },
  {
   "cell_type": "markdown",
   "metadata": {},
   "source": [
    "## Référencement du modèle"
   ]
  },
  {
   "cell_type": "code",
   "execution_count": 24,
   "metadata": {},
   "outputs": [],
   "source": [
    "monmodelepkl='RegRidgeModele-k-0.4.pkl'\n",
    "k=0.4\n",
    "MSE=3295.741064355809\n",
    "R2=0.3572956390661659"
   ]
  },
  {
   "cell_type": "code",
   "execution_count": 25,
   "metadata": {},
   "outputs": [
    {
     "name": "stdout",
     "output_type": "stream",
     "text": [
      "Registering model RegressionRidge\n"
     ]
    }
   ],
   "source": [
    "from azureml.core.model import Model\n",
    "\n",
    "model = Model.register(model_path=monmodelepkl, # Référence du pickle\n",
    "                       model_name=\"RegressionRidge\", # Nom du modèle référencé\n",
    "                       model_framework=Model.Framework.SCIKITLEARN,  # Framework\n",
    "                       model_framework_version='0.22',             # Version scikit-learn\n",
    "                       tags={'area': 'Diabetes', # Ajout de tags au modèle\n",
    "                             'type': 'Regression Ridge', \n",
    "                             'k':k, \n",
    "                             'MSE' : MSE, \n",
    "                             'R2' : R2,\n",
    "                             'Framework' : 'Azure ML'},\n",
    "                       description=\"Modèle de régression Ridge\", # Description du modèle\n",
    "                       workspace=ws) # Nom du workspace Azure ML"
   ]
  },
  {
   "cell_type": "markdown",
   "metadata": {},
   "source": [
    "## Informations du modèle"
   ]
  },
  {
   "cell_type": "code",
   "execution_count": 26,
   "metadata": {},
   "outputs": [
    {
     "name": "stdout",
     "output_type": "stream",
     "text": [
      "Nom du modèle : RegressionRidge\n",
      "Description : Modèle de régression Ridge\n",
      "ID = RegressionRidge:7\n",
      "Version = 7\n"
     ]
    }
   ],
   "source": [
    "print('Nom du modèle :', model.name)\n",
    "print('Description :', model.description)\n",
    "print('ID =', model.id)\n",
    "print('Version =', model.version)"
   ]
  },
  {
   "cell_type": "code",
   "execution_count": 27,
   "metadata": {},
   "outputs": [
    {
     "name": "stdout",
     "output_type": "stream",
     "text": [
      "RegressionRidge - version = 7\n",
      "\t area : Diabetes\n",
      "\t type : Regression Ridge\n",
      "\t k : 0.4\n",
      "\t MSE : 3295.741064355809\n",
      "\t R2 : 0.3572956390661659\n",
      "\t Framework : Azure ML\n",
      "\n",
      "\n",
      "model_explain_model_on_amlcomp - version = 1\n",
      "\n",
      "\n",
      "IBM_attrition_explainer - version = 10\n",
      "\n",
      "\n",
      "local_deploy_model - version = 10\n",
      "\n",
      "\n",
      "IBM_attrition_explainer - version = 9\n",
      "\n",
      "\n",
      "local_deploy_model - version = 9\n",
      "\n",
      "\n",
      "Diabetes - version = 15\n",
      "\t Training context : Hyperdrive\n",
      "\t AUC : 0.8569106291712714\n",
      "\t Accuracy : 0.7902222222222223\n",
      "\n",
      "\n",
      "Exemple10-Modele-TensorFlow - version = 16\n",
      "\t Framework : TensorFlow\n",
      "\t Hyperdrive : Oui\n",
      "\t GPU : Oui\n",
      "\n",
      "\n",
      "Diabetes - version = 14\n",
      "\t Training context : Hyperdrive\n",
      "\t AUC : 0.8569106291712714\n",
      "\t Accuracy : 0.7902222222222223\n",
      "\n",
      "\n",
      "Exemple10-Modele-TensorFlow - version = 15\n",
      "\t Framework : TensorFlow\n",
      "\t Hyperdrive : Oui\n",
      "\t GPU : Oui\n",
      "\n",
      "\n",
      "diabetes_model - version = 15\n",
      "\t Training context : Pipeline\n",
      "\n",
      "\n",
      "Modele-SKLEARN-Regression - version = 2\n",
      "\t area : diabetes\n",
      "\t type : regression\n",
      "\t format : Scikit-Learn pkl\n",
      "\n",
      "\n",
      "Exemple4-AutoML-Forecast - version = 5\n",
      "\t Training context : Azure Auto ML\n",
      "\t R2 : 0.2102297702988311\n",
      "\t RMSE : 0.025719636958220327\n",
      "\n",
      "\n",
      "boston_model.pkl - version = 13\n",
      "\t algo : Regression\n",
      "\t Training context : Azure ML\n",
      "\t Framework : scikit-learn\n",
      "\n",
      "\n",
      "RegressionRidge - version = 6\n",
      "\t area : Diabetes\n",
      "\t type : Regression Ridge\n",
      "\t k : 0.4\n",
      "\t MSE : 3295.741064355809\n",
      "\t R2 : 0.3572956390661659\n",
      "\t Framework : Azure ML\n",
      "\n",
      "\n",
      "RegressionRidge - version = 5\n",
      "\t area : Diabetes\n",
      "\t type : Regression Ridge\n",
      "\t k : 0.4\n",
      "\t MSE : 3295.741064355809\n",
      "\t R2 : 0.3572956390661659\n",
      "\t Framework : Azure ML\n",
      "\n",
      "\n",
      "Exemple3-AutoML-Regression - version = 8\n",
      "\t Training context : Azure Auto ML\n",
      "\t R2 : 0.8267547975259869\n",
      "\t RMSE : 0.08250675651473231\n",
      "\n",
      "\n",
      "mybestmodel - version = 4\n",
      "\t Training context : Azure Auto ML\n",
      "\t AUC : 0.9993067801973444\n",
      "\t Accuracy : 0.962881891241127\n",
      "\n",
      "\n",
      "Diabetes - version = 13\n",
      "\t Training context : Hyperdrive\n",
      "\t AUC : 0.8569106291712714\n",
      "\t Accuracy : 0.7902222222222223\n",
      "\n",
      "\n",
      "Exemple10-Modele-TensorFlow - version = 14\n",
      "\t Framework : TensorFlow\n",
      "\t Hyperdrive : Oui\n",
      "\t GPU : Oui\n",
      "\n",
      "\n",
      "IBM_attrition_explainer - version = 8\n",
      "\n",
      "\n",
      "local_deploy_model - version = 8\n",
      "\n",
      "\n",
      "diabetes_model - version = 14\n",
      "\t Training context : Pipeline\n",
      "\n",
      "\n",
      "Modele-SKLEARN-Regression - version = 1\n",
      "\t area : diabetes\n",
      "\t type : regression\n",
      "\t format : Scikit-Learn pkl\n",
      "\n",
      "\n",
      "boston_model.pkl - version = 12\n",
      "\t algo : Regression\n",
      "\t Training context : Azure ML\n",
      "\t Framework : scikit-learn\n",
      "\n",
      "\n",
      "RegressionRidge - version = 4\n",
      "\t area : Diabetes\n",
      "\t type : Regression Ridge\n",
      "\t k : 0.3\n",
      "\t MSE : 3077.2\n",
      "\t Framework : Azure ML\n",
      "\n",
      "\n",
      "resnet50.4.accelonnx - version = 1\n",
      "\t parentModelName : resnet50\n",
      "\t parentModelFlavor : TF\n",
      "\t modelFlavor : AccelOnnx\n",
      "\t parentModelArtifactLocation : aml://artifact/LocalUpload/200430T125953-55db4332/resnet50\n",
      "\t convertModelLogLocation : aml://artifact/LocalUpload/119439fb2e6c41d39b0e5ecaa1e1bf77/conversion_log\n",
      "\t compileOptions_toolVersion : 1.0\n",
      "\t compileOptions_toolName : fpga\n",
      "\t compileOptions_input_node_names : Placeholder:0\n",
      "\t compileOptions_output_node_names : classifier/resnet_v1_50/predictions/Softmax:0\n",
      "\t compileOptions_require_fpga_conversion : True\n",
      "\t compileOptions_sourceModelFlavor : tf\n",
      "\t compileOptions_targetModelFlavor : accelonnx\n",
      "\t compileOptions_unpack : false\n",
      "\n",
      "\n",
      "resnet50 - version = 4\n",
      "\n",
      "\n",
      "RegressionRidge - version = 3\n",
      "\t area : Diabetes\n",
      "\t type : Regression Ridge\n",
      "\t k : 0.4\n",
      "\t MSE : 3295.74\n",
      "\t Framework : Azure ML\n",
      "\n",
      "\n",
      "RegressionRidge - version = 2\n",
      "\t area : Diabetes\n",
      "\t type : Regression Ridge\n",
      "\t k : 0.4\n",
      "\t MSE : 3295.74\n",
      "\t Framework : Azure ML\n",
      "\n",
      "\n",
      "RegressionRidge - version = 1\n",
      "\t area : Diabetes\n",
      "\t type : Regression Ridge\n",
      "\t k : 0.4\n",
      "\t MSE : 3295.74\n",
      "\t Framework : Azure ML\n",
      "\n",
      "\n",
      "resnet50 - version = 2\n",
      "\n",
      "\n",
      "ssdvgg.1.accelonnx - version = 1\n",
      "\t parentModelName : ssdvgg\n",
      "\t parentModelFlavor : TF\n",
      "\t modelFlavor : AccelOnnx\n",
      "\t parentModelArtifactLocation : aml://artifact/LocalUpload/200429T124534-4846cffe/saved_model\n",
      "\t convertModelLogLocation : aml://artifact/LocalUpload/ffaee3a06dba4e87a9ae84524cd868e7/conversion_log\n",
      "\t compileOptions_toolVersion : 1.0\n",
      "\t compileOptions_toolName : fpga\n",
      "\t compileOptions_input_node_names : Placeholder:0\n",
      "\t compileOptions_output_node_names : ssd_300_vgg/block4_box/Reshape_1:0,ssd_300_vgg/block7_box/Reshape_1:0,ssd_300_vgg/block8_box/Reshape_1:0,ssd_300_vgg/block9_box/Reshape_1:0,ssd_300_vgg/block10_box/Reshape_1:0,ssd_300_vgg/block11_box/Reshape_1:0,ssd_300_vgg/block4_box/Reshape:0,ssd_300_vgg/block7_box/Reshape:0,ssd_300_vgg/block8_box/Reshape:0,ssd_300_vgg/block9_box/Reshape:0,ssd_300_vgg/block10_box/Reshape:0,ssd_300_vgg/block11_box/Reshape:0\n",
      "\t compileOptions_require_fpga_conversion : True\n",
      "\t compileOptions_sourceModelFlavor : tf\n",
      "\t compileOptions_targetModelFlavor : accelonnx\n",
      "\t compileOptions_unpack : false\n",
      "\n",
      "\n",
      "ssdvgg - version = 1\n",
      "\n",
      "\n",
      "elevation-regression-model.pkl - version = 1\n",
      "\t area : weather\n",
      "\t type : linear regression\n",
      "\n",
      "\n",
      "MLTemplateAzure-master - version = 4\n",
      "\n",
      "\n",
      "MLTemplateAzure-master - version = 3\n",
      "\n",
      "\n",
      "MLTemplateAzure-master - version = 2\n",
      "\n",
      "\n",
      "MLTemplateAzure-master - version = 1\n",
      "\n",
      "\n",
      "diabetes_model - version = 13\n",
      "\t Training context : Pipeline\n",
      "\n",
      "\n",
      "diabetes_model - version = 12\n",
      "\t Training context : Pipeline\n",
      "\n",
      "\n",
      "diabetes_model - version = 11\n",
      "\t Training context : Pipeline\n",
      "\n",
      "\n",
      "Exemple10-Modele-TensorFlow - version = 13\n",
      "\t Framework : TensorFlow\n",
      "\t Hyperdrive : Oui\n",
      "\t GPU : Oui\n",
      "\n",
      "\n",
      "Exemple10-Modele-TensorFlow - version = 12\n",
      "\t Training context : TensorFlow Hyperdrive\n",
      "\t GPU : Oui\n",
      "\n",
      "\n",
      "Diabetes - version = 12\n",
      "\t Training context : Hyperdrive\n",
      "\t AUC : 0.8569106291712714\n",
      "\t Accuracy : 0.7902222222222223\n",
      "\n",
      "\n",
      "diabetes_model - version = 10\n",
      "\t Training context : Pipeline\n",
      "\n",
      "\n",
      "sklearn_regression_model.pkl - version = 14\n",
      "\t area : diabetes\n",
      "\t type : regression\n",
      "\t format : Scikit-Learn pkl\n",
      "\n",
      "\n",
      "diabetes_model - version = 9\n",
      "\t Training context : Pipeline\n",
      "\n",
      "\n",
      "boston_model.pkl - version = 11\n",
      "\t algo : Regression\n",
      "\t Training context : Azure ML\n",
      "\t Framework : scikit-learn\n",
      "\n",
      "\n",
      "mybestmodel - version = 3\n",
      "\t Training context : Azure Auto ML\n",
      "\t AUC : 0.9993193003206503\n",
      "\t Accuracy : 0.9658275743456644\n",
      "\n",
      "\n",
      "Exemple3-AutoML-Regression - version = 7\n",
      "\t Training context : Azure Auto ML\n",
      "\t R2 : 0.8736789106695474\n",
      "\t RMSE : 0.07225365701425089\n",
      "\n",
      "\n",
      "Exemple3-AutoML-Regression - version = 6\n",
      "\t Training context : Azure Auto ML\n",
      "\t R2 : 0.8736789106695474\n",
      "\t RMSE : 0.07225365701425089\n",
      "\n",
      "\n",
      "diabetes_model - version = 8\n",
      "\t Training context : Pipeline\n",
      "\n",
      "\n",
      "Exemple10-Modele-TensorFlow - version = 11\n",
      "\t Training context : TensorFlow GPU Hyperdrive\n",
      "\n",
      "\n",
      "IBM_attrition_explainer - version = 7\n",
      "\n",
      "\n",
      "local_deploy_model - version = 7\n",
      "\n",
      "\n",
      "Diabetes - version = 11\n",
      "\t Training context : Hyperdrive\n",
      "\t AUC : 0.8569106291712714\n",
      "\t Accuracy : 0.7902222222222223\n",
      "\n",
      "\n",
      "sklearn_regression_model.pkl - version = 13\n",
      "\t area : diabetes\n",
      "\t type : regression\n",
      "\t format : Scikit-Learn pkl\n",
      "\n",
      "\n",
      "sklearn_regression_model.pkl - version = 12\n",
      "\t area : diabetes\n",
      "\t type : regression\n",
      "\t format : Scikit-Learn pkl\n",
      "\n",
      "\n",
      "sklearn_regression_model.pkl - version = 11\n",
      "\t area : diabetes\n",
      "\t type : regression\n",
      "\t format : Scikit-Learn pkl\n",
      "\n",
      "\n",
      "sklearn_regression_model.pkl - version = 10\n",
      "\t area : diabetes\n",
      "\t type : regression\n",
      "\t format : Scikit-Learn pkl\n",
      "\n",
      "\n",
      "sklearn_regression_model.pkl - version = 9\n",
      "\t area : diabetes\n",
      "\t type : regression\n",
      "\t format : Scikit-Learn pkl\n",
      "\n",
      "\n",
      "sklearn_regression_model.pkl - version = 8\n",
      "\t area : diabetes\n",
      "\t type : regression\n",
      "\t format : Scikit-Learn pkl\n",
      "\n",
      "\n",
      "sklearn_regression_model.pkl - version = 7\n",
      "\t area : diabetes\n",
      "\t type : regression\n",
      "\n",
      "\n",
      "diabetes_model - version = 7\n",
      "\t Training context : Pipeline\n",
      "\n",
      "\n",
      "diabetes_model - version = 6\n",
      "\t Training context : Pipeline\n",
      "\n",
      "\n",
      "Exemple10-Modele-TensorFlow - version = 10\n",
      "\t Training context : TensorFlow GPU Hyperdrive\n",
      "\n",
      "\n",
      "Diabetes - version = 10\n",
      "\t Training context : Hyperdrive\n",
      "\t AUC : 0.8569106291712714\n",
      "\t Accuracy : 0.7902222222222223\n",
      "\n",
      "\n",
      "diabetes_model - version = 5\n",
      "\t Training context : Pipeline\n",
      "\n",
      "\n",
      "sklearn_regression_model.pkl - version = 6\n",
      "\t area : diabetes\n",
      "\t type : regression\n",
      "\n",
      "\n",
      "mybestmodel - version = 2\n",
      "\t Training context : Azure Auto ML\n",
      "\t AUC : 0.9994706712034915\n",
      "\t Accuracy : 0.9705396494881139\n",
      "\n",
      "\n",
      "mybestmodel - version = 1\n",
      "\t Training context : Azure Auto ML\n",
      "\t AUC : 0.9994706712034915\n",
      "\t Accuracy : 0.9705396494881139\n",
      "\n",
      "\n",
      "Exemple10-Modele-TensorFlow - version = 9\n",
      "\t Training context : TensorFlow GPU Hyperdrive\n",
      "\n",
      "\n",
      "Exemple10-Modele-TensorFlow - version = 8\n",
      "\t Training context : TensorFlow GPU Hyperdrive\n",
      "\n",
      "\n",
      "Exemple10-Modele-TensorFlow - version = 7\n",
      "\t Training context : TensorFlow GPU Hyperdrive\n",
      "\n",
      "\n",
      "Exemple10-Modele-TensorFlow - version = 6\n",
      "\t Training context : TensorFlow GPU\n",
      "\n",
      "\n",
      "Diabetes - version = 9\n",
      "\t Training context : Hyperdrive\n",
      "\t AUC : 0.8569106291712714\n",
      "\t Accuracy : 0.7902222222222223\n",
      "\n",
      "\n",
      "sklearn_regression_model.pkl - version = 5\n",
      "\t area : diabetes\n",
      "\t type : regression\n",
      "\n",
      "\n",
      "boston_model.pkl - version = 10\n",
      "\t algo : Regression\n",
      "\t Training context : Azure ML\n",
      "\t Framework : scikit-learn\n",
      "\n",
      "\n",
      "sklearn_regression_model.pkl - version = 4\n",
      "\t area : diabetes\n",
      "\t type : regression\n",
      "\n",
      "\n",
      "boston_model.pkl - version = 9\n",
      "\t algo : Regression\n",
      "\t Training context : Azure ML\n",
      "\t Framework : scikit-learn\n",
      "\n",
      "\n",
      "diabetes_model - version = 4\n",
      "\t Training context : Pipeline\n",
      "\n",
      "\n",
      "Diabetes - version = 8\n",
      "\t Training context : Hyperdrive\n",
      "\t AUC : 0.8569106291712714\n",
      "\t Accuracy : 0.7902222222222223\n",
      "\n",
      "\n",
      "diabetes_model - version = 3\n",
      "\t Training context : Pipeline\n",
      "\n",
      "\n",
      "Exemple10-Modele-TensorFlow - version = 5\n",
      "\t Training context : TensorFlow GPU\n",
      "\n",
      "\n",
      "sklearn_regression_model.pkl - version = 3\n",
      "\t area : diabetes\n",
      "\t type : regression\n",
      "\n",
      "\n",
      "IBM_attrition_explainer - version = 6\n",
      "\n",
      "\n",
      "local_deploy_model - version = 6\n",
      "\n",
      "\n",
      "boston_model.pkl - version = 8\n",
      "\t algo : Regression\n",
      "\t Training context : Azure ML\n",
      "\t Framework : scikit-learn\n",
      "\n",
      "\n",
      "Exemple4-AutoML-Forecast - version = 4\n",
      "\t Training context : Azure Auto ML\n",
      "\t R2 : 0.2102297702988311\n",
      "\t RMSE : 0.025719636958220327\n",
      "\n",
      "\n",
      "Exemple3-AutoML-Regression - version = 5\n",
      "\t Training context : Azure Auto ML\n",
      "\t R2 : 0.8846871539563971\n",
      "\t RMSE : 0.0687685685144201\n",
      "\n",
      "\n",
      "Exemple2-AutoML-Classif - version = 4\n",
      "\t Training context : Azure Auto ML\n",
      "\t AUC : 0.9995378939750003\n",
      "\t Accuracy : 0.9728977962866562\n",
      "\n",
      "\n",
      "Exemple10-Modele-TensorFlow - version = 4\n",
      "\t Training context : TensorFlow GPU\n",
      "\n",
      "\n",
      "Diabetes - version = 7\n",
      "\t Training context : Hyperdrive\n",
      "\t AUC : 0.8569106291712714\n",
      "\t Accuracy : 0.7902222222222223\n",
      "\n",
      "\n",
      "IBM_attrition_explainer - version = 5\n",
      "\n",
      "\n",
      "local_deploy_model - version = 5\n",
      "\n",
      "\n",
      "Exemple4-AutoML-Forecast - version = 3\n",
      "\t Training context : Azure Auto ML\n",
      "\t R2 : 0.36960142200884405\n",
      "\t RMSE : 0.02304059602768627\n",
      "\n",
      "\n",
      "Exemple3-AutoML-Regression - version = 4\n",
      "\t Training context : Azure Auto ML\n",
      "\t R2 : 0.8823064055329451\n",
      "\t RMSE : 0.06954349242467574\n",
      "\n",
      "\n",
      "Exemple2-AutoML-Classif - version = 3\n",
      "\t Training context : Azure Auto ML\n",
      "\t AUC : 0.9995067640229488\n",
      "\t Accuracy : 0.972896061079299\n",
      "\n",
      "\n",
      "Diabetes - version = 6\n",
      "\t Training context : Hyperdrive\n",
      "\t AUC : 0.8569106291712714\n",
      "\t Accuracy : 0.7902222222222223\n",
      "\n",
      "\n",
      "Diabetes - version = 5\n",
      "\t Training context : Hyperdrive\n",
      "\t AUC : 0.8569106291712714\n",
      "\t Accuracy : 0.7902222222222223\n",
      "\n",
      "\n",
      "boston_model.pkl - version = 7\n",
      "\t algo : Regression\n",
      "\t Training context : Azure ML\n",
      "\t Framework : scikit-learn\n",
      "\n",
      "\n",
      "boston_model.pkl - version = 6\n",
      "\t algo : Regression\n",
      "\t Training context : Azure ML\n",
      "\t Framework : scikit-learn\n",
      "\n",
      "\n",
      "boston_model.pkl - version = 5\n",
      "\t algo : Regression\n",
      "\t type : sklearn\n",
      "\n",
      "\n",
      "boston_model.pkl - version = 4\n",
      "\t algo : Regression\n",
      "\t type : sklearn\n",
      "\n",
      "\n",
      "Diabetes - version = 4\n",
      "\t Training context : Hyperdrive\n",
      "\t AUC : 0.8569106291712714\n",
      "\t Accuracy : 0.7902222222222223\n",
      "\n",
      "\n",
      "Diabetes - version = 3\n",
      "\t Training context : Hyperdrive\n",
      "\t AUC : 0.8569106291712714\n",
      "\t Accuracy : 0.7902222222222223\n",
      "\n",
      "\n",
      "Diabetes - version = 2\n",
      "\t Training context : Hyperdrive\n",
      "\t AUC : 0.8569106291712714\n",
      "\t Accuracy : 0.7902222222222223\n",
      "\n",
      "\n",
      "Diabetes - version = 1\n",
      "\t Training context : Hyperdrive\n",
      "\t AUC : 0.8569106291712714\n",
      "\t Accuracy : 0.7902222222222223\n",
      "\n",
      "\n",
      "Exemple10-Modele-TensorFlow - version = 3\n",
      "\t Training context : TensorFlow GPU\n",
      "\n",
      "\n",
      "Exemple10-Modele-TensorFlow - version = 2\n",
      "\t Training context : TensorFlow GPU\n",
      "\n",
      "\n",
      "sklearn_regression_model.pkl - version = 2\n",
      "\t area : diabetes\n",
      "\t type : regression\n",
      "\n",
      "\n",
      "IBM_attrition_explainer - version = 4\n",
      "\n",
      "\n",
      "local_deploy_model - version = 4\n",
      "\n",
      "\n",
      "Exemple10-Modele-TensorFlow - version = 1\n",
      "\t Training context : TensorFlow GPU\n",
      "\n",
      "\n",
      "sklearn_regression_model.pkl - version = 1\n",
      "\t area : diabetes\n",
      "\t type : regression\n",
      "\n",
      "\n",
      "diabetes_model - version = 2\n",
      "\t Training context : Pipeline\n",
      "\n",
      "\n",
      "Exemple4-AutoML-Forecast - version = 2\n",
      "\t Training context : Azure Auto ML\n",
      "\t R2 : 0.2102297702988311\n",
      "\t RMSE : 0.025719636958220327\n",
      "\n",
      "\n",
      "boston_model.pkl - version = 3\n",
      "\t algo : Regression\n",
      "\t type : sklearn\n",
      "\n",
      "\n",
      "Exemple3-AutoML-Regression - version = 3\n",
      "\t Training context : Azure Auto ML\n",
      "\t R2 : 0.8823064055329451\n",
      "\t RMSE : 0.06954349242467574\n",
      "\n",
      "\n",
      "Exemple3-AutoML-Regression - version = 2\n",
      "\t Training context : Azure Auto ML\n",
      "\t R2 : 0.8823064055329451\n",
      "\t RMSE : 0.06954349242467574\n",
      "\n",
      "\n",
      "IBM_attrition_explainer - version = 3\n",
      "\n",
      "\n",
      "local_deploy_model - version = 3\n",
      "\n",
      "\n",
      "Exemple2-AutoML-Classif - version = 2\n",
      "\t Training context : Azure Auto ML\n",
      "\t AUC : 0.9994894633959408\n",
      "\t Accuracy : 0.972896061079299\n",
      "\n",
      "\n",
      "IBM_attrition_explainer - version = 2\n",
      "\n",
      "\n",
      "local_deploy_model - version = 2\n",
      "\n",
      "\n",
      "diabetes_model - version = 1\n",
      "\t Training context : Pipeline\n",
      "\n",
      "\n",
      "IBM_attrition_explainer - version = 1\n",
      "\n",
      "\n",
      "local_deploy_model - version = 1\n",
      "\n",
      "\n",
      "boston_model.pkl - version = 2\n",
      "\t algo : Regression\n",
      "\t type : sklearn\n",
      "\n",
      "\n",
      "boston_model.pkl - version = 1\n",
      "\t algo : Regression\n",
      "\t type : sklearn\n",
      "\n",
      "\n",
      "Exemple4-AutoML-Forecast - version = 1\n",
      "\t Training context : Azure Auto ML\n",
      "\t R2 : 0.2102297702988311\n",
      "\t RMSE : 0.025719636958220327\n",
      "\n",
      "\n",
      "Exemple3-AutoML-Regression - version = 1\n",
      "\t Training context : Azure Auto ML\n",
      "\t R2 : 0.8823064055329451\n",
      "\t RMSE : 0.06954349242467574\n",
      "\n",
      "\n",
      "Exemple2-AutoML-Classif - version = 1\n",
      "\t Training context : Azure Auto ML\n",
      "\t AUC : 0.9992547179382384\n",
      "\t Accuracy : 0.9646507603948424\n",
      "\n",
      "\n"
     ]
    }
   ],
   "source": [
    "# Liste des modèles référencés\n",
    "from azureml.core import Model\n",
    "\n",
    "for model in Model.list(ws):\n",
    "    print(model.name, '- version =', model.version)\n",
    "    for tag_name in model.tags:\n",
    "        tag = model.tags[tag_name]\n",
    "        print ('\\t',tag_name, ':', tag)\n",
    "    for prop_name in model.properties:\n",
    "        prop = model.properties[prop_name]\n",
    "        print ('\\t',prop_name, ':', prop)\n",
    "    print('\\n')"
   ]
  },
  {
   "cell_type": "markdown",
   "metadata": {},
   "source": [
    "## On visualise les métriques par run"
   ]
  },
  {
   "cell_type": "code",
   "execution_count": 28,
   "metadata": {},
   "outputs": [
    {
     "name": "stdout",
     "output_type": "stream",
     "text": [
      "\n",
      "Run ID : 94be6e10-0d72-48e8-a9db-a201ac9ad297\n",
      "- k 0.4\n",
      "- Test Size 0.2\n",
      "- Nobs Training 353\n",
      "- Nobs Test 89\n",
      "- mse 3295.741064355809\n",
      "- R2 0.3572956390661659\n",
      "- Ajustement Régression Ridge aml://artifactId/ExperimentRun/dcid.94be6e10-0d72-48e8-a9db-a201ac9ad297/Ajustement Régression Ridge_1588760633.png\n",
      "\n",
      "Run ID : 40eb3089-1953-4b01-838e-fa20ad7405dc\n",
      "- k 0.3\n",
      "- Test Size 0.2\n",
      "- Nobs Training 353\n",
      "- Nobs Test 89\n",
      "- mse 3302.6736334017255\n",
      "- R2 0.35594371478835374\n",
      "- Ajustement Régression Ridge aml://artifactId/ExperimentRun/dcid.40eb3089-1953-4b01-838e-fa20ad7405dc/Ajustement Régression Ridge_1588760574.png\n",
      "\n",
      "Run ID : 5f96c02b-cecc-4f2f-8ea1-83e8f6e7c40e\n",
      "- k 0.2\n",
      "- Test Size 0.2\n",
      "- Nobs Training 353\n",
      "- Nobs Test 89\n",
      "- mse 3325.2946794678764\n",
      "- R2 0.35153237158155903\n",
      "- Ajustement Régression Ridge aml://artifactId/ExperimentRun/dcid.5f96c02b-cecc-4f2f-8ea1-83e8f6e7c40e/Ajustement Régression Ridge_1588760519.png\n",
      "\n",
      "Run ID : 8e700691-1d67-4f44-95cf-b0f79cfa6c57\n",
      "- k 0.1\n",
      "- Test Size 0.2\n",
      "- Nobs Training 353\n",
      "- Nobs Test 89\n",
      "- mse 3372.649627810032\n",
      "- R2 0.3422976558630022\n",
      "- Ajustement Régression Ridge aml://artifactId/ExperimentRun/dcid.8e700691-1d67-4f44-95cf-b0f79cfa6c57/Ajustement Régression Ridge_1588760455.png\n",
      "\n",
      "Run ID : 67332ab8-cba8-473c-be50-02c59eb252b9\n",
      "\n",
      "Run ID : 41ee1403-1ca0-49a7-b78a-c24838585649\n",
      "\n",
      "Run ID : f4d8cfbb-fab7-46f9-bb07-3455eeb8dac2\n",
      "\n",
      "Run ID : ffe4ec58-163a-47d4-b703-1a40bda87445\n",
      "- k 0.1\n",
      "- Test Size 0.2\n",
      "- Nobs Training 353\n",
      "- Nobs Test 89\n",
      "- mse 3372.649627810032\n",
      "- R2 0.3422976558630022\n",
      "- Ajustement Régression Ridge aml://artifactId/ExperimentRun/dcid.ffe4ec58-163a-47d4-b703-1a40bda87445/Ajustement Régression Ridge_1588757838.png\n",
      "\n",
      "Run ID : ce22fe0d-ae0b-4b64-86ea-4e97bffd806b\n",
      "- k 0.4\n",
      "- Test Size 0.2\n",
      "- Nobs Training 353\n",
      "- Nobs Test 89\n",
      "- mse 3295.741064355809\n",
      "- R2 0.3572956390661659\n",
      "- Ajustement Régression Ridge aml://artifactId/ExperimentRun/dcid.ce22fe0d-ae0b-4b64-86ea-4e97bffd806b/Ajustement Régression Ridge_1588697204.png\n",
      "\n",
      "Run ID : 3511b6cd-5fb3-4114-9573-cdc85f767d23\n",
      "- k 0.3\n",
      "- Test Size 0.2\n",
      "- Nobs Training 353\n",
      "- mse 3302.6736334017255\n",
      "- Nobs Test 89\n",
      "- R2 0.35594371478835374\n",
      "- Ajustement Régression Ridge aml://artifactId/ExperimentRun/dcid.3511b6cd-5fb3-4114-9573-cdc85f767d23/Ajustement Régression Ridge_1588697158.png\n",
      "\n",
      "Run ID : 3e3efcc0-64df-43d1-923c-98507be965f9\n",
      "- k 0.2\n",
      "- Test Size 0.2\n",
      "- Nobs Training 353\n",
      "- Nobs Test 89\n",
      "- mse 3325.2946794678764\n",
      "- R2 0.35153237158155903\n",
      "- Ajustement Régression Ridge aml://artifactId/ExperimentRun/dcid.3e3efcc0-64df-43d1-923c-98507be965f9/Ajustement Régression Ridge_1588697120.png\n",
      "\n",
      "Run ID : cb83a852-3472-4a24-bf13-90d73491f620\n",
      "- k 0.1\n",
      "- Test Size 0.2\n",
      "- Nobs Training 353\n",
      "- Nobs Test 89\n",
      "- mse 3372.649627810032\n",
      "- R2 0.3422976558630022\n",
      "- Ajustement Régression Ridge aml://artifactId/ExperimentRun/dcid.cb83a852-3472-4a24-bf13-90d73491f620/Ajustement Régression Ridge_1588697085.png\n"
     ]
    }
   ],
   "source": [
    "# Liste des métriques par Run\n",
    "from azureml.core import Experiment, Run\n",
    "\n",
    "diabetes_experiment = ws.experiments['Exemple1-IntroAzureML']\n",
    "for logged_run in diabetes_experiment.get_runs():\n",
    "    print()\n",
    "    print('Run ID :', logged_run.id)\n",
    "    metrics = logged_run.get_metrics()\n",
    "    for key in metrics.keys():\n",
    "        print('-', key, metrics.get(key))"
   ]
  },
  {
   "cell_type": "markdown",
   "metadata": {},
   "source": [
    "> Nous pouvons visualiser les résultats sur le portail dans la section **experiments**"
   ]
  },
  {
   "cell_type": "code",
   "execution_count": 29,
   "metadata": {},
   "outputs": [
    {
     "data": {
      "text/html": [
       "<table style=\"width:100%\"><tr><th>Name</th><th>Workspace</th><th>Report Page</th><th>Docs Page</th></tr><tr><td>Exemple1-IntroAzureML</td><td>workshopAML2020</td><td><a href=\"https://ml.azure.com/experiments/Exemple1-IntroAzureML?wsid=/subscriptions/70b8f39e-8863-49f7-b6ba-34a80799550c/resourcegroups/workshopAML2020-rg/workspaces/workshopAML2020\" target=\"_blank\" rel=\"noopener\">Link to Azure Machine Learning studio</a></td><td><a href=\"https://docs.microsoft.com/en-us/python/api/azureml-core/azureml.core.experiment.Experiment?view=azure-ml-py\" target=\"_blank\" rel=\"noopener\">Link to Documentation</a></td></tr></table>"
      ],
      "text/plain": [
       "Experiment(Name: Exemple1-IntroAzureML,\n",
       "Workspace: workshopAML2020)"
      ]
     },
     "execution_count": 29,
     "metadata": {},
     "output_type": "execute_result"
    }
   ],
   "source": [
    "experiment"
   ]
  },
  {
   "cell_type": "markdown",
   "metadata": {},
   "source": [
    "## 3. Utilisation MLFlow\n",
    "\n",
    "<img src=\"https://docs.microsoft.com/en-us/azure/machine-learning/service/media/how-to-use-mlflow/mlflow-diagram-track.png\">"
   ]
  },
  {
   "cell_type": "markdown",
   "metadata": {},
   "source": [
    "Documentation: https://docs.microsoft.com/en-us/azure/machine-learning/service/how-to-use-mlflow"
   ]
  },
  {
   "cell_type": "markdown",
   "metadata": {},
   "source": [
    "> https://mlflow.org/"
   ]
  },
  {
   "cell_type": "code",
   "execution_count": 30,
   "metadata": {},
   "outputs": [],
   "source": [
    "import mlflow\n",
    "import mlflow.sklearn\n",
    "import azureml.core\n",
    "from azureml.core import Workspace\n",
    "import matplotlib.pyplot as plt"
   ]
  },
  {
   "cell_type": "code",
   "execution_count": 31,
   "metadata": {},
   "outputs": [],
   "source": [
    "# A installer si besoin\n",
    "#!pip install azureml-mlflow"
   ]
  },
  {
   "cell_type": "code",
   "execution_count": 32,
   "metadata": {},
   "outputs": [],
   "source": [
    "ws = Workspace.from_config()\n",
    "\n",
    "mlflow.set_tracking_uri(ws.get_mlflow_tracking_uri())\n",
    "\n",
    "experiment_name = \"Exemple1-MLFlow\"\n",
    "mlflow.set_experiment(experiment_name)"
   ]
  },
  {
   "cell_type": "code",
   "execution_count": 33,
   "metadata": {},
   "outputs": [
    {
     "name": "stdout",
     "output_type": "stream",
     "text": [
      "Données : 353 observations d'apprentissage et 89 observations de test.\n",
      "k = 0.4\n",
      "Mean Squared Error = 3295.741064355809\n"
     ]
    },
    {
     "name": "stderr",
     "output_type": "stream",
     "text": [
      "2020/05/06 10:24:39 WARNING mlflow.models: Logging model metadata to the tracking server has failed, possibly due older server version. The model artifacts have been logged successfully under azureml://experiments/Exemple1-MLFlow/runs/a39fd8fe-3228-4ca9-9bbe-5593bfe9280b/artifacts. In addition to exporting model artifacts, MLflow clients 1.7.0 and above attempt to record model metadata to the  tracking store. If logging to a mlflow server via REST, consider  upgrading the server version to MLflow 1.7.0 or above.\n"
     ]
    },
    {
     "data": {
      "image/png": "[encoded data removed]",
      "text/plain": [
       "<Figure size 432x288 with 1 Axes>"
      ]
     },
     "metadata": {
      "needs_background": "light"
     },
     "output_type": "display_data"
    }
   ],
   "source": [
    "import numpy as np\n",
    "from sklearn.datasets import load_diabetes\n",
    "from sklearn.linear_model import Ridge\n",
    "from sklearn.metrics import mean_squared_error\n",
    "from sklearn.model_selection import train_test_split\n",
    "\n",
    "X, y = load_diabetes(return_X_y = True)\n",
    "columns = ['age', 'gender', 'bmi', 'bp', 's1', 's2', 's3', 's4', 's5', 's6']\n",
    "X_train, X_test, y_train, y_test = train_test_split(X, y, test_size=0.2, random_state=0)\n",
    "data = {\n",
    "    \"train\":{\"X\": X_train, \"y\": y_train},        \n",
    "    \"test\":{\"X\": X_test, \"y\": y_test}\n",
    "}\n",
    "\n",
    "print (\"Données :\", len(data['train']['X']), \"observations d'apprentissage et\",len(data['test']['X']), \"observations de test.\")\n",
    "\n",
    "model_save_path = \"model\"\n",
    "\n",
    "k=0.4\n",
    "\n",
    "with mlflow.start_run() as run:\n",
    "    \n",
    "    mlflow.log_metric('k', k)\n",
    "    print('k =', k)\n",
    "    \n",
    "    regression_model = Ridge(alpha=k)\n",
    "    regression_model.fit(data['train']['X'], data['train']['y'])\n",
    "    preds = regression_model.predict(data['test']['X'])\n",
    "\n",
    "    print('Mean Squared Error =', mean_squared_error(data['test']['y'], preds))\n",
    "    mlflow.log_metric('mse', mean_squared_error(data['test']['y'], preds))\n",
    "    \n",
    "    mlflow.sklearn.log_model(regression_model,model_save_path)\n",
    "    \n",
    "    fig = plt.figure(1)\n",
    "    idx = np.argsort(data['test']['y'])\n",
    "    plt.plot(data['test']['y'][idx],preds[idx])\n",
    "    fig.savefig(\"mongraphiqueMLFlow.png\")\n",
    "    mlflow.log_artifact(\"mongraphiqueMLFlow.png\")\n",
    "    "
   ]
  },
  {
   "cell_type": "code",
   "execution_count": 34,
   "metadata": {},
   "outputs": [
    {
     "data": {
      "text/html": [
       "<table style=\"width:100%\"><tr><th>Name</th><th>Workspace</th><th>Report Page</th><th>Docs Page</th></tr><tr><td>Exemple1-MLFlow</td><td>workshopAML2020</td><td><a href=\"https://ml.azure.com/experiments/Exemple1-MLFlow?wsid=/subscriptions/70b8f39e-8863-49f7-b6ba-34a80799550c/resourcegroups/workshopAML2020-rg/workspaces/workshopAML2020\" target=\"_blank\" rel=\"noopener\">Link to Azure Machine Learning studio</a></td><td><a href=\"https://docs.microsoft.com/en-us/python/api/azureml-core/azureml.core.experiment.Experiment?view=azure-ml-py\" target=\"_blank\" rel=\"noopener\">Link to Documentation</a></td></tr></table>"
      ],
      "text/plain": [
       "Experiment(Name: Exemple1-MLFlow,\n",
       "Workspace: workshopAML2020)"
      ]
     },
     "execution_count": 34,
     "metadata": {},
     "output_type": "execute_result"
    }
   ],
   "source": [
    "ws.experiments[experiment_name]"
   ]
  },
  {
   "cell_type": "markdown",
   "metadata": {},
   "source": [
    "## 4. Autres exemples de logging d'informations"
   ]
  },
  {
   "cell_type": "code",
   "execution_count": 35,
   "metadata": {},
   "outputs": [],
   "source": [
    "experiment = Experiment(workspace=ws, name='Exemple1-Logging')"
   ]
  },
  {
   "cell_type": "code",
   "execution_count": 36,
   "metadata": {},
   "outputs": [],
   "source": [
    "from tqdm import tqdm"
   ]
  },
  {
   "cell_type": "code",
   "execution_count": 37,
   "metadata": {},
   "outputs": [],
   "source": [
    "# start logging for the run\n",
    "run = experiment.start_logging()\n",
    "\n",
    "# change the scale factor on different runs to see how you can compare multiple runs\n",
    "scale_factor = 3.14\n",
    "\n",
    "# change the category on different runs to see how to organize data in reports\n",
    "category = 'Pi'"
   ]
  },
  {
   "cell_type": "code",
   "execution_count": 38,
   "metadata": {},
   "outputs": [
    {
     "data": {
      "text/html": [
       "<table style=\"width:100%\"><tr><th>Experiment</th><th>Id</th><th>Type</th><th>Status</th><th>Details Page</th><th>Docs Page</th></tr><tr><td>Exemple1-Logging</td><td>35a2a494-2515-4039-be34-309fd17e7201</td><td></td><td>Running</td><td><a href=\"https://ml.azure.com/experiments/Exemple1-Logging/runs/35a2a494-2515-4039-be34-309fd17e7201?wsid=/subscriptions/70b8f39e-8863-49f7-b6ba-34a80799550c/resourcegroups/workshopAML2020-rg/workspaces/workshopAML2020\" target=\"_blank\" rel=\"noopener\">Link to Azure Machine Learning studio</a></td><td><a href=\"https://docs.microsoft.com/en-us/python/api/azureml-core/azureml.core.run.Run?view=azure-ml-py\" target=\"_blank\" rel=\"noopener\">Link to Documentation</a></td></tr></table>"
      ],
      "text/plain": [
       "Run(Experiment: Exemple1-Logging,\n",
       "Id: 35a2a494-2515-4039-be34-309fd17e7201,\n",
       "Type: None,\n",
       "Status: Running)"
      ]
     },
     "execution_count": 38,
     "metadata": {},
     "output_type": "execute_result"
    }
   ],
   "source": [
    "run"
   ]
  },
  {
   "cell_type": "code",
   "execution_count": 39,
   "metadata": {},
   "outputs": [
    {
     "data": {
      "text/html": [
       "<table style=\"width:100%\"><tr><th>Name</th><th>Workspace</th><th>Report Page</th><th>Docs Page</th></tr><tr><td>Exemple1-Logging</td><td>workshopAML2020</td><td><a href=\"https://ml.azure.com/experiments/Exemple1-Logging?wsid=/subscriptions/70b8f39e-8863-49f7-b6ba-34a80799550c/resourcegroups/workshopAML2020-rg/workspaces/workshopAML2020\" target=\"_blank\" rel=\"noopener\">Link to Azure Machine Learning studio</a></td><td><a href=\"https://docs.microsoft.com/en-us/python/api/azureml-core/azureml.core.experiment.Experiment?view=azure-ml-py\" target=\"_blank\" rel=\"noopener\">Link to Documentation</a></td></tr></table>"
      ],
      "text/plain": [
       "Experiment(Name: Exemple1-Logging,\n",
       "Workspace: workshopAML2020)"
      ]
     },
     "execution_count": 39,
     "metadata": {},
     "output_type": "execute_result"
    }
   ],
   "source": [
    "experiment"
   ]
  },
  {
   "cell_type": "code",
   "execution_count": 40,
   "metadata": {},
   "outputs": [],
   "source": [
    "# log chaine de caractères\n",
    "run.log(name='Category', value=category)"
   ]
  },
  {
   "cell_type": "code",
   "execution_count": 41,
   "metadata": {},
   "outputs": [],
   "source": [
    "# log donneés numériques\n",
    "run.log(name=\"scale factor\", value = scale_factor)\n",
    "run.log(name='Magic Number', value=42 * scale_factor)"
   ]
  },
  {
   "cell_type": "code",
   "execution_count": 42,
   "metadata": {},
   "outputs": [
    {
     "name": "stderr",
     "output_type": "stream",
     "text": [
      "100%|██████████| 20/20 [00:00<00:00, 8841.28it/s]\n"
     ]
    }
   ],
   "source": [
    "fibonacci_values = [0, 1, 1, 2, 3, 5, 8, 13, 21, 34, 55, 89]\n",
    "scaled_values = (i * scale_factor for i in fibonacci_values)\n",
    "\n",
    "# Log a list of values. Note this will generate a single-variable line chart.\n",
    "run.log_list(name='Fibonacci', value=scaled_values)\n",
    "\n",
    "for i in tqdm(range(-10, 10)):\n",
    "    # log a metric value repeatedly, this will generate a single-variable line chart.\n",
    "    run.log(name='Sigmoid', value=1 / (1 + np.exp(-i)))"
   ]
  },
  {
   "cell_type": "code",
   "execution_count": 43,
   "metadata": {},
   "outputs": [
    {
     "name": "stderr",
     "output_type": "stream",
     "text": [
      "100%|██████████| 20/20 [00:00<00:00, 5970.96it/s]\n"
     ]
    }
   ],
   "source": [
    "# create a dictionary to hold a table of values\n",
    "sines = {}\n",
    "sines['angle'] = []\n",
    "sines['sine'] = []\n",
    "\n",
    "for i in tqdm(range(-10, 10)):\n",
    "    angle = i / 2.0 * scale_factor\n",
    "    \n",
    "    # log a 2 (or more) values as a metric repeatedly. This will generate a 2-variable line chart if you have 2 numerical columns.\n",
    "    run.log_row(name='Cosine Wave', angle=angle, cos=np.cos(angle))\n",
    "        \n",
    "    sines['angle'].append(angle)\n",
    "    sines['sine'].append(np.sin(angle))\n",
    "\n",
    "# log a dictionary as a table, this will generate a 2-variable chart if you have 2 numerical columns\n",
    "run.log_table(name='Sine Wave', value=sines)"
   ]
  },
  {
   "cell_type": "code",
   "execution_count": 44,
   "metadata": {},
   "outputs": [
    {
     "data": {
      "image/png": "[encoded data removed]",
      "text/plain": [
       "<Figure size 432x288 with 1 Axes>"
      ]
     },
     "metadata": {
      "needs_background": "light"
     },
     "output_type": "display_data"
    }
   ],
   "source": [
    "%matplotlib inline\n",
    "\n",
    "import matplotlib.pyplot as plt\n",
    "angle = np.linspace(-3, 3, 50) * scale_factor\n",
    "plt.plot(angle,np.tanh(angle), label='tanh')\n",
    "plt.legend(fontsize=12)\n",
    "plt.title('Tangente hyperbolique', fontsize=16)\n",
    "plt.grid(True)\n",
    "\n",
    "run.log_image(name='Tangente hyperbolique', plot=plt)"
   ]
  },
  {
   "cell_type": "code",
   "execution_count": 45,
   "metadata": {},
   "outputs": [
    {
     "data": {
      "text/plain": [
       "<azureml._restclient.models.batch_artifact_content_information_dto.BatchArtifactContentInformationDto at 0x7fc549c85668>"
      ]
     },
     "execution_count": 45,
     "metadata": {},
     "output_type": "execute_result"
    }
   ],
   "source": [
    "file_name = 'outputs/myfile.txt'\n",
    "\n",
    "with open(file_name, \"w\") as f:\n",
    "    f.write('This is an output file that will be uploaded.\\n')\n",
    "\n",
    "# Upload the file explicitly into artifacts \n",
    "run.upload_file(name = file_name, path_or_stream = file_name)"
   ]
  },
  {
   "cell_type": "code",
   "execution_count": 46,
   "metadata": {},
   "outputs": [],
   "source": [
    "run.complete()"
   ]
  },
  {
   "cell_type": "code",
   "execution_count": 47,
   "metadata": {},
   "outputs": [
    {
     "data": {
      "text/html": [
       "<table style=\"width:100%\"><tr><th>Name</th><th>Workspace</th><th>Report Page</th><th>Docs Page</th></tr><tr><td>Exemple1-Logging</td><td>workshopAML2020</td><td><a href=\"https://ml.azure.com/experiments/Exemple1-Logging?wsid=/subscriptions/70b8f39e-8863-49f7-b6ba-34a80799550c/resourcegroups/workshopAML2020-rg/workspaces/workshopAML2020\" target=\"_blank\" rel=\"noopener\">Link to Azure Machine Learning studio</a></td><td><a href=\"https://docs.microsoft.com/en-us/python/api/azureml-core/azureml.core.experiment.Experiment?view=azure-ml-py\" target=\"_blank\" rel=\"noopener\">Link to Documentation</a></td></tr></table>"
      ],
      "text/plain": [
       "Experiment(Name: Exemple1-Logging,\n",
       "Workspace: workshopAML2020)"
      ]
     },
     "execution_count": 47,
     "metadata": {},
     "output_type": "execute_result"
    }
   ],
   "source": [
    "experiment"
   ]
  },
  {
   "cell_type": "code",
   "execution_count": 48,
   "metadata": {},
   "outputs": [
    {
     "name": "stdout",
     "output_type": "stream",
     "text": [
      "Run ID: 35a2a494-2515-4039-be34-309fd17e7201\n",
      "- Tangente hyperbolique aml://artifactId/ExperimentRun/dcid.35a2a494-2515-4039-be34-309fd17e7201/Tangente hyperbolique_1588760745.png\n",
      "- Category Pi\n",
      "- scale factor 3.14\n",
      "- Magic Number 131.88\n",
      "- Fibonacci [0.0, 3.14, 3.14, 6.28, 9.42, 15.700000000000001, 25.12, 40.82, 65.94, 106.76, 172.70000000000002, 279.46000000000004]\n",
      "- Sigmoid [4.5397868702434395e-05, 0.00012339457598623172, 0.0003353501304664781, 0.0009110511944006454, 0.0024726231566347743, 0.0066928509242848554, 0.01798620996209156, 0.04742587317756678, 0.11920292202211755, 0.2689414213699951, 0.5, 0.7310585786300049, 0.8807970779778823, 0.9525741268224334, 0.9820137900379085, 0.9933071490757153, 0.9975273768433653, 0.9990889488055994, 0.9996646498695336, 0.9998766054240137]\n",
      "- Cosine Wave {'angle': [-15.700000000000001, -14.13, -12.56, -10.99, -9.42, -7.8500000000000005, -6.28, -4.71, -3.14, -1.57, 0, 1.57, 3.14, 4.71, 6.28, 7.8500000000000005, 9.42, 10.99, 12.56, 14.13], 'cos': [-0.9999682933493399, 0.0071668797991832804, 0.9999797077049732, -0.005574258696310301, -0.9999885855671581, 0.003981623454078851, 0.9999949269133752, -0.0023889781122815386, -0.9999987317275395, 0.0007963267107332633, 1, 0.0007963267107332633, -0.9999987317275395, -0.0023889781122815386, 0.9999949269133752, 0.003981623454078851, -0.9999885855671581, -0.005574258696310301, 0.9999797077049732, 0.0071668797991832804]}\n",
      "- Sine Wave {'angle': [-15.700000000000001, -14.13, -12.56, -10.99, -9.42, -7.8500000000000005, -6.28, -4.71, -3.14, -1.57, 0, 1.57, 3.14, 4.71, 6.28, 7.8500000000000005, 9.42, 10.99, 12.56, 14.13], 'sine': [-0.007963183785935567, -0.9999743175871789, 0.006370571267652135, 0.9999844636993049, -0.0047779425901285115, -0.9999920733059188, 0.0031853017931379904, 0.999997146387718, -0.0015926529164868282, -0.9999996829318346, 0, 0.9999996829318346, 0.0015926529164868282, -0.999997146387718, -0.0031853017931379904, 0.9999920733059188, 0.0047779425901285115, -0.9999844636993049, -0.006370571267652135, 0.9999743175871789]}\n",
      "Run ID: 2081130d-7be0-490d-b798-c05ee3300402\n",
      "- Tangente hyperbolique aml://artifactId/ExperimentRun/dcid.2081130d-7be0-490d-b798-c05ee3300402/Tangente hyperbolique_1588697324.png\n",
      "- Category Pi\n",
      "- scale factor 3.14\n",
      "- Magic Number 131.88\n",
      "- Fibonacci [0.0, 3.14, 3.14, 6.28, 9.42, 15.700000000000001, 25.12, 40.82, 65.94, 106.76, 172.70000000000002, 279.46000000000004]\n",
      "- Sigmoid [4.5397868702434395e-05, 0.00012339457598623172, 0.0003353501304664781, 0.0009110511944006454, 0.0024726231566347743, 0.0066928509242848554, 0.01798620996209156, 0.04742587317756678, 0.11920292202211755, 0.2689414213699951, 0.5, 0.7310585786300049, 0.8807970779778823, 0.9525741268224334, 0.9820137900379085, 0.9933071490757153, 0.9975273768433653, 0.9990889488055994, 0.9996646498695336, 0.9998766054240137]\n",
      "- Cosine Wave {'angle': [-15.700000000000001, -14.13, -12.56, -10.99, -9.42, -7.8500000000000005, -6.28, -4.71, -3.14, -1.57, 0, 1.57, 3.14, 4.71, 6.28, 7.8500000000000005, 9.42, 10.99, 12.56, 14.13], 'cos': [-0.9999682933493399, 0.0071668797991832804, 0.9999797077049732, -0.005574258696310301, -0.9999885855671581, 0.003981623454078851, 0.9999949269133752, -0.0023889781122815386, -0.9999987317275395, 0.0007963267107332633, 1, 0.0007963267107332633, -0.9999987317275395, -0.0023889781122815386, 0.9999949269133752, 0.003981623454078851, -0.9999885855671581, -0.005574258696310301, 0.9999797077049732, 0.0071668797991832804]}\n",
      "- Sine Wave {'angle': [-15.700000000000001, -14.13, -12.56, -10.99, -9.42, -7.8500000000000005, -6.28, -4.71, -3.14, -1.57, 0, 1.57, 3.14, 4.71, 6.28, 7.8500000000000005, 9.42, 10.99, 12.56, 14.13], 'sine': [-0.007963183785935567, -0.9999743175871789, 0.006370571267652135, 0.9999844636993049, -0.0047779425901285115, -0.9999920733059188, 0.0031853017931379904, 0.999997146387718, -0.0015926529164868282, -0.9999996829318346, 0, 0.9999996829318346, 0.0015926529164868282, -0.999997146387718, -0.0031853017931379904, 0.9999920733059188, 0.0047779425901285115, -0.9999844636993049, -0.006370571267652135, 0.9999743175871789]}\n",
      "Run ID: 2fb2ec2f-144b-457c-97ec-0e15a0c763cf\n",
      "- Tangente hyperbolique aml://artifactId/ExperimentRun/dcid.2fb2ec2f-144b-457c-97ec-0e15a0c763cf/Tangente hyperbolique_1588696771.png\n",
      "- Category Pi\n",
      "- scale factor 3.14\n",
      "- Magic Number 131.88\n",
      "- Fibonacci [0.0, 3.14, 3.14, 6.28, 9.42, 15.700000000000001, 25.12, 40.82, 65.94, 106.76, 172.70000000000002, 279.46000000000004]\n",
      "- Cosine Wave {'angle': [-15.700000000000001, -14.13, -12.56, -10.99, -9.42, -7.8500000000000005, -6.28, -4.71, -3.14, -1.57, 0, 1.57, 3.14, 4.71, 6.28, 7.8500000000000005, 9.42, 10.99, 12.56, 14.13], 'cos': [-0.9999682933493399, 0.0071668797991832804, 0.9999797077049732, -0.005574258696310301, -0.9999885855671581, 0.003981623454078851, 0.9999949269133752, -0.0023889781122815386, -0.9999987317275395, 0.0007963267107332633, 1, 0.0007963267107332633, -0.9999987317275395, -0.0023889781122815386, 0.9999949269133752, 0.003981623454078851, -0.9999885855671581, -0.005574258696310301, 0.9999797077049732, 0.0071668797991832804]}\n",
      "- Sigmoid [4.5397868702434395e-05, 0.00012339457598623172, 0.0003353501304664781, 0.0009110511944006454, 0.0024726231566347743, 0.0066928509242848554, 0.01798620996209156, 0.04742587317756678, 0.11920292202211755, 0.2689414213699951, 0.5, 0.7310585786300049, 0.8807970779778823, 0.9525741268224334, 0.9820137900379085, 0.9933071490757153, 0.9975273768433653, 0.9990889488055994, 0.9996646498695336, 0.9998766054240137]\n",
      "- Sine Wave {'angle': [-15.700000000000001, -14.13, -12.56, -10.99, -9.42, -7.8500000000000005, -6.28, -4.71, -3.14, -1.57, 0, 1.57, 3.14, 4.71, 6.28, 7.8500000000000005, 9.42, 10.99, 12.56, 14.13], 'sine': [-0.007963183785935567, -0.9999743175871789, 0.006370571267652135, 0.9999844636993049, -0.0047779425901285115, -0.9999920733059188, 0.0031853017931379904, 0.999997146387718, -0.0015926529164868282, -0.9999996829318346, 0, 0.9999996829318346, 0.0015926529164868282, -0.999997146387718, -0.0031853017931379904, 0.9999920733059188, 0.0047779425901285115, -0.9999844636993049, -0.006370571267652135, 0.9999743175871789]}\n",
      "Run ID: 55a3e53f-8f1b-42d0-aff5-2d343587292c\n",
      "- Hyperbolic Tangent aml://artifactId/ExperimentRun/dcid.55a3e53f-8f1b-42d0-aff5-2d343587292c/Hyperbolic Tangent_1588597520.png\n",
      "- Category Rouge\n",
      "- scale factor 3\n",
      "- Magic Number 126\n",
      "- Fibonacci [0, 3, 3, 6, 9, 15, 24, 39, 63, 102, 165, 267]\n",
      "- Sigmoid [4.5397868702434395e-05, 0.00012339457598623172, 0.0003353501304664781, 0.0009110511944006454, 0.0024726231566347743, 0.0066928509242848554, 0.01798620996209156, 0.04742587317756678, 0.11920292202211755, 0.2689414213699951, 0.5, 0.7310585786300049, 0.8807970779778823, 0.9525741268224334, 0.9820137900379085, 0.9933071490757153, 0.9975273768433653, 0.9990889488055994, 0.9996646498695336, 0.9998766054240137]\n",
      "- Cosine Wave {'angle': [-15.0, -13.5, -12, -10.5, -9, -7.5, -6, -4.5, -3, -1.5, 0, 1.5, 3, 4.5, 6, 7.5, 9, 10.5, 12, 13.5], 'cos': [-0.7596879128588213, 0.594920663309892, 0.8438539587324921, -0.4755369279959925, -0.9111302618846769, 0.3466353178350258, 0.960170286650366, -0.2107957994307797, -0.9899924966004454, 0.0707372016677029, 1, 0.0707372016677029, -0.9899924966004454, -0.2107957994307797, 0.960170286650366, 0.3466353178350258, -0.9111302618846769, -0.4755369279959925, 0.8438539587324921, 0.594920663309892]}\n",
      "- Sine Wave {'angle': [-15.0, -13.5, -12, -10.5, -9, -7.5, -6, -4.5, -3, -1.5, 0, 1.5, 3, 4.5, 6, 7.5, 9, 10.5, 12, 13.5], 'sine': [-0.6502878401571168, -0.803784426551621, 0.5365729180004349, 0.87969575997167, -0.4121184852417566, -0.9379999767747389, 0.27941549819892586, 0.977530117665097, -0.1411200080598672, -0.9974949866040544, 0, 0.9974949866040544, 0.1411200080598672, -0.977530117665097, -0.27941549819892586, 0.9379999767747389, 0.4121184852417566, -0.87969575997167, -0.5365729180004349, 0.803784426551621]}\n",
      "Run ID: 5cb4fd09-1d31-4db9-92a6-1187217a9a9a\n",
      "- Hyperbolic Tangent aml://artifactId/ExperimentRun/dcid.5cb4fd09-1d31-4db9-92a6-1187217a9a9a/Hyperbolic Tangent_1588247533.png\n",
      "- Category Rouge\n",
      "- scale factor 3\n",
      "- Magic Number 126\n",
      "- Fibonacci [0, 3, 3, 6, 9, 15, 24, 39, 63, 102, 165, 267]\n",
      "- Sigmoid [4.5397868702434395e-05, 0.00012339457598623172, 0.0003353501304664781, 0.0009110511944006454, 0.0024726231566347743, 0.0066928509242848554, 0.01798620996209156, 0.04742587317756678, 0.11920292202211755, 0.2689414213699951, 0.5, 0.7310585786300049, 0.8807970779778823, 0.9525741268224334, 0.9820137900379085, 0.9933071490757153, 0.9975273768433653, 0.9990889488055994, 0.9996646498695336, 0.9998766054240137]\n",
      "- Cosine Wave {'angle': [-15.0, -13.5, -12, -10.5, -9, -7.5, -6, -4.5, -3, -1.5, 0, 1.5, 3, 4.5, 6, 7.5, 9, 10.5, 12, 13.5], 'cos': [-0.7596879128588213, 0.594920663309892, 0.8438539587324921, -0.4755369279959925, -0.9111302618846769, 0.3466353178350258, 0.960170286650366, -0.2107957994307797, -0.9899924966004454, 0.0707372016677029, 1, 0.0707372016677029, -0.9899924966004454, -0.2107957994307797, 0.960170286650366, 0.3466353178350258, -0.9111302618846769, -0.4755369279959925, 0.8438539587324921, 0.594920663309892]}\n",
      "- Sine Wave {'angle': [-15.0, -13.5, -12, -10.5, -9, -7.5, -6, -4.5, -3, -1.5, 0, 1.5, 3, 4.5, 6, 7.5, 9, 10.5, 12, 13.5], 'sine': [-0.6502878401571168, -0.803784426551621, 0.5365729180004349, 0.87969575997167, -0.4121184852417566, -0.9379999767747389, 0.27941549819892586, 0.977530117665097, -0.1411200080598672, -0.9974949866040544, 0, 0.9974949866040544, 0.1411200080598672, -0.977530117665097, -0.27941549819892586, 0.9379999767747389, 0.4121184852417566, -0.87969575997167, -0.5365729180004349, 0.803784426551621]}\n",
      "Run ID: 74faf069-9957-4be0-8549-8ddfa1606e74\n"
     ]
    },
    {
     "name": "stdout",
     "output_type": "stream",
     "text": [
      "- Hyperbolic Tangent aml://artifactId/ExperimentRun/dcid.74faf069-9957-4be0-8549-8ddfa1606e74/Hyperbolic Tangent_1588240422.png\n",
      "- Category Rouge\n",
      "- scale factor 3\n",
      "- Magic Number 126\n",
      "- Fibonacci [0, 3, 3, 6, 9, 15, 24, 39, 63, 102, 165, 267]\n",
      "- Sigmoid [4.5397868702434395e-05, 0.00012339457598623172, 0.0003353501304664781, 0.0009110511944006454, 0.0024726231566347743, 0.0066928509242848554, 0.01798620996209156, 0.04742587317756678, 0.11920292202211755, 0.2689414213699951, 0.5, 0.7310585786300049, 0.8807970779778823, 0.9525741268224334, 0.9820137900379085, 0.9933071490757153, 0.9975273768433653, 0.9990889488055994, 0.9996646498695336, 0.9998766054240137]\n",
      "- Cosine Wave {'angle': [-15.0, -13.5, -12, -10.5, -9, -7.5, -6, -4.5, -3, -1.5, 0, 1.5, 3, 4.5, 6, 7.5, 9, 10.5, 12, 13.5], 'cos': [-0.7596879128588213, 0.594920663309892, 0.8438539587324921, -0.4755369279959925, -0.9111302618846769, 0.3466353178350258, 0.960170286650366, -0.2107957994307797, -0.9899924966004454, 0.0707372016677029, 1, 0.0707372016677029, -0.9899924966004454, -0.2107957994307797, 0.960170286650366, 0.3466353178350258, -0.9111302618846769, -0.4755369279959925, 0.8438539587324921, 0.594920663309892]}\n",
      "- Sine Wave {'angle': [-15.0, -13.5, -12, -10.5, -9, -7.5, -6, -4.5, -3, -1.5, 0, 1.5, 3, 4.5, 6, 7.5, 9, 10.5, 12, 13.5], 'sine': [-0.6502878401571168, -0.803784426551621, 0.5365729180004349, 0.87969575997167, -0.4121184852417566, -0.9379999767747389, 0.27941549819892586, 0.977530117665097, -0.1411200080598672, -0.9974949866040544, 0, 0.9974949866040544, 0.1411200080598672, -0.977530117665097, -0.27941549819892586, 0.9379999767747389, 0.4121184852417566, -0.87969575997167, -0.5365729180004349, 0.803784426551621]}\n",
      "Run ID: b5826513-0a75-4706-ac25-b1d0443fb8d9\n",
      "- Hyperbolic Tangent aml://artifactId/ExperimentRun/dcid.b5826513-0a75-4706-ac25-b1d0443fb8d9/Hyperbolic Tangent_1587549743.png\n",
      "- Category Rouge\n",
      "- scale factor 3\n",
      "- Magic Number 126\n",
      "- Fibonacci [0, 3, 3, 6, 9, 15, 24, 39, 63, 102, 165, 267]\n",
      "- Sigmoid [4.5397868702434395e-05, 0.00012339457598623172, 0.0003353501304664781, 0.0009110511944006454, 0.0024726231566347743, 0.0066928509242848554, 0.01798620996209156, 0.04742587317756678, 0.11920292202211755, 0.2689414213699951, 0.5, 0.7310585786300049, 0.8807970779778823, 0.9525741268224334, 0.9820137900379085, 0.9933071490757153, 0.9975273768433653, 0.9990889488055994, 0.9996646498695336, 0.9998766054240137]\n",
      "- Cosine Wave {'angle': [-15.0, -13.5, -12, -10.5, -9, -7.5, -6, -4.5, -3, -1.5, 0, 1.5, 3, 4.5, 6, 7.5, 9, 10.5, 12, 13.5], 'cos': [-0.7596879128588213, 0.594920663309892, 0.8438539587324921, -0.4755369279959925, -0.9111302618846769, 0.3466353178350258, 0.960170286650366, -0.2107957994307797, -0.9899924966004454, 0.0707372016677029, 1, 0.0707372016677029, -0.9899924966004454, -0.2107957994307797, 0.960170286650366, 0.3466353178350258, -0.9111302618846769, -0.4755369279959925, 0.8438539587324921, 0.594920663309892]}\n",
      "- Sine Wave {'angle': [-15.0, -13.5, -12, -10.5, -9, -7.5, -6, -4.5, -3, -1.5, 0, 1.5, 3, 4.5, 6, 7.5, 9, 10.5, 12, 13.5], 'sine': [-0.6502878401571168, -0.803784426551621, 0.5365729180004349, 0.87969575997167, -0.4121184852417566, -0.9379999767747389, 0.27941549819892586, 0.977530117665097, -0.1411200080598672, -0.9974949866040544, 0, 0.9974949866040544, 0.1411200080598672, -0.977530117665097, -0.27941549819892586, 0.9379999767747389, 0.4121184852417566, -0.87969575997167, -0.5365729180004349, 0.803784426551621]}\n",
      "Run ID: 811295a2-ec40-455f-bc5c-edc312515ca7\n",
      "- Category Rouge\n",
      "- scale factor 3\n",
      "- Magic Number 126\n",
      "- Fibonacci [0, 3, 3, 6, 9, 15, 24, 39, 63, 102, 165, 267, 0, 3, 3, 6, 9, 15, 24, 39, 63, 102, 165, 267, 0, 3, 3, 6, 9, 15, 24, 39, 63, 102, 165, 267]\n",
      "- Sigmoid [4.5397868702434395e-05, 0.00012339457598623172, 0.0003353501304664781, 0.0009110511944006454, 0.0024726231566347743, 0.0066928509242848554, 0.01798620996209156, 0.04742587317756678, 0.11920292202211755, 0.2689414213699951, 0.5, 0.7310585786300049, 0.8807970779778823, 0.9525741268224334, 0.9820137900379085, 0.9933071490757153, 0.9975273768433653, 0.9990889488055994, 0.9996646498695336, 0.9998766054240137]\n",
      "- Cosine Wave {'angle': [-15.0, -13.5, -12, -10.5, -9, -7.5, -6, -4.5, -3, -1.5, 0, 1.5, 3, 4.5, 6, 7.5, 9, 10.5, 12, 13.5], 'cos': [-0.7596879128588213, 0.594920663309892, 0.8438539587324921, -0.4755369279959925, -0.9111302618846769, 0.3466353178350258, 0.960170286650366, -0.2107957994307797, -0.9899924966004454, 0.0707372016677029, 1, 0.0707372016677029, -0.9899924966004454, -0.2107957994307797, 0.960170286650366, 0.3466353178350258, -0.9111302618846769, -0.4755369279959925, 0.8438539587324921, 0.594920663309892]}\n",
      "- Sine Wave {'angle': [-15.0, -13.5, -12, -10.5, -9, -7.5, -6, -4.5, -3, -1.5, 0, 1.5, 3, 4.5, 6, 7.5, 9, 10.5, 12, 13.5], 'sine': [-0.6502878401571168, -0.803784426551621, 0.5365729180004349, 0.87969575997167, -0.4121184852417566, -0.9379999767747389, 0.27941549819892586, 0.977530117665097, -0.1411200080598672, -0.9974949866040544, 0, 0.9974949866040544, 0.1411200080598672, -0.977530117665097, -0.27941549819892586, 0.9379999767747389, 0.4121184852417566, -0.87969575997167, -0.5365729180004349, 0.803784426551621]}\n",
      "- Hyperbolic Tangent aml://artifactId/ExperimentRun/dcid.811295a2-ec40-455f-bc5c-edc312515ca7/Hyperbolic Tangent_1586959992.png\n",
      "Run ID: 6f9d3dd2-9959-4b1f-a465-bbee8a3ae7c2\n",
      "- Category Rouge\n",
      "- scale factor 3\n",
      "- Magic Number 126\n",
      "- Fibonacci [0, 3, 3, 6, 9, 15, 24, 39, 63, 102, 165, 267]\n",
      "- Sigmoid [4.5397868702434395e-05, 0.00012339457598623172, 0.0003353501304664781, 0.0009110511944006454, 0.0024726231566347743, 0.0066928509242848554, 0.01798620996209156, 0.04742587317756678, 0.11920292202211755, 0.2689414213699951, 0.5, 0.7310585786300049, 0.8807970779778823, 0.9525741268224334, 0.9820137900379085, 0.9933071490757153, 0.9975273768433653, 0.9990889488055994, 0.9996646498695336, 0.9998766054240137]\n",
      "- Cosine Wave {'angle': [-15.0, -13.5, -12, -10.5, -9, -7.5, -6, -4.5, -3, -1.5, 0, 1.5, 3, 4.5, 6, 7.5, 9, 10.5, 12, 13.5], 'cos': [-0.7596879128588213, 0.594920663309892, 0.8438539587324921, -0.4755369279959925, -0.9111302618846769, 0.3466353178350258, 0.960170286650366, -0.2107957994307797, -0.9899924966004454, 0.0707372016677029, 1, 0.0707372016677029, -0.9899924966004454, -0.2107957994307797, 0.960170286650366, 0.3466353178350258, -0.9111302618846769, -0.4755369279959925, 0.8438539587324921, 0.594920663309892]}\n",
      "- Sine Wave {'angle': [-15.0, -13.5, -12, -10.5, -9, -7.5, -6, -4.5, -3, -1.5, 0, 1.5, 3, 4.5, 6, 7.5, 9, 10.5, 12, 13.5], 'sine': [-0.6502878401571168, -0.803784426551621, 0.5365729180004349, 0.87969575997167, -0.4121184852417566, -0.9379999767747389, 0.27941549819892586, 0.977530117665097, -0.1411200080598672, -0.9974949866040544, 0, 0.9974949866040544, 0.1411200080598672, -0.977530117665097, -0.27941549819892586, 0.9379999767747389, 0.4121184852417566, -0.87969575997167, -0.5365729180004349, 0.803784426551621]}\n",
      "- Hyperbolic Tangent aml://artifactId/ExperimentRun/dcid.6f9d3dd2-9959-4b1f-a465-bbee8a3ae7c2/Hyperbolic Tangent_1586854594.png\n",
      "Run ID: 269faaf2-ed1e-4c83-b092-423a6b24a8ba\n",
      "Run ID: 6ff4d531-8e5c-4d8f-bc11-d04f24b6ec04\n",
      "Run ID: ce1ab61d-8f26-4adc-915a-cecb52a1d196\n",
      "- Hyperbolic Tangent aml://artifactId/ExperimentRun/dcid.ce1ab61d-8f26-4adc-915a-cecb52a1d196/Hyperbolic Tangent_1585813670.png\n",
      "- Category Rouge\n",
      "- scale factor 3\n",
      "- Magic Number 126\n",
      "- Fibonacci [0, 3, 3, 6, 9, 15, 24, 39, 63, 102, 165, 267]\n",
      "- Sigmoid [4.5397868702434395e-05, 0.00012339457598623172, 0.0003353501304664781, 0.0009110511944006454, 0.0024726231566347743, 0.0066928509242848554, 0.01798620996209156, 0.04742587317756678, 0.11920292202211755, 0.2689414213699951, 0.5, 0.7310585786300049, 0.8807970779778823, 0.9525741268224334, 0.9820137900379085, 0.9933071490757153, 0.9975273768433653, 0.9990889488055994, 0.9996646498695336, 0.9998766054240137]\n",
      "- Cosine Wave {'angle': [-15.0, -13.5, -12, -10.5, -9, -7.5, -6, -4.5, -3, -1.5, 0, 1.5, 3, 4.5, 6, 7.5, 9, 10.5, 12, 13.5], 'cos': [-0.7596879128588213, 0.594920663309892, 0.8438539587324921, -0.4755369279959925, -0.9111302618846769, 0.3466353178350258, 0.960170286650366, -0.2107957994307797, -0.9899924966004454, 0.0707372016677029, 1, 0.0707372016677029, -0.9899924966004454, -0.2107957994307797, 0.960170286650366, 0.3466353178350258, -0.9111302618846769, -0.4755369279959925, 0.8438539587324921, 0.594920663309892]}\n",
      "- Sine Wave {'angle': [-15.0, -13.5, -12, -10.5, -9, -7.5, -6, -4.5, -3, -1.5, 0, 1.5, 3, 4.5, 6, 7.5, 9, 10.5, 12, 13.5], 'sine': [-0.6502878401571168, -0.803784426551621, 0.5365729180004349, 0.87969575997167, -0.4121184852417566, -0.9379999767747389, 0.27941549819892586, 0.977530117665097, -0.1411200080598672, -0.9974949866040544, 0, 0.9974949866040544, 0.1411200080598672, -0.977530117665097, -0.27941549819892586, 0.9379999767747389, 0.4121184852417566, -0.87969575997167, -0.5365729180004349, 0.803784426551621]}\n",
      "Run ID: 5b957bf2-67d7-40b9-9336-df94a60b4ff9\n"
     ]
    },
    {
     "name": "stdout",
     "output_type": "stream",
     "text": [
      "- Hyperbolic Tangent aml://artifactId/ExperimentRun/dcid.5b957bf2-67d7-40b9-9336-df94a60b4ff9/Hyperbolic Tangent_1585571111.png\n",
      "- Category Rouge\n",
      "- scale factor 3\n",
      "- Magic Number 126\n",
      "- Fibonacci [0, 3, 3, 6, 9, 15, 24, 39, 63, 102, 165, 267]\n",
      "- Sigmoid [4.5397868702434395e-05, 0.00012339457598623172, 0.0003353501304664781, 0.0009110511944006454, 0.0024726231566347743, 0.0066928509242848554, 0.01798620996209156, 0.04742587317756678, 0.11920292202211755, 0.2689414213699951, 0.5, 0.7310585786300049, 0.8807970779778823, 0.9525741268224334, 0.9820137900379085, 0.9933071490757153, 0.9975273768433653, 0.9990889488055994, 0.9996646498695336, 0.9998766054240137]\n",
      "- Cosine Wave {'angle': [-15.0, -13.5, -12, -10.5, -9, -7.5, -6, -4.5, -3, -1.5, 0, 1.5, 3, 4.5, 6, 7.5, 9, 10.5, 12, 13.5], 'cos': [-0.7596879128588213, 0.594920663309892, 0.8438539587324921, -0.4755369279959925, -0.9111302618846769, 0.3466353178350258, 0.960170286650366, -0.2107957994307797, -0.9899924966004454, 0.0707372016677029, 1, 0.0707372016677029, -0.9899924966004454, -0.2107957994307797, 0.960170286650366, 0.3466353178350258, -0.9111302618846769, -0.4755369279959925, 0.8438539587324921, 0.594920663309892]}\n",
      "- Sine Wave {'angle': [-15.0, -13.5, -12, -10.5, -9, -7.5, -6, -4.5, -3, -1.5, 0, 1.5, 3, 4.5, 6, 7.5, 9, 10.5, 12, 13.5], 'sine': [-0.6502878401571168, -0.803784426551621, 0.5365729180004349, 0.87969575997167, -0.4121184852417566, -0.9379999767747389, 0.27941549819892586, 0.977530117665097, -0.1411200080598672, -0.9974949866040544, 0, 0.9974949866040544, 0.1411200080598672, -0.977530117665097, -0.27941549819892586, 0.9379999767747389, 0.4121184852417566, -0.87969575997167, -0.5365729180004349, 0.803784426551621]}\n",
      "Run ID: d939f4b2-da66-425f-b479-45e83f32691f\n",
      "- Hyperbolic Tangent aml://artifactId/ExperimentRun/dcid.d939f4b2-da66-425f-b479-45e83f32691f/Hyperbolic Tangent_1585045402.png\n",
      "- Category Rouge\n",
      "- scale factor 3\n",
      "- Magic Number 126\n",
      "- Fibonacci [0, 3, 3, 6, 9, 15, 24, 39, 63, 102, 165, 267]\n",
      "- Sigmoid [4.5397868702434395e-05, 0.00012339457598623172, 0.0003353501304664781, 0.0009110511944006454, 0.0024726231566347743, 0.0066928509242848554, 0.01798620996209156, 0.04742587317756678, 0.11920292202211755, 0.2689414213699951, 0.5, 0.7310585786300049, 0.8807970779778823, 0.9525741268224334, 0.9820137900379085, 0.9933071490757153, 0.9975273768433653, 0.9990889488055994, 0.9996646498695336, 0.9998766054240137]\n",
      "- Cosine Wave {'angle': [-15.0, -13.5, -12, -10.5, -9, -7.5, -6, -4.5, -3, -1.5, 0, 1.5, 3, 4.5, 6, 7.5, 9, 10.5, 12, 13.5], 'cos': [-0.7596879128588213, 0.594920663309892, 0.8438539587324921, -0.4755369279959925, -0.9111302618846769, 0.3466353178350258, 0.960170286650366, -0.2107957994307797, -0.9899924966004454, 0.0707372016677029, 1, 0.0707372016677029, -0.9899924966004454, -0.2107957994307797, 0.960170286650366, 0.3466353178350258, -0.9111302618846769, -0.4755369279959925, 0.8438539587324921, 0.594920663309892]}\n",
      "- Sine Wave {'angle': [-15.0, -13.5, -12, -10.5, -9, -7.5, -6, -4.5, -3, -1.5, 0, 1.5, 3, 4.5, 6, 7.5, 9, 10.5, 12, 13.5], 'sine': [-0.6502878401571168, -0.803784426551621, 0.5365729180004349, 0.87969575997167, -0.4121184852417566, -0.9379999767747389, 0.27941549819892586, 0.977530117665097, -0.1411200080598672, -0.9974949866040544, 0, 0.9974949866040544, 0.1411200080598672, -0.977530117665097, -0.27941549819892586, 0.9379999767747389, 0.4121184852417566, -0.87969575997167, -0.5365729180004349, 0.803784426551621]}\n",
      "Run ID: 63b3b24f-e5b8-47b7-b8e1-bf98258e1dd7\n",
      "- Hyperbolic Tangent aml://artifactId/ExperimentRun/dcid.63b3b24f-e5b8-47b7-b8e1-bf98258e1dd7/Hyperbolic Tangent_1584980359.png\n",
      "- Category Rouge\n",
      "- scale factor 3\n",
      "- Magic Number 126\n",
      "- Fibonacci [0, 3, 3, 6, 9, 15, 24, 39, 63, 102, 165, 267]\n",
      "- Sigmoid [4.5397868702434395e-05, 0.00012339457598623172, 0.0003353501304664781, 0.0009110511944006454, 0.0024726231566347743, 0.0066928509242848554, 0.01798620996209156, 0.04742587317756678, 0.11920292202211755, 0.2689414213699951, 0.5, 0.7310585786300049, 0.8807970779778823, 0.9525741268224334, 0.9820137900379085, 0.9933071490757153, 0.9975273768433653, 0.9990889488055994, 0.9996646498695336, 0.9998766054240137]\n",
      "- Cosine Wave {'angle': [-15.0, -13.5, -12, -10.5, -9, -7.5, -6, -4.5, -3, -1.5, 0, 1.5, 3, 4.5, 6, 7.5, 9, 10.5, 12, 13.5], 'cos': [-0.7596879128588213, 0.594920663309892, 0.8438539587324921, -0.4755369279959925, -0.9111302618846769, 0.3466353178350258, 0.960170286650366, -0.2107957994307797, -0.9899924966004454, 0.0707372016677029, 1, 0.0707372016677029, -0.9899924966004454, -0.2107957994307797, 0.960170286650366, 0.3466353178350258, -0.9111302618846769, -0.4755369279959925, 0.8438539587324921, 0.594920663309892]}\n",
      "- Sine Wave {'angle': [-15.0, -13.5, -12, -10.5, -9, -7.5, -6, -4.5, -3, -1.5, 0, 1.5, 3, 4.5, 6, 7.5, 9, 10.5, 12, 13.5], 'sine': [-0.6502878401571168, -0.803784426551621, 0.5365729180004349, 0.87969575997167, -0.4121184852417566, -0.9379999767747389, 0.27941549819892586, 0.977530117665097, -0.1411200080598672, -0.9974949866040544, 0, 0.9974949866040544, 0.1411200080598672, -0.977530117665097, -0.27941549819892586, 0.9379999767747389, 0.4121184852417566, -0.87969575997167, -0.5365729180004349, 0.803784426551621]}\n",
      "Run ID: 468614ce-5b65-47bc-b194-65ab38b277b2\n",
      "- Category Rouge\n",
      "- scale factor 3\n",
      "- Magic Number 126\n",
      "- Fibonacci [0, 3, 3, 6, 9, 15, 24, 39, 63, 102, 165, 267]\n",
      "- Sigmoid [4.5397868702434395e-05, 0.00012339457598623172, 0.0003353501304664781, 0.0009110511944006454, 0.0024726231566347743, 0.0066928509242848554, 0.01798620996209156, 0.04742587317756678, 0.11920292202211755, 0.2689414213699951, 0.5, 0.7310585786300049, 0.8807970779778823, 0.9525741268224334, 0.9820137900379085, 0.9933071490757153, 0.9975273768433653, 0.9990889488055994, 0.9996646498695336, 0.9998766054240137]\n",
      "- Cosine Wave {'angle': [-15.0, -13.5, -12, -10.5, -9, -7.5, -6, -4.5, -3, -1.5, 0, 1.5, 3, 4.5, 6, 7.5, 9, 10.5, 12, 13.5], 'cos': [-0.7596879128588213, 0.594920663309892, 0.8438539587324921, -0.4755369279959925, -0.9111302618846769, 0.3466353178350258, 0.960170286650366, -0.2107957994307797, -0.9899924966004454, 0.0707372016677029, 1, 0.0707372016677029, -0.9899924966004454, -0.2107957994307797, 0.960170286650366, 0.3466353178350258, -0.9111302618846769, -0.4755369279959925, 0.8438539587324921, 0.594920663309892]}\n",
      "- Sine Wave {'angle': [-15.0, -13.5, -12, -10.5, -9, -7.5, -6, -4.5, -3, -1.5, 0, 1.5, 3, 4.5, 6, 7.5, 9, 10.5, 12, 13.5], 'sine': [-0.6502878401571168, -0.803784426551621, 0.5365729180004349, 0.87969575997167, -0.4121184852417566, -0.9379999767747389, 0.27941549819892586, 0.977530117665097, -0.1411200080598672, -0.9974949866040544, 0, 0.9974949866040544, 0.1411200080598672, -0.977530117665097, -0.27941549819892586, 0.9379999767747389, 0.4121184852417566, -0.87969575997167, -0.5365729180004349, 0.803784426551621]}\n",
      "- Hyperbolic Tangent aml://artifactId/ExperimentRun/dcid.468614ce-5b65-47bc-b194-65ab38b277b2/Hyperbolic Tangent_1584624443.png\n"
     ]
    }
   ],
   "source": [
    "from azureml.core import Experiment, Run\n",
    "\n",
    "diabetes_experiment = ws.experiments['Exemple1-Logging']\n",
    "for logged_run in diabetes_experiment.get_runs():\n",
    "    print('Run ID:', logged_run.id)\n",
    "    metrics = logged_run.get_metrics()\n",
    "    for key in metrics.keys():\n",
    "        print('-', key, metrics.get(key))\n"
   ]
  },
  {
   "cell_type": "markdown",
   "metadata": {},
   "source": [
    "## 5. Azure Open Datasets\n",
    "<img src=\"https://github.com/retkowsky/images/blob/master/opendata.jpg?raw=true\">"
   ]
  },
  {
   "cell_type": "markdown",
   "metadata": {},
   "source": [
    "> https://azure.microsoft.com/fr-fr/services/open-datasets/"
   ]
  },
  {
   "cell_type": "code",
   "execution_count": 49,
   "metadata": {},
   "outputs": [],
   "source": [
    "#!pip install azureml-opendatasets"
   ]
  },
  {
   "cell_type": "code",
   "execution_count": 50,
   "metadata": {},
   "outputs": [],
   "source": [
    "# Dataset jours fériés\n",
    "from azureml.opendatasets import PublicHolidays\n",
    "\n",
    "from datetime import datetime\n",
    "from dateutil import parser\n",
    "from dateutil.relativedelta import relativedelta"
   ]
  },
  {
   "cell_type": "code",
   "execution_count": 51,
   "metadata": {},
   "outputs": [],
   "source": [
    "# Intervalle en mois\n",
    "mois=12"
   ]
  },
  {
   "cell_type": "code",
   "execution_count": 52,
   "metadata": {},
   "outputs": [
    {
     "name": "stdout",
     "output_type": "stream",
     "text": [
      "Date : 06-05-2020\n"
     ]
    }
   ],
   "source": [
    "import time\n",
    "datedujour = time.strftime(\"%d-%m-%Y\")\n",
    "print(\"Date :\", datedujour)"
   ]
  },
  {
   "cell_type": "code",
   "execution_count": 53,
   "metadata": {},
   "outputs": [],
   "source": [
    "fin = datetime.today() + relativedelta(months=mois)\n",
    "debut = datetime.today() - relativedelta(months=mois)"
   ]
  },
  {
   "cell_type": "code",
   "execution_count": 54,
   "metadata": {},
   "outputs": [
    {
     "name": "stdout",
     "output_type": "stream",
     "text": [
      "Début : 2019-05-06 10:25:59.118821\n"
     ]
    }
   ],
   "source": [
    "print(\"Début :\", debut)"
   ]
  },
  {
   "cell_type": "code",
   "execution_count": 55,
   "metadata": {},
   "outputs": [
    {
     "name": "stdout",
     "output_type": "stream",
     "text": [
      "Fin : 2021-05-06 10:25:59.118699\n"
     ]
    }
   ],
   "source": [
    "print(\"Fin :\", fin)"
   ]
  },
  {
   "cell_type": "code",
   "execution_count": 56,
   "metadata": {},
   "outputs": [
    {
     "name": "stdout",
     "output_type": "stream",
     "text": [
      "[Info] read from https://azureopendatastorage.blob.core.windows.net/holidaydatacontainer/Processed/part-00000-tid-6172724522455361733-dc435094-4801-4972-aaa4-07dd4ab32dff-649-c000.snappy.parquet\n"
     ]
    }
   ],
   "source": [
    "hol = PublicHolidays(start_date=debut, end_date=fin)\n",
    "joursferies = hol.to_pandas_dataframe()"
   ]
  },
  {
   "cell_type": "code",
   "execution_count": 57,
   "metadata": {},
   "outputs": [
    {
     "data": {
      "text/plain": [
       "(1099, 6)"
      ]
     },
     "execution_count": 57,
     "metadata": {},
     "output_type": "execute_result"
    }
   ],
   "source": [
    "joursferies.shape"
   ]
  },
  {
   "cell_type": "code",
   "execution_count": 58,
   "metadata": {},
   "outputs": [
    {
     "data": {
      "text/html": [
       "<div>\n",
       "<style scoped>\n",
       "    .dataframe tbody tr th:only-of-type {\n",
       "        vertical-align: middle;\n",
       "    }\n",
       "\n",
       "    .dataframe tbody tr th {\n",
       "        vertical-align: top;\n",
       "    }\n",
       "\n",
       "    .dataframe thead th {\n",
       "        text-align: right;\n",
       "    }\n",
       "</style>\n",
       "<table border=\"1\" class=\"dataframe\">\n",
       "  <thead>\n",
       "    <tr style=\"text-align: right;\">\n",
       "      <th></th>\n",
       "      <th>countryOrRegion</th>\n",
       "      <th>holidayName</th>\n",
       "      <th>normalizeHolidayName</th>\n",
       "      <th>isPaidTimeOff</th>\n",
       "      <th>countryRegionCode</th>\n",
       "      <th>date</th>\n",
       "    </tr>\n",
       "  </thead>\n",
       "  <tbody>\n",
       "    <tr>\n",
       "      <th>25524</th>\n",
       "      <td>Belarus</td>\n",
       "      <td>Радуница</td>\n",
       "      <td>Радуница</td>\n",
       "      <td>None</td>\n",
       "      <td>BY</td>\n",
       "      <td>2019-05-07</td>\n",
       "    </tr>\n",
       "    <tr>\n",
       "      <th>25525</th>\n",
       "      <td>Czech</td>\n",
       "      <td>Den vítězství</td>\n",
       "      <td>Den vítězství</td>\n",
       "      <td>None</td>\n",
       "      <td>CZ</td>\n",
       "      <td>2019-05-08</td>\n",
       "    </tr>\n",
       "    <tr>\n",
       "      <th>25526</th>\n",
       "      <td>France</td>\n",
       "      <td>Armistice 1945</td>\n",
       "      <td>Armistice 1945</td>\n",
       "      <td>None</td>\n",
       "      <td>FR</td>\n",
       "      <td>2019-05-08</td>\n",
       "    </tr>\n",
       "    <tr>\n",
       "      <th>25527</th>\n",
       "      <td>South Africa</td>\n",
       "      <td>National and provincial government elections</td>\n",
       "      <td>National and provincial government elections</td>\n",
       "      <td>None</td>\n",
       "      <td>ZA</td>\n",
       "      <td>2019-05-08</td>\n",
       "    </tr>\n",
       "    <tr>\n",
       "      <th>25528</th>\n",
       "      <td>Belarus</td>\n",
       "      <td>День Победы</td>\n",
       "      <td>День Победы</td>\n",
       "      <td>None</td>\n",
       "      <td>BY</td>\n",
       "      <td>2019-05-09</td>\n",
       "    </tr>\n",
       "    <tr>\n",
       "      <th>25529</th>\n",
       "      <td>Ukraine</td>\n",
       "      <td>День перемоги</td>\n",
       "      <td>День перемоги</td>\n",
       "      <td>None</td>\n",
       "      <td>UA</td>\n",
       "      <td>2019-05-09</td>\n",
       "    </tr>\n",
       "    <tr>\n",
       "      <th>25530</th>\n",
       "      <td>Norway</td>\n",
       "      <td>Søndag</td>\n",
       "      <td>Søndag</td>\n",
       "      <td>None</td>\n",
       "      <td>NO</td>\n",
       "      <td>2019-05-12</td>\n",
       "    </tr>\n",
       "    <tr>\n",
       "      <th>25531</th>\n",
       "      <td>Sweden</td>\n",
       "      <td>Söndag</td>\n",
       "      <td>Söndag</td>\n",
       "      <td>None</td>\n",
       "      <td>SE</td>\n",
       "      <td>2019-05-12</td>\n",
       "    </tr>\n",
       "    <tr>\n",
       "      <th>25532</th>\n",
       "      <td>Denmark</td>\n",
       "      <td>Store bededag</td>\n",
       "      <td>Store bededag</td>\n",
       "      <td>None</td>\n",
       "      <td>DK</td>\n",
       "      <td>2019-05-17</td>\n",
       "    </tr>\n",
       "    <tr>\n",
       "      <th>25533</th>\n",
       "      <td>Norway</td>\n",
       "      <td>Grunnlovsdag</td>\n",
       "      <td>Grunnlovsdag</td>\n",
       "      <td>None</td>\n",
       "      <td>NO</td>\n",
       "      <td>2019-05-17</td>\n",
       "    </tr>\n",
       "    <tr>\n",
       "      <th>25534</th>\n",
       "      <td>Norway</td>\n",
       "      <td>Søndag</td>\n",
       "      <td>Søndag</td>\n",
       "      <td>None</td>\n",
       "      <td>NO</td>\n",
       "      <td>2019-05-19</td>\n",
       "    </tr>\n",
       "    <tr>\n",
       "      <th>25535</th>\n",
       "      <td>Sweden</td>\n",
       "      <td>Söndag</td>\n",
       "      <td>Söndag</td>\n",
       "      <td>None</td>\n",
       "      <td>SE</td>\n",
       "      <td>2019-05-19</td>\n",
       "    </tr>\n",
       "    <tr>\n",
       "      <th>25536</th>\n",
       "      <td>Canada</td>\n",
       "      <td>Victoria Day</td>\n",
       "      <td>Victoria Day</td>\n",
       "      <td>None</td>\n",
       "      <td>CA</td>\n",
       "      <td>2019-05-20</td>\n",
       "    </tr>\n",
       "    <tr>\n",
       "      <th>25537</th>\n",
       "      <td>Argentina</td>\n",
       "      <td>Día de la Revolucion de Mayo [May Revolution Day]</td>\n",
       "      <td>Día de la Revolucion de Mayo [May Revolution Day]</td>\n",
       "      <td>None</td>\n",
       "      <td>AR</td>\n",
       "      <td>2019-05-25</td>\n",
       "    </tr>\n",
       "    <tr>\n",
       "      <th>25538</th>\n",
       "      <td>Norway</td>\n",
       "      <td>Søndag</td>\n",
       "      <td>Søndag</td>\n",
       "      <td>None</td>\n",
       "      <td>NO</td>\n",
       "      <td>2019-05-26</td>\n",
       "    </tr>\n",
       "  </tbody>\n",
       "</table>\n",
       "</div>"
      ],
      "text/plain": [
       "      countryOrRegion                                        holidayName  \\\n",
       "25524         Belarus                                           Радуница   \n",
       "25525           Czech                                      Den vítězství   \n",
       "25526          France                                     Armistice 1945   \n",
       "25527    South Africa       National and provincial government elections   \n",
       "25528         Belarus                                        День Победы   \n",
       "25529         Ukraine                                      День перемоги   \n",
       "25530          Norway                                             Søndag   \n",
       "25531          Sweden                                             Söndag   \n",
       "25532         Denmark                                      Store bededag   \n",
       "25533          Norway                                       Grunnlovsdag   \n",
       "25534          Norway                                             Søndag   \n",
       "25535          Sweden                                             Söndag   \n",
       "25536          Canada                                       Victoria Day   \n",
       "25537       Argentina  Día de la Revolucion de Mayo [May Revolution Day]   \n",
       "25538          Norway                                             Søndag   \n",
       "\n",
       "                                    normalizeHolidayName isPaidTimeOff  \\\n",
       "25524                                           Радуница          None   \n",
       "25525                                      Den vítězství          None   \n",
       "25526                                     Armistice 1945          None   \n",
       "25527       National and provincial government elections          None   \n",
       "25528                                        День Победы          None   \n",
       "25529                                      День перемоги          None   \n",
       "25530                                             Søndag          None   \n",
       "25531                                             Söndag          None   \n",
       "25532                                      Store bededag          None   \n",
       "25533                                       Grunnlovsdag          None   \n",
       "25534                                             Søndag          None   \n",
       "25535                                             Söndag          None   \n",
       "25536                                       Victoria Day          None   \n",
       "25537  Día de la Revolucion de Mayo [May Revolution Day]          None   \n",
       "25538                                             Søndag          None   \n",
       "\n",
       "      countryRegionCode       date  \n",
       "25524                BY 2019-05-07  \n",
       "25525                CZ 2019-05-08  \n",
       "25526                FR 2019-05-08  \n",
       "25527                ZA 2019-05-08  \n",
       "25528                BY 2019-05-09  \n",
       "25529                UA 2019-05-09  \n",
       "25530                NO 2019-05-12  \n",
       "25531                SE 2019-05-12  \n",
       "25532                DK 2019-05-17  \n",
       "25533                NO 2019-05-17  \n",
       "25534                NO 2019-05-19  \n",
       "25535                SE 2019-05-19  \n",
       "25536                CA 2019-05-20  \n",
       "25537                AR 2019-05-25  \n",
       "25538                NO 2019-05-26  "
      ]
     },
     "execution_count": 58,
     "metadata": {},
     "output_type": "execute_result"
    }
   ],
   "source": [
    "joursferies.head(15)"
   ]
  },
  {
   "cell_type": "code",
   "execution_count": 59,
   "metadata": {},
   "outputs": [],
   "source": [
    "# Pour avoir les jours féries en France\n",
    "joursferiesFR=joursferies[joursferies.countryRegionCode == 'FR']"
   ]
  },
  {
   "cell_type": "code",
   "execution_count": 60,
   "metadata": {},
   "outputs": [],
   "source": [
    "# Pour avoir la colonne date en 1ere colonne\n",
    "joursferiesFR = joursferiesFR[ ['date'] + [ col for col in joursferiesFR.columns if col != 'date' ] ]"
   ]
  },
  {
   "cell_type": "code",
   "execution_count": 61,
   "metadata": {},
   "outputs": [
    {
     "name": "stdout",
     "output_type": "stream",
     "text": [
      "Nombre de jours fériés sur la période : 22 jours.\n"
     ]
    }
   ],
   "source": [
    "print(\"Nombre de jours fériés sur la période :\", len(joursferiesFR.index), \"jours.\")"
   ]
  },
  {
   "cell_type": "code",
   "execution_count": 62,
   "metadata": {},
   "outputs": [
    {
     "data": {
      "text/html": [
       "<div>\n",
       "<style scoped>\n",
       "    .dataframe tbody tr th:only-of-type {\n",
       "        vertical-align: middle;\n",
       "    }\n",
       "\n",
       "    .dataframe tbody tr th {\n",
       "        vertical-align: top;\n",
       "    }\n",
       "\n",
       "    .dataframe thead th {\n",
       "        text-align: right;\n",
       "    }\n",
       "</style>\n",
       "<table border=\"1\" class=\"dataframe\">\n",
       "  <thead>\n",
       "    <tr style=\"text-align: right;\">\n",
       "      <th></th>\n",
       "      <th>date</th>\n",
       "      <th>countryOrRegion</th>\n",
       "      <th>holidayName</th>\n",
       "      <th>normalizeHolidayName</th>\n",
       "      <th>isPaidTimeOff</th>\n",
       "      <th>countryRegionCode</th>\n",
       "    </tr>\n",
       "  </thead>\n",
       "  <tbody>\n",
       "    <tr>\n",
       "      <th>25526</th>\n",
       "      <td>2019-05-08</td>\n",
       "      <td>France</td>\n",
       "      <td>Armistice 1945</td>\n",
       "      <td>Armistice 1945</td>\n",
       "      <td>None</td>\n",
       "      <td>FR</td>\n",
       "    </tr>\n",
       "    <tr>\n",
       "      <th>25551</th>\n",
       "      <td>2019-05-30</td>\n",
       "      <td>France</td>\n",
       "      <td>Ascension</td>\n",
       "      <td>Ascension</td>\n",
       "      <td>None</td>\n",
       "      <td>FR</td>\n",
       "    </tr>\n",
       "    <tr>\n",
       "      <th>25577</th>\n",
       "      <td>2019-06-10</td>\n",
       "      <td>France</td>\n",
       "      <td>Lundi de Pentecôte</td>\n",
       "      <td>Lundi de Pentecôte</td>\n",
       "      <td>None</td>\n",
       "      <td>FR</td>\n",
       "    </tr>\n",
       "    <tr>\n",
       "      <th>25621</th>\n",
       "      <td>2019-07-14</td>\n",
       "      <td>France</td>\n",
       "      <td>Fête nationale</td>\n",
       "      <td>Fête nationale</td>\n",
       "      <td>None</td>\n",
       "      <td>FR</td>\n",
       "    </tr>\n",
       "    <tr>\n",
       "      <th>25647</th>\n",
       "      <td>2019-08-15</td>\n",
       "      <td>France</td>\n",
       "      <td>Assomption</td>\n",
       "      <td>Assomption</td>\n",
       "      <td>None</td>\n",
       "      <td>FR</td>\n",
       "    </tr>\n",
       "    <tr>\n",
       "      <th>25716</th>\n",
       "      <td>2019-11-01</td>\n",
       "      <td>France</td>\n",
       "      <td>Toussaint</td>\n",
       "      <td>Toussaint</td>\n",
       "      <td>None</td>\n",
       "      <td>FR</td>\n",
       "    </tr>\n",
       "    <tr>\n",
       "      <th>25736</th>\n",
       "      <td>2019-11-11</td>\n",
       "      <td>France</td>\n",
       "      <td>Armistice 1918</td>\n",
       "      <td>Armistice 1918</td>\n",
       "      <td>None</td>\n",
       "      <td>FR</td>\n",
       "    </tr>\n",
       "    <tr>\n",
       "      <th>25786</th>\n",
       "      <td>2019-12-25</td>\n",
       "      <td>France</td>\n",
       "      <td>Noël</td>\n",
       "      <td>Noël</td>\n",
       "      <td>None</td>\n",
       "      <td>FR</td>\n",
       "    </tr>\n",
       "    <tr>\n",
       "      <th>25851</th>\n",
       "      <td>2020-01-01</td>\n",
       "      <td>France</td>\n",
       "      <td>Jour de l'an</td>\n",
       "      <td>Jour de l'an</td>\n",
       "      <td>None</td>\n",
       "      <td>FR</td>\n",
       "    </tr>\n",
       "    <tr>\n",
       "      <th>25999</th>\n",
       "      <td>2020-04-13</td>\n",
       "      <td>France</td>\n",
       "      <td>Lundi de Pâques</td>\n",
       "      <td>Lundi de Pâques</td>\n",
       "      <td>None</td>\n",
       "      <td>FR</td>\n",
       "    </tr>\n",
       "    <tr>\n",
       "      <th>26041</th>\n",
       "      <td>2020-05-01</td>\n",
       "      <td>France</td>\n",
       "      <td>Fête du Travail</td>\n",
       "      <td>Fête du Travail</td>\n",
       "      <td>None</td>\n",
       "      <td>FR</td>\n",
       "    </tr>\n",
       "    <tr>\n",
       "      <th>26067</th>\n",
       "      <td>2020-05-08</td>\n",
       "      <td>France</td>\n",
       "      <td>Armistice 1945</td>\n",
       "      <td>Armistice 1945</td>\n",
       "      <td>None</td>\n",
       "      <td>FR</td>\n",
       "    </tr>\n",
       "    <tr>\n",
       "      <th>26084</th>\n",
       "      <td>2020-05-21</td>\n",
       "      <td>France</td>\n",
       "      <td>Ascension</td>\n",
       "      <td>Ascension</td>\n",
       "      <td>None</td>\n",
       "      <td>FR</td>\n",
       "    </tr>\n",
       "    <tr>\n",
       "      <th>26113</th>\n",
       "      <td>2020-06-01</td>\n",
       "      <td>France</td>\n",
       "      <td>Lundi de Pentecôte</td>\n",
       "      <td>Lundi de Pentecôte</td>\n",
       "      <td>None</td>\n",
       "      <td>FR</td>\n",
       "    </tr>\n",
       "    <tr>\n",
       "      <th>26166</th>\n",
       "      <td>2020-07-14</td>\n",
       "      <td>France</td>\n",
       "      <td>Fête nationale</td>\n",
       "      <td>Fête nationale</td>\n",
       "      <td>None</td>\n",
       "      <td>FR</td>\n",
       "    </tr>\n",
       "    <tr>\n",
       "      <th>26192</th>\n",
       "      <td>2020-08-15</td>\n",
       "      <td>France</td>\n",
       "      <td>Assomption</td>\n",
       "      <td>Assomption</td>\n",
       "      <td>None</td>\n",
       "      <td>FR</td>\n",
       "    </tr>\n",
       "    <tr>\n",
       "      <th>26261</th>\n",
       "      <td>2020-11-01</td>\n",
       "      <td>France</td>\n",
       "      <td>Toussaint</td>\n",
       "      <td>Toussaint</td>\n",
       "      <td>None</td>\n",
       "      <td>FR</td>\n",
       "    </tr>\n",
       "    <tr>\n",
       "      <th>26277</th>\n",
       "      <td>2020-11-11</td>\n",
       "      <td>France</td>\n",
       "      <td>Armistice 1918</td>\n",
       "      <td>Armistice 1918</td>\n",
       "      <td>None</td>\n",
       "      <td>FR</td>\n",
       "    </tr>\n",
       "    <tr>\n",
       "      <th>26330</th>\n",
       "      <td>2020-12-25</td>\n",
       "      <td>France</td>\n",
       "      <td>Noël</td>\n",
       "      <td>Noël</td>\n",
       "      <td>None</td>\n",
       "      <td>FR</td>\n",
       "    </tr>\n",
       "    <tr>\n",
       "      <th>26403</th>\n",
       "      <td>2021-01-01</td>\n",
       "      <td>France</td>\n",
       "      <td>Jour de l'an</td>\n",
       "      <td>Jour de l'an</td>\n",
       "      <td>None</td>\n",
       "      <td>FR</td>\n",
       "    </tr>\n",
       "    <tr>\n",
       "      <th>26551</th>\n",
       "      <td>2021-04-05</td>\n",
       "      <td>France</td>\n",
       "      <td>Lundi de Pâques</td>\n",
       "      <td>Lundi de Pâques</td>\n",
       "      <td>None</td>\n",
       "      <td>FR</td>\n",
       "    </tr>\n",
       "    <tr>\n",
       "      <th>26595</th>\n",
       "      <td>2021-05-01</td>\n",
       "      <td>France</td>\n",
       "      <td>Fête du Travail</td>\n",
       "      <td>Fête du Travail</td>\n",
       "      <td>None</td>\n",
       "      <td>FR</td>\n",
       "    </tr>\n",
       "  </tbody>\n",
       "</table>\n",
       "</div>"
      ],
      "text/plain": [
       "            date countryOrRegion         holidayName normalizeHolidayName  \\\n",
       "25526 2019-05-08          France      Armistice 1945       Armistice 1945   \n",
       "25551 2019-05-30          France           Ascension            Ascension   \n",
       "25577 2019-06-10          France  Lundi de Pentecôte   Lundi de Pentecôte   \n",
       "25621 2019-07-14          France      Fête nationale       Fête nationale   \n",
       "25647 2019-08-15          France          Assomption           Assomption   \n",
       "25716 2019-11-01          France           Toussaint            Toussaint   \n",
       "25736 2019-11-11          France      Armistice 1918       Armistice 1918   \n",
       "25786 2019-12-25          France                Noël                 Noël   \n",
       "25851 2020-01-01          France        Jour de l'an         Jour de l'an   \n",
       "25999 2020-04-13          France     Lundi de Pâques      Lundi de Pâques   \n",
       "26041 2020-05-01          France     Fête du Travail      Fête du Travail   \n",
       "26067 2020-05-08          France      Armistice 1945       Armistice 1945   \n",
       "26084 2020-05-21          France           Ascension            Ascension   \n",
       "26113 2020-06-01          France  Lundi de Pentecôte   Lundi de Pentecôte   \n",
       "26166 2020-07-14          France      Fête nationale       Fête nationale   \n",
       "26192 2020-08-15          France          Assomption           Assomption   \n",
       "26261 2020-11-01          France           Toussaint            Toussaint   \n",
       "26277 2020-11-11          France      Armistice 1918       Armistice 1918   \n",
       "26330 2020-12-25          France                Noël                 Noël   \n",
       "26403 2021-01-01          France        Jour de l'an         Jour de l'an   \n",
       "26551 2021-04-05          France     Lundi de Pâques      Lundi de Pâques   \n",
       "26595 2021-05-01          France     Fête du Travail      Fête du Travail   \n",
       "\n",
       "      isPaidTimeOff countryRegionCode  \n",
       "25526          None                FR  \n",
       "25551          None                FR  \n",
       "25577          None                FR  \n",
       "25621          None                FR  \n",
       "25647          None                FR  \n",
       "25716          None                FR  \n",
       "25736          None                FR  \n",
       "25786          None                FR  \n",
       "25851          None                FR  \n",
       "25999          None                FR  \n",
       "26041          None                FR  \n",
       "26067          None                FR  \n",
       "26084          None                FR  \n",
       "26113          None                FR  \n",
       "26166          None                FR  \n",
       "26192          None                FR  \n",
       "26261          None                FR  \n",
       "26277          None                FR  \n",
       "26330          None                FR  \n",
       "26403          None                FR  \n",
       "26551          None                FR  \n",
       "26595          None                FR  "
      ]
     },
     "execution_count": 62,
     "metadata": {},
     "output_type": "execute_result"
    }
   ],
   "source": [
    "joursferiesFR"
   ]
  },
  {
   "cell_type": "code",
   "execution_count": 63,
   "metadata": {},
   "outputs": [],
   "source": [
    "# Export fichier CSV\n",
    "joursferiesFR.to_csv(r'exportjoursferies.csv', index = False)"
   ]
  },
  {
   "cell_type": "code",
   "execution_count": 64,
   "metadata": {},
   "outputs": [],
   "source": [
    "# Export fichier EXCEL\n",
    "joursferiesFR.to_excel('exportjoursferies.xlsx')  "
   ]
  },
  {
   "cell_type": "code",
   "execution_count": 65,
   "metadata": {},
   "outputs": [
    {
     "name": "stdout",
     "output_type": "stream",
     "text": [
      "-rwxrwxrwx 1 root root 1170 May  6 10:26 \u001b[0m\u001b[01;32mexportjoursferies.csv\u001b[0m*\r\n",
      "-rwxrwxrwx 1 root root 6281 May  6 10:26 \u001b[01;32mexportjoursferies.xlsx\u001b[0m*\r\n"
     ]
    }
   ],
   "source": [
    "%ls exportjoursferies.* -l"
   ]
  },
  {
   "cell_type": "code",
   "execution_count": 66,
   "metadata": {},
   "outputs": [
    {
     "name": "stdout",
     "output_type": "stream",
     "text": [
      "date,countryOrRegion,holidayName,normalizeHolidayName,isPaidTimeOff,countryRegionCode\n",
      "2019-05-08,France,Armistice 1945,Armistice 1945,,FR\n",
      "2019-05-30,France,Ascension,Ascension,,FR\n",
      "2019-06-10,France,Lundi de Pentecôte,Lundi de Pentecôte,,FR\n",
      "2019-07-14,France,Fête nationale,Fête nationale,,FR\n",
      "2019-08-15,France,Assomption,Assomption,,FR\n",
      "2019-11-01,France,Toussaint,Toussaint,,FR\n",
      "2019-11-11,France,Armistice 1918,Armistice 1918,,FR\n",
      "2019-12-25,France,Noël,Noël,,FR\n",
      "2020-01-01,France,Jour de l'an,Jour de l'an,,FR\n",
      "2020-04-13,France,Lundi de Pâques,Lundi de Pâques,,FR\n",
      "2020-05-01,France,Fête du Travail,Fête du Travail,,FR\n",
      "2020-05-08,France,Armistice 1945,Armistice 1945,,FR\n",
      "2020-05-21,France,Ascension,Ascension,,FR\n",
      "2020-06-01,France,Lundi de Pentecôte,Lundi de Pentecôte,,FR\n",
      "2020-07-14,France,Fête nationale,Fête nationale,,FR\n",
      "2020-08-15,France,Assomption,Assomption,,FR\n",
      "2020-11-01,France,Toussaint,Toussaint,,FR\n",
      "2020-11-11,France,Armistice 1918,Armistice 1918,,FR\n",
      "2020-12-25,France,Noël,Noël,,FR\n",
      "2021-01-01,France,Jour de l'an,Jour de l'an,,FR\n",
      "2021-04-05,France,Lundi de Pâques,Lundi de Pâques,,FR\n",
      "2021-05-01,France,Fête du Travail,Fête du Travail,,FR\n",
      "\n"
     ]
    }
   ],
   "source": [
    "# Visu du fichier csv exporté\n",
    "with open(os.path.join('./exportjoursferies.csv'), 'r') as f:\n",
    "    print(f.read())"
   ]
  },
  {
   "cell_type": "markdown",
   "metadata": {},
   "source": [
    "<img src=\"https://github.com/retkowsky/images/blob/master/Powered-by-MS-Azure-logo-v2.png?raw=true\" height=\"300\" width=\"300\">"
   ]
  }
 ],
 "metadata": {
  "kernelspec": {
   "display_name": "Python 3.6 - AzureML",
   "language": "python",
   "name": "python3-azureml"
  },
  "language_info": {
   "codemirror_mode": {
    "name": "ipython",
    "version": 3
   },
   "file_extension": ".py",
   "mimetype": "text/x-python",
   "name": "python",
   "nbconvert_exporter": "python",
   "pygments_lexer": "ipython3",
   "version": "3.6.9"
  }
 },
 "nbformat": 4,
 "nbformat_minor": 2
}
