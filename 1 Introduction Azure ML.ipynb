{
 "cells": [
  {
   "cell_type": "markdown",
   "metadata": {},
   "source": [
    "# Introduction Azure ML\n",
    "<br>\n",
    "\n",
    "<img src='https://github.com/retkowsky/images/blob/master/AzureMLservicebanniere.png?raw=true'>\n",
    "\n",
    "\n",
    "> Documentation : https://docs.microsoft.com/en-us/azure/machine-learning/"
   ]
  },
  {
   "cell_type": "markdown",
   "metadata": {},
   "source": [
    "## 0. Paramétrage"
   ]
  },
  {
   "cell_type": "code",
   "execution_count": 1,
   "metadata": {},
   "outputs": [
    {
     "data": {
      "text/plain": [
       "'3.6.9 |Anaconda, Inc.| (default, Jul 30 2019, 19:07:31) \\n[GCC 7.3.0]'"
      ]
     },
     "execution_count": 1,
     "metadata": {},
     "output_type": "execute_result"
    }
   ],
   "source": [
    "import sys\n",
    "sys.version"
   ]
  },
  {
   "cell_type": "code",
   "execution_count": 3,
   "metadata": {},
   "outputs": [
    {
     "name": "stdout",
     "output_type": "stream",
     "text": [
      "2020-03-10 14:28:45.423044\n"
     ]
    }
   ],
   "source": [
    "import datetime\n",
    "now = datetime.datetime.now()\n",
    "print(now)"
   ]
  },
  {
   "cell_type": "code",
   "execution_count": 4,
   "metadata": {},
   "outputs": [
    {
     "name": "stdout",
     "output_type": "stream",
     "text": [
      "Version Azure ML service :  1.0.83\n"
     ]
    }
   ],
   "source": [
    "import azureml.core\n",
    "from azureml.core import Experiment, Workspace\n",
    "\n",
    "# Check core SDK version number\n",
    "print(\"Version Azure ML service : \", azureml.core.VERSION)"
   ]
  },
  {
   "cell_type": "code",
   "execution_count": 5,
   "metadata": {},
   "outputs": [
    {
     "name": "stdout",
     "output_type": "stream",
     "text": [
      "Workspace name: AzureMLWorkshop\n",
      "Azure region: westeurope\n",
      "Resource group: AzureMLWorkshopRG\n"
     ]
    }
   ],
   "source": [
    "# Rappel des infos du workspace Azure ML service\n",
    "ws = Workspace.from_config()\n",
    "print('Workspace name: ' + ws.name, \n",
    "      'Azure region: ' + ws.location, \n",
    "      'Resource group: ' + ws.resource_group, sep='\\n')"
   ]
  },
  {
   "cell_type": "code",
   "execution_count": 6,
   "metadata": {},
   "outputs": [
    {
     "name": "stdout",
     "output_type": "stream",
     "text": [
      "Compute Targets:\n",
      "Datastores:\n",
      "\t azureml_globaldatasets : AzureBlob\n",
      "\t workspacefilestore : AzureFile\n",
      "\t workspaceblobstore : AzureBlob\n",
      "Datasets:\n"
     ]
    }
   ],
   "source": [
    "from azureml.core import ComputeTarget, Datastore, Dataset\n",
    "\n",
    "print(\"Compute Targets:\")\n",
    "for compute_name in ws.compute_targets:\n",
    "    compute = ws.compute_targets[compute_name]\n",
    "    print(\"\\t\", compute.name, ':', compute.type)\n",
    "    \n",
    "print(\"Datastores:\")\n",
    "for datastore_name in ws.datastores:\n",
    "    datastore = Datastore.get(ws, datastore_name)\n",
    "    print(\"\\t\", datastore.name, ':', datastore.datastore_type)\n",
    "    \n",
    "print(\"Datasets:\")\n",
    "for dataset_name in list(ws.datasets.keys()):\n",
    "    dataset = Dataset.get_by_name(ws, dataset_name)\n",
    "    print(\"\\t\", dataset.name)\n"
   ]
  },
  {
   "cell_type": "markdown",
   "metadata": {},
   "source": [
    "## 1. Chargement des données"
   ]
  },
  {
   "cell_type": "code",
   "execution_count": 7,
   "metadata": {},
   "outputs": [],
   "source": [
    "from sklearn.datasets import load_diabetes\n",
    "from sklearn.linear_model import Ridge\n",
    "from sklearn.metrics import mean_squared_error\n",
    "from sklearn.model_selection import train_test_split\n",
    "from sklearn.externals import joblib"
   ]
  },
  {
   "cell_type": "code",
   "execution_count": 8,
   "metadata": {},
   "outputs": [],
   "source": [
    "X, y = load_diabetes(return_X_y = True)\n",
    "columns = ['age', 'gender', 'bmi', 'bp', 's1', 's2', 's3', 's4', 's5', 's6']"
   ]
  },
  {
   "cell_type": "code",
   "execution_count": 9,
   "metadata": {},
   "outputs": [],
   "source": [
    "# Partitionnement des données\n",
    "X_train, X_test, y_train, y_test = train_test_split(X, y, test_size=0.2, random_state=0)\n",
    "\n",
    "data = {\n",
    "    \"train\":{\"X\": X_train, \"y\": y_train},        \n",
    "    \"test\":{\"X\": X_test, \"y\": y_test}\n",
    "}"
   ]
  },
  {
   "cell_type": "code",
   "execution_count": 10,
   "metadata": {},
   "outputs": [
    {
     "name": "stdout",
     "output_type": "stream",
     "text": [
      "Training = 353 observations\n"
     ]
    }
   ],
   "source": [
    "print (\"Training =\", len(data['train']['X']), 'observations')"
   ]
  },
  {
   "cell_type": "code",
   "execution_count": 11,
   "metadata": {},
   "outputs": [
    {
     "name": "stdout",
     "output_type": "stream",
     "text": [
      "Test = 89 observations\n"
     ]
    }
   ],
   "source": [
    "print (\"Test =\", len(data['test']['X']), 'observations')"
   ]
  },
  {
   "cell_type": "markdown",
   "metadata": {},
   "source": [
    "## 2. Modélisation"
   ]
  },
  {
   "cell_type": "markdown",
   "metadata": {},
   "source": [
    "Nous allons réaliser un modèle de régression **Ridge**.<br> \n",
    "<img src='https://github.com/retkowsky/images/blob/master/ridge.png?raw=true'>\n",
    "<br>\n",
    "C'est une version régularisée de la régression linéaire.\n",
    "Cela permet d'ajuster les données avec des coefficents de pondération du modèle les plus petits possibles.\n",
    "- Si le paramétre = 0 => nous avons dans ce cas une régression linéaire.\n",
    "- Si le paramétre a une valeur importante, alors les coefficients de pondérations ont des valeurs proches de 0 => on aura dans ce cas une ligne horizontale qui passe par la moyenne des données.\n",
    "\n"
   ]
  },
  {
   "cell_type": "code",
   "execution_count": 12,
   "metadata": {},
   "outputs": [],
   "source": [
    "experiment = Experiment(workspace=ws, name=\"exemple1-IntroductionAML\")"
   ]
  },
  {
   "cell_type": "markdown",
   "metadata": {},
   "source": [
    "Les étapes\n",
    "1. Logs d'informations\n",
    "2. Modélisation\n",
    "3. Logs de résultats de modèles\n",
    "4. Sauvegarde modèle"
   ]
  },
  {
   "cell_type": "code",
   "execution_count": 13,
   "metadata": {},
   "outputs": [],
   "source": [
    "def regridge(alpha):\n",
    "    \n",
    "    from datetime import datetime\n",
    "    maintenant = datetime.now()\n",
    "    print(\"Maintenant : \", maintenant)\n",
    "\n",
    "    # 1. Run\n",
    "    run = experiment.start_logging()\n",
    "    print('Alpha = ', alpha)\n",
    "    \n",
    "    # 2. Logs de valeurs\n",
    "    run.log('alpha', alpha)\n",
    "    run.log('date_log', str(maintenant))\n",
    "\n",
    "    # 3. Modèle ML\n",
    "    regression_model = Ridge(alpha=alpha)\n",
    "    regression_model.fit(data['train']['X'], data['train']['y'])\n",
    "    preds = regression_model.predict(data['test']['X'])\n",
    "\n",
    "    # 4. Log des métriques\n",
    "    print('MSE =', mean_squared_error(data['test']['y'], preds))\n",
    "    run.log('mse', mean_squared_error(data['test']['y'], preds))\n",
    "\n",
    "    # 5. Export modèle\n",
    "    joblib.dump(value=regression_model, filename='modelenotebook1.pkl')\n",
    "\n",
    "    # 6. Ajout de tags au run\n",
    "    run.tag(\"Langage\", \"Python\")\n",
    "    run.tag(\"Version_Python\", \"3.6.9\")\n",
    "    run.tag(\"Version_AMLS\", \"1.0.74\")\n",
    "    run.tag(\"Team\", \"DataScience\")\n",
    "    run.tag(\"Pays\", \"France\") \n",
    "    run.tag(\"Auteur\", \"Serge\") \n",
    "    \n",
    "    # 6. Fin\n",
    "    run.complete()"
   ]
  },
  {
   "cell_type": "markdown",
   "metadata": {},
   "source": [
    "Rappel: Définition MSE\n",
    "<img src=\"https://wikimedia.org/api/rest_v1/media/math/render/svg/e258221518869aa1c6561bb75b99476c4734108e\">"
   ]
  },
  {
   "cell_type": "code",
   "execution_count": 14,
   "metadata": {},
   "outputs": [
    {
     "name": "stdout",
     "output_type": "stream",
     "text": [
      "Maintenant :  2020-03-10 14:29:16.713412\n",
      "Alpha =  0.1\n",
      "MSE = 3372.649627810032\n"
     ]
    }
   ],
   "source": [
    "regridge(0.1)"
   ]
  },
  {
   "cell_type": "code",
   "execution_count": 15,
   "metadata": {},
   "outputs": [
    {
     "name": "stdout",
     "output_type": "stream",
     "text": [
      "Maintenant :  2020-03-10 14:29:34.537001\n",
      "Alpha =  0.2\n",
      "MSE = 3325.2946794678764\n"
     ]
    }
   ],
   "source": [
    "regridge(0.2)"
   ]
  },
  {
   "cell_type": "code",
   "execution_count": 16,
   "metadata": {},
   "outputs": [
    {
     "name": "stdout",
     "output_type": "stream",
     "text": [
      "Maintenant :  2020-03-10 14:29:52.545304\n",
      "Alpha =  0.3\n",
      "MSE = 3302.6736334017255\n"
     ]
    }
   ],
   "source": [
    "regridge(0.3)"
   ]
  },
  {
   "cell_type": "code",
   "execution_count": 17,
   "metadata": {},
   "outputs": [
    {
     "name": "stdout",
     "output_type": "stream",
     "text": [
      "-rwxrwxrwx 1 root root 645 Mar 10 14:30 \u001b[0m\u001b[01;32mmodelenotebook1.pkl\u001b[0m*\r\n"
     ]
    }
   ],
   "source": [
    "# On regarde si on a bien téléchargé le pickle du modèle\n",
    "%ls modelenotebook1.pkl -l"
   ]
  },
  {
   "cell_type": "code",
   "execution_count": 18,
   "metadata": {},
   "outputs": [
    {
     "name": "stdout",
     "output_type": "stream",
     "text": [
      "Run ID = 6291a4ce-da36-492b-98ed-1b42f3dc82c3\n",
      "- date_log 2020-03-10 14:29:52.545304\n",
      "- mse 3302.6736334017255\n",
      "- alpha 0.3\n",
      "Run ID = 506b4467-5e82-4ccf-892c-737e296b0d32\n",
      "- alpha 0.2\n",
      "- mse 3325.2946794678764\n",
      "- date_log 2020-03-10 14:29:34.537001\n",
      "Run ID = e61d8db4-0d93-481d-9b8a-e1b8a2f00065\n",
      "- alpha 0.1\n",
      "- date_log 2020-03-10 14:29:16.713412\n",
      "- mse 3372.649627810032\n"
     ]
    }
   ],
   "source": [
    "# Liste des métriques par Run\n",
    "from azureml.core import Experiment, Run\n",
    "\n",
    "diabetes_experiment = ws.experiments['exemple1-IntroductionAML']\n",
    "for logged_run in diabetes_experiment.get_runs():\n",
    "    print('Run ID =', logged_run.id)\n",
    "    metrics = logged_run.get_metrics()\n",
    "    for key in metrics.keys():\n",
    "        print('-', key, metrics.get(key))"
   ]
  },
  {
   "cell_type": "markdown",
   "metadata": {},
   "source": [
    "> Nous pouvons visualiser les résultats sur le portail dans la section **experiments**"
   ]
  },
  {
   "cell_type": "markdown",
   "metadata": {},
   "source": [
    "## 3. Utilisation MLFlow\n",
    "\n",
    "<img src=\"https://docs.microsoft.com/en-us/azure/machine-learning/service/media/how-to-use-mlflow/mlflow-diagram-track.png\">"
   ]
  },
  {
   "cell_type": "markdown",
   "metadata": {},
   "source": [
    "Documentation: https://docs.microsoft.com/en-us/azure/machine-learning/service/how-to-use-mlflow"
   ]
  },
  {
   "cell_type": "markdown",
   "metadata": {},
   "source": [
    "> https://mlflow.org/"
   ]
  },
  {
   "cell_type": "code",
   "execution_count": 19,
   "metadata": {},
   "outputs": [],
   "source": [
    "import mlflow\n",
    "import mlflow.sklearn\n",
    "import azureml.core\n",
    "from azureml.core import Workspace\n",
    "import matplotlib.pyplot as plt"
   ]
  },
  {
   "cell_type": "code",
   "execution_count": 20,
   "metadata": {},
   "outputs": [],
   "source": [
    "#pip install azureml-mlflow"
   ]
  },
  {
   "cell_type": "code",
   "execution_count": 21,
   "metadata": {},
   "outputs": [
    {
     "name": "stdout",
     "output_type": "stream",
     "text": [
      "INFO: 'Exemple1-MLFlow' does not exist. Creating a new experiment\n"
     ]
    }
   ],
   "source": [
    "ws = Workspace.from_config()\n",
    "\n",
    "mlflow.set_tracking_uri(ws.get_mlflow_tracking_uri())\n",
    "\n",
    "experiment_name = \"Exemple1-MLFlow\"\n",
    "mlflow.set_experiment(experiment_name)"
   ]
  },
  {
   "cell_type": "code",
   "execution_count": 22,
   "metadata": {},
   "outputs": [
    {
     "name": "stdout",
     "output_type": "stream",
     "text": [
      "Data contains 353 training samples and 89 test samples\n",
      "Mean Squared Error is 3295.741064355809\n"
     ]
    },
    {
     "data": {
      "image/png": "[encoded data removed]",
      "text/plain": [
       "<Figure size 432x288 with 1 Axes>"
      ]
     },
     "metadata": {
      "needs_background": "light"
     },
     "output_type": "display_data"
    }
   ],
   "source": [
    "import numpy as np\n",
    "from sklearn.datasets import load_diabetes\n",
    "from sklearn.linear_model import Ridge\n",
    "from sklearn.metrics import mean_squared_error\n",
    "from sklearn.model_selection import train_test_split\n",
    "\n",
    "X, y = load_diabetes(return_X_y = True)\n",
    "columns = ['age', 'gender', 'bmi', 'bp', 's1', 's2', 's3', 's4', 's5', 's6']\n",
    "X_train, X_test, y_train, y_test = train_test_split(X, y, test_size=0.2, random_state=0)\n",
    "data = {\n",
    "    \"train\":{\"X\": X_train, \"y\": y_train},        \n",
    "    \"test\":{\"X\": X_test, \"y\": y_test}\n",
    "}\n",
    "\n",
    "print (\"Data contains\", len(data['train']['X']), \"training samples and\",len(data['test']['X']), \"test samples\")\n",
    "\n",
    "model_save_path = \"model\"\n",
    "\n",
    "with mlflow.start_run() as run:\n",
    "    # Log the algorithm parameter alpha to the run\n",
    "    mlflow.log_metric('alpha', 0.4)\n",
    "    # Create, fit, and test the scikit-learn Ridge regression model\n",
    "    regression_model = Ridge(alpha=0.4)\n",
    "    regression_model.fit(data['train']['X'], data['train']['y'])\n",
    "    preds = regression_model.predict(data['test']['X'])\n",
    "\n",
    "    # Log mean squared error\n",
    "    print('Mean Squared Error is', mean_squared_error(data['test']['y'], preds))\n",
    "    mlflow.log_metric('mse', mean_squared_error(data['test']['y'], preds))\n",
    "    \n",
    "    # Save the model to the outputs directory for capture\n",
    "    mlflow.sklearn.log_model(regression_model,model_save_path)\n",
    "    \n",
    "    # Plot actuals vs predictions and save the plot within the run\n",
    "    fig = plt.figure(1)\n",
    "    idx = np.argsort(data['test']['y'])\n",
    "    plt.plot(data['test']['y'][idx],preds[idx])\n",
    "    fig.savefig(\"actuals_vs_predictions.png\")\n",
    "    mlflow.log_artifact(\"actuals_vs_predictions.png\")\n",
    "    "
   ]
  },
  {
   "cell_type": "code",
   "execution_count": 23,
   "metadata": {},
   "outputs": [
    {
     "data": {
      "text/html": [
       "<table style=\"width:100%\"><tr><th>Name</th><th>Workspace</th><th>Report Page</th><th>Docs Page</th></tr><tr><td>Exemple1-MLFlow</td><td>AzureMLWorkshop</td><td><a href=\"https://ml.azure.com/experiments/Exemple1-MLFlow?wsid=/subscriptions/70b8f39e-8863-49f7-b6ba-34a80799550c/resourcegroups/AzureMLWorkshopRG/workspaces/AzureMLWorkshop\" target=\"_blank\" rel=\"noopener\">Link to Azure Machine Learning studio</a></td><td><a href=\"https://docs.microsoft.com/en-us/python/api/azureml-core/azureml.core.experiment.Experiment?view=azure-ml-py\" target=\"_blank\" rel=\"noopener\">Link to Documentation</a></td></tr></table>"
      ],
      "text/plain": [
       "Experiment(Name: Exemple1-MLFlow,\n",
       "Workspace: AzureMLWorkshop)"
      ]
     },
     "execution_count": 23,
     "metadata": {},
     "output_type": "execute_result"
    }
   ],
   "source": [
    "ws.experiments[experiment_name]"
   ]
  },
  {
   "cell_type": "markdown",
   "metadata": {},
   "source": [
    "## 4. Autres exemples de logging d'informations"
   ]
  },
  {
   "cell_type": "code",
   "execution_count": 24,
   "metadata": {},
   "outputs": [],
   "source": [
    "experiment = Experiment(workspace=ws, name='Exemple1-Logging')"
   ]
  },
  {
   "cell_type": "code",
   "execution_count": 25,
   "metadata": {},
   "outputs": [],
   "source": [
    "from tqdm import tqdm"
   ]
  },
  {
   "cell_type": "code",
   "execution_count": 26,
   "metadata": {},
   "outputs": [],
   "source": [
    "# start logging for the run\n",
    "run = experiment.start_logging()\n",
    "\n",
    "# change the scale factor on different runs to see how you can compare multiple runs\n",
    "scale_factor = 3\n",
    "\n",
    "# change the category on different runs to see how to organize data in reports\n",
    "category = 'Rouge'"
   ]
  },
  {
   "cell_type": "code",
   "execution_count": 27,
   "metadata": {},
   "outputs": [
    {
     "data": {
      "text/html": [
       "<table style=\"width:100%\"><tr><th>Experiment</th><th>Id</th><th>Type</th><th>Status</th><th>Details Page</th><th>Docs Page</th></tr><tr><td>Exemple1-Logging</td><td>b5129b42-4fb6-4a80-ad70-f8b99a271bb0</td><td></td><td>Running</td><td><a href=\"https://ml.azure.com/experiments/Exemple1-Logging/runs/b5129b42-4fb6-4a80-ad70-f8b99a271bb0?wsid=/subscriptions/70b8f39e-8863-49f7-b6ba-34a80799550c/resourcegroups/AzureMLWorkshopRG/workspaces/AzureMLWorkshop\" target=\"_blank\" rel=\"noopener\">Link to Azure Machine Learning studio</a></td><td><a href=\"https://docs.microsoft.com/en-us/python/api/azureml-core/azureml.core.run.Run?view=azure-ml-py\" target=\"_blank\" rel=\"noopener\">Link to Documentation</a></td></tr></table>"
      ],
      "text/plain": [
       "Run(Experiment: Exemple1-Logging,\n",
       "Id: b5129b42-4fb6-4a80-ad70-f8b99a271bb0,\n",
       "Type: None,\n",
       "Status: Running)"
      ]
     },
     "execution_count": 27,
     "metadata": {},
     "output_type": "execute_result"
    }
   ],
   "source": [
    "run"
   ]
  },
  {
   "cell_type": "code",
   "execution_count": 28,
   "metadata": {},
   "outputs": [
    {
     "data": {
      "text/html": [
       "<table style=\"width:100%\"><tr><th>Name</th><th>Workspace</th><th>Report Page</th><th>Docs Page</th></tr><tr><td>Exemple1-Logging</td><td>AzureMLWorkshop</td><td><a href=\"https://ml.azure.com/experiments/Exemple1-Logging?wsid=/subscriptions/70b8f39e-8863-49f7-b6ba-34a80799550c/resourcegroups/AzureMLWorkshopRG/workspaces/AzureMLWorkshop\" target=\"_blank\" rel=\"noopener\">Link to Azure Machine Learning studio</a></td><td><a href=\"https://docs.microsoft.com/en-us/python/api/azureml-core/azureml.core.experiment.Experiment?view=azure-ml-py\" target=\"_blank\" rel=\"noopener\">Link to Documentation</a></td></tr></table>"
      ],
      "text/plain": [
       "Experiment(Name: Exemple1-Logging,\n",
       "Workspace: AzureMLWorkshop)"
      ]
     },
     "execution_count": 28,
     "metadata": {},
     "output_type": "execute_result"
    }
   ],
   "source": [
    "experiment"
   ]
  },
  {
   "cell_type": "code",
   "execution_count": 29,
   "metadata": {},
   "outputs": [],
   "source": [
    "# log chaine de caractères\n",
    "run.log(name='Category', value=category)"
   ]
  },
  {
   "cell_type": "code",
   "execution_count": 30,
   "metadata": {},
   "outputs": [],
   "source": [
    "# log donneés numériques\n",
    "run.log(name=\"scale factor\", value = scale_factor)\n",
    "run.log(name='Magic Number', value=42 * scale_factor)"
   ]
  },
  {
   "cell_type": "code",
   "execution_count": 31,
   "metadata": {},
   "outputs": [
    {
     "name": "stderr",
     "output_type": "stream",
     "text": [
      "100%|██████████| 20/20 [00:00<00:00, 8632.92it/s]\n"
     ]
    }
   ],
   "source": [
    "fibonacci_values = [0, 1, 1, 2, 3, 5, 8, 13, 21, 34, 55, 89]\n",
    "scaled_values = (i * scale_factor for i in fibonacci_values)\n",
    "\n",
    "# Log a list of values. Note this will generate a single-variable line chart.\n",
    "run.log_list(name='Fibonacci', value=scaled_values)\n",
    "\n",
    "for i in tqdm(range(-10, 10)):\n",
    "    # log a metric value repeatedly, this will generate a single-variable line chart.\n",
    "    run.log(name='Sigmoid', value=1 / (1 + np.exp(-i)))"
   ]
  },
  {
   "cell_type": "code",
   "execution_count": 32,
   "metadata": {},
   "outputs": [
    {
     "name": "stderr",
     "output_type": "stream",
     "text": [
      "100%|██████████| 20/20 [00:00<00:00, 5376.97it/s]\n"
     ]
    }
   ],
   "source": [
    "# create a dictionary to hold a table of values\n",
    "sines = {}\n",
    "sines['angle'] = []\n",
    "sines['sine'] = []\n",
    "\n",
    "for i in tqdm(range(-10, 10)):\n",
    "    angle = i / 2.0 * scale_factor\n",
    "    \n",
    "    # log a 2 (or more) values as a metric repeatedly. This will generate a 2-variable line chart if you have 2 numerical columns.\n",
    "    run.log_row(name='Cosine Wave', angle=angle, cos=np.cos(angle))\n",
    "        \n",
    "    sines['angle'].append(angle)\n",
    "    sines['sine'].append(np.sin(angle))\n",
    "\n",
    "# log a dictionary as a table, this will generate a 2-variable chart if you have 2 numerical columns\n",
    "run.log_table(name='Sine Wave', value=sines)"
   ]
  },
  {
   "cell_type": "code",
   "execution_count": 33,
   "metadata": {},
   "outputs": [
    {
     "data": {
      "image/png": "[encoded data removed]",
      "text/plain": [
       "<Figure size 432x288 with 1 Axes>"
      ]
     },
     "metadata": {
      "needs_background": "light"
     },
     "output_type": "display_data"
    }
   ],
   "source": [
    "%matplotlib inline\n",
    "\n",
    "import matplotlib.pyplot as plt\n",
    "angle = np.linspace(-3, 3, 50) * scale_factor\n",
    "plt.plot(angle,np.tanh(angle), label='tanh')\n",
    "plt.legend(fontsize=12)\n",
    "plt.title('Tangente hyperbolique', fontsize=16)\n",
    "plt.grid(True)\n",
    "\n",
    "run.log_image(name='Hyperbolic Tangent', plot=plt)"
   ]
  },
  {
   "cell_type": "code",
   "execution_count": 34,
   "metadata": {},
   "outputs": [
    {
     "data": {
      "text/plain": [
       "<azureml._restclient.models.batch_artifact_content_information_dto.BatchArtifactContentInformationDto at 0x7fcb8775a6a0>"
      ]
     },
     "execution_count": 34,
     "metadata": {},
     "output_type": "execute_result"
    }
   ],
   "source": [
    "file_name = 'outputs/myfile.txt'\n",
    "\n",
    "with open(file_name, \"w\") as f:\n",
    "    f.write('This is an output file that will be uploaded.\\n')\n",
    "\n",
    "# Upload the file explicitly into artifacts \n",
    "run.upload_file(name = file_name, path_or_stream = file_name)"
   ]
  },
  {
   "cell_type": "code",
   "execution_count": 35,
   "metadata": {},
   "outputs": [],
   "source": [
    "run.complete()"
   ]
  },
  {
   "cell_type": "code",
   "execution_count": 36,
   "metadata": {},
   "outputs": [
    {
     "data": {
      "text/html": [
       "<table style=\"width:100%\"><tr><th>Name</th><th>Workspace</th><th>Report Page</th><th>Docs Page</th></tr><tr><td>Exemple1-Logging</td><td>AzureMLWorkshop</td><td><a href=\"https://ml.azure.com/experiments/Exemple1-Logging?wsid=/subscriptions/70b8f39e-8863-49f7-b6ba-34a80799550c/resourcegroups/AzureMLWorkshopRG/workspaces/AzureMLWorkshop\" target=\"_blank\" rel=\"noopener\">Link to Azure Machine Learning studio</a></td><td><a href=\"https://docs.microsoft.com/en-us/python/api/azureml-core/azureml.core.experiment.Experiment?view=azure-ml-py\" target=\"_blank\" rel=\"noopener\">Link to Documentation</a></td></tr></table>"
      ],
      "text/plain": [
       "Experiment(Name: Exemple1-Logging,\n",
       "Workspace: AzureMLWorkshop)"
      ]
     },
     "execution_count": 36,
     "metadata": {},
     "output_type": "execute_result"
    }
   ],
   "source": [
    "experiment"
   ]
  },
  {
   "cell_type": "markdown",
   "metadata": {},
   "source": [
    "## 5. Azure Open Datasets\n",
    "<img src=\"https://github.com/retkowsky/images/blob/master/opendata.jpg?raw=true\">"
   ]
  },
  {
   "cell_type": "markdown",
   "metadata": {},
   "source": [
    "> https://azure.microsoft.com/fr-fr/services/open-datasets/"
   ]
  },
  {
   "cell_type": "code",
   "execution_count": 37,
   "metadata": {},
   "outputs": [],
   "source": [
    "#!pip install azureml-opendatasets"
   ]
  },
  {
   "cell_type": "code",
   "execution_count": 38,
   "metadata": {},
   "outputs": [
    {
     "name": "stderr",
     "output_type": "stream",
     "text": [
      "/anaconda/envs/azureml_py36/lib/python3.6/site-packages/multimethods/__init__.py:106: DeprecationWarning: inspect.getargspec() is deprecated since Python 3.0, use inspect.signature() or inspect.getfullargspec()\n",
      "  dispatcher.typemap.append((self.types, self.condition, function, inspect.getargspec(function)))\n"
     ]
    }
   ],
   "source": [
    "# Dataset jours fériés\n",
    "from azureml.opendatasets import PublicHolidays\n",
    "\n",
    "from datetime import datetime\n",
    "from dateutil import parser\n",
    "from dateutil.relativedelta import relativedelta"
   ]
  },
  {
   "cell_type": "code",
   "execution_count": 39,
   "metadata": {},
   "outputs": [],
   "source": [
    "# Intervalle\n",
    "end_date = datetime.today() + relativedelta(months=24)\n",
    "start_date = datetime.today() - relativedelta(months=24)"
   ]
  },
  {
   "cell_type": "code",
   "execution_count": 40,
   "metadata": {},
   "outputs": [
    {
     "name": "stdout",
     "output_type": "stream",
     "text": [
      "Looking for parquet files...\n",
      "Reading them into Pandas dataframe...\n",
      "Reading Processed/part-00000-tid-4367650426649658458-f960263d-f41a-4841-941a-f0d229577da6-649-c000.snappy.parquet under container holidaydatacontainer\n",
      "Done.\n"
     ]
    }
   ],
   "source": [
    "hol = PublicHolidays(start_date=start_date, end_date=end_date)\n",
    "joursferies = hol.to_pandas_dataframe()"
   ]
  },
  {
   "cell_type": "code",
   "execution_count": 41,
   "metadata": {},
   "outputs": [
    {
     "data": {
      "text/plain": [
       "(2224, 6)"
      ]
     },
     "execution_count": 41,
     "metadata": {},
     "output_type": "execute_result"
    }
   ],
   "source": [
    "joursferies.shape"
   ]
  },
  {
   "cell_type": "code",
   "execution_count": 42,
   "metadata": {},
   "outputs": [
    {
     "data": {
      "text/html": [
       "<div>\n",
       "<style scoped>\n",
       "    .dataframe tbody tr th:only-of-type {\n",
       "        vertical-align: middle;\n",
       "    }\n",
       "\n",
       "    .dataframe tbody tr th {\n",
       "        vertical-align: top;\n",
       "    }\n",
       "\n",
       "    .dataframe thead th {\n",
       "        text-align: right;\n",
       "    }\n",
       "</style>\n",
       "<table border=\"1\" class=\"dataframe\">\n",
       "  <thead>\n",
       "    <tr style=\"text-align: right;\">\n",
       "      <th></th>\n",
       "      <th>countryOrRegion</th>\n",
       "      <th>holidayName</th>\n",
       "      <th>normalizeHolidayName</th>\n",
       "      <th>isPaidTimeOff</th>\n",
       "      <th>countryRegionCode</th>\n",
       "      <th>date</th>\n",
       "    </tr>\n",
       "  </thead>\n",
       "  <tbody>\n",
       "    <tr>\n",
       "      <th>24897</th>\n",
       "      <td>Norway</td>\n",
       "      <td>Søndag</td>\n",
       "      <td>Søndag</td>\n",
       "      <td>None</td>\n",
       "      <td>NO</td>\n",
       "      <td>2018-03-11</td>\n",
       "    </tr>\n",
       "    <tr>\n",
       "      <th>24898</th>\n",
       "      <td>Sweden</td>\n",
       "      <td>Söndag</td>\n",
       "      <td>Söndag</td>\n",
       "      <td>None</td>\n",
       "      <td>SE</td>\n",
       "      <td>2018-03-11</td>\n",
       "    </tr>\n",
       "    <tr>\n",
       "      <th>24899</th>\n",
       "      <td>Hungary</td>\n",
       "      <td>Nemzeti ünnep</td>\n",
       "      <td>Nemzeti ünnep</td>\n",
       "      <td>None</td>\n",
       "      <td>HU</td>\n",
       "      <td>2018-03-15</td>\n",
       "    </tr>\n",
       "    <tr>\n",
       "      <th>24900</th>\n",
       "      <td>Hungary</td>\n",
       "      <td>Nemzeti ünnep utáni pihenőnap</td>\n",
       "      <td>Nemzeti ünnep utáni pihenőnap</td>\n",
       "      <td>None</td>\n",
       "      <td>HU</td>\n",
       "      <td>2018-03-16</td>\n",
       "    </tr>\n",
       "    <tr>\n",
       "      <th>24901</th>\n",
       "      <td>Ireland</td>\n",
       "      <td>St. Patrick's Day</td>\n",
       "      <td>St. Patrick's Day</td>\n",
       "      <td>None</td>\n",
       "      <td>IE</td>\n",
       "      <td>2018-03-17</td>\n",
       "    </tr>\n",
       "  </tbody>\n",
       "</table>\n",
       "</div>"
      ],
      "text/plain": [
       "      countryOrRegion                    holidayName  \\\n",
       "24897          Norway                         Søndag   \n",
       "24898          Sweden                         Söndag   \n",
       "24899         Hungary                  Nemzeti ünnep   \n",
       "24900         Hungary  Nemzeti ünnep utáni pihenőnap   \n",
       "24901         Ireland              St. Patrick's Day   \n",
       "\n",
       "                normalizeHolidayName isPaidTimeOff countryRegionCode  \\\n",
       "24897                         Søndag          None                NO   \n",
       "24898                         Söndag          None                SE   \n",
       "24899                  Nemzeti ünnep          None                HU   \n",
       "24900  Nemzeti ünnep utáni pihenőnap          None                HU   \n",
       "24901              St. Patrick's Day          None                IE   \n",
       "\n",
       "            date  \n",
       "24897 2018-03-11  \n",
       "24898 2018-03-11  \n",
       "24899 2018-03-15  \n",
       "24900 2018-03-16  \n",
       "24901 2018-03-17  "
      ]
     },
     "execution_count": 42,
     "metadata": {},
     "output_type": "execute_result"
    }
   ],
   "source": [
    "joursferies.head()"
   ]
  },
  {
   "cell_type": "code",
   "execution_count": 43,
   "metadata": {},
   "outputs": [],
   "source": [
    "joursferiesFR=joursferies[joursferies.countryRegionCode == 'FR']"
   ]
  },
  {
   "cell_type": "code",
   "execution_count": 44,
   "metadata": {},
   "outputs": [
    {
     "data": {
      "text/html": [
       "<div>\n",
       "<style scoped>\n",
       "    .dataframe tbody tr th:only-of-type {\n",
       "        vertical-align: middle;\n",
       "    }\n",
       "\n",
       "    .dataframe tbody tr th {\n",
       "        vertical-align: top;\n",
       "    }\n",
       "\n",
       "    .dataframe thead th {\n",
       "        text-align: right;\n",
       "    }\n",
       "</style>\n",
       "<table border=\"1\" class=\"dataframe\">\n",
       "  <thead>\n",
       "    <tr style=\"text-align: right;\">\n",
       "      <th></th>\n",
       "      <th>countryOrRegion</th>\n",
       "      <th>holidayName</th>\n",
       "      <th>normalizeHolidayName</th>\n",
       "      <th>isPaidTimeOff</th>\n",
       "      <th>countryRegionCode</th>\n",
       "      <th>date</th>\n",
       "    </tr>\n",
       "  </thead>\n",
       "  <tbody>\n",
       "    <tr>\n",
       "      <th>24967</th>\n",
       "      <td>France</td>\n",
       "      <td>Lundi de Pâques</td>\n",
       "      <td>Lundi de Pâques</td>\n",
       "      <td>None</td>\n",
       "      <td>FR</td>\n",
       "      <td>2018-04-02</td>\n",
       "    </tr>\n",
       "    <tr>\n",
       "      <th>25015</th>\n",
       "      <td>France</td>\n",
       "      <td>Fête du Travail</td>\n",
       "      <td>Fête du Travail</td>\n",
       "      <td>None</td>\n",
       "      <td>FR</td>\n",
       "      <td>2018-05-01</td>\n",
       "    </tr>\n",
       "    <tr>\n",
       "      <th>25044</th>\n",
       "      <td>France</td>\n",
       "      <td>Armistice 1945</td>\n",
       "      <td>Armistice 1945</td>\n",
       "      <td>None</td>\n",
       "      <td>FR</td>\n",
       "      <td>2018-05-08</td>\n",
       "    </tr>\n",
       "    <tr>\n",
       "      <th>25051</th>\n",
       "      <td>France</td>\n",
       "      <td>Ascension</td>\n",
       "      <td>Ascension</td>\n",
       "      <td>None</td>\n",
       "      <td>FR</td>\n",
       "      <td>2018-05-10</td>\n",
       "    </tr>\n",
       "    <tr>\n",
       "      <th>25074</th>\n",
       "      <td>France</td>\n",
       "      <td>Lundi de Pentecôte</td>\n",
       "      <td>Lundi de Pentecôte</td>\n",
       "      <td>None</td>\n",
       "      <td>FR</td>\n",
       "      <td>2018-05-21</td>\n",
       "    </tr>\n",
       "    <tr>\n",
       "      <th>25138</th>\n",
       "      <td>France</td>\n",
       "      <td>Fête nationale</td>\n",
       "      <td>Fête nationale</td>\n",
       "      <td>None</td>\n",
       "      <td>FR</td>\n",
       "      <td>2018-07-14</td>\n",
       "    </tr>\n",
       "    <tr>\n",
       "      <th>25164</th>\n",
       "      <td>France</td>\n",
       "      <td>Assomption</td>\n",
       "      <td>Assomption</td>\n",
       "      <td>None</td>\n",
       "      <td>FR</td>\n",
       "      <td>2018-08-15</td>\n",
       "    </tr>\n",
       "    <tr>\n",
       "      <th>25234</th>\n",
       "      <td>France</td>\n",
       "      <td>Toussaint</td>\n",
       "      <td>Toussaint</td>\n",
       "      <td>None</td>\n",
       "      <td>FR</td>\n",
       "      <td>2018-11-01</td>\n",
       "    </tr>\n",
       "    <tr>\n",
       "      <th>25251</th>\n",
       "      <td>France</td>\n",
       "      <td>Armistice 1918</td>\n",
       "      <td>Armistice 1918</td>\n",
       "      <td>None</td>\n",
       "      <td>FR</td>\n",
       "      <td>2018-11-11</td>\n",
       "    </tr>\n",
       "    <tr>\n",
       "      <th>25309</th>\n",
       "      <td>France</td>\n",
       "      <td>Noël</td>\n",
       "      <td>Noël</td>\n",
       "      <td>None</td>\n",
       "      <td>FR</td>\n",
       "      <td>2018-12-25</td>\n",
       "    </tr>\n",
       "    <tr>\n",
       "      <th>25374</th>\n",
       "      <td>France</td>\n",
       "      <td>Jour de l'an</td>\n",
       "      <td>Jour de l'an</td>\n",
       "      <td>None</td>\n",
       "      <td>FR</td>\n",
       "      <td>2019-01-01</td>\n",
       "    </tr>\n",
       "    <tr>\n",
       "      <th>25522</th>\n",
       "      <td>France</td>\n",
       "      <td>Lundi de Pâques</td>\n",
       "      <td>Lundi de Pâques</td>\n",
       "      <td>None</td>\n",
       "      <td>FR</td>\n",
       "      <td>2019-04-22</td>\n",
       "    </tr>\n",
       "    <tr>\n",
       "      <th>25560</th>\n",
       "      <td>France</td>\n",
       "      <td>Fête du Travail</td>\n",
       "      <td>Fête du Travail</td>\n",
       "      <td>None</td>\n",
       "      <td>FR</td>\n",
       "      <td>2019-05-01</td>\n",
       "    </tr>\n",
       "    <tr>\n",
       "      <th>25593</th>\n",
       "      <td>France</td>\n",
       "      <td>Armistice 1945</td>\n",
       "      <td>Armistice 1945</td>\n",
       "      <td>None</td>\n",
       "      <td>FR</td>\n",
       "      <td>2019-05-08</td>\n",
       "    </tr>\n",
       "    <tr>\n",
       "      <th>25618</th>\n",
       "      <td>France</td>\n",
       "      <td>Ascension</td>\n",
       "      <td>Ascension</td>\n",
       "      <td>None</td>\n",
       "      <td>FR</td>\n",
       "      <td>2019-05-30</td>\n",
       "    </tr>\n",
       "    <tr>\n",
       "      <th>25644</th>\n",
       "      <td>France</td>\n",
       "      <td>Lundi de Pentecôte</td>\n",
       "      <td>Lundi de Pentecôte</td>\n",
       "      <td>None</td>\n",
       "      <td>FR</td>\n",
       "      <td>2019-06-10</td>\n",
       "    </tr>\n",
       "    <tr>\n",
       "      <th>25688</th>\n",
       "      <td>France</td>\n",
       "      <td>Fête nationale</td>\n",
       "      <td>Fête nationale</td>\n",
       "      <td>None</td>\n",
       "      <td>FR</td>\n",
       "      <td>2019-07-14</td>\n",
       "    </tr>\n",
       "    <tr>\n",
       "      <th>25714</th>\n",
       "      <td>France</td>\n",
       "      <td>Assomption</td>\n",
       "      <td>Assomption</td>\n",
       "      <td>None</td>\n",
       "      <td>FR</td>\n",
       "      <td>2019-08-15</td>\n",
       "    </tr>\n",
       "    <tr>\n",
       "      <th>25783</th>\n",
       "      <td>France</td>\n",
       "      <td>Toussaint</td>\n",
       "      <td>Toussaint</td>\n",
       "      <td>None</td>\n",
       "      <td>FR</td>\n",
       "      <td>2019-11-01</td>\n",
       "    </tr>\n",
       "    <tr>\n",
       "      <th>25803</th>\n",
       "      <td>France</td>\n",
       "      <td>Armistice 1918</td>\n",
       "      <td>Armistice 1918</td>\n",
       "      <td>None</td>\n",
       "      <td>FR</td>\n",
       "      <td>2019-11-11</td>\n",
       "    </tr>\n",
       "    <tr>\n",
       "      <th>25852</th>\n",
       "      <td>France</td>\n",
       "      <td>Noël</td>\n",
       "      <td>Noël</td>\n",
       "      <td>None</td>\n",
       "      <td>FR</td>\n",
       "      <td>2019-12-25</td>\n",
       "    </tr>\n",
       "    <tr>\n",
       "      <th>25917</th>\n",
       "      <td>France</td>\n",
       "      <td>Jour de l'an</td>\n",
       "      <td>Jour de l'an</td>\n",
       "      <td>None</td>\n",
       "      <td>FR</td>\n",
       "      <td>2020-01-01</td>\n",
       "    </tr>\n",
       "    <tr>\n",
       "      <th>26064</th>\n",
       "      <td>France</td>\n",
       "      <td>Lundi de Pâques</td>\n",
       "      <td>Lundi de Pâques</td>\n",
       "      <td>None</td>\n",
       "      <td>FR</td>\n",
       "      <td>2020-04-13</td>\n",
       "    </tr>\n",
       "    <tr>\n",
       "      <th>26106</th>\n",
       "      <td>France</td>\n",
       "      <td>Fête du Travail</td>\n",
       "      <td>Fête du Travail</td>\n",
       "      <td>None</td>\n",
       "      <td>FR</td>\n",
       "      <td>2020-05-01</td>\n",
       "    </tr>\n",
       "    <tr>\n",
       "      <th>26133</th>\n",
       "      <td>France</td>\n",
       "      <td>Armistice 1945</td>\n",
       "      <td>Armistice 1945</td>\n",
       "      <td>None</td>\n",
       "      <td>FR</td>\n",
       "      <td>2020-05-08</td>\n",
       "    </tr>\n",
       "    <tr>\n",
       "      <th>26150</th>\n",
       "      <td>France</td>\n",
       "      <td>Ascension</td>\n",
       "      <td>Ascension</td>\n",
       "      <td>None</td>\n",
       "      <td>FR</td>\n",
       "      <td>2020-05-21</td>\n",
       "    </tr>\n",
       "    <tr>\n",
       "      <th>26179</th>\n",
       "      <td>France</td>\n",
       "      <td>Lundi de Pentecôte</td>\n",
       "      <td>Lundi de Pentecôte</td>\n",
       "      <td>None</td>\n",
       "      <td>FR</td>\n",
       "      <td>2020-06-01</td>\n",
       "    </tr>\n",
       "    <tr>\n",
       "      <th>26233</th>\n",
       "      <td>France</td>\n",
       "      <td>Fête nationale</td>\n",
       "      <td>Fête nationale</td>\n",
       "      <td>None</td>\n",
       "      <td>FR</td>\n",
       "      <td>2020-07-14</td>\n",
       "    </tr>\n",
       "    <tr>\n",
       "      <th>26259</th>\n",
       "      <td>France</td>\n",
       "      <td>Assomption</td>\n",
       "      <td>Assomption</td>\n",
       "      <td>None</td>\n",
       "      <td>FR</td>\n",
       "      <td>2020-08-15</td>\n",
       "    </tr>\n",
       "    <tr>\n",
       "      <th>26328</th>\n",
       "      <td>France</td>\n",
       "      <td>Toussaint</td>\n",
       "      <td>Toussaint</td>\n",
       "      <td>None</td>\n",
       "      <td>FR</td>\n",
       "      <td>2020-11-01</td>\n",
       "    </tr>\n",
       "    <tr>\n",
       "      <th>26344</th>\n",
       "      <td>France</td>\n",
       "      <td>Armistice 1918</td>\n",
       "      <td>Armistice 1918</td>\n",
       "      <td>None</td>\n",
       "      <td>FR</td>\n",
       "      <td>2020-11-11</td>\n",
       "    </tr>\n",
       "    <tr>\n",
       "      <th>26395</th>\n",
       "      <td>France</td>\n",
       "      <td>Noël</td>\n",
       "      <td>Noël</td>\n",
       "      <td>None</td>\n",
       "      <td>FR</td>\n",
       "      <td>2020-12-25</td>\n",
       "    </tr>\n",
       "    <tr>\n",
       "      <th>26468</th>\n",
       "      <td>France</td>\n",
       "      <td>Jour de l'an</td>\n",
       "      <td>Jour de l'an</td>\n",
       "      <td>None</td>\n",
       "      <td>FR</td>\n",
       "      <td>2021-01-01</td>\n",
       "    </tr>\n",
       "    <tr>\n",
       "      <th>26615</th>\n",
       "      <td>France</td>\n",
       "      <td>Lundi de Pâques</td>\n",
       "      <td>Lundi de Pâques</td>\n",
       "      <td>None</td>\n",
       "      <td>FR</td>\n",
       "      <td>2021-04-05</td>\n",
       "    </tr>\n",
       "    <tr>\n",
       "      <th>26659</th>\n",
       "      <td>France</td>\n",
       "      <td>Fête du Travail</td>\n",
       "      <td>Fête du Travail</td>\n",
       "      <td>None</td>\n",
       "      <td>FR</td>\n",
       "      <td>2021-05-01</td>\n",
       "    </tr>\n",
       "    <tr>\n",
       "      <th>26689</th>\n",
       "      <td>France</td>\n",
       "      <td>Armistice 1945</td>\n",
       "      <td>Armistice 1945</td>\n",
       "      <td>None</td>\n",
       "      <td>FR</td>\n",
       "      <td>2021-05-08</td>\n",
       "    </tr>\n",
       "    <tr>\n",
       "      <th>26699</th>\n",
       "      <td>France</td>\n",
       "      <td>Ascension</td>\n",
       "      <td>Ascension</td>\n",
       "      <td>None</td>\n",
       "      <td>FR</td>\n",
       "      <td>2021-05-13</td>\n",
       "    </tr>\n",
       "    <tr>\n",
       "      <th>26722</th>\n",
       "      <td>France</td>\n",
       "      <td>Lundi de Pentecôte</td>\n",
       "      <td>Lundi de Pentecôte</td>\n",
       "      <td>None</td>\n",
       "      <td>FR</td>\n",
       "      <td>2021-05-24</td>\n",
       "    </tr>\n",
       "    <tr>\n",
       "      <th>26785</th>\n",
       "      <td>France</td>\n",
       "      <td>Fête nationale</td>\n",
       "      <td>Fête nationale</td>\n",
       "      <td>None</td>\n",
       "      <td>FR</td>\n",
       "      <td>2021-07-14</td>\n",
       "    </tr>\n",
       "    <tr>\n",
       "      <th>26809</th>\n",
       "      <td>France</td>\n",
       "      <td>Assomption</td>\n",
       "      <td>Assomption</td>\n",
       "      <td>None</td>\n",
       "      <td>FR</td>\n",
       "      <td>2021-08-15</td>\n",
       "    </tr>\n",
       "    <tr>\n",
       "      <th>26879</th>\n",
       "      <td>France</td>\n",
       "      <td>Toussaint</td>\n",
       "      <td>Toussaint</td>\n",
       "      <td>None</td>\n",
       "      <td>FR</td>\n",
       "      <td>2021-11-01</td>\n",
       "    </tr>\n",
       "    <tr>\n",
       "      <th>26894</th>\n",
       "      <td>France</td>\n",
       "      <td>Armistice 1918</td>\n",
       "      <td>Armistice 1918</td>\n",
       "      <td>None</td>\n",
       "      <td>FR</td>\n",
       "      <td>2021-11-11</td>\n",
       "    </tr>\n",
       "    <tr>\n",
       "      <th>26948</th>\n",
       "      <td>France</td>\n",
       "      <td>Noël</td>\n",
       "      <td>Noël</td>\n",
       "      <td>None</td>\n",
       "      <td>FR</td>\n",
       "      <td>2021-12-25</td>\n",
       "    </tr>\n",
       "    <tr>\n",
       "      <th>27031</th>\n",
       "      <td>France</td>\n",
       "      <td>Jour de l'an</td>\n",
       "      <td>Jour de l'an</td>\n",
       "      <td>None</td>\n",
       "      <td>FR</td>\n",
       "      <td>2022-01-01</td>\n",
       "    </tr>\n",
       "  </tbody>\n",
       "</table>\n",
       "</div>"
      ],
      "text/plain": [
       "      countryOrRegion         holidayName normalizeHolidayName isPaidTimeOff  \\\n",
       "24967          France     Lundi de Pâques      Lundi de Pâques          None   \n",
       "25015          France     Fête du Travail      Fête du Travail          None   \n",
       "25044          France      Armistice 1945       Armistice 1945          None   \n",
       "25051          France           Ascension            Ascension          None   \n",
       "25074          France  Lundi de Pentecôte   Lundi de Pentecôte          None   \n",
       "25138          France      Fête nationale       Fête nationale          None   \n",
       "25164          France          Assomption           Assomption          None   \n",
       "25234          France           Toussaint            Toussaint          None   \n",
       "25251          France      Armistice 1918       Armistice 1918          None   \n",
       "25309          France                Noël                 Noël          None   \n",
       "25374          France        Jour de l'an         Jour de l'an          None   \n",
       "25522          France     Lundi de Pâques      Lundi de Pâques          None   \n",
       "25560          France     Fête du Travail      Fête du Travail          None   \n",
       "25593          France      Armistice 1945       Armistice 1945          None   \n",
       "25618          France           Ascension            Ascension          None   \n",
       "25644          France  Lundi de Pentecôte   Lundi de Pentecôte          None   \n",
       "25688          France      Fête nationale       Fête nationale          None   \n",
       "25714          France          Assomption           Assomption          None   \n",
       "25783          France           Toussaint            Toussaint          None   \n",
       "25803          France      Armistice 1918       Armistice 1918          None   \n",
       "25852          France                Noël                 Noël          None   \n",
       "25917          France        Jour de l'an         Jour de l'an          None   \n",
       "26064          France     Lundi de Pâques      Lundi de Pâques          None   \n",
       "26106          France     Fête du Travail      Fête du Travail          None   \n",
       "26133          France      Armistice 1945       Armistice 1945          None   \n",
       "26150          France           Ascension            Ascension          None   \n",
       "26179          France  Lundi de Pentecôte   Lundi de Pentecôte          None   \n",
       "26233          France      Fête nationale       Fête nationale          None   \n",
       "26259          France          Assomption           Assomption          None   \n",
       "26328          France           Toussaint            Toussaint          None   \n",
       "26344          France      Armistice 1918       Armistice 1918          None   \n",
       "26395          France                Noël                 Noël          None   \n",
       "26468          France        Jour de l'an         Jour de l'an          None   \n",
       "26615          France     Lundi de Pâques      Lundi de Pâques          None   \n",
       "26659          France     Fête du Travail      Fête du Travail          None   \n",
       "26689          France      Armistice 1945       Armistice 1945          None   \n",
       "26699          France           Ascension            Ascension          None   \n",
       "26722          France  Lundi de Pentecôte   Lundi de Pentecôte          None   \n",
       "26785          France      Fête nationale       Fête nationale          None   \n",
       "26809          France          Assomption           Assomption          None   \n",
       "26879          France           Toussaint            Toussaint          None   \n",
       "26894          France      Armistice 1918       Armistice 1918          None   \n",
       "26948          France                Noël                 Noël          None   \n",
       "27031          France        Jour de l'an         Jour de l'an          None   \n",
       "\n",
       "      countryRegionCode       date  \n",
       "24967                FR 2018-04-02  \n",
       "25015                FR 2018-05-01  \n",
       "25044                FR 2018-05-08  \n",
       "25051                FR 2018-05-10  \n",
       "25074                FR 2018-05-21  \n",
       "25138                FR 2018-07-14  \n",
       "25164                FR 2018-08-15  \n",
       "25234                FR 2018-11-01  \n",
       "25251                FR 2018-11-11  \n",
       "25309                FR 2018-12-25  \n",
       "25374                FR 2019-01-01  \n",
       "25522                FR 2019-04-22  \n",
       "25560                FR 2019-05-01  \n",
       "25593                FR 2019-05-08  \n",
       "25618                FR 2019-05-30  \n",
       "25644                FR 2019-06-10  \n",
       "25688                FR 2019-07-14  \n",
       "25714                FR 2019-08-15  \n",
       "25783                FR 2019-11-01  \n",
       "25803                FR 2019-11-11  \n",
       "25852                FR 2019-12-25  \n",
       "25917                FR 2020-01-01  \n",
       "26064                FR 2020-04-13  \n",
       "26106                FR 2020-05-01  \n",
       "26133                FR 2020-05-08  \n",
       "26150                FR 2020-05-21  \n",
       "26179                FR 2020-06-01  \n",
       "26233                FR 2020-07-14  \n",
       "26259                FR 2020-08-15  \n",
       "26328                FR 2020-11-01  \n",
       "26344                FR 2020-11-11  \n",
       "26395                FR 2020-12-25  \n",
       "26468                FR 2021-01-01  \n",
       "26615                FR 2021-04-05  \n",
       "26659                FR 2021-05-01  \n",
       "26689                FR 2021-05-08  \n",
       "26699                FR 2021-05-13  \n",
       "26722                FR 2021-05-24  \n",
       "26785                FR 2021-07-14  \n",
       "26809                FR 2021-08-15  \n",
       "26879                FR 2021-11-01  \n",
       "26894                FR 2021-11-11  \n",
       "26948                FR 2021-12-25  \n",
       "27031                FR 2022-01-01  "
      ]
     },
     "execution_count": 44,
     "metadata": {},
     "output_type": "execute_result"
    }
   ],
   "source": [
    "joursferiesFR"
   ]
  },
  {
   "cell_type": "markdown",
   "metadata": {},
   "source": [
    "<img src=\"https://github.com/retkowsky/images/blob/master/Powered-by-MS-Azure-logo-v2.png?raw=true\" height=\"300\" width=\"300\">"
   ]
  }
 ],
 "metadata": {
  "kernelspec": {
   "display_name": "Python 3.6 - AzureML",
   "language": "python",
   "name": "python3-azureml"
  },
  "language_info": {
   "codemirror_mode": {
    "name": "ipython",
    "version": 3
   },
   "file_extension": ".py",
   "mimetype": "text/x-python",
   "name": "python",
   "nbconvert_exporter": "python",
   "pygments_lexer": "ipython3",
   "version": "3.6.9"
  }
 },
 "nbformat": 4,
 "nbformat_minor": 2
}
