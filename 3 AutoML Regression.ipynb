{
 "cells": [
  {
   "cell_type": "markdown",
   "metadata": {},
   "source": [
    "# AutoML Regression\n"
   ]
  },
  {
   "cell_type": "markdown",
   "metadata": {},
   "source": [
    "<img src='https://github.com/retkowsky/images/blob/master/AzureMLservicebanniere.png?raw=true'>"
   ]
  },
  {
   "cell_type": "code",
   "execution_count": 1,
   "metadata": {},
   "outputs": [
    {
     "name": "stdout",
     "output_type": "stream",
     "text": [
      "Version Python :  3.6.9 |Anaconda, Inc.| (default, Jul 30 2019, 19:07:31) \n",
      "[GCC 7.3.0]\n"
     ]
    }
   ],
   "source": [
    "import sys\n",
    "print(\"Version Python : \", sys.version)"
   ]
  },
  {
   "cell_type": "code",
   "execution_count": 2,
   "metadata": {},
   "outputs": [
    {
     "name": "stdout",
     "output_type": "stream",
     "text": [
      "2020-03-10 15:09:22.936059\n"
     ]
    }
   ],
   "source": [
    "import datetime\n",
    "now = datetime.datetime.now()\n",
    "print(now)"
   ]
  },
  {
   "cell_type": "code",
   "execution_count": 3,
   "metadata": {},
   "outputs": [
    {
     "name": "stdout",
     "output_type": "stream",
     "text": [
      "Version Azure ML service : 1.0.83\n"
     ]
    }
   ],
   "source": [
    "import azureml.core\n",
    "print(\"Version Azure ML service :\", azureml.core.VERSION)"
   ]
  },
  {
   "cell_type": "code",
   "execution_count": 4,
   "metadata": {},
   "outputs": [],
   "source": [
    "import logging\n",
    "\n",
    "from matplotlib import pyplot as plt\n",
    "import numpy as np\n",
    "import pandas as pd\n",
    "\n",
    "import azureml.core\n",
    "from azureml.core.experiment import Experiment\n",
    "from azureml.core.workspace import Workspace\n",
    "import azureml.dataprep as dprep\n",
    "from azureml.automl.core.featurization import FeaturizationConfig\n",
    "from azureml.train.automl import AutoMLConfig\n",
    "from azureml.core.dataset import Dataset"
   ]
  },
  {
   "cell_type": "markdown",
   "metadata": {},
   "source": [
    "## 1. Création expérimentation"
   ]
  },
  {
   "cell_type": "code",
   "execution_count": 5,
   "metadata": {},
   "outputs": [
    {
     "data": {
      "text/html": [
       "<div>\n",
       "<style scoped>\n",
       "    .dataframe tbody tr th:only-of-type {\n",
       "        vertical-align: middle;\n",
       "    }\n",
       "\n",
       "    .dataframe tbody tr th {\n",
       "        vertical-align: top;\n",
       "    }\n",
       "\n",
       "    .dataframe thead th {\n",
       "        text-align: right;\n",
       "    }\n",
       "</style>\n",
       "<table border=\"1\" class=\"dataframe\">\n",
       "  <thead>\n",
       "    <tr style=\"text-align: right;\">\n",
       "      <th></th>\n",
       "      <th></th>\n",
       "    </tr>\n",
       "  </thead>\n",
       "  <tbody>\n",
       "    <tr>\n",
       "      <th>SDK version</th>\n",
       "      <td>1.0.83</td>\n",
       "    </tr>\n",
       "    <tr>\n",
       "      <th>Workspace Name</th>\n",
       "      <td>AzureMLWorkshop</td>\n",
       "    </tr>\n",
       "    <tr>\n",
       "      <th>Resource Group</th>\n",
       "      <td>AzureMLWorkshopRG</td>\n",
       "    </tr>\n",
       "    <tr>\n",
       "      <th>Location</th>\n",
       "      <td>westeurope</td>\n",
       "    </tr>\n",
       "    <tr>\n",
       "      <th>Project Directory</th>\n",
       "      <td>./sample_projects/workshop3</td>\n",
       "    </tr>\n",
       "    <tr>\n",
       "      <th>Experiment Name</th>\n",
       "      <td>Exemple3-automlregression</td>\n",
       "    </tr>\n",
       "  </tbody>\n",
       "</table>\n",
       "</div>"
      ],
      "text/plain": [
       "                                              \n",
       "SDK version        1.0.83                     \n",
       "Workspace Name     AzureMLWorkshop            \n",
       "Resource Group     AzureMLWorkshopRG          \n",
       "Location           westeurope                 \n",
       "Project Directory  ./sample_projects/workshop3\n",
       "Experiment Name    Exemple3-automlregression  "
      ]
     },
     "execution_count": 5,
     "metadata": {},
     "output_type": "execute_result"
    }
   ],
   "source": [
    "ws = Workspace.from_config()\n",
    "\n",
    "experiment_name = 'Exemple3-automlregression'\n",
    "project_folder = './sample_projects/workshop3'\n",
    "\n",
    "experiment = Experiment(ws, experiment_name)\n",
    "\n",
    "output = {}\n",
    "output['SDK version'] = azureml.core.VERSION\n",
    "output['Workspace Name'] = ws.name\n",
    "output['Resource Group'] = ws.resource_group\n",
    "output['Location'] = ws.location\n",
    "output['Project Directory'] = project_folder\n",
    "output['Experiment Name'] = experiment.name\n",
    "pd.set_option('display.max_colwidth', -1)\n",
    "pd.DataFrame(data = output, index = ['']).T"
   ]
  },
  {
   "cell_type": "markdown",
   "metadata": {},
   "source": [
    "## 2. Chargement des données"
   ]
  },
  {
   "cell_type": "code",
   "execution_count": 6,
   "metadata": {},
   "outputs": [],
   "source": [
    "from sklearn.datasets import load_boston\n",
    "boston=load_boston()\n",
    "df = pd.DataFrame(boston.data, columns=boston.feature_names)\n",
    "\n",
    "df['target'] = boston.target"
   ]
  },
  {
   "cell_type": "code",
   "execution_count": 7,
   "metadata": {},
   "outputs": [
    {
     "name": "stdout",
     "output_type": "stream",
     "text": [
      ".. _boston_dataset:\n",
      "\n",
      "Boston house prices dataset\n",
      "---------------------------\n",
      "\n",
      "**Data Set Characteristics:**  \n",
      "\n",
      "    :Number of Instances: 506 \n",
      "\n",
      "    :Number of Attributes: 13 numeric/categorical predictive. Median Value (attribute 14) is usually the target.\n",
      "\n",
      "    :Attribute Information (in order):\n",
      "        - CRIM     per capita crime rate by town\n",
      "        - ZN       proportion of residential land zoned for lots over 25,000 sq.ft.\n",
      "        - INDUS    proportion of non-retail business acres per town\n",
      "        - CHAS     Charles River dummy variable (= 1 if tract bounds river; 0 otherwise)\n",
      "        - NOX      nitric oxides concentration (parts per 10 million)\n",
      "        - RM       average number of rooms per dwelling\n",
      "        - AGE      proportion of owner-occupied units built prior to 1940\n",
      "        - DIS      weighted distances to five Boston employment centres\n",
      "        - RAD      index of accessibility to radial highways\n",
      "        - TAX      full-value property-tax rate per $10,000\n",
      "        - PTRATIO  pupil-teacher ratio by town\n",
      "        - B        1000(Bk - 0.63)^2 where Bk is the proportion of blacks by town\n",
      "        - LSTAT    % lower status of the population\n",
      "        - MEDV     Median value of owner-occupied homes in $1000's\n",
      "\n",
      "    :Missing Attribute Values: None\n",
      "\n",
      "    :Creator: Harrison, D. and Rubinfeld, D.L.\n",
      "\n",
      "This is a copy of UCI ML housing dataset.\n",
      "https://archive.ics.uci.edu/ml/machine-learning-databases/housing/\n",
      "\n",
      "\n",
      "This dataset was taken from the StatLib library which is maintained at Carnegie Mellon University.\n",
      "\n",
      "The Boston house-price data of Harrison, D. and Rubinfeld, D.L. 'Hedonic\n",
      "prices and the demand for clean air', J. Environ. Economics & Management,\n",
      "vol.5, 81-102, 1978.   Used in Belsley, Kuh & Welsch, 'Regression diagnostics\n",
      "...', Wiley, 1980.   N.B. Various transformations are used in the table on\n",
      "pages 244-261 of the latter.\n",
      "\n",
      "The Boston house-price data has been used in many machine learning papers that address regression\n",
      "problems.   \n",
      "     \n",
      ".. topic:: References\n",
      "\n",
      "   - Belsley, Kuh & Welsch, 'Regression diagnostics: Identifying Influential Data and Sources of Collinearity', Wiley, 1980. 244-261.\n",
      "   - Quinlan,R. (1993). Combining Instance-Based and Model-Based Learning. In Proceedings on the Tenth International Conference of Machine Learning, 236-243, University of Massachusetts, Amherst. Morgan Kaufmann.\n",
      "\n"
     ]
    }
   ],
   "source": [
    "print(boston.DESCR)"
   ]
  },
  {
   "cell_type": "code",
   "execution_count": 8,
   "metadata": {},
   "outputs": [
    {
     "data": {
      "text/html": [
       "<div>\n",
       "<style scoped>\n",
       "    .dataframe tbody tr th:only-of-type {\n",
       "        vertical-align: middle;\n",
       "    }\n",
       "\n",
       "    .dataframe tbody tr th {\n",
       "        vertical-align: top;\n",
       "    }\n",
       "\n",
       "    .dataframe thead th {\n",
       "        text-align: right;\n",
       "    }\n",
       "</style>\n",
       "<table border=\"1\" class=\"dataframe\">\n",
       "  <thead>\n",
       "    <tr style=\"text-align: right;\">\n",
       "      <th></th>\n",
       "      <th>CRIM</th>\n",
       "      <th>ZN</th>\n",
       "      <th>INDUS</th>\n",
       "      <th>CHAS</th>\n",
       "      <th>NOX</th>\n",
       "      <th>RM</th>\n",
       "      <th>AGE</th>\n",
       "      <th>DIS</th>\n",
       "      <th>RAD</th>\n",
       "      <th>TAX</th>\n",
       "      <th>PTRATIO</th>\n",
       "      <th>B</th>\n",
       "      <th>LSTAT</th>\n",
       "      <th>target</th>\n",
       "    </tr>\n",
       "  </thead>\n",
       "  <tbody>\n",
       "    <tr>\n",
       "      <th>0</th>\n",
       "      <td>0.01</td>\n",
       "      <td>18.00</td>\n",
       "      <td>2.31</td>\n",
       "      <td>0.00</td>\n",
       "      <td>0.54</td>\n",
       "      <td>6.58</td>\n",
       "      <td>65.20</td>\n",
       "      <td>4.09</td>\n",
       "      <td>1.00</td>\n",
       "      <td>296.00</td>\n",
       "      <td>15.30</td>\n",
       "      <td>396.90</td>\n",
       "      <td>4.98</td>\n",
       "      <td>24.00</td>\n",
       "    </tr>\n",
       "    <tr>\n",
       "      <th>1</th>\n",
       "      <td>0.03</td>\n",
       "      <td>0.00</td>\n",
       "      <td>7.07</td>\n",
       "      <td>0.00</td>\n",
       "      <td>0.47</td>\n",
       "      <td>6.42</td>\n",
       "      <td>78.90</td>\n",
       "      <td>4.97</td>\n",
       "      <td>2.00</td>\n",
       "      <td>242.00</td>\n",
       "      <td>17.80</td>\n",
       "      <td>396.90</td>\n",
       "      <td>9.14</td>\n",
       "      <td>21.60</td>\n",
       "    </tr>\n",
       "    <tr>\n",
       "      <th>2</th>\n",
       "      <td>0.03</td>\n",
       "      <td>0.00</td>\n",
       "      <td>7.07</td>\n",
       "      <td>0.00</td>\n",
       "      <td>0.47</td>\n",
       "      <td>7.18</td>\n",
       "      <td>61.10</td>\n",
       "      <td>4.97</td>\n",
       "      <td>2.00</td>\n",
       "      <td>242.00</td>\n",
       "      <td>17.80</td>\n",
       "      <td>392.83</td>\n",
       "      <td>4.03</td>\n",
       "      <td>34.70</td>\n",
       "    </tr>\n",
       "    <tr>\n",
       "      <th>3</th>\n",
       "      <td>0.03</td>\n",
       "      <td>0.00</td>\n",
       "      <td>2.18</td>\n",
       "      <td>0.00</td>\n",
       "      <td>0.46</td>\n",
       "      <td>7.00</td>\n",
       "      <td>45.80</td>\n",
       "      <td>6.06</td>\n",
       "      <td>3.00</td>\n",
       "      <td>222.00</td>\n",
       "      <td>18.70</td>\n",
       "      <td>394.63</td>\n",
       "      <td>2.94</td>\n",
       "      <td>33.40</td>\n",
       "    </tr>\n",
       "    <tr>\n",
       "      <th>4</th>\n",
       "      <td>0.07</td>\n",
       "      <td>0.00</td>\n",
       "      <td>2.18</td>\n",
       "      <td>0.00</td>\n",
       "      <td>0.46</td>\n",
       "      <td>7.15</td>\n",
       "      <td>54.20</td>\n",
       "      <td>6.06</td>\n",
       "      <td>3.00</td>\n",
       "      <td>222.00</td>\n",
       "      <td>18.70</td>\n",
       "      <td>396.90</td>\n",
       "      <td>5.33</td>\n",
       "      <td>36.20</td>\n",
       "    </tr>\n",
       "  </tbody>\n",
       "</table>\n",
       "</div>"
      ],
      "text/plain": [
       "   CRIM    ZN  INDUS  CHAS  NOX   RM   AGE  DIS  RAD    TAX  PTRATIO      B  \\\n",
       "0 0.01  18.00 2.31   0.00  0.54 6.58 65.20 4.09 1.00 296.00 15.30    396.90   \n",
       "1 0.03  0.00  7.07   0.00  0.47 6.42 78.90 4.97 2.00 242.00 17.80    396.90   \n",
       "2 0.03  0.00  7.07   0.00  0.47 7.18 61.10 4.97 2.00 242.00 17.80    392.83   \n",
       "3 0.03  0.00  2.18   0.00  0.46 7.00 45.80 6.06 3.00 222.00 18.70    394.63   \n",
       "4 0.07  0.00  2.18   0.00  0.46 7.15 54.20 6.06 3.00 222.00 18.70    396.90   \n",
       "\n",
       "   LSTAT  target  \n",
       "0 4.98   24.00    \n",
       "1 9.14   21.60    \n",
       "2 4.03   34.70    \n",
       "3 2.94   33.40    \n",
       "4 5.33   36.20    "
      ]
     },
     "execution_count": 8,
     "metadata": {},
     "output_type": "execute_result"
    }
   ],
   "source": [
    "df.head()"
   ]
  },
  {
   "cell_type": "code",
   "execution_count": 9,
   "metadata": {},
   "outputs": [
    {
     "data": {
      "text/html": [
       "<div>\n",
       "<style scoped>\n",
       "    .dataframe tbody tr th:only-of-type {\n",
       "        vertical-align: middle;\n",
       "    }\n",
       "\n",
       "    .dataframe tbody tr th {\n",
       "        vertical-align: top;\n",
       "    }\n",
       "\n",
       "    .dataframe thead th {\n",
       "        text-align: right;\n",
       "    }\n",
       "</style>\n",
       "<table border=\"1\" class=\"dataframe\">\n",
       "  <thead>\n",
       "    <tr style=\"text-align: right;\">\n",
       "      <th></th>\n",
       "      <th>CRIM</th>\n",
       "      <th>ZN</th>\n",
       "      <th>INDUS</th>\n",
       "      <th>CHAS</th>\n",
       "      <th>NOX</th>\n",
       "      <th>RM</th>\n",
       "      <th>AGE</th>\n",
       "      <th>DIS</th>\n",
       "      <th>RAD</th>\n",
       "      <th>TAX</th>\n",
       "      <th>PTRATIO</th>\n",
       "      <th>B</th>\n",
       "      <th>LSTAT</th>\n",
       "      <th>target</th>\n",
       "    </tr>\n",
       "  </thead>\n",
       "  <tbody>\n",
       "    <tr>\n",
       "      <th>CRIM</th>\n",
       "      <td>1.00</td>\n",
       "      <td>-0.20</td>\n",
       "      <td>0.41</td>\n",
       "      <td>-0.06</td>\n",
       "      <td>0.42</td>\n",
       "      <td>-0.22</td>\n",
       "      <td>0.35</td>\n",
       "      <td>-0.38</td>\n",
       "      <td>0.63</td>\n",
       "      <td>0.58</td>\n",
       "      <td>0.29</td>\n",
       "      <td>-0.39</td>\n",
       "      <td>0.46</td>\n",
       "      <td>-0.39</td>\n",
       "    </tr>\n",
       "    <tr>\n",
       "      <th>ZN</th>\n",
       "      <td>-0.20</td>\n",
       "      <td>1.00</td>\n",
       "      <td>-0.53</td>\n",
       "      <td>-0.04</td>\n",
       "      <td>-0.52</td>\n",
       "      <td>0.31</td>\n",
       "      <td>-0.57</td>\n",
       "      <td>0.66</td>\n",
       "      <td>-0.31</td>\n",
       "      <td>-0.31</td>\n",
       "      <td>-0.39</td>\n",
       "      <td>0.18</td>\n",
       "      <td>-0.41</td>\n",
       "      <td>0.36</td>\n",
       "    </tr>\n",
       "    <tr>\n",
       "      <th>INDUS</th>\n",
       "      <td>0.41</td>\n",
       "      <td>-0.53</td>\n",
       "      <td>1.00</td>\n",
       "      <td>0.06</td>\n",
       "      <td>0.76</td>\n",
       "      <td>-0.39</td>\n",
       "      <td>0.64</td>\n",
       "      <td>-0.71</td>\n",
       "      <td>0.60</td>\n",
       "      <td>0.72</td>\n",
       "      <td>0.38</td>\n",
       "      <td>-0.36</td>\n",
       "      <td>0.60</td>\n",
       "      <td>-0.48</td>\n",
       "    </tr>\n",
       "    <tr>\n",
       "      <th>CHAS</th>\n",
       "      <td>-0.06</td>\n",
       "      <td>-0.04</td>\n",
       "      <td>0.06</td>\n",
       "      <td>1.00</td>\n",
       "      <td>0.09</td>\n",
       "      <td>0.09</td>\n",
       "      <td>0.09</td>\n",
       "      <td>-0.10</td>\n",
       "      <td>-0.01</td>\n",
       "      <td>-0.04</td>\n",
       "      <td>-0.12</td>\n",
       "      <td>0.05</td>\n",
       "      <td>-0.05</td>\n",
       "      <td>0.18</td>\n",
       "    </tr>\n",
       "    <tr>\n",
       "      <th>NOX</th>\n",
       "      <td>0.42</td>\n",
       "      <td>-0.52</td>\n",
       "      <td>0.76</td>\n",
       "      <td>0.09</td>\n",
       "      <td>1.00</td>\n",
       "      <td>-0.30</td>\n",
       "      <td>0.73</td>\n",
       "      <td>-0.77</td>\n",
       "      <td>0.61</td>\n",
       "      <td>0.67</td>\n",
       "      <td>0.19</td>\n",
       "      <td>-0.38</td>\n",
       "      <td>0.59</td>\n",
       "      <td>-0.43</td>\n",
       "    </tr>\n",
       "    <tr>\n",
       "      <th>RM</th>\n",
       "      <td>-0.22</td>\n",
       "      <td>0.31</td>\n",
       "      <td>-0.39</td>\n",
       "      <td>0.09</td>\n",
       "      <td>-0.30</td>\n",
       "      <td>1.00</td>\n",
       "      <td>-0.24</td>\n",
       "      <td>0.21</td>\n",
       "      <td>-0.21</td>\n",
       "      <td>-0.29</td>\n",
       "      <td>-0.36</td>\n",
       "      <td>0.13</td>\n",
       "      <td>-0.61</td>\n",
       "      <td>0.70</td>\n",
       "    </tr>\n",
       "    <tr>\n",
       "      <th>AGE</th>\n",
       "      <td>0.35</td>\n",
       "      <td>-0.57</td>\n",
       "      <td>0.64</td>\n",
       "      <td>0.09</td>\n",
       "      <td>0.73</td>\n",
       "      <td>-0.24</td>\n",
       "      <td>1.00</td>\n",
       "      <td>-0.75</td>\n",
       "      <td>0.46</td>\n",
       "      <td>0.51</td>\n",
       "      <td>0.26</td>\n",
       "      <td>-0.27</td>\n",
       "      <td>0.60</td>\n",
       "      <td>-0.38</td>\n",
       "    </tr>\n",
       "    <tr>\n",
       "      <th>DIS</th>\n",
       "      <td>-0.38</td>\n",
       "      <td>0.66</td>\n",
       "      <td>-0.71</td>\n",
       "      <td>-0.10</td>\n",
       "      <td>-0.77</td>\n",
       "      <td>0.21</td>\n",
       "      <td>-0.75</td>\n",
       "      <td>1.00</td>\n",
       "      <td>-0.49</td>\n",
       "      <td>-0.53</td>\n",
       "      <td>-0.23</td>\n",
       "      <td>0.29</td>\n",
       "      <td>-0.50</td>\n",
       "      <td>0.25</td>\n",
       "    </tr>\n",
       "    <tr>\n",
       "      <th>RAD</th>\n",
       "      <td>0.63</td>\n",
       "      <td>-0.31</td>\n",
       "      <td>0.60</td>\n",
       "      <td>-0.01</td>\n",
       "      <td>0.61</td>\n",
       "      <td>-0.21</td>\n",
       "      <td>0.46</td>\n",
       "      <td>-0.49</td>\n",
       "      <td>1.00</td>\n",
       "      <td>0.91</td>\n",
       "      <td>0.46</td>\n",
       "      <td>-0.44</td>\n",
       "      <td>0.49</td>\n",
       "      <td>-0.38</td>\n",
       "    </tr>\n",
       "    <tr>\n",
       "      <th>TAX</th>\n",
       "      <td>0.58</td>\n",
       "      <td>-0.31</td>\n",
       "      <td>0.72</td>\n",
       "      <td>-0.04</td>\n",
       "      <td>0.67</td>\n",
       "      <td>-0.29</td>\n",
       "      <td>0.51</td>\n",
       "      <td>-0.53</td>\n",
       "      <td>0.91</td>\n",
       "      <td>1.00</td>\n",
       "      <td>0.46</td>\n",
       "      <td>-0.44</td>\n",
       "      <td>0.54</td>\n",
       "      <td>-0.47</td>\n",
       "    </tr>\n",
       "    <tr>\n",
       "      <th>PTRATIO</th>\n",
       "      <td>0.29</td>\n",
       "      <td>-0.39</td>\n",
       "      <td>0.38</td>\n",
       "      <td>-0.12</td>\n",
       "      <td>0.19</td>\n",
       "      <td>-0.36</td>\n",
       "      <td>0.26</td>\n",
       "      <td>-0.23</td>\n",
       "      <td>0.46</td>\n",
       "      <td>0.46</td>\n",
       "      <td>1.00</td>\n",
       "      <td>-0.18</td>\n",
       "      <td>0.37</td>\n",
       "      <td>-0.51</td>\n",
       "    </tr>\n",
       "    <tr>\n",
       "      <th>B</th>\n",
       "      <td>-0.39</td>\n",
       "      <td>0.18</td>\n",
       "      <td>-0.36</td>\n",
       "      <td>0.05</td>\n",
       "      <td>-0.38</td>\n",
       "      <td>0.13</td>\n",
       "      <td>-0.27</td>\n",
       "      <td>0.29</td>\n",
       "      <td>-0.44</td>\n",
       "      <td>-0.44</td>\n",
       "      <td>-0.18</td>\n",
       "      <td>1.00</td>\n",
       "      <td>-0.37</td>\n",
       "      <td>0.33</td>\n",
       "    </tr>\n",
       "    <tr>\n",
       "      <th>LSTAT</th>\n",
       "      <td>0.46</td>\n",
       "      <td>-0.41</td>\n",
       "      <td>0.60</td>\n",
       "      <td>-0.05</td>\n",
       "      <td>0.59</td>\n",
       "      <td>-0.61</td>\n",
       "      <td>0.60</td>\n",
       "      <td>-0.50</td>\n",
       "      <td>0.49</td>\n",
       "      <td>0.54</td>\n",
       "      <td>0.37</td>\n",
       "      <td>-0.37</td>\n",
       "      <td>1.00</td>\n",
       "      <td>-0.74</td>\n",
       "    </tr>\n",
       "    <tr>\n",
       "      <th>target</th>\n",
       "      <td>-0.39</td>\n",
       "      <td>0.36</td>\n",
       "      <td>-0.48</td>\n",
       "      <td>0.18</td>\n",
       "      <td>-0.43</td>\n",
       "      <td>0.70</td>\n",
       "      <td>-0.38</td>\n",
       "      <td>0.25</td>\n",
       "      <td>-0.38</td>\n",
       "      <td>-0.47</td>\n",
       "      <td>-0.51</td>\n",
       "      <td>0.33</td>\n",
       "      <td>-0.74</td>\n",
       "      <td>1.00</td>\n",
       "    </tr>\n",
       "  </tbody>\n",
       "</table>\n",
       "</div>"
      ],
      "text/plain": [
       "         CRIM    ZN  INDUS  CHAS   NOX    RM   AGE   DIS   RAD   TAX  PTRATIO  \\\n",
       "CRIM    1.00  -0.20 0.41   -0.06 0.42  -0.22 0.35  -0.38 0.63  0.58  0.29       \n",
       "ZN      -0.20 1.00  -0.53  -0.04 -0.52 0.31  -0.57 0.66  -0.31 -0.31 -0.39      \n",
       "INDUS   0.41  -0.53 1.00   0.06  0.76  -0.39 0.64  -0.71 0.60  0.72  0.38       \n",
       "CHAS    -0.06 -0.04 0.06   1.00  0.09  0.09  0.09  -0.10 -0.01 -0.04 -0.12      \n",
       "NOX     0.42  -0.52 0.76   0.09  1.00  -0.30 0.73  -0.77 0.61  0.67  0.19       \n",
       "RM      -0.22 0.31  -0.39  0.09  -0.30 1.00  -0.24 0.21  -0.21 -0.29 -0.36      \n",
       "AGE     0.35  -0.57 0.64   0.09  0.73  -0.24 1.00  -0.75 0.46  0.51  0.26       \n",
       "DIS     -0.38 0.66  -0.71  -0.10 -0.77 0.21  -0.75 1.00  -0.49 -0.53 -0.23      \n",
       "RAD     0.63  -0.31 0.60   -0.01 0.61  -0.21 0.46  -0.49 1.00  0.91  0.46       \n",
       "TAX     0.58  -0.31 0.72   -0.04 0.67  -0.29 0.51  -0.53 0.91  1.00  0.46       \n",
       "PTRATIO 0.29  -0.39 0.38   -0.12 0.19  -0.36 0.26  -0.23 0.46  0.46  1.00       \n",
       "B       -0.39 0.18  -0.36  0.05  -0.38 0.13  -0.27 0.29  -0.44 -0.44 -0.18      \n",
       "LSTAT   0.46  -0.41 0.60   -0.05 0.59  -0.61 0.60  -0.50 0.49  0.54  0.37       \n",
       "target  -0.39 0.36  -0.48  0.18  -0.43 0.70  -0.38 0.25  -0.38 -0.47 -0.51      \n",
       "\n",
       "            B  LSTAT  target  \n",
       "CRIM    -0.39 0.46   -0.39    \n",
       "ZN      0.18  -0.41  0.36     \n",
       "INDUS   -0.36 0.60   -0.48    \n",
       "CHAS    0.05  -0.05  0.18     \n",
       "NOX     -0.38 0.59   -0.43    \n",
       "RM      0.13  -0.61  0.70     \n",
       "AGE     -0.27 0.60   -0.38    \n",
       "DIS     0.29  -0.50  0.25     \n",
       "RAD     -0.44 0.49   -0.38    \n",
       "TAX     -0.44 0.54   -0.47    \n",
       "PTRATIO -0.18 0.37   -0.51    \n",
       "B       1.00  -0.37  0.33     \n",
       "LSTAT   -0.37 1.00   -0.74    \n",
       "target  0.33  -0.74  1.00     "
      ]
     },
     "execution_count": 9,
     "metadata": {},
     "output_type": "execute_result"
    }
   ],
   "source": [
    "df.corr()"
   ]
  },
  {
   "cell_type": "code",
   "execution_count": 10,
   "metadata": {},
   "outputs": [
    {
     "data": {
      "text/plain": [
       "(506, 14)"
      ]
     },
     "execution_count": 10,
     "metadata": {},
     "output_type": "execute_result"
    }
   ],
   "source": [
    "df.shape"
   ]
  },
  {
   "cell_type": "code",
   "execution_count": 11,
   "metadata": {},
   "outputs": [
    {
     "data": {
      "text/plain": [
       "Index(['CRIM', 'ZN', 'INDUS', 'CHAS', 'NOX', 'RM', 'AGE', 'DIS', 'RAD', 'TAX',\n",
       "       'PTRATIO', 'B', 'LSTAT', 'target'],\n",
       "      dtype='object')"
      ]
     },
     "execution_count": 11,
     "metadata": {},
     "output_type": "execute_result"
    }
   ],
   "source": [
    "df.columns"
   ]
  },
  {
   "cell_type": "code",
   "execution_count": 12,
   "metadata": {},
   "outputs": [
    {
     "data": {
      "image/png": "[encoded data removed]",
      "text/plain": [
       "<Figure size 720x360 with 1 Axes>"
      ]
     },
     "metadata": {
      "needs_background": "light"
     },
     "output_type": "display_data"
    }
   ],
   "source": [
    "plt.figure(figsize=(10, 5))\n",
    "plt.hist(df.target)\n",
    "plt.title('Histogramme')\n",
    "plt.xlabel('Prix')\n",
    "plt.ylabel('Effectifs')\n",
    "plt.show()"
   ]
  },
  {
   "cell_type": "markdown",
   "metadata": {},
   "source": [
    "## 3. Configuration AutoML\n"
   ]
  },
  {
   "cell_type": "markdown",
   "metadata": {},
   "source": [
    "> Documentation : https://docs.microsoft.com/en-us/azure/machine-learning/how-to-configure-auto-train"
   ]
  },
  {
   "cell_type": "code",
   "execution_count": 13,
   "metadata": {},
   "outputs": [],
   "source": [
    "# Variable à modéliser\n",
    "label =\"target\""
   ]
  },
  {
   "cell_type": "code",
   "execution_count": 14,
   "metadata": {},
   "outputs": [],
   "source": [
    "automl_settings = {\n",
    "    \"enable_early_stopping\": True, \n",
    "    \"iterations\" : 10,\n",
    "    \"n_cross_validations\": 3,\n",
    "    \"primary_metric\": 'r2_score',\n",
    "    \"verbosity\": logging.INFO\n",
    "}\n",
    "\n",
    "automl_config = AutoMLConfig(task = 'regression',\n",
    "                             debug_log = 'automl3.log',\n",
    "                             preprocess=True,\n",
    "                             training_data = df,\n",
    "                             label_column_name = label,\n",
    "                             **automl_settings\n",
    "                            )"
   ]
  },
  {
   "cell_type": "markdown",
   "metadata": {},
   "source": [
    "## 4. AutoML"
   ]
  },
  {
   "cell_type": "code",
   "execution_count": 15,
   "metadata": {
    "scrolled": true
   },
   "outputs": [
    {
     "name": "stdout",
     "output_type": "stream",
     "text": [
      "Running on local machine\n",
      "Parent Run ID: AutoML_d3fb02b2-20d0-46b0-8cc9-1d974e192482\n",
      "\n",
      "Current status: DatasetFeaturization. Beginning to featurize the dataset.\n",
      "Current status: DatasetEvaluation. Gathering dataset statistics.\n",
      "Current status: FeaturesGeneration. Generating features for the dataset.\n",
      "Current status: DatasetFeaturizationCompleted. Completed featurizing the dataset.\n",
      "Current status: DatasetCrossValidationSplit. Generating individually featurized CV splits.\n",
      "\n",
      "****************************************************************************************************\n",
      "DATA GUARDRAILS: \n",
      "\n",
      "TYPE:         Missing values imputation\n",
      "STATUS:       PASSED\n",
      "DESCRIPTION:  There were no missing values found in the training data.\n",
      "\n",
      "TYPE:         High cardinality feature detection\n",
      "STATUS:       PASSED\n",
      "DESCRIPTION:  Your inputs were analyzed, and no high cardinality features were detected.\n",
      "\n",
      "****************************************************************************************************\n",
      "Current status: ModelSelection. Beginning model selection.\n",
      "\n",
      "****************************************************************************************************\n",
      "ITERATION: The iteration being evaluated.\n",
      "PIPELINE: A summary description of the pipeline being evaluated.\n",
      "DURATION: Time taken for the current iteration.\n",
      "METRIC: The result of computing score on the fitted pipeline.\n",
      "BEST: The best observed score thus far.\n",
      "****************************************************************************************************\n",
      "\n",
      " ITERATION   PIPELINE                                       DURATION      METRIC      BEST\n",
      "         0   MaxAbsScaler LightGBM                          0:00:10       0.8322    0.8322\n",
      "         1   StandardScalerWrapper GradientBoosting         0:00:41       0.8544    0.8544\n",
      "         2   StandardScalerWrapper LightGBM                 0:00:07       0.8737    0.8737\n",
      "         3   MaxAbsScaler LightGBM                          0:00:07       0.8591    0.8737\n",
      "         4   SparseNormalizer RandomForest                  0:00:14       0.8473    0.8737\n",
      "         5   StandardScalerWrapper ElasticNet               0:00:07       0.6579    0.8737\n",
      "         6   StandardScalerWrapper ExtremeRandomTrees       0:00:08       0.7686    0.8737\n",
      "         7   RobustScaler LightGBM                          0:00:09       0.8625    0.8737\n",
      "         8   VotingEnsemble                                 0:00:14       0.8823    0.8823\n",
      "         9   StackEnsemble                                  0:00:14       0.8734    0.8823\n",
      "CPU times: user 29 s, sys: 4.62 s, total: 33.7 s\n",
      "Wall time: 2min 35s\n"
     ]
    }
   ],
   "source": [
    "%%time\n",
    "automl_run = experiment.submit(automl_config, show_output = True)"
   ]
  },
  {
   "cell_type": "code",
   "execution_count": 16,
   "metadata": {},
   "outputs": [
    {
     "data": {
      "text/html": [
       "<table style=\"width:100%\"><tr><th>Experiment</th><th>Id</th><th>Type</th><th>Status</th><th>Details Page</th><th>Docs Page</th></tr><tr><td>Exemple3-automlregression</td><td>AutoML_d3fb02b2-20d0-46b0-8cc9-1d974e192482</td><td>automl</td><td>Completed</td><td><a href=\"https://ml.azure.com/experiments/Exemple3-automlregression/runs/AutoML_d3fb02b2-20d0-46b0-8cc9-1d974e192482?wsid=/subscriptions/70b8f39e-8863-49f7-b6ba-34a80799550c/resourcegroups/AzureMLWorkshopRG/workspaces/AzureMLWorkshop\" target=\"_blank\" rel=\"noopener\">Link to Azure Machine Learning studio</a></td><td><a href=\"https://docs.microsoft.com/en-us/python/api/overview/azure/ml/intro?view=azure-ml-py\" target=\"_blank\" rel=\"noopener\">Link to Documentation</a></td></tr></table>"
      ],
      "text/plain": [
       "Run(Experiment: Exemple3-automlregression,\n",
       "Id: AutoML_d3fb02b2-20d0-46b0-8cc9-1d974e192482,\n",
       "Type: automl,\n",
       "Status: Completed)"
      ]
     },
     "execution_count": 16,
     "metadata": {},
     "output_type": "execute_result"
    }
   ],
   "source": [
    "automl_run"
   ]
  },
  {
   "cell_type": "code",
   "execution_count": 17,
   "metadata": {},
   "outputs": [
    {
     "data": {
      "application/vnd.jupyter.widget-view+json": {
       "model_id": "24be108c425a4908a436c00a3d32a4c5",
       "version_major": 2,
       "version_minor": 0
      },
      "text/plain": [
       "_AutoMLWidget(widget_settings={'childWidgetDisplay': 'popup', 'send_telemetry': False, 'log_level': 'INFO', 's…"
      ]
     },
     "metadata": {},
     "output_type": "display_data"
    },
    {
     "data": {
      "application/aml.mini.widget.v1": "{\"status\": \"Completed\", \"workbench_run_details_uri\": \"https://ml.azure.com/experiments/Exemple3-automlregression/runs/AutoML_d3fb02b2-20d0-46b0-8cc9-1d974e192482?wsid=/subscriptions/70b8f39e-8863-49f7-b6ba-34a80799550c/resourcegroups/AzureMLWorkshopRG/workspaces/AzureMLWorkshop\", \"run_id\": \"AutoML_d3fb02b2-20d0-46b0-8cc9-1d974e192482\", \"run_properties\": {\"run_id\": \"AutoML_d3fb02b2-20d0-46b0-8cc9-1d974e192482\", \"created_utc\": \"2020-03-10T15:09:33.96228Z\", \"properties\": {\"num_iterations\": \"10\", \"training_type\": \"TrainFull\", \"acquisition_function\": \"EI\", \"primary_metric\": \"r2_score\", \"train_split\": \"0\", \"MaxTimeSeconds\": \"0\", \"acquisition_parameter\": \"0\", \"num_cross_validation\": \"3\", \"target\": \"local\", \"RawAMLSettingsString\": \"{'name': 'Exemple3-automlregression', 'path': '.', 'subscription_id': '70b8f39e-8863-49f7-b6ba-34a80799550c', 'resource_group': 'AzureMLWorkshopRG', 'workspace_name': 'AzureMLWorkshop', 'region': 'westeurope', 'compute_target': 'local', 'spark_service': None, 'azure_service': None, 'iterations': 10, 'primary_metric': 'r2_score', 'task_type': 'regression', 'data_script': None, 'validation_size': 0.0, 'n_cross_validations': 3, 'y_min': 5.0, 'y_max': 50.0, 'num_classes': None, 'featurization': 'auto', 'preprocess': True, 'lag_length': 0, 'is_timeseries': False, 'max_cores_per_iteration': 1, 'max_concurrent_iterations': 1, 'iteration_timeout_minutes': None, 'mem_in_mb': None, 'enforce_time_on_windows': False, 'experiment_timeout_minutes': None, 'experiment_exit_score': None, 'whitelist_models': None, 'blacklist_algos': ['XGBoostRegressor', 'Prophet'], 'supported_models': ['FastLinearRegressor', 'KNN', 'LassoLars', 'TensorFlowDNN', 'DecisionTree', 'RandomForest', 'OnlineGradientDescentRegressor', 'GradientBoosting', 'LightGBM', 'ElasticNet', 'ExtremeRandomTrees', 'SGD', 'TensorFlowLinearRegressor', 'XGBoostRegressor'], 'auto_blacklist': True, 'blacklist_samples_reached': False, 'exclude_nan_labels': True, 'verbosity': 20, 'debug_log': 'automl3.log', 'show_warnings': False, 'model_explainability': False, 'service_url': None, 'sdk_url': None, 'sdk_packages': None, 'enable_onnx_compatible_models': False, 'enable_split_onnx_featurizer_estimator_models': False, 'vm_type': None, 'telemetry_verbosity': 'INFO', 'send_telemetry': True, 'enable_dnn': False, 'force_text_dnn': False, 'enable_feature_sweeping': True, 'enable_early_stopping': True, 'early_stopping_n_iters': 10, 'metrics': None, 'enable_ensembling': True, 'enable_stack_ensembling': True, 'ensemble_iterations': 10, 'enable_tf': False, 'enable_cache': True, 'enable_subsampling': False, 'subsample_seed': None, 'enable_nimbusml': False, 'enable_streaming': False, 'label_column_name': 'target', 'weight_column_name': None, 'cost_mode': 0, 'metric_operation': 'maximize'}\", \"AMLSettingsJsonString\": \"{\\\"name\\\": \\\"Exemple3-automlregression\\\", \\\"path\\\": \\\".\\\", \\\"subscription_id\\\": \\\"70b8f39e-8863-49f7-b6ba-34a80799550c\\\", \\\"resource_group\\\": \\\"AzureMLWorkshopRG\\\", \\\"workspace_name\\\": \\\"AzureMLWorkshop\\\", \\\"region\\\": \\\"westeurope\\\", \\\"compute_target\\\": \\\"local\\\", \\\"spark_service\\\": null, \\\"azure_service\\\": null, \\\"iterations\\\": 10, \\\"primary_metric\\\": \\\"r2_score\\\", \\\"task_type\\\": \\\"regression\\\", \\\"data_script\\\": null, \\\"validation_size\\\": 0.0, \\\"n_cross_validations\\\": 3, \\\"y_min\\\": 5.0, \\\"y_max\\\": 50.0, \\\"num_classes\\\": null, \\\"featurization\\\": \\\"auto\\\", \\\"preprocess\\\": true, \\\"lag_length\\\": 0, \\\"is_timeseries\\\": false, \\\"max_cores_per_iteration\\\": 1, \\\"max_concurrent_iterations\\\": 1, \\\"iteration_timeout_minutes\\\": null, \\\"mem_in_mb\\\": null, \\\"enforce_time_on_windows\\\": false, \\\"experiment_timeout_minutes\\\": null, \\\"experiment_exit_score\\\": null, \\\"whitelist_models\\\": null, \\\"blacklist_algos\\\": [\\\"XGBoostRegressor\\\", \\\"Prophet\\\"], \\\"supported_models\\\": [\\\"FastLinearRegressor\\\", \\\"KNN\\\", \\\"LassoLars\\\", \\\"TensorFlowDNN\\\", \\\"DecisionTree\\\", \\\"RandomForest\\\", \\\"OnlineGradientDescentRegressor\\\", \\\"GradientBoosting\\\", \\\"LightGBM\\\", \\\"ElasticNet\\\", \\\"ExtremeRandomTrees\\\", \\\"SGD\\\", \\\"TensorFlowLinearRegressor\\\", \\\"XGBoostRegressor\\\"], \\\"auto_blacklist\\\": true, \\\"blacklist_samples_reached\\\": false, \\\"exclude_nan_labels\\\": true, \\\"verbosity\\\": 20, \\\"debug_log\\\": \\\"automl3.log\\\", \\\"show_warnings\\\": false, \\\"model_explainability\\\": false, \\\"service_url\\\": null, \\\"sdk_url\\\": null, \\\"sdk_packages\\\": null, \\\"enable_onnx_compatible_models\\\": false, \\\"enable_split_onnx_featurizer_estimator_models\\\": false, \\\"vm_type\\\": null, \\\"telemetry_verbosity\\\": \\\"INFO\\\", \\\"send_telemetry\\\": true, \\\"enable_dnn\\\": false, \\\"force_text_dnn\\\": false, \\\"enable_feature_sweeping\\\": true, \\\"enable_early_stopping\\\": true, \\\"early_stopping_n_iters\\\": 10, \\\"metrics\\\": null, \\\"enable_ensembling\\\": true, \\\"enable_stack_ensembling\\\": true, \\\"ensemble_iterations\\\": 10, \\\"enable_tf\\\": false, \\\"enable_cache\\\": true, \\\"enable_subsampling\\\": false, \\\"subsample_seed\\\": null, \\\"enable_nimbusml\\\": false, \\\"enable_streaming\\\": false, \\\"label_column_name\\\": \\\"target\\\", \\\"weight_column_name\\\": null, \\\"cost_mode\\\": 0, \\\"metric_operation\\\": \\\"maximize\\\"}\", \"DataPrepJsonString\": null, \"EnableSubsampling\": \"False\", \"Properties\": \"[display_task_type, regression],[dependencies_versions, {\\\"azureml-widgets\\\": \\\"1.0.83\\\", \\\"azureml-train\\\": \\\"1.0.83\\\", \\\"azureml-train-restclients-hyperdrive\\\": \\\"1.0.83\\\", \\\"azureml-train-core\\\": \\\"1.0.83\\\", \\\"azureml-train-automl\\\": \\\"1.0.83\\\", \\\"azureml-train-automl-runtime\\\": \\\"1.0.83.1\\\", \\\"azureml-train-automl-client\\\": \\\"1.0.83\\\", \\\"azureml-tensorboard\\\": \\\"1.0.83\\\", \\\"azureml-telemetry\\\": \\\"1.0.83\\\", \\\"azureml-sdk\\\": \\\"1.0.83\\\", \\\"azureml-samples\\\": \\\"0+unknown\\\", \\\"azureml-pipeline\\\": \\\"1.0.83\\\", \\\"azureml-pipeline-steps\\\": \\\"1.0.83\\\", \\\"azureml-pipeline-core\\\": \\\"1.0.83\\\", \\\"azureml-opendatasets\\\": \\\"1.0.83\\\", \\\"azureml-model-management-sdk\\\": \\\"1.0.1b6.post1\\\", \\\"azureml-mlflow\\\": \\\"1.0.83\\\", \\\"azureml-interpret\\\": \\\"1.0.83\\\", \\\"azureml-explain-model\\\": \\\"1.0.83\\\", \\\"azureml-defaults\\\": \\\"1.0.83\\\", \\\"azureml-dataprep\\\": \\\"1.1.35\\\", \\\"azureml-dataprep-native\\\": \\\"13.2.0\\\", \\\"azureml-datadrift\\\": \\\"1.0.83\\\", \\\"azureml-core\\\": \\\"1.0.83\\\", \\\"azureml-contrib-services\\\": \\\"1.0.83\\\", \\\"azureml-contrib-server\\\": \\\"1.0.83\\\", \\\"azureml-contrib-reinforcementlearning\\\": \\\"1.0.83\\\", \\\"azureml-contrib-pipeline-steps\\\": \\\"1.0.83\\\", \\\"azureml-contrib-notebook\\\": \\\"1.0.83\\\", \\\"azureml-contrib-interpret\\\": \\\"1.0.83\\\", \\\"azureml-contrib-datadrift\\\": \\\"1.0.83\\\", \\\"azureml-automl-runtime\\\": \\\"1.0.83\\\", \\\"azureml-automl-core\\\": \\\"1.0.83.1\\\"}]\", \"runTemplate\": \"AutoML\", \"azureml.runsource\": \"automl\", \"display_task_type\": \"regression\", \"dependencies_versions\": \"{\\\"azureml-widgets\\\": \\\"1.0.83\\\", \\\"azureml-train\\\": \\\"1.0.83\\\", \\\"azureml-train-restclients-hyperdrive\\\": \\\"1.0.83\\\", \\\"azureml-train-core\\\": \\\"1.0.83\\\", \\\"azureml-train-automl\\\": \\\"1.0.83\\\", \\\"azureml-train-automl-runtime\\\": \\\"1.0.83.1\\\", \\\"azureml-train-automl-client\\\": \\\"1.0.83\\\", \\\"azureml-tensorboard\\\": \\\"1.0.83\\\", \\\"azureml-telemetry\\\": \\\"1.0.83\\\", \\\"azureml-sdk\\\": \\\"1.0.83\\\", \\\"azureml-samples\\\": \\\"0+unknown\\\", \\\"azureml-pipeline\\\": \\\"1.0.83\\\", \\\"azureml-pipeline-steps\\\": \\\"1.0.83\\\", \\\"azureml-pipeline-core\\\": \\\"1.0.83\\\", \\\"azureml-opendatasets\\\": \\\"1.0.83\\\", \\\"azureml-model-management-sdk\\\": \\\"1.0.1b6.post1\\\", \\\"azureml-mlflow\\\": \\\"1.0.83\\\", \\\"azureml-interpret\\\": \\\"1.0.83\\\", \\\"azureml-explain-model\\\": \\\"1.0.83\\\", \\\"azureml-defaults\\\": \\\"1.0.83\\\", \\\"azureml-dataprep\\\": \\\"1.1.35\\\", \\\"azureml-dataprep-native\\\": \\\"13.2.0\\\", \\\"azureml-datadrift\\\": \\\"1.0.83\\\", \\\"azureml-core\\\": \\\"1.0.83\\\", \\\"azureml-contrib-services\\\": \\\"1.0.83\\\", \\\"azureml-contrib-server\\\": \\\"1.0.83\\\", \\\"azureml-contrib-reinforcementlearning\\\": \\\"1.0.83\\\", \\\"azureml-contrib-pipeline-steps\\\": \\\"1.0.83\\\", \\\"azureml-contrib-notebook\\\": \\\"1.0.83\\\", \\\"azureml-contrib-interpret\\\": \\\"1.0.83\\\", \\\"azureml-contrib-datadrift\\\": \\\"1.0.83\\\", \\\"azureml-automl-runtime\\\": \\\"1.0.83\\\", \\\"azureml-automl-core\\\": \\\"1.0.83.1\\\"}\", \"ClientType\": \"SDK\", \"ClientSdkVersion\": \"1.0.83\", \"ProblemInfoJsonString\": \"{\\\"dataset_num_categorical\\\": 0, \\\"is_sparse\\\": false, \\\"subsampling\\\": false, \\\"dataset_classes\\\": 229, \\\"dataset_features\\\": 13, \\\"dataset_samples\\\": 506, \\\"single_frequency_class_detected\\\": false}\", \"feature_skus\": \"automatedml_sdk_guardrails\", \"azureml.git.repository_uri\": \"https://github.com/retkowsky/WorkshopAML2020\", \"mlflow.source.git.repoURL\": \"https://github.com/retkowsky/WorkshopAML2020\", \"azureml.git.branch\": \"master\", \"mlflow.source.git.branch\": \"master\", \"azureml.git.commit\": \"92bcd73fc9ec1037078710902a207fd495a95825\", \"mlflow.source.git.commit\": \"92bcd73fc9ec1037078710902a207fd495a95825\", \"azureml.git.dirty\": \"True\"}, \"tags\": {\"model_explain_run\": \"best_run\", \"experiment_status\": \"ModelSelection\", \"experiment_status_descr\": \"Beginning model selection.\", \"best_score\": \"0.8823064055329451\", \"best_pipeline\": \"VotingEnsemble\"}, \"end_time_utc\": \"2020-03-10T15:11:57.046763Z\", \"status\": \"Completed\", \"log_files\": {}, \"log_groups\": [], \"run_duration\": \"0:02:23\"}, \"child_runs\": [{\"run_id\": \"AutoML_d3fb02b2-20d0-46b0-8cc9-1d974e192482_0\", \"run_number\": 35, \"metric\": null, \"status\": \"Completed\", \"run_type\": null, \"training_percent\": null, \"start_time\": \"2020-03-10T15:09:41.144017Z\", \"end_time\": \"2020-03-10T15:09:49.1683Z\", \"created_time\": \"2020-03-10T15:09:41.008821Z\", \"created_time_dt\": \"2020-03-10T15:09:41.008821Z\", \"duration\": \"0:00:08\", \"iteration\": \"0\", \"goal\": \"r2_score_max\", \"run_name\": \"MaxAbsScaler, LightGBM\", \"run_properties\": \"copy=True\", \"primary_metric\": 0.83217106, \"best_metric\": 0.83217106}, {\"run_id\": \"AutoML_d3fb02b2-20d0-46b0-8cc9-1d974e192482_1\", \"run_number\": 36, \"metric\": null, \"status\": \"Completed\", \"run_type\": null, \"training_percent\": \"100\", \"start_time\": \"2020-03-10T15:10:22.463549Z\", \"end_time\": \"2020-03-10T15:10:31.837684Z\", \"created_time\": \"2020-03-10T15:10:22.295176Z\", \"created_time_dt\": \"2020-03-10T15:10:22.295176Z\", \"duration\": \"0:00:09\", \"iteration\": \"1\", \"goal\": \"r2_score_max\", \"run_name\": \"StandardScalerWrapper, GradientBoosting\", \"run_properties\": \"<automl.client.core.runtime.model_wrappers.StandardScalerWrapper object at 0x7f9042421470\", \"primary_metric\": 0.85439007, \"best_metric\": 0.85439007}, {\"run_id\": \"AutoML_d3fb02b2-20d0-46b0-8cc9-1d974e192482_2\", \"run_number\": 37, \"metric\": null, \"status\": \"Completed\", \"run_type\": null, \"training_percent\": \"100\", \"start_time\": \"2020-03-10T15:10:33.849789Z\", \"end_time\": \"2020-03-10T15:10:39.119851Z\", \"created_time\": \"2020-03-10T15:10:33.711689Z\", \"created_time_dt\": \"2020-03-10T15:10:33.711689Z\", \"duration\": \"0:00:05\", \"iteration\": \"2\", \"goal\": \"r2_score_max\", \"run_name\": \"StandardScalerWrapper, LightGBM\", \"run_properties\": \"<automl.client.core.runtime.model_wrappers.StandardScalerWrapper object at 0x7f904139cda0\", \"primary_metric\": 0.87367891, \"best_metric\": 0.87367891}, {\"run_id\": \"AutoML_d3fb02b2-20d0-46b0-8cc9-1d974e192482_3\", \"run_number\": 38, \"metric\": null, \"status\": \"Completed\", \"run_type\": null, \"training_percent\": \"100\", \"start_time\": \"2020-03-10T15:10:40.833018Z\", \"end_time\": \"2020-03-10T15:10:46.340511Z\", \"created_time\": \"2020-03-10T15:10:40.667822Z\", \"created_time_dt\": \"2020-03-10T15:10:40.667822Z\", \"duration\": \"0:00:05\", \"iteration\": \"3\", \"goal\": \"r2_score_max\", \"run_name\": \"MaxAbsScaler, LightGBM\", \"run_properties\": \"copy=True\", \"primary_metric\": 0.85906615, \"best_metric\": 0.87367891}, {\"run_id\": \"AutoML_d3fb02b2-20d0-46b0-8cc9-1d974e192482_4\", \"run_number\": 39, \"metric\": null, \"status\": \"Completed\", \"run_type\": null, \"training_percent\": \"100\", \"start_time\": \"2020-03-10T15:10:49.608377Z\", \"end_time\": \"2020-03-10T15:11:00.965034Z\", \"created_time\": \"2020-03-10T15:10:49.239833Z\", \"created_time_dt\": \"2020-03-10T15:10:49.239833Z\", \"duration\": \"0:00:11\", \"iteration\": \"4\", \"goal\": \"r2_score_max\", \"run_name\": \"SparseNormalizer, RandomForest\", \"run_properties\": \"<automl.client.core.runtime.model_wrappers.SparseNormalizer object at 0x7f90412d8160\", \"primary_metric\": 0.84731393, \"best_metric\": 0.87367891}, {\"run_id\": \"AutoML_d3fb02b2-20d0-46b0-8cc9-1d974e192482_5\", \"run_number\": 40, \"metric\": null, \"status\": \"Completed\", \"run_type\": null, \"training_percent\": \"100\", \"start_time\": \"2020-03-10T15:11:03.728839Z\", \"end_time\": \"2020-03-10T15:11:08.797616Z\", \"created_time\": \"2020-03-10T15:11:03.468671Z\", \"created_time_dt\": \"2020-03-10T15:11:03.468671Z\", \"duration\": \"0:00:05\", \"iteration\": \"5\", \"goal\": \"r2_score_max\", \"run_name\": \"StandardScalerWrapper, ElasticNet\", \"run_properties\": \"<automl.client.core.runtime.model_wrappers.StandardScalerWrapper object at 0x7f90411ad7b8\", \"primary_metric\": 0.65785097, \"best_metric\": 0.87367891}, {\"run_id\": \"AutoML_d3fb02b2-20d0-46b0-8cc9-1d974e192482_6\", \"run_number\": 41, \"metric\": null, \"status\": \"Completed\", \"run_type\": null, \"training_percent\": \"100\", \"start_time\": \"2020-03-10T15:11:10.911726Z\", \"end_time\": \"2020-03-10T15:11:17.521467Z\", \"created_time\": \"2020-03-10T15:11:10.578849Z\", \"created_time_dt\": \"2020-03-10T15:11:10.578849Z\", \"duration\": \"0:00:06\", \"iteration\": \"6\", \"goal\": \"r2_score_max\", \"run_name\": \"StandardScalerWrapper, ExtremeRandomTrees\", \"run_properties\": \"<automl.client.core.runtime.model_wrappers.StandardScalerWrapper object at 0x7f90424f0940\", \"primary_metric\": 0.76864731, \"best_metric\": 0.87367891}, {\"run_id\": \"AutoML_d3fb02b2-20d0-46b0-8cc9-1d974e192482_7\", \"run_number\": 42, \"metric\": null, \"status\": \"Completed\", \"run_type\": null, \"training_percent\": \"100\", \"start_time\": \"2020-03-10T15:11:19.273506Z\", \"end_time\": \"2020-03-10T15:11:26.12508Z\", \"created_time\": \"2020-03-10T15:11:19.023606Z\", \"created_time_dt\": \"2020-03-10T15:11:19.023606Z\", \"duration\": \"0:00:07\", \"iteration\": \"7\", \"goal\": \"r2_score_max\", \"run_name\": \"RobustScaler, LightGBM\", \"run_properties\": \"copy=True, quantile_range=[25, 75], with_centering=True,\\n       with_scaling=False\", \"primary_metric\": 0.86246531, \"best_metric\": 0.87367891}, {\"run_id\": \"AutoML_d3fb02b2-20d0-46b0-8cc9-1d974e192482_8\", \"run_number\": 43, \"metric\": null, \"status\": \"Completed\", \"run_type\": null, \"training_percent\": \"100\", \"start_time\": \"2020-03-10T15:11:27.847163Z\", \"end_time\": \"2020-03-10T15:11:41.277194Z\", \"created_time\": \"2020-03-10T15:11:27.637516Z\", \"created_time_dt\": \"2020-03-10T15:11:27.637516Z\", \"duration\": \"0:00:13\", \"iteration\": \"8\", \"goal\": \"r2_score_max\", \"run_name\": \"VotingEnsemble\", \"run_properties\": \"estimators=[('2', Pipeline(memory=None,\\n     steps=[('standardscalerwrapper', <automl.client.core.runtime.model_wrappers.StandardScalerWrapper object at 0x7f90423ea7f0>\", \"primary_metric\": 0.88230641, \"best_metric\": 0.88230641}, {\"run_id\": \"AutoML_d3fb02b2-20d0-46b0-8cc9-1d974e192482_9\", \"run_number\": 44, \"metric\": null, \"status\": \"Completed\", \"run_type\": null, \"training_percent\": \"100\", \"start_time\": \"2020-03-10T15:11:42.55618Z\", \"end_time\": \"2020-03-10T15:11:56.258787Z\", \"created_time\": \"2020-03-10T15:11:42.337514Z\", \"created_time_dt\": \"2020-03-10T15:11:42.337514Z\", \"duration\": \"0:00:13\", \"iteration\": \"9\", \"goal\": \"r2_score_max\", \"run_name\": \"StackEnsemble\", \"run_properties\": \"base_learners=[('2', Pipeline(memory=None,\\n     steps=[('standardscalerwrapper', <automl.client.core.runtime.model_wrappers.StandardScalerWrapper object at 0x7f8f58043f98>\", \"primary_metric\": 0.87340698, \"best_metric\": 0.88230641}], \"children_metrics\": {\"categories\": [0], \"series\": {\"explained_variance\": [{\"categories\": [\"0\", \"1\", \"2\", \"3\", \"4\", \"5\", \"6\", \"7\", \"8\", \"9\"], \"mode\": \"markers\", \"name\": \"explained_variance\", \"stepped\": false, \"type\": \"scatter\", \"data\": [0.8328026167160245, 0.8564130609058861, 0.8745174495843063, 0.8592969039059852, 0.8482869434629694, 0.6582518505497575, 0.768920034424668, 0.8633315219670794, 0.8829692753748106, 0.8753699255988495]}, {\"categories\": [\"0\", \"1\", \"2\", \"3\", \"4\", \"5\", \"6\", \"7\", \"8\", \"9\"], \"mode\": \"lines\", \"name\": \"explained_variance_max\", \"stepped\": true, \"type\": \"scatter\", \"data\": [0.8328026167160245, 0.8564130609058861, 0.8745174495843063, 0.8745174495843063, 0.8745174495843063, 0.8745174495843063, 0.8745174495843063, 0.8745174495843063, 0.8829692753748106, 0.8829692753748106]}], \"spearman_correlation\": [{\"categories\": [\"0\", \"1\", \"2\", \"3\", \"4\", \"5\", \"6\", \"7\", \"8\", \"9\"], \"mode\": \"markers\", \"name\": \"spearman_correlation\", \"stepped\": false, \"type\": \"scatter\", \"data\": [0.9100641928941761, 0.9242365155091719, 0.9233753253281912, 0.914320861761062, 0.9128913501502546, 0.8801462430145618, 0.9032514021505543, 0.9162618593367261, 0.9298764601611031, 0.928520868488102]}, {\"categories\": [\"0\", \"1\", \"2\", \"3\", \"4\", \"5\", \"6\", \"7\", \"8\", \"9\"], \"mode\": \"lines\", \"name\": \"spearman_correlation_max\", \"stepped\": true, \"type\": \"scatter\", \"data\": [0.9100641928941761, 0.9242365155091719, 0.9242365155091719, 0.9242365155091719, 0.9242365155091719, 0.9242365155091719, 0.9242365155091719, 0.9242365155091719, 0.9298764601611031, 0.9298764601611031]}], \"median_absolute_error\": [{\"categories\": [\"0\", \"1\", \"2\", \"3\", \"4\", \"5\", \"6\", \"7\", \"8\", \"9\"], \"mode\": \"markers\", \"name\": \"median_absolute_error\", \"stepped\": false, \"type\": \"scatter\", \"data\": [1.6790518944887343, 1.4919997964281873, 1.5146438637412214, 1.6066638254256809, 1.8224111772486988, 2.6921352163163372, 1.958827245131604, 1.5592433369808159, 1.4045447673146665, 1.4617587462956898]}, {\"categories\": [\"0\", \"1\", \"2\", \"3\", \"4\", \"5\", \"6\", \"7\", \"8\", \"9\"], \"mode\": \"lines\", \"name\": \"median_absolute_error_min\", \"stepped\": true, \"type\": \"scatter\", \"data\": [1.6790518944887343, 1.4919997964281873, 1.4919997964281873, 1.4919997964281873, 1.4919997964281873, 1.4919997964281873, 1.4919997964281873, 1.4919997964281873, 1.4045447673146665, 1.4045447673146665]}], \"r2_score\": [{\"categories\": [\"0\", \"1\", \"2\", \"3\", \"4\", \"5\", \"6\", \"7\", \"8\", \"9\"], \"mode\": \"markers\", \"name\": \"r2_score\", \"stepped\": false, \"type\": \"scatter\", \"data\": [0.8321710554319068, 0.8543900689965693, 0.8736789106695474, 0.8590661503717, 0.8473139273515793, 0.6578509686487781, 0.7686473082229511, 0.8624653051205694, 0.8823064055329451, 0.8734069777996005]}, {\"categories\": [\"0\", \"1\", \"2\", \"3\", \"4\", \"5\", \"6\", \"7\", \"8\", \"9\"], \"mode\": \"lines\", \"name\": \"r2_score_max\", \"stepped\": true, \"type\": \"scatter\", \"data\": [0.8321710554319068, 0.8543900689965693, 0.8736789106695474, 0.8736789106695474, 0.8736789106695474, 0.8736789106695474, 0.8736789106695474, 0.8736789106695474, 0.8823064055329451, 0.8823064055329451]}], \"normalized_root_mean_squared_error\": [{\"categories\": [\"0\", \"1\", \"2\", \"3\", \"4\", \"5\", \"6\", \"7\", \"8\", \"9\"], \"mode\": \"markers\", \"name\": \"normalized_root_mean_squared_error\", \"stepped\": false, \"type\": \"scatter\", \"data\": [0.081974048909905, 0.07652139460258517, 0.07225365701425089, 0.07549341541221398, 0.07945227933172593, 0.11829826807827955, 0.09798657886753166, 0.07442718436452389, 0.06954349242467574, 0.07221379515730764]}, {\"categories\": [\"0\", \"1\", \"2\", \"3\", \"4\", \"5\", \"6\", \"7\", \"8\", \"9\"], \"mode\": \"lines\", \"name\": \"normalized_root_mean_squared_error_min\", \"stepped\": true, \"type\": \"scatter\", \"data\": [0.081974048909905, 0.07652139460258517, 0.07225365701425089, 0.07225365701425089, 0.07225365701425089, 0.07225365701425089, 0.07225365701425089, 0.07225365701425089, 0.06954349242467574, 0.06954349242467574]}], \"mean_absolute_error\": [{\"categories\": [\"0\", \"1\", \"2\", \"3\", \"4\", \"5\", \"6\", \"7\", \"8\", \"9\"], \"mode\": \"markers\", \"name\": \"mean_absolute_error\", \"stepped\": false, \"type\": \"scatter\", \"data\": [2.4535154778115316, 2.2268705231712826, 2.215215188927303, 2.321109593598814, 2.4882254187291566, 3.739821746121347, 2.8330398421569556, 2.2851355830392452, 2.1211980861517516, 2.1665138380360176]}, {\"categories\": [\"0\", \"1\", \"2\", \"3\", \"4\", \"5\", \"6\", \"7\", \"8\", \"9\"], \"mode\": \"lines\", \"name\": \"mean_absolute_error_min\", \"stepped\": true, \"type\": \"scatter\", \"data\": [2.4535154778115316, 2.2268705231712826, 2.215215188927303, 2.215215188927303, 2.215215188927303, 2.215215188927303, 2.215215188927303, 2.215215188927303, 2.1211980861517516, 2.1211980861517516]}], \"normalized_root_mean_squared_log_error\": [{\"categories\": [\"0\", \"1\", \"2\", \"3\", \"4\", \"5\", \"6\", \"7\", \"8\", \"9\"], \"mode\": \"markers\", \"name\": \"normalized_root_mean_squared_log_error\", \"stepped\": false, \"type\": \"scatter\", \"data\": [0.07332792543748268, 0.06827701436093325, 0.0671868596548975, 0.06911371244568977, 0.07263681330063491, 0.14669731660891688, 0.08425942247342111, 0.07053218023871972, 0.06441904735746873, 0.06477755892674225]}, {\"categories\": [\"0\", \"1\", \"2\", \"3\", \"4\", \"5\", \"6\", \"7\", \"8\", \"9\"], \"mode\": \"lines\", \"name\": \"normalized_root_mean_squared_log_error_min\", \"stepped\": true, \"type\": \"scatter\", \"data\": [0.07332792543748268, 0.06827701436093325, 0.0671868596548975, 0.0671868596548975, 0.0671868596548975, 0.0671868596548975, 0.0671868596548975, 0.0671868596548975, 0.06441904735746873, 0.06441904735746873]}], \"root_mean_squared_log_error\": [{\"categories\": [\"0\", \"1\", \"2\", \"3\", \"4\", \"5\", \"6\", \"7\", \"8\", \"9\"], \"mode\": \"markers\", \"name\": \"root_mean_squared_log_error\", \"stepped\": false, \"type\": \"scatter\", \"data\": [0.15692661206813416, 0.14611732817838222, 0.14378432497901886, 0.14790791743863177, 0.15544758636888464, 0.3139419635504425, 0.1803207389911058, 0.1509435323665044, 0.13786102353438268, 0.1386282620130069]}, {\"categories\": [\"0\", \"1\", \"2\", \"3\", \"4\", \"5\", \"6\", \"7\", \"8\", \"9\"], \"mode\": \"lines\", \"name\": \"root_mean_squared_log_error_min\", \"stepped\": true, \"type\": \"scatter\", \"data\": [0.15692661206813416, 0.14611732817838222, 0.14378432497901886, 0.14378432497901886, 0.14378432497901886, 0.14378432497901886, 0.14378432497901886, 0.14378432497901886, 0.13786102353438268, 0.13786102353438268]}], \"mean_absolute_percentage_error\": [{\"categories\": [\"0\", \"1\", \"2\", \"3\", \"4\", \"5\", \"6\", \"7\", \"8\", \"9\"], \"mode\": \"markers\", \"name\": \"mean_absolute_percentage_error\", \"stepped\": false, \"type\": \"scatter\", \"data\": [11.981263619921267, 10.95073303176345, 11.039624349581407, 11.369538974495926, 12.320290974471016, 18.12006951926192, 14.05939975524556, 11.565241955718676, 10.581156464834086, 10.574234888221321]}, {\"categories\": [\"0\", \"1\", \"2\", \"3\", \"4\", \"5\", \"6\", \"7\", \"8\", \"9\"], \"mode\": \"lines\", \"name\": \"mean_absolute_percentage_error_min\", \"stepped\": true, \"type\": \"scatter\", \"data\": [11.981263619921267, 10.95073303176345, 10.95073303176345, 10.95073303176345, 10.95073303176345, 10.95073303176345, 10.95073303176345, 10.95073303176345, 10.581156464834086, 10.574234888221321]}], \"normalized_mean_absolute_error\": [{\"categories\": [\"0\", \"1\", \"2\", \"3\", \"4\", \"5\", \"6\", \"7\", \"8\", \"9\"], \"mode\": \"markers\", \"name\": \"normalized_mean_absolute_error\", \"stepped\": false, \"type\": \"scatter\", \"data\": [0.05452256617358959, 0.0494860116260285, 0.0492270041983845, 0.051580213191084766, 0.05529389819398126, 0.08310714991380772, 0.06295644093682123, 0.05078079073420546, 0.047137735247816705, 0.048144751956355945]}, {\"categories\": [\"0\", \"1\", \"2\", \"3\", \"4\", \"5\", \"6\", \"7\", \"8\", \"9\"], \"mode\": \"lines\", \"name\": \"normalized_mean_absolute_error_min\", \"stepped\": true, \"type\": \"scatter\", \"data\": [0.05452256617358959, 0.0494860116260285, 0.0492270041983845, 0.0492270041983845, 0.0492270041983845, 0.0492270041983845, 0.0492270041983845, 0.0492270041983845, 0.047137735247816705, 0.047137735247816705]}], \"normalized_median_absolute_error\": [{\"categories\": [\"0\", \"1\", \"2\", \"3\", \"4\", \"5\", \"6\", \"7\", \"8\", \"9\"], \"mode\": \"markers\", \"name\": \"normalized_median_absolute_error\", \"stepped\": false, \"type\": \"scatter\", \"data\": [0.03731226432197188, 0.03315555103173749, 0.0336587525275827, 0.035703640565015134, 0.040498026161082196, 0.059825227029251936, 0.043529494336257864, 0.03464985193290702, 0.031212105940325918, 0.03248352769545977]}, {\"categories\": [\"0\", \"1\", \"2\", \"3\", \"4\", \"5\", \"6\", \"7\", \"8\", \"9\"], \"mode\": \"lines\", \"name\": \"normalized_median_absolute_error_min\", \"stepped\": true, \"type\": \"scatter\", \"data\": [0.03731226432197188, 0.03315555103173749, 0.03315555103173749, 0.03315555103173749, 0.03315555103173749, 0.03315555103173749, 0.03315555103173749, 0.03315555103173749, 0.031212105940325918, 0.031212105940325918]}], \"root_mean_squared_error\": [{\"categories\": [\"0\", \"1\", \"2\", \"3\", \"4\", \"5\", \"6\", \"7\", \"8\", \"9\"], \"mode\": \"markers\", \"name\": \"root_mean_squared_error\", \"stepped\": false, \"type\": \"scatter\", \"data\": [3.6888322009457255, 3.4434627571163325, 3.2514145656412903, 3.3972036935496295, 3.5753525699276665, 5.323422063522579, 4.409396049038925, 3.3492232964035753, 3.1294571591104083, 3.249620782078843]}, {\"categories\": [\"0\", \"1\", \"2\", \"3\", \"4\", \"5\", \"6\", \"7\", \"8\", \"9\"], \"mode\": \"lines\", \"name\": \"root_mean_squared_error_min\", \"stepped\": true, \"type\": \"scatter\", \"data\": [3.6888322009457255, 3.4434627571163325, 3.2514145656412903, 3.2514145656412903, 3.2514145656412903, 3.2514145656412903, 3.2514145656412903, 3.2514145656412903, 3.1294571591104083, 3.1294571591104083]}]}, \"metricName\": null, \"primaryMetricName\": \"r2_score\", \"showLegend\": false}, \"run_metrics\": [], \"run_logs\": \"\\nRun is completed.\", \"graph\": {}, \"widget_settings\": {\"childWidgetDisplay\": \"popup\", \"send_telemetry\": false, \"log_level\": \"INFO\", \"sdk_version\": \"1.0.83\"}, \"loading\": false}"
     },
     "metadata": {},
     "output_type": "display_data"
    }
   ],
   "source": [
    "# Widget\n",
    "from azureml.widgets import RunDetails\n",
    "RunDetails(automl_run).show() "
   ]
  },
  {
   "cell_type": "markdown",
   "metadata": {},
   "source": [
    "## 5. Référencement du meilleur modèle"
   ]
  },
  {
   "cell_type": "code",
   "execution_count": 19,
   "metadata": {},
   "outputs": [
    {
     "name": "stdout",
     "output_type": "stream",
     "text": [
      "Run(Experiment: Exemple3-automlregression,\n",
      "Id: AutoML_d3fb02b2-20d0-46b0-8cc9-1d974e192482_8,\n",
      "Type: None,\n",
      "Status: Completed)\n",
      "RegressionPipeline(pipeline=Pipeline(memory=None,\n",
      "     steps=[('datatransformer', DataTransformer(enable_dnn=None, enable_feature_sweeping=None,\n",
      "        feature_sweeping_config=None, feature_sweeping_timeout=None,\n",
      "        featurization_config=None, force_text_dnn=None,\n",
      "        is_cross_validation=None, is_onnx_compatible=None, logger=None,\n",
      "        obser...4444444444444444, 0.1111111111111111, 0.1111111111111111, 0.1111111111111111, 0.2222222222222222]))]),\n",
      "          stddev=None)\n",
      "spearman_correlation 0.9298764601611031\n",
      "explained_variance 0.8829692753748106\n",
      "residuals aml://artifactId/ExperimentRun/dcid.AutoML_d3fb02b2-20d0-46b0-8cc9-1d974e192482_8/residuals\n",
      "median_absolute_error 1.4045447673146665\n",
      "predicted_true aml://artifactId/ExperimentRun/dcid.AutoML_d3fb02b2-20d0-46b0-8cc9-1d974e192482_8/predicted_true\n",
      "r2_score 0.8823064055329451\n",
      "normalized_root_mean_squared_error 0.06954349242467574\n",
      "mean_absolute_error 2.1211980861517516\n",
      "normalized_root_mean_squared_log_error 0.06441904735746873\n",
      "root_mean_squared_log_error 0.13786102353438268\n",
      "mean_absolute_percentage_error 10.581156464834086\n",
      "normalized_mean_absolute_error 0.047137735247816705\n",
      "normalized_median_absolute_error 0.031212105940325918\n",
      "root_mean_squared_error 3.1294571591104083\n"
     ]
    }
   ],
   "source": [
    "best_run, fitted_model = automl_run.get_output()\n",
    "print(best_run)\n",
    "print(fitted_model)\n",
    "best_run_metrics = best_run.get_metrics()\n",
    "for metric_name in best_run_metrics:\n",
    "    metric = best_run_metrics[metric_name]\n",
    "    print(metric_name, metric)"
   ]
  },
  {
   "cell_type": "code",
   "execution_count": 20,
   "metadata": {},
   "outputs": [
    {
     "data": {
      "text/plain": [
       "Model(workspace=Workspace.create(name='AzureMLWorkshop', subscription_id='70b8f39e-8863-49f7-b6ba-34a80799550c', resource_group='AzureMLWorkshopRG'), name=Exemple3-AutoML-Regression, id=Exemple3-AutoML-Regression:1, version=1, tags={'Training context': 'Azure Auto ML'}, properties={'R2': '0.8823064055329451', 'RMSE': '0.06954349242467574'})"
      ]
     },
     "execution_count": 20,
     "metadata": {},
     "output_type": "execute_result"
    }
   ],
   "source": [
    "from azureml.core import Model\n",
    "\n",
    "best_run.register_model(model_path='outputs/model.pkl', model_name='Exemple3-AutoML-Regression',\n",
    "                        tags={'Training context':'Azure Auto ML'},\n",
    "                        properties={'R2': best_run_metrics['r2_score'], 'RMSE': best_run_metrics['normalized_root_mean_squared_error']})"
   ]
  },
  {
   "cell_type": "code",
   "execution_count": 21,
   "metadata": {},
   "outputs": [
    {
     "name": "stdout",
     "output_type": "stream",
     "text": [
      "Exemple3-AutoML-Regression version = 1\n",
      "\t Training context : Azure Auto ML\n",
      "\t R2 : 0.8823064055329451\n",
      "\t RMSE : 0.06954349242467574\n",
      "\n",
      "\n",
      "Exemple2-AutoML-Classif version = 1\n",
      "\t Training context : Azure Auto ML\n",
      "\t AUC : 0.9992557112092131\n",
      "\t Accuracy : 0.9652407308963173\n",
      "\n",
      "\n",
      "Exemple4-AutoML-Forecast version = 1\n",
      "\t Training context : Azure Auto ML\n",
      "\t R2 : 0.2102297702988311\n",
      "\t RMSE : 0.025719636958220327\n",
      "\n",
      "\n",
      "IBM_attrition_explainer version = 1\n",
      "\n",
      "\n",
      "local_deploy_model version = 1\n",
      "\n",
      "\n",
      "boston_model.pkl version = 1\n",
      "\t algo : Regression\n",
      "\t type : sklearn\n",
      "\n",
      "\n"
     ]
    }
   ],
   "source": [
    "# Liste des modèles référencés\n",
    "for model in Model.list(ws):\n",
    "    print(model.name, 'version =', model.version)\n",
    "    for tag_name in model.tags:\n",
    "        tag = model.tags[tag_name]\n",
    "        print ('\\t',tag_name, ':', tag)\n",
    "    for prop_name in model.properties:\n",
    "        prop = model.properties[prop_name]\n",
    "        print ('\\t',prop_name, ':', prop)\n",
    "    print('\\n')"
   ]
  },
  {
   "cell_type": "code",
   "execution_count": null,
   "metadata": {},
   "outputs": [],
   "source": []
  },
  {
   "cell_type": "markdown",
   "metadata": {},
   "source": [
    "<img src=\"https://github.com/retkowsky/images/blob/master/Powered-by-MS-Azure-logo-v2.png?raw=true\" height=\"300\" width=\"300\">"
   ]
  }
 ],
 "metadata": {
  "authors": [
   {
    "name": "savitam"
   }
  ],
  "kernelspec": {
   "display_name": "Python 3.6 - AzureML",
   "language": "python",
   "name": "python3-azureml"
  },
  "language_info": {
   "codemirror_mode": {
    "name": "ipython",
    "version": 3
   },
   "file_extension": ".py",
   "mimetype": "text/x-python",
   "name": "python",
   "nbconvert_exporter": "python",
   "pygments_lexer": "ipython3",
   "version": "3.6.9"
  }
 },
 "nbformat": 4,
 "nbformat_minor": 2
}
