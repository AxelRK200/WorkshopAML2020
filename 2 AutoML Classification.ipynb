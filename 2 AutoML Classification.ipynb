{
 "cells": [
  {
   "cell_type": "markdown",
   "metadata": {},
   "source": [
    "# AutoML Classification"
   ]
  },
  {
   "cell_type": "markdown",
   "metadata": {},
   "source": [
    "<img src='https://github.com/retkowsky/images/blob/master/AzureMLservicebanniere.png?raw=true'>"
   ]
  },
  {
   "cell_type": "markdown",
   "metadata": {},
   "source": [
    "This is a copy of the test set of the **UCI ML hand-written digits datasets** http://archive.ics.uci.edu/ml/datasets/Optical+Recognition+of+Handwritten+Digits\n",
    "\n",
    "The data set contains images of hand-written digits: 10 classes where each class refers to a digit.\n",
    "\n"
   ]
  },
  {
   "cell_type": "markdown",
   "metadata": {},
   "source": [
    "<img src=\"https://www.seewald.at/img/L/digits.gif\">\n"
   ]
  },
  {
   "cell_type": "markdown",
   "metadata": {},
   "source": [
    "## Documentation Azure ML service\n",
    "> https://docs.microsoft.com/en-us/azure/machine-learning/service/how-to-automated-ml"
   ]
  },
  {
   "cell_type": "markdown",
   "metadata": {},
   "source": [
    "## 1. Informations\n",
    "\n",
    "As part of the setup you have already created an Azure ML `Workspace` object. <br> For AutoML you will need to create an `Experiment` object, which is a named object in a `Workspace` used to run experiments."
   ]
  },
  {
   "cell_type": "code",
   "execution_count": 1,
   "metadata": {},
   "outputs": [
    {
     "data": {
      "text/plain": [
       "'3.6.9 |Anaconda, Inc.| (default, Jul 30 2019, 19:07:31) \\n[GCC 7.3.0]'"
      ]
     },
     "execution_count": 1,
     "metadata": {},
     "output_type": "execute_result"
    }
   ],
   "source": [
    "import sys\n",
    "sys.version"
   ]
  },
  {
   "cell_type": "code",
   "execution_count": 2,
   "metadata": {},
   "outputs": [
    {
     "name": "stdout",
     "output_type": "stream",
     "text": [
      "Version Azure ML Service : 1.0.83\n"
     ]
    }
   ],
   "source": [
    "import azureml.core\n",
    "print(\"Version Azure ML Service :\", azureml.core.VERSION)"
   ]
  },
  {
   "cell_type": "code",
   "execution_count": 3,
   "metadata": {},
   "outputs": [],
   "source": [
    "import logging\n",
    "import os\n",
    "import random\n",
    "\n",
    "from matplotlib import pyplot as plt\n",
    "from matplotlib.pyplot import imshow\n",
    "import numpy as np\n",
    "import pandas as pd\n",
    "from sklearn import datasets\n",
    "\n",
    "import azureml.core\n",
    "from azureml.core.experiment import Experiment\n",
    "from azureml.core.workspace import Workspace\n",
    "from azureml.train.automl import AutoMLConfig\n",
    "from azureml.train.automl.run import AutoMLRun"
   ]
  },
  {
   "cell_type": "markdown",
   "metadata": {},
   "source": [
    "## 2. Connexion workspace Azure ML service"
   ]
  },
  {
   "cell_type": "code",
   "execution_count": 4,
   "metadata": {},
   "outputs": [
    {
     "data": {
      "text/html": [
       "<div>\n",
       "<style scoped>\n",
       "    .dataframe tbody tr th:only-of-type {\n",
       "        vertical-align: middle;\n",
       "    }\n",
       "\n",
       "    .dataframe tbody tr th {\n",
       "        vertical-align: top;\n",
       "    }\n",
       "\n",
       "    .dataframe thead th {\n",
       "        text-align: right;\n",
       "    }\n",
       "</style>\n",
       "<table border=\"1\" class=\"dataframe\">\n",
       "  <thead>\n",
       "    <tr style=\"text-align: right;\">\n",
       "      <th></th>\n",
       "      <th></th>\n",
       "    </tr>\n",
       "  </thead>\n",
       "  <tbody>\n",
       "    <tr>\n",
       "      <th>SDK version</th>\n",
       "      <td>1.0.83</td>\n",
       "    </tr>\n",
       "    <tr>\n",
       "      <th>Workspace Name</th>\n",
       "      <td>AzureMLWorkshop</td>\n",
       "    </tr>\n",
       "    <tr>\n",
       "      <th>Resource Group</th>\n",
       "      <td>AzureMLWorkshopRG</td>\n",
       "    </tr>\n",
       "    <tr>\n",
       "      <th>Location</th>\n",
       "      <td>westeurope</td>\n",
       "    </tr>\n",
       "    <tr>\n",
       "      <th>Project Directory</th>\n",
       "      <td>./sample_projects/workshop2</td>\n",
       "    </tr>\n",
       "    <tr>\n",
       "      <th>Experiment Name</th>\n",
       "      <td>Exemple2-automlclassification</td>\n",
       "    </tr>\n",
       "  </tbody>\n",
       "</table>\n",
       "</div>"
      ],
      "text/plain": [
       "                                                \n",
       "SDK version        1.0.83                       \n",
       "Workspace Name     AzureMLWorkshop              \n",
       "Resource Group     AzureMLWorkshopRG            \n",
       "Location           westeurope                   \n",
       "Project Directory  ./sample_projects/workshop2  \n",
       "Experiment Name    Exemple2-automlclassification"
      ]
     },
     "execution_count": 4,
     "metadata": {},
     "output_type": "execute_result"
    }
   ],
   "source": [
    "ws = Workspace.from_config()\n",
    "\n",
    "experiment_name = 'Exemple2-automlclassification'\n",
    "\n",
    "project_folder = './sample_projects/workshop2'\n",
    "\n",
    "experiment = Experiment(ws, experiment_name)\n",
    "\n",
    "output = {}\n",
    "output['SDK version'] = azureml.core.VERSION\n",
    "output['Workspace Name'] = ws.name\n",
    "output['Resource Group'] = ws.resource_group\n",
    "output['Location'] = ws.location\n",
    "output['Project Directory'] = project_folder\n",
    "output['Experiment Name'] = experiment.name\n",
    "pd.set_option('display.max_colwidth', -1)\n",
    "pd.DataFrame(data = output, index = ['']).T"
   ]
  },
  {
   "cell_type": "markdown",
   "metadata": {},
   "source": [
    "## 3. Chargement des données\n",
    "\n",
    "This uses scikit-learn's [load_digits](http://scikit-learn.org/stable/modules/generated/sklearn.datasets.load_digits.html) method."
   ]
  },
  {
   "cell_type": "markdown",
   "metadata": {},
   "source": [
    "Each datapoint is a 8x8 image of a digit."
   ]
  },
  {
   "cell_type": "code",
   "execution_count": 5,
   "metadata": {},
   "outputs": [],
   "source": [
    "from sklearn import datasets\n",
    "\n",
    "digits = datasets.load_digits()\n",
    "\n",
    "# Exclude the first 100 rows from training so that they can be used for test.\n",
    "X_train = digits.data[100:,:]\n",
    "y_train = digits.target[100:]"
   ]
  },
  {
   "cell_type": "code",
   "execution_count": 6,
   "metadata": {},
   "outputs": [
    {
     "name": "stdout",
     "output_type": "stream",
     "text": [
      "(1797, 64)\n"
     ]
    }
   ],
   "source": [
    "print(digits.data.shape)"
   ]
  },
  {
   "cell_type": "markdown",
   "metadata": {},
   "source": [
    "> On a 1797 images de 8 sur 8 pixels (=64)."
   ]
  },
  {
   "cell_type": "markdown",
   "metadata": {},
   "source": [
    "### Exemples d'images :"
   ]
  },
  {
   "cell_type": "code",
   "execution_count": 7,
   "metadata": {},
   "outputs": [
    {
     "data": {
      "text/plain": [
       "<Figure size 432x288 with 0 Axes>"
      ]
     },
     "metadata": {},
     "output_type": "display_data"
    },
    {
     "data": {
      "image/png": "[encoded data removed]",
      "text/plain": [
       "<Figure size 288x288 with 1 Axes>"
      ]
     },
     "metadata": {
      "needs_background": "light"
     },
     "output_type": "display_data"
    }
   ],
   "source": [
    "import matplotlib.pyplot as plt \n",
    "plt.gray() \n",
    "plt.matshow(digits.images[1]) \n",
    "plt.show() "
   ]
  },
  {
   "cell_type": "code",
   "execution_count": 8,
   "metadata": {},
   "outputs": [
    {
     "data": {
      "text/plain": [
       "<Figure size 432x288 with 0 Axes>"
      ]
     },
     "metadata": {},
     "output_type": "display_data"
    },
    {
     "data": {
      "image/png": "[encoded data removed]",
      "text/plain": [
       "<Figure size 288x288 with 1 Axes>"
      ]
     },
     "metadata": {
      "needs_background": "light"
     },
     "output_type": "display_data"
    }
   ],
   "source": [
    "import matplotlib.pyplot as plt \n",
    "plt.gray() \n",
    "plt.matshow(digits.images[9]) \n",
    "plt.show() "
   ]
  },
  {
   "cell_type": "markdown",
   "metadata": {},
   "source": [
    "## 4. Configuration AutoML\n",
    "\n"
   ]
  },
  {
   "cell_type": "code",
   "execution_count": 9,
   "metadata": {},
   "outputs": [
    {
     "name": "stderr",
     "output_type": "stream",
     "text": [
      "WARNING - The AutoMLConfig inputs you have specified will soon be deprecated. Please use the AutoMLConfig shown in our documentation: https://aka.ms/AutoMLConfig\n"
     ]
    }
   ],
   "source": [
    "automl_config = AutoMLConfig(task = 'classification',\n",
    "                             debug_log = 'automl2.log',\n",
    "                             primary_metric = 'AUC_weighted',\n",
    "                             iteration_timeout_minutes = 2, # Temps max par itération\n",
    "                             experiment_timeout_minutes = 5, # Temps max pour le process AutoML\n",
    "                             enable_early_stopping=True, # Sortie si pas d'amélioration de la métrique\n",
    "                             iterations = 10,           # Possibilité de définir le nombre d'itérations max\n",
    "                             n_cross_validations = 3,    # Nombre de validations croisées\n",
    "                             verbosity = logging.INFO,\n",
    "                             X = X_train, \n",
    "                             y = y_train)"
   ]
  },
  {
   "cell_type": "markdown",
   "metadata": {},
   "source": [
    "## 5. AutoML\n",
    "\n",
    "Call the `submit` method on the experiment object and pass the run configuration. Execution of local runs is synchronous. Depending on the data and the number of iterations this can run for a while.\n",
    "In this example, we specify `show_output = True` to print currently running iterations to the console.\n",
    "\n",
    "`AUC_weighted` is the **metric** used."
   ]
  },
  {
   "cell_type": "code",
   "execution_count": 10,
   "metadata": {},
   "outputs": [
    {
     "name": "stdout",
     "output_type": "stream",
     "text": [
      "Running on local machine\n",
      "Parent Run ID: AutoML_9351227c-348d-41b8-87f6-5ae7b4d294cc\n",
      "\n",
      "Current status: DatasetCrossValidationSplit. Generating CV splits.\n",
      "\n",
      "****************************************************************************************************\n",
      "DATA GUARDRAILS: \n",
      "\n",
      "TYPE:         Class balancing detection\n",
      "STATUS:       PASSED\n",
      "DESCRIPTION:  Classes are balanced in the training data.\n",
      "\n",
      "****************************************************************************************************\n",
      "Current status: ModelSelection. Beginning model selection.\n",
      "\n",
      "****************************************************************************************************\n",
      "ITERATION: The iteration being evaluated.\n",
      "PIPELINE: A summary description of the pipeline being evaluated.\n",
      "DURATION: Time taken for the current iteration.\n",
      "METRIC: The result of computing score on the fitted pipeline.\n",
      "BEST: The best observed score thus far.\n",
      "****************************************************************************************************\n",
      "\n",
      " ITERATION   PIPELINE                                       DURATION      METRIC      BEST\n",
      "         0   MaxAbsScaler LightGBM                          0:00:28       0.9992    0.9992\n",
      "         1   StandardScalerWrapper SGD                      0:00:18       0.9942    0.9992\n",
      "         2   StandardScalerWrapper SGD                      0:00:22       0.9969    0.9992\n",
      "         3   MinMaxScaler LightGBM                          0:00:21       0.9977    0.9992\n",
      "         4   StandardScalerWrapper SGD                      0:00:19       0.9892    0.9992\n",
      "         5   StandardScalerWrapper ExtremeRandomTrees       0:00:18       0.9966    0.9992\n",
      "         6   MinMaxScaler SGD                               0:00:18       0.9959    0.9992\n",
      "         7   StandardScalerWrapper LightGBM                 0:00:21       0.9974    0.9992\n",
      "         8   VotingEnsemble                                 0:00:27       0.9993    0.9993\n",
      "         9   StackEnsemble                                  0:00:33       0.9820    0.9993\n"
     ]
    }
   ],
   "source": [
    "local_run = experiment.submit(automl_config, show_output = True)"
   ]
  },
  {
   "cell_type": "code",
   "execution_count": 11,
   "metadata": {},
   "outputs": [
    {
     "data": {
      "text/html": [
       "<table style=\"width:100%\"><tr><th>Experiment</th><th>Id</th><th>Type</th><th>Status</th><th>Details Page</th><th>Docs Page</th></tr><tr><td>Exemple2-automlclassification</td><td>AutoML_9351227c-348d-41b8-87f6-5ae7b4d294cc</td><td>automl</td><td>Completed</td><td><a href=\"https://ml.azure.com/experiments/Exemple2-automlclassification/runs/AutoML_9351227c-348d-41b8-87f6-5ae7b4d294cc?wsid=/subscriptions/70b8f39e-8863-49f7-b6ba-34a80799550c/resourcegroups/AzureMLWorkshopRG/workspaces/AzureMLWorkshop\" target=\"_blank\" rel=\"noopener\">Link to Azure Machine Learning studio</a></td><td><a href=\"https://docs.microsoft.com/en-us/python/api/overview/azure/ml/intro?view=azure-ml-py\" target=\"_blank\" rel=\"noopener\">Link to Documentation</a></td></tr></table>"
      ],
      "text/plain": [
       "Run(Experiment: Exemple2-automlclassification,\n",
       "Id: AutoML_9351227c-348d-41b8-87f6-5ae7b4d294cc,\n",
       "Type: automl,\n",
       "Status: Completed)"
      ]
     },
     "execution_count": 11,
     "metadata": {},
     "output_type": "execute_result"
    }
   ],
   "source": [
    "local_run"
   ]
  },
  {
   "cell_type": "markdown",
   "metadata": {},
   "source": [
    "## 6. Exploration des résultats AutoML"
   ]
  },
  {
   "cell_type": "markdown",
   "metadata": {},
   "source": [
    "### 6.1 Notebook Widget\n"
   ]
  },
  {
   "cell_type": "code",
   "execution_count": 12,
   "metadata": {},
   "outputs": [
    {
     "data": {
      "application/vnd.jupyter.widget-view+json": {
       "model_id": "a34277def80841759d5c2f19d7ed8dc8",
       "version_major": 2,
       "version_minor": 0
      },
      "text/plain": [
       "_AutoMLWidget(widget_settings={'childWidgetDisplay': 'popup', 'send_telemetry': False, 'log_level': 'INFO', 's…"
      ]
     },
     "metadata": {},
     "output_type": "display_data"
    },
    {
     "data": {
      "application/aml.mini.widget.v1": "{\"status\": \"Completed\", \"workbench_run_details_uri\": \"https://ml.azure.com/experiments/Exemple2-automlclassification/runs/AutoML_9351227c-348d-41b8-87f6-5ae7b4d294cc?wsid=/subscriptions/70b8f39e-8863-49f7-b6ba-34a80799550c/resourcegroups/AzureMLWorkshopRG/workspaces/AzureMLWorkshop\", \"run_id\": \"AutoML_9351227c-348d-41b8-87f6-5ae7b4d294cc\", \"run_properties\": {\"run_id\": \"AutoML_9351227c-348d-41b8-87f6-5ae7b4d294cc\", \"created_utc\": \"2020-03-10T15:03:33.863302Z\", \"properties\": {\"num_iterations\": \"10\", \"training_type\": \"TrainFull\", \"acquisition_function\": \"EI\", \"primary_metric\": \"AUC_weighted\", \"train_split\": \"0\", \"MaxTimeSeconds\": \"120\", \"acquisition_parameter\": \"0\", \"num_cross_validation\": \"3\", \"target\": \"local\", \"RawAMLSettingsString\": \"{'name': 'Exemple2-automlclassification', 'path': '.', 'subscription_id': '70b8f39e-8863-49f7-b6ba-34a80799550c', 'resource_group': 'AzureMLWorkshopRG', 'workspace_name': 'AzureMLWorkshop', 'region': 'westeurope', 'compute_target': 'local', 'spark_service': None, 'azure_service': None, 'iterations': 10, 'primary_metric': 'AUC_weighted', 'task_type': 'classification', 'data_script': None, 'validation_size': 0.0, 'n_cross_validations': 3, 'y_min': None, 'y_max': None, 'num_classes': 10, 'featurization': 'off', 'preprocess': False, 'lag_length': 0, 'is_timeseries': False, 'max_cores_per_iteration': 1, 'max_concurrent_iterations': 1, 'iteration_timeout_minutes': 2, 'mem_in_mb': None, 'enforce_time_on_windows': False, 'experiment_timeout_minutes': 5, 'experiment_exit_score': None, 'whitelist_models': None, 'blacklist_algos': ['XGBoostClassifier', 'Prophet'], 'supported_models': ['BernoulliNaiveBayes', 'SGD', 'ExtremeRandomTrees', 'MultinomialNaiveBayes', 'LogisticRegression', 'XGBoostClassifier', 'RandomForest', 'SVM', 'KNN', 'AveragedPerceptronClassifier', 'LightGBM', 'GradientBoosting', 'TensorFlowLinearClassifier', 'LinearSVMClassifier', 'LinearSVM', 'DecisionTree', 'TensorFlowDNN'], 'auto_blacklist': True, 'blacklist_samples_reached': False, 'exclude_nan_labels': True, 'verbosity': 20, 'debug_log': 'automl2.log', 'show_warnings': False, 'model_explainability': False, 'service_url': None, 'sdk_url': None, 'sdk_packages': None, 'enable_onnx_compatible_models': False, 'enable_split_onnx_featurizer_estimator_models': False, 'vm_type': None, 'telemetry_verbosity': 'INFO', 'send_telemetry': True, 'enable_dnn': False, 'force_text_dnn': False, 'enable_feature_sweeping': True, 'enable_early_stopping': True, 'early_stopping_n_iters': 10, 'metrics': None, 'enable_ensembling': True, 'enable_stack_ensembling': True, 'ensemble_iterations': 10, 'enable_tf': False, 'enable_cache': True, 'enable_subsampling': False, 'subsample_seed': None, 'enable_nimbusml': False, 'enable_streaming': False, 'label_column_name': None, 'weight_column_name': None, 'cost_mode': 0, 'metric_operation': 'maximize'}\", \"AMLSettingsJsonString\": \"{\\\"name\\\": \\\"Exemple2-automlclassification\\\", \\\"path\\\": \\\".\\\", \\\"subscription_id\\\": \\\"70b8f39e-8863-49f7-b6ba-34a80799550c\\\", \\\"resource_group\\\": \\\"AzureMLWorkshopRG\\\", \\\"workspace_name\\\": \\\"AzureMLWorkshop\\\", \\\"region\\\": \\\"westeurope\\\", \\\"compute_target\\\": \\\"local\\\", \\\"spark_service\\\": null, \\\"azure_service\\\": null, \\\"iterations\\\": 10, \\\"primary_metric\\\": \\\"AUC_weighted\\\", \\\"task_type\\\": \\\"classification\\\", \\\"data_script\\\": null, \\\"validation_size\\\": 0.0, \\\"n_cross_validations\\\": 3, \\\"y_min\\\": null, \\\"y_max\\\": null, \\\"num_classes\\\": 10, \\\"featurization\\\": \\\"off\\\", \\\"preprocess\\\": false, \\\"lag_length\\\": 0, \\\"is_timeseries\\\": false, \\\"max_cores_per_iteration\\\": 1, \\\"max_concurrent_iterations\\\": 1, \\\"iteration_timeout_minutes\\\": 2, \\\"mem_in_mb\\\": null, \\\"enforce_time_on_windows\\\": false, \\\"experiment_timeout_minutes\\\": 5, \\\"experiment_exit_score\\\": null, \\\"whitelist_models\\\": null, \\\"blacklist_algos\\\": [\\\"XGBoostClassifier\\\", \\\"Prophet\\\"], \\\"supported_models\\\": [\\\"BernoulliNaiveBayes\\\", \\\"SGD\\\", \\\"ExtremeRandomTrees\\\", \\\"MultinomialNaiveBayes\\\", \\\"LogisticRegression\\\", \\\"XGBoostClassifier\\\", \\\"RandomForest\\\", \\\"SVM\\\", \\\"KNN\\\", \\\"AveragedPerceptronClassifier\\\", \\\"LightGBM\\\", \\\"GradientBoosting\\\", \\\"TensorFlowLinearClassifier\\\", \\\"LinearSVMClassifier\\\", \\\"LinearSVM\\\", \\\"DecisionTree\\\", \\\"TensorFlowDNN\\\"], \\\"auto_blacklist\\\": true, \\\"blacklist_samples_reached\\\": false, \\\"exclude_nan_labels\\\": true, \\\"verbosity\\\": 20, \\\"debug_log\\\": \\\"automl2.log\\\", \\\"show_warnings\\\": false, \\\"model_explainability\\\": false, \\\"service_url\\\": null, \\\"sdk_url\\\": null, \\\"sdk_packages\\\": null, \\\"enable_onnx_compatible_models\\\": false, \\\"enable_split_onnx_featurizer_estimator_models\\\": false, \\\"vm_type\\\": null, \\\"telemetry_verbosity\\\": \\\"INFO\\\", \\\"send_telemetry\\\": true, \\\"enable_dnn\\\": false, \\\"force_text_dnn\\\": false, \\\"enable_feature_sweeping\\\": true, \\\"enable_early_stopping\\\": true, \\\"early_stopping_n_iters\\\": 10, \\\"metrics\\\": null, \\\"enable_ensembling\\\": true, \\\"enable_stack_ensembling\\\": true, \\\"ensemble_iterations\\\": 10, \\\"enable_tf\\\": false, \\\"enable_cache\\\": true, \\\"enable_subsampling\\\": false, \\\"subsample_seed\\\": null, \\\"enable_nimbusml\\\": false, \\\"enable_streaming\\\": false, \\\"label_column_name\\\": null, \\\"weight_column_name\\\": null, \\\"cost_mode\\\": 0, \\\"metric_operation\\\": \\\"maximize\\\"}\", \"DataPrepJsonString\": null, \"EnableSubsampling\": \"False\", \"Properties\": \"[display_task_type, classification],[dependencies_versions, {\\\"azureml-widgets\\\": \\\"1.0.83\\\", \\\"azureml-train\\\": \\\"1.0.83\\\", \\\"azureml-train-restclients-hyperdrive\\\": \\\"1.0.83\\\", \\\"azureml-train-core\\\": \\\"1.0.83\\\", \\\"azureml-train-automl\\\": \\\"1.0.83\\\", \\\"azureml-train-automl-runtime\\\": \\\"1.0.83.1\\\", \\\"azureml-train-automl-client\\\": \\\"1.0.83\\\", \\\"azureml-tensorboard\\\": \\\"1.0.83\\\", \\\"azureml-telemetry\\\": \\\"1.0.83\\\", \\\"azureml-sdk\\\": \\\"1.0.83\\\", \\\"azureml-samples\\\": \\\"0+unknown\\\", \\\"azureml-pipeline\\\": \\\"1.0.83\\\", \\\"azureml-pipeline-steps\\\": \\\"1.0.83\\\", \\\"azureml-pipeline-core\\\": \\\"1.0.83\\\", \\\"azureml-opendatasets\\\": \\\"1.0.83\\\", \\\"azureml-model-management-sdk\\\": \\\"1.0.1b6.post1\\\", \\\"azureml-mlflow\\\": \\\"1.0.83\\\", \\\"azureml-interpret\\\": \\\"1.0.83\\\", \\\"azureml-explain-model\\\": \\\"1.0.83\\\", \\\"azureml-defaults\\\": \\\"1.0.83\\\", \\\"azureml-dataprep\\\": \\\"1.1.35\\\", \\\"azureml-dataprep-native\\\": \\\"13.2.0\\\", \\\"azureml-datadrift\\\": \\\"1.0.83\\\", \\\"azureml-core\\\": \\\"1.0.83\\\", \\\"azureml-contrib-services\\\": \\\"1.0.83\\\", \\\"azureml-contrib-server\\\": \\\"1.0.83\\\", \\\"azureml-contrib-reinforcementlearning\\\": \\\"1.0.83\\\", \\\"azureml-contrib-pipeline-steps\\\": \\\"1.0.83\\\", \\\"azureml-contrib-notebook\\\": \\\"1.0.83\\\", \\\"azureml-contrib-interpret\\\": \\\"1.0.83\\\", \\\"azureml-contrib-datadrift\\\": \\\"1.0.83\\\", \\\"azureml-automl-runtime\\\": \\\"1.0.83\\\", \\\"azureml-automl-core\\\": \\\"1.0.83.1\\\"}]\", \"runTemplate\": \"AutoML\", \"azureml.runsource\": \"automl\", \"display_task_type\": \"classification\", \"dependencies_versions\": \"{\\\"azureml-widgets\\\": \\\"1.0.83\\\", \\\"azureml-train\\\": \\\"1.0.83\\\", \\\"azureml-train-restclients-hyperdrive\\\": \\\"1.0.83\\\", \\\"azureml-train-core\\\": \\\"1.0.83\\\", \\\"azureml-train-automl\\\": \\\"1.0.83\\\", \\\"azureml-train-automl-runtime\\\": \\\"1.0.83.1\\\", \\\"azureml-train-automl-client\\\": \\\"1.0.83\\\", \\\"azureml-tensorboard\\\": \\\"1.0.83\\\", \\\"azureml-telemetry\\\": \\\"1.0.83\\\", \\\"azureml-sdk\\\": \\\"1.0.83\\\", \\\"azureml-samples\\\": \\\"0+unknown\\\", \\\"azureml-pipeline\\\": \\\"1.0.83\\\", \\\"azureml-pipeline-steps\\\": \\\"1.0.83\\\", \\\"azureml-pipeline-core\\\": \\\"1.0.83\\\", \\\"azureml-opendatasets\\\": \\\"1.0.83\\\", \\\"azureml-model-management-sdk\\\": \\\"1.0.1b6.post1\\\", \\\"azureml-mlflow\\\": \\\"1.0.83\\\", \\\"azureml-interpret\\\": \\\"1.0.83\\\", \\\"azureml-explain-model\\\": \\\"1.0.83\\\", \\\"azureml-defaults\\\": \\\"1.0.83\\\", \\\"azureml-dataprep\\\": \\\"1.1.35\\\", \\\"azureml-dataprep-native\\\": \\\"13.2.0\\\", \\\"azureml-datadrift\\\": \\\"1.0.83\\\", \\\"azureml-core\\\": \\\"1.0.83\\\", \\\"azureml-contrib-services\\\": \\\"1.0.83\\\", \\\"azureml-contrib-server\\\": \\\"1.0.83\\\", \\\"azureml-contrib-reinforcementlearning\\\": \\\"1.0.83\\\", \\\"azureml-contrib-pipeline-steps\\\": \\\"1.0.83\\\", \\\"azureml-contrib-notebook\\\": \\\"1.0.83\\\", \\\"azureml-contrib-interpret\\\": \\\"1.0.83\\\", \\\"azureml-contrib-datadrift\\\": \\\"1.0.83\\\", \\\"azureml-automl-runtime\\\": \\\"1.0.83\\\", \\\"azureml-automl-core\\\": \\\"1.0.83.1\\\"}\", \"ClientType\": \"SDK\", \"ClientSdkVersion\": \"1.0.83\", \"ProblemInfoJsonString\": \"{\\\"dataset_num_categorical\\\": 0, \\\"is_sparse\\\": false, \\\"subsampling\\\": false, \\\"dataset_classes\\\": 10, \\\"dataset_features\\\": 64, \\\"dataset_samples\\\": 1697, \\\"single_frequency_class_detected\\\": false}\", \"feature_skus\": \"automatedml_sdk_guardrails\", \"azureml.git.repository_uri\": \"https://github.com/retkowsky/WorkshopAML2020\", \"mlflow.source.git.repoURL\": \"https://github.com/retkowsky/WorkshopAML2020\", \"azureml.git.branch\": \"master\", \"mlflow.source.git.branch\": \"master\", \"azureml.git.commit\": \"92bcd73fc9ec1037078710902a207fd495a95825\", \"mlflow.source.git.commit\": \"92bcd73fc9ec1037078710902a207fd495a95825\", \"azureml.git.dirty\": \"True\"}, \"tags\": {\"model_explain_run\": \"best_run\", \"experiment_status\": \"ModelSelection\", \"experiment_status_descr\": \"Beginning model selection.\", \"best_score\": \"0.9992557112092131\", \"best_pipeline\": \"VotingEnsemble\"}, \"end_time_utc\": \"2020-03-10T15:07:29.11725Z\", \"status\": \"Completed\", \"log_files\": {}, \"log_groups\": [], \"run_duration\": \"0:03:55\"}, \"child_runs\": [{\"run_id\": \"AutoML_9351227c-348d-41b8-87f6-5ae7b4d294cc_0\", \"run_number\": 46, \"metric\": null, \"status\": \"Completed\", \"run_type\": null, \"training_percent\": null, \"start_time\": \"2020-03-10T15:03:39.925818Z\", \"end_time\": \"2020-03-10T15:04:06.404089Z\", \"created_time\": \"2020-03-10T15:03:39.70682Z\", \"created_time_dt\": \"2020-03-10T15:03:39.70682Z\", \"duration\": \"0:00:26\", \"iteration\": \"0\", \"goal\": \"AUC_weighted_max\", \"run_name\": \"MaxAbsScaler, LightGBM\", \"run_properties\": \"boosting_type='gbdt', class_weight=None,\\n          colsample_bytree=1.0, importance_type='split', learning_rate=0.1,\\n          max_depth=-1, min_child_samples=20, min_child_weight=0.001,\\n          min_split_gain=0.0, n_estimators=100, n_jobs=1, num_leaves=31,\\n          objective=None, random_state=None, reg_alpha=0.0, reg_lambda=0.0,\\n          silent=True, subsample=1.0, subsample_for_bin=200000,\\n          subsample_freq=0, verbose=-10\", \"primary_metric\": 0.99919404, \"best_metric\": 0.99919404}, {\"run_id\": \"AutoML_9351227c-348d-41b8-87f6-5ae7b4d294cc_1\", \"run_number\": 47, \"metric\": null, \"status\": \"Completed\", \"run_type\": null, \"training_percent\": \"100\", \"start_time\": \"2020-03-10T15:04:08.019216Z\", \"end_time\": \"2020-03-10T15:04:24.09105Z\", \"created_time\": \"2020-03-10T15:04:07.69958Z\", \"created_time_dt\": \"2020-03-10T15:04:07.69958Z\", \"duration\": \"0:00:16\", \"iteration\": \"1\", \"goal\": \"AUC_weighted_max\", \"run_name\": \"StandardScalerWrapper, SGD\", \"run_properties\": \"alpha=2.653134693877551, class_weight=None, eta0=0.0001,\\n           fit_intercept=True, l1_ratio=0.36734693877551017,\\n           learning_rate='constant', loss='modified_huber', max_iter=1000,\\n           n_jobs=1, penalty='none', power_t=0.1111111111111111,\\n           random_state=None, tol=0.001\", \"primary_metric\": 0.99417068, \"best_metric\": 0.99919404}, {\"run_id\": \"AutoML_9351227c-348d-41b8-87f6-5ae7b4d294cc_2\", \"run_number\": 48, \"metric\": null, \"status\": \"Completed\", \"run_type\": null, \"training_percent\": \"100\", \"start_time\": \"2020-03-10T15:04:27.531584Z\", \"end_time\": \"2020-03-10T15:04:46.146835Z\", \"created_time\": \"2020-03-10T15:04:27.15426Z\", \"created_time_dt\": \"2020-03-10T15:04:27.15426Z\", \"duration\": \"0:00:18\", \"iteration\": \"2\", \"goal\": \"AUC_weighted_max\", \"run_name\": \"StandardScalerWrapper, SGD\", \"run_properties\": \"alpha=1.4286571428571428, class_weight=None, eta0=0.01,\\n           fit_intercept=True, l1_ratio=0.7551020408163265,\\n           learning_rate='constant', loss='log', max_iter=1000, n_jobs=1,\\n           penalty='none', power_t=0.4444444444444444, random_state=None,\\n           tol=0.001\", \"primary_metric\": 0.99693658, \"best_metric\": 0.99919404}, {\"run_id\": \"AutoML_9351227c-348d-41b8-87f6-5ae7b4d294cc_3\", \"run_number\": 49, \"metric\": null, \"status\": \"Completed\", \"run_type\": null, \"training_percent\": \"100\", \"start_time\": \"2020-03-10T15:04:48.686602Z\", \"end_time\": \"2020-03-10T15:05:08.151784Z\", \"created_time\": \"2020-03-10T15:04:48.373349Z\", \"created_time_dt\": \"2020-03-10T15:04:48.373349Z\", \"duration\": \"0:00:19\", \"iteration\": \"3\", \"goal\": \"AUC_weighted_max\", \"run_name\": \"MinMaxScaler, LightGBM\", \"run_properties\": \"boosting_type='goss', class_weight=None,\\n          colsample_bytree=0.7922222222222222, importance_type='split',\\n          learning_rate=0.1, max_bin=170, max_depth=4,\\n          min_child_samples=65, min_child_weight=4,\\n          min_split_gain=0.8421052631578947, n_estimators=50, n_jobs=1,\\n          num_leaves=62, objective=None, random_state=None,\\n          reg_alpha=0.7894736842105263, reg_lambda=0.15789473684210525,\\n          silent=True, subsample=1, subsample_for_bin=200000,\\n          subsample_freq=0, verbose=-10\", \"primary_metric\": 0.99765641, \"best_metric\": 0.99919404}, {\"run_id\": \"AutoML_9351227c-348d-41b8-87f6-5ae7b4d294cc_4\", \"run_number\": 50, \"metric\": null, \"status\": \"Completed\", \"run_type\": null, \"training_percent\": \"100\", \"start_time\": \"2020-03-10T15:05:10.701782Z\", \"end_time\": \"2020-03-10T15:05:28.334312Z\", \"created_time\": \"2020-03-10T15:05:10.396693Z\", \"created_time_dt\": \"2020-03-10T15:05:10.396693Z\", \"duration\": \"0:00:17\", \"iteration\": \"4\", \"goal\": \"AUC_weighted_max\", \"run_name\": \"StandardScalerWrapper, SGD\", \"run_properties\": \"alpha=0.0001, class_weight='balanced', eta0=0.0001,\\n           fit_intercept=False, l1_ratio=0.3469387755102041,\\n           learning_rate='constant', loss='modified_huber', max_iter=1000,\\n           n_jobs=1, penalty='l2', power_t=0.2222222222222222,\\n           random_state=None, tol=0.01\", \"primary_metric\": 0.98919333, \"best_metric\": 0.99919404}, {\"run_id\": \"AutoML_9351227c-348d-41b8-87f6-5ae7b4d294cc_5\", \"run_number\": 51, \"metric\": null, \"status\": \"Completed\", \"run_type\": null, \"training_percent\": \"100\", \"start_time\": \"2020-03-10T15:05:30.709011Z\", \"end_time\": \"2020-03-10T15:05:46.829397Z\", \"created_time\": \"2020-03-10T15:05:29.556371Z\", \"created_time_dt\": \"2020-03-10T15:05:29.556371Z\", \"duration\": \"0:00:17\", \"iteration\": \"5\", \"goal\": \"AUC_weighted_max\", \"run_name\": \"StandardScalerWrapper, ExtremeRandomTrees\", \"run_properties\": \"bootstrap=True, class_weight=None, criterion='entropy',\\n           max_depth=None, max_features='sqrt', max_leaf_nodes=None,\\n           min_impurity_decrease=0.0, min_impurity_split=None,\\n           min_samples_leaf=0.01, min_samples_split=0.01,\\n           min_weight_fraction_leaf=0.0, n_estimators=100, n_jobs=1,\\n           oob_score=False, random_state=None, verbose=0, warm_start=False\", \"primary_metric\": 0.99658065, \"best_metric\": 0.99919404}, {\"run_id\": \"AutoML_9351227c-348d-41b8-87f6-5ae7b4d294cc_6\", \"run_number\": 52, \"metric\": null, \"status\": \"Completed\", \"run_type\": null, \"training_percent\": \"100\", \"start_time\": \"2020-03-10T15:05:50.208436Z\", \"end_time\": \"2020-03-10T15:06:04.921861Z\", \"created_time\": \"2020-03-10T15:05:50.072832Z\", \"created_time_dt\": \"2020-03-10T15:05:50.072832Z\", \"duration\": \"0:00:14\", \"iteration\": \"6\", \"goal\": \"AUC_weighted_max\", \"run_name\": \"MinMaxScaler, SGD\", \"run_properties\": \"alpha=8.775522448979592, class_weight='balanced',\\n           eta0=0.01, fit_intercept=True, l1_ratio=0.8775510204081632,\\n           learning_rate='constant', loss='log', max_iter=1000, n_jobs=1,\\n           penalty='none', power_t=0.2222222222222222, random_state=None,\\n           tol=0.01\", \"primary_metric\": 0.9958845, \"best_metric\": 0.99919404}, {\"run_id\": \"AutoML_9351227c-348d-41b8-87f6-5ae7b4d294cc_7\", \"run_number\": 53, \"metric\": null, \"status\": \"Completed\", \"run_type\": null, \"training_percent\": \"100\", \"start_time\": \"2020-03-10T15:06:07.362083Z\", \"end_time\": \"2020-03-10T15:06:25.537863Z\", \"created_time\": \"2020-03-10T15:06:06.336816Z\", \"created_time_dt\": \"2020-03-10T15:06:06.336816Z\", \"duration\": \"0:00:19\", \"iteration\": \"7\", \"goal\": \"AUC_weighted_max\", \"run_name\": \"StandardScalerWrapper, LightGBM\", \"run_properties\": \"boosting_type='gbdt', class_weight=None,\\n          colsample_bytree=0.6933333333333332, importance_type='split',\\n          learning_rate=0.07894947368421053, max_bin=240, max_depth=3,\\n          min_child_samples=30, min_child_weight=6,\\n          min_split_gain=0.631578947368421, n_estimators=50, n_jobs=1,\\n          num_leaves=65, objective=None, random_state=None,\\n          reg_alpha=0.5789473684210527, reg_lambda=0.631578947368421,\\n          silent=True, subsample=0.3963157894736842,\\n          subsample_for_bin=200000, subsample_freq=0, verbose=-10\", \"primary_metric\": 0.99738858, \"best_metric\": 0.99919404}, {\"run_id\": \"AutoML_9351227c-348d-41b8-87f6-5ae7b4d294cc_8\", \"run_number\": 54, \"metric\": null, \"status\": \"Completed\", \"run_type\": null, \"training_percent\": \"100\", \"start_time\": \"2020-03-10T15:06:27.94981Z\", \"end_time\": \"2020-03-10T15:06:53.154366Z\", \"created_time\": \"2020-03-10T15:06:27.655451Z\", \"created_time_dt\": \"2020-03-10T15:06:27.655451Z\", \"duration\": \"0:00:25\", \"iteration\": \"8\", \"goal\": \"AUC_weighted_max\", \"run_name\": \"VotingEnsemble\", \"run_properties\": \"\", \"primary_metric\": 0.99925571, \"best_metric\": 0.99925571}, {\"run_id\": \"AutoML_9351227c-348d-41b8-87f6-5ae7b4d294cc_9\", \"run_number\": 55, \"metric\": null, \"status\": \"Completed\", \"run_type\": null, \"training_percent\": \"100\", \"start_time\": \"2020-03-10T15:06:56.095478Z\", \"end_time\": \"2020-03-10T15:07:28.25632Z\", \"created_time\": \"2020-03-10T15:06:55.751828Z\", \"created_time_dt\": \"2020-03-10T15:06:55.751828Z\", \"duration\": \"0:00:32\", \"iteration\": \"9\", \"goal\": \"AUC_weighted_max\", \"run_name\": \"StackEnsemble\", \"run_properties\": \"\", \"primary_metric\": 0.98202751, \"best_metric\": 0.99925571}], \"children_metrics\": {\"categories\": [0], \"series\": {\"f1_score_micro\": [{\"categories\": [\"0\", \"1\", \"2\", \"3\", \"4\", \"5\", \"6\", \"7\", \"8\", \"9\"], \"mode\": \"markers\", \"name\": \"f1_score_micro\", \"stepped\": false, \"type\": \"scatter\", \"data\": [0.9628839759425456, 0.9487371921156593, 0.9587541824322211, 0.9351824634916664, 0.9080688368408435, 0.9469777041183276, 0.938135443051169, 0.9393101723005722, 0.9652407308963173, 0.8579359371254052]}, {\"categories\": [\"0\", \"1\", \"2\", \"3\", \"4\", \"5\", \"6\", \"7\", \"8\", \"9\"], \"mode\": \"lines\", \"name\": \"f1_score_micro_max\", \"stepped\": true, \"type\": \"scatter\", \"data\": [0.9628839759425456, 0.9628839759425456, 0.9628839759425456, 0.9628839759425456, 0.9628839759425456, 0.9628839759425456, 0.9628839759425456, 0.9628839759425456, 0.9652407308963173, 0.9652407308963173]}], \"precision_score_macro\": [{\"categories\": [\"0\", \"1\", \"2\", \"3\", \"4\", \"5\", \"6\", \"7\", \"8\", \"9\"], \"mode\": \"markers\", \"name\": \"precision_score_macro\", \"stepped\": false, \"type\": \"scatter\", \"data\": [0.9640830453384751, 0.9499254365672122, 0.9597723845346646, 0.9370791431812971, 0.9082518780047875, 0.9481954384920598, 0.938640166144589, 0.9404746020424395, 0.9663022304313964, 0.8238750216641485]}, {\"categories\": [\"0\", \"1\", \"2\", \"3\", \"4\", \"5\", \"6\", \"7\", \"8\", \"9\"], \"mode\": \"lines\", \"name\": \"precision_score_macro_max\", \"stepped\": true, \"type\": \"scatter\", \"data\": [0.9640830453384751, 0.9640830453384751, 0.9640830453384751, 0.9640830453384751, 0.9640830453384751, 0.9640830453384751, 0.9640830453384751, 0.9640830453384751, 0.9663022304313964, 0.9663022304313964]}], \"balanced_accuracy\": [{\"categories\": [\"0\", \"1\", \"2\", \"3\", \"4\", \"5\", \"6\", \"7\", \"8\", \"9\"], \"mode\": \"markers\", \"name\": \"balanced_accuracy\", \"stepped\": false, \"type\": \"scatter\", \"data\": [0.9633000881733736, 0.9496701925302432, 0.9595822115348941, 0.9357232758210251, 0.9088534514046959, 0.9471861717922606, 0.9383915351005765, 0.9399787168704153, 0.9655590439442342, 0.8681515488120471]}, {\"categories\": [\"0\", \"1\", \"2\", \"3\", \"4\", \"5\", \"6\", \"7\", \"8\", \"9\"], \"mode\": \"lines\", \"name\": \"balanced_accuracy_max\", \"stepped\": true, \"type\": \"scatter\", \"data\": [0.9633000881733736, 0.9633000881733736, 0.9633000881733736, 0.9633000881733736, 0.9633000881733736, 0.9633000881733736, 0.9633000881733736, 0.9633000881733736, 0.9655590439442342, 0.9655590439442342]}], \"AUC_micro\": [{\"categories\": [\"0\", \"1\", \"2\", \"3\", \"4\", \"5\", \"6\", \"7\", \"8\", \"9\"], \"mode\": \"markers\", \"name\": \"AUC_micro\", \"stepped\": false, \"type\": \"scatter\", \"data\": [0.9991625925212827, 0.9948269136269398, 0.9975178986697522, 0.9976906798088825, 0.9893397760414597, 0.9970521704423763, 0.9967364615895221, 0.9974563404883172, 0.9992850515640933, 0.9890304006178616]}, {\"categories\": [\"0\", \"1\", \"2\", \"3\", \"4\", \"5\", \"6\", \"7\", \"8\", \"9\"], \"mode\": \"lines\", \"name\": \"AUC_micro_max\", \"stepped\": true, \"type\": \"scatter\", \"data\": [0.9991625925212827, 0.9991625925212827, 0.9991625925212827, 0.9991625925212827, 0.9991625925212827, 0.9991625925212827, 0.9991625925212827, 0.9991625925212827, 0.9992850515640933, 0.9992850515640933]}], \"f1_score_macro\": [{\"categories\": [\"0\", \"1\", \"2\", \"3\", \"4\", \"5\", \"6\", \"7\", \"8\", \"9\"], \"mode\": \"markers\", \"name\": \"f1_score_macro\", \"stepped\": false, \"type\": \"scatter\", \"data\": [0.9630586267844569, 0.9489370509730634, 0.9590285025162656, 0.9351997885254847, 0.9064108626903987, 0.9466863264724005, 0.9377522408113571, 0.939289584519635, 0.9653172893785165, 0.8366645435800403]}, {\"categories\": [\"0\", \"1\", \"2\", \"3\", \"4\", \"5\", \"6\", \"7\", \"8\", \"9\"], \"mode\": \"lines\", \"name\": \"f1_score_macro_max\", \"stepped\": true, \"type\": \"scatter\", \"data\": [0.9630586267844569, 0.9630586267844569, 0.9630586267844569, 0.9630586267844569, 0.9630586267844569, 0.9630586267844569, 0.9630586267844569, 0.9630586267844569, 0.9653172893785165, 0.9653172893785165]}], \"AUC_weighted\": [{\"categories\": [\"0\", \"1\", \"2\", \"3\", \"4\", \"5\", \"6\", \"7\", \"8\", \"9\"], \"mode\": \"markers\", \"name\": \"AUC_weighted\", \"stepped\": false, \"type\": \"scatter\", \"data\": [0.9991940367053402, 0.9941706783304701, 0.9969365754514975, 0.9976564131295369, 0.9891933322588726, 0.9965806516113572, 0.9958844991242334, 0.9973885789425502, 0.9992557112092131, 0.9820275070108918]}, {\"categories\": [\"0\", \"1\", \"2\", \"3\", \"4\", \"5\", \"6\", \"7\", \"8\", \"9\"], \"mode\": \"lines\", \"name\": \"AUC_weighted_max\", \"stepped\": true, \"type\": \"scatter\", \"data\": [0.9991940367053402, 0.9991940367053402, 0.9991940367053402, 0.9991940367053402, 0.9991940367053402, 0.9991940367053402, 0.9991940367053402, 0.9991940367053402, 0.9992557112092131, 0.9992557112092131]}], \"weighted_accuracy\": [{\"categories\": [\"0\", \"1\", \"2\", \"3\", \"4\", \"5\", \"6\", \"7\", \"8\", \"9\"], \"mode\": \"markers\", \"name\": \"weighted_accuracy\", \"stepped\": false, \"type\": \"scatter\", \"data\": [0.9624157429451962, 0.9477426515341758, 0.9578899139586242, 0.9345605875314177, 0.9073347411609349, 0.9466681528575354, 0.9377848969637492, 0.9385547528652828, 0.9648522349987022, 0.84710931467261]}, {\"categories\": [\"0\", \"1\", \"2\", \"3\", \"4\", \"5\", \"6\", \"7\", \"8\", \"9\"], \"mode\": \"lines\", \"name\": \"weighted_accuracy_max\", \"stepped\": true, \"type\": \"scatter\", \"data\": [0.9624157429451962, 0.9624157429451962, 0.9624157429451962, 0.9624157429451962, 0.9624157429451962, 0.9624157429451962, 0.9624157429451962, 0.9624157429451962, 0.9648522349987022, 0.9648522349987022]}], \"AUC_macro\": [{\"categories\": [\"0\", \"1\", \"2\", \"3\", \"4\", \"5\", \"6\", \"7\", \"8\", \"9\"], \"mode\": \"markers\", \"name\": \"AUC_macro\", \"stepped\": false, \"type\": \"scatter\", \"data\": [0.9992289225554636, 0.994075651127543, 0.9968826005014848, 0.9976954935526967, 0.9892432381570516, 0.9965531821112101, 0.9959828629867395, 0.9973865188586353, 0.9992725104275081, 0.9820531519905558]}, {\"categories\": [\"0\", \"1\", \"2\", \"3\", \"4\", \"5\", \"6\", \"7\", \"8\", \"9\"], \"mode\": \"lines\", \"name\": \"AUC_macro_max\", \"stepped\": true, \"type\": \"scatter\", \"data\": [0.9992289225554636, 0.9992289225554636, 0.9992289225554636, 0.9992289225554636, 0.9992289225554636, 0.9992289225554636, 0.9992289225554636, 0.9992289225554636, 0.9992725104275081, 0.9992725104275081]}], \"precision_score_weighted\": [{\"categories\": [\"0\", \"1\", \"2\", \"3\", \"4\", \"5\", \"6\", \"7\", \"8\", \"9\"], \"mode\": \"markers\", \"name\": \"precision_score_weighted\", \"stepped\": false, \"type\": \"scatter\", \"data\": [0.9643887974423323, 0.9500510031732552, 0.9599901487799706, 0.9376858100407213, 0.9094278505097272, 0.9487313009175441, 0.9392827029360333, 0.9416688955990408, 0.9667646484108378, 0.817429688255395]}, {\"categories\": [\"0\", \"1\", \"2\", \"3\", \"4\", \"5\", \"6\", \"7\", \"8\", \"9\"], \"mode\": \"lines\", \"name\": \"precision_score_weighted_max\", \"stepped\": true, \"type\": \"scatter\", \"data\": [0.9643887974423323, 0.9643887974423323, 0.9643887974423323, 0.9643887974423323, 0.9643887974423323, 0.9643887974423323, 0.9643887974423323, 0.9643887974423323, 0.9667646484108378, 0.9667646484108378]}], \"f1_score_weighted\": [{\"categories\": [\"0\", \"1\", \"2\", \"3\", \"4\", \"5\", \"6\", \"7\", \"8\", \"9\"], \"mode\": \"markers\", \"name\": \"f1_score_weighted\", \"stepped\": false, \"type\": \"scatter\", \"data\": [0.9629897652902043, 0.9485057763434682, 0.9587135103376486, 0.9352181262455677, 0.9065645541424208, 0.9468798519817895, 0.9379479723947002, 0.9395483949197097, 0.9653791516013842, 0.8289433656936119]}, {\"categories\": [\"0\", \"1\", \"2\", \"3\", \"4\", \"5\", \"6\", \"7\", \"8\", \"9\"], \"mode\": \"lines\", \"name\": \"f1_score_weighted_max\", \"stepped\": true, \"type\": \"scatter\", \"data\": [0.9629897652902043, 0.9629897652902043, 0.9629897652902043, 0.9629897652902043, 0.9629897652902043, 0.9629897652902043, 0.9629897652902043, 0.9629897652902043, 0.9653791516013842, 0.9653791516013842]}], \"recall_score_weighted\": [{\"categories\": [\"0\", \"1\", \"2\", \"3\", \"4\", \"5\", \"6\", \"7\", \"8\", \"9\"], \"mode\": \"markers\", \"name\": \"recall_score_weighted\", \"stepped\": false, \"type\": \"scatter\", \"data\": [0.9628839759425456, 0.9487371921156593, 0.9587541824322211, 0.9351824634916664, 0.9080688368408435, 0.9469777041183276, 0.938135443051169, 0.9393101723005722, 0.9652407308963173, 0.8579359371254052]}, {\"categories\": [\"0\", \"1\", \"2\", \"3\", \"4\", \"5\", \"6\", \"7\", \"8\", \"9\"], \"mode\": \"lines\", \"name\": \"recall_score_weighted_max\", \"stepped\": true, \"type\": \"scatter\", \"data\": [0.9628839759425456, 0.9628839759425456, 0.9628839759425456, 0.9628839759425456, 0.9628839759425456, 0.9628839759425456, 0.9628839759425456, 0.9628839759425456, 0.9652407308963173, 0.9652407308963173]}], \"average_precision_score_micro\": [{\"categories\": [\"0\", \"1\", \"2\", \"3\", \"4\", \"5\", \"6\", \"7\", \"8\", \"9\"], \"mode\": \"markers\", \"name\": \"average_precision_score_micro\", \"stepped\": false, \"type\": \"scatter\", \"data\": [0.9944002366191053, 0.9805159543414823, 0.987859051561332, 0.9848078185355881, 0.9365382111524282, 0.9830016539827963, 0.9828896791643812, 0.9841897135298021, 0.9950137636750246, 0.9456894130330374]}, {\"categories\": [\"0\", \"1\", \"2\", \"3\", \"4\", \"5\", \"6\", \"7\", \"8\", \"9\"], \"mode\": \"lines\", \"name\": \"average_precision_score_micro_max\", \"stepped\": true, \"type\": \"scatter\", \"data\": [0.9944002366191053, 0.9944002366191053, 0.9944002366191053, 0.9944002366191053, 0.9944002366191053, 0.9944002366191053, 0.9944002366191053, 0.9944002366191053, 0.9950137636750246, 0.9950137636750246]}], \"precision_score_micro\": [{\"categories\": [\"0\", \"1\", \"2\", \"3\", \"4\", \"5\", \"6\", \"7\", \"8\", \"9\"], \"mode\": \"markers\", \"name\": \"precision_score_micro\", \"stepped\": false, \"type\": \"scatter\", \"data\": [0.9628839759425456, 0.9487371921156593, 0.9587541824322211, 0.9351824634916664, 0.9080688368408435, 0.9469777041183276, 0.938135443051169, 0.9393101723005722, 0.9652407308963173, 0.8579359371254052]}, {\"categories\": [\"0\", \"1\", \"2\", \"3\", \"4\", \"5\", \"6\", \"7\", \"8\", \"9\"], \"mode\": \"lines\", \"name\": \"precision_score_micro_max\", \"stepped\": true, \"type\": \"scatter\", \"data\": [0.9628839759425456, 0.9628839759425456, 0.9628839759425456, 0.9628839759425456, 0.9628839759425456, 0.9628839759425456, 0.9628839759425456, 0.9628839759425456, 0.9652407308963173, 0.9652407308963173]}], \"accuracy\": [{\"categories\": [\"0\", \"1\", \"2\", \"3\", \"4\", \"5\", \"6\", \"7\", \"8\", \"9\"], \"mode\": \"markers\", \"name\": \"accuracy\", \"stepped\": false, \"type\": \"scatter\", \"data\": [0.9628839759425456, 0.9487371921156593, 0.9587541824322211, 0.9351824634916664, 0.9080688368408435, 0.9469777041183276, 0.938135443051169, 0.9393101723005722, 0.9652407308963173, 0.8579359371254052]}, {\"categories\": [\"0\", \"1\", \"2\", \"3\", \"4\", \"5\", \"6\", \"7\", \"8\", \"9\"], \"mode\": \"lines\", \"name\": \"accuracy_max\", \"stepped\": true, \"type\": \"scatter\", \"data\": [0.9628839759425456, 0.9628839759425456, 0.9628839759425456, 0.9628839759425456, 0.9628839759425456, 0.9628839759425456, 0.9628839759425456, 0.9628839759425456, 0.9652407308963173, 0.9652407308963173]}], \"norm_macro_recall\": [{\"categories\": [\"0\", \"1\", \"2\", \"3\", \"4\", \"5\", \"6\", \"7\", \"8\", \"9\"], \"mode\": \"markers\", \"name\": \"norm_macro_recall\", \"stepped\": false, \"type\": \"scatter\", \"data\": [0.9592223201926373, 0.9440779917002701, 0.9550913461498821, 0.928581417578917, 0.8987260571163286, 0.9413179686580673, 0.9315461501117516, 0.9333096854115723, 0.9617322710491489, 0.8535017209022747]}, {\"categories\": [\"0\", \"1\", \"2\", \"3\", \"4\", \"5\", \"6\", \"7\", \"8\", \"9\"], \"mode\": \"lines\", \"name\": \"norm_macro_recall_max\", \"stepped\": true, \"type\": \"scatter\", \"data\": [0.9592223201926373, 0.9592223201926373, 0.9592223201926373, 0.9592223201926373, 0.9592223201926373, 0.9592223201926373, 0.9592223201926373, 0.9592223201926373, 0.9617322710491489, 0.9617322710491489]}], \"log_loss\": [{\"categories\": [\"0\", \"1\", \"2\", \"3\", \"4\", \"5\", \"6\", \"7\", \"8\", \"9\"], \"mode\": \"markers\", \"name\": \"log_loss\", \"stepped\": false, \"type\": \"scatter\", \"data\": [0.11264348157133698, 0.5406372277821951, 0.24260381402652442, 0.32456495034312055, 1.61933913672778, 0.7696258901867356, 0.3824784726853781, 0.33509476736668137, 0.19522668791769737, 0.5757587286239605]}, {\"categories\": [\"0\", \"1\", \"2\", \"3\", \"4\", \"5\", \"6\", \"7\", \"8\", \"9\"], \"mode\": \"lines\", \"name\": \"log_loss_min\", \"stepped\": true, \"type\": \"scatter\", \"data\": [0.11264348157133698, 0.11264348157133698, 0.11264348157133698, 0.11264348157133698, 0.11264348157133698, 0.11264348157133698, 0.11264348157133698, 0.11264348157133698, 0.11264348157133698, 0.11264348157133698]}], \"recall_score_macro\": [{\"categories\": [\"0\", \"1\", \"2\", \"3\", \"4\", \"5\", \"6\", \"7\", \"8\", \"9\"], \"mode\": \"markers\", \"name\": \"recall_score_macro\", \"stepped\": false, \"type\": \"scatter\", \"data\": [0.9633000881733736, 0.9496701925302432, 0.9595822115348941, 0.9357232758210251, 0.9088534514046959, 0.9471861717922606, 0.9383915351005765, 0.9399787168704153, 0.9655590439442342, 0.8681515488120471]}, {\"categories\": [\"0\", \"1\", \"2\", \"3\", \"4\", \"5\", \"6\", \"7\", \"8\", \"9\"], \"mode\": \"lines\", \"name\": \"recall_score_macro_max\", \"stepped\": true, \"type\": \"scatter\", \"data\": [0.9633000881733736, 0.9633000881733736, 0.9633000881733736, 0.9633000881733736, 0.9633000881733736, 0.9633000881733736, 0.9633000881733736, 0.9633000881733736, 0.9655590439442342, 0.9655590439442342]}], \"average_precision_score_macro\": [{\"categories\": [\"0\", \"1\", \"2\", \"3\", \"4\", \"5\", \"6\", \"7\", \"8\", \"9\"], \"mode\": \"markers\", \"name\": \"average_precision_score_macro\", \"stepped\": false, \"type\": \"scatter\", \"data\": [0.994792988333756, 0.9778541907328077, 0.9868224901485295, 0.9846845264716029, 0.9391635776387032, 0.9806437892036467, 0.9782109346668242, 0.9837124544260384, 0.9951249635584482, 0.9171618248970681]}, {\"categories\": [\"0\", \"1\", \"2\", \"3\", \"4\", \"5\", \"6\", \"7\", \"8\", \"9\"], \"mode\": \"lines\", \"name\": \"average_precision_score_macro_max\", \"stepped\": true, \"type\": \"scatter\", \"data\": [0.994792988333756, 0.994792988333756, 0.994792988333756, 0.994792988333756, 0.994792988333756, 0.994792988333756, 0.994792988333756, 0.994792988333756, 0.9951249635584482, 0.9951249635584482]}], \"recall_score_micro\": [{\"categories\": [\"0\", \"1\", \"2\", \"3\", \"4\", \"5\", \"6\", \"7\", \"8\", \"9\"], \"mode\": \"markers\", \"name\": \"recall_score_micro\", \"stepped\": false, \"type\": \"scatter\", \"data\": [0.9628839759425456, 0.9487371921156593, 0.9587541824322211, 0.9351824634916664, 0.9080688368408435, 0.9469777041183276, 0.938135443051169, 0.9393101723005722, 0.9652407308963173, 0.8579359371254052]}, {\"categories\": [\"0\", \"1\", \"2\", \"3\", \"4\", \"5\", \"6\", \"7\", \"8\", \"9\"], \"mode\": \"lines\", \"name\": \"recall_score_micro_max\", \"stepped\": true, \"type\": \"scatter\", \"data\": [0.9628839759425456, 0.9628839759425456, 0.9628839759425456, 0.9628839759425456, 0.9628839759425456, 0.9628839759425456, 0.9628839759425456, 0.9628839759425456, 0.9652407308963173, 0.9652407308963173]}], \"average_precision_score_weighted\": [{\"categories\": [\"0\", \"1\", \"2\", \"3\", \"4\", \"5\", \"6\", \"7\", \"8\", \"9\"], \"mode\": \"markers\", \"name\": \"average_precision_score_weighted\", \"stepped\": false, \"type\": \"scatter\", \"data\": [0.9947431665432841, 0.9778389852601334, 0.986868475974617, 0.9847317338491589, 0.9392023350429048, 0.9809283877493398, 0.978014840513306, 0.9839265875300168, 0.9951119379729968, 0.9167686552346764]}, {\"categories\": [\"0\", \"1\", \"2\", \"3\", \"4\", \"5\", \"6\", \"7\", \"8\", \"9\"], \"mode\": \"lines\", \"name\": \"average_precision_score_weighted_max\", \"stepped\": true, \"type\": \"scatter\", \"data\": [0.9947431665432841, 0.9947431665432841, 0.9947431665432841, 0.9947431665432841, 0.9947431665432841, 0.9947431665432841, 0.9947431665432841, 0.9947431665432841, 0.9951119379729968, 0.9951119379729968]}]}, \"metricName\": null, \"primaryMetricName\": \"AUC_weighted\", \"showLegend\": false}, \"run_metrics\": [], \"run_logs\": \"\\nRun is completed.\", \"graph\": {}, \"widget_settings\": {\"childWidgetDisplay\": \"popup\", \"send_telemetry\": false, \"log_level\": \"INFO\", \"sdk_version\": \"1.0.83\"}, \"loading\": false}"
     },
     "metadata": {},
     "output_type": "display_data"
    }
   ],
   "source": [
    "from azureml.widgets import RunDetails\n",
    "RunDetails(local_run).show() "
   ]
  },
  {
   "cell_type": "markdown",
   "metadata": {},
   "source": [
    "\n",
    "### 6.2 Métriques par itération\n"
   ]
  },
  {
   "cell_type": "code",
   "execution_count": 13,
   "metadata": {},
   "outputs": [
    {
     "data": {
      "text/html": [
       "<div>\n",
       "<style scoped>\n",
       "    .dataframe tbody tr th:only-of-type {\n",
       "        vertical-align: middle;\n",
       "    }\n",
       "\n",
       "    .dataframe tbody tr th {\n",
       "        vertical-align: top;\n",
       "    }\n",
       "\n",
       "    .dataframe thead th {\n",
       "        text-align: right;\n",
       "    }\n",
       "</style>\n",
       "<table border=\"1\" class=\"dataframe\">\n",
       "  <thead>\n",
       "    <tr style=\"text-align: right;\">\n",
       "      <th></th>\n",
       "      <th>0</th>\n",
       "      <th>1</th>\n",
       "      <th>2</th>\n",
       "      <th>3</th>\n",
       "      <th>4</th>\n",
       "      <th>5</th>\n",
       "      <th>6</th>\n",
       "      <th>7</th>\n",
       "      <th>8</th>\n",
       "      <th>9</th>\n",
       "    </tr>\n",
       "  </thead>\n",
       "  <tbody>\n",
       "    <tr>\n",
       "      <th>AUC_macro</th>\n",
       "      <td>1.00</td>\n",
       "      <td>0.99</td>\n",
       "      <td>1.00</td>\n",
       "      <td>1.00</td>\n",
       "      <td>0.99</td>\n",
       "      <td>1.00</td>\n",
       "      <td>1.00</td>\n",
       "      <td>1.00</td>\n",
       "      <td>1.00</td>\n",
       "      <td>0.98</td>\n",
       "    </tr>\n",
       "    <tr>\n",
       "      <th>AUC_micro</th>\n",
       "      <td>1.00</td>\n",
       "      <td>0.99</td>\n",
       "      <td>1.00</td>\n",
       "      <td>1.00</td>\n",
       "      <td>0.99</td>\n",
       "      <td>1.00</td>\n",
       "      <td>1.00</td>\n",
       "      <td>1.00</td>\n",
       "      <td>1.00</td>\n",
       "      <td>0.99</td>\n",
       "    </tr>\n",
       "    <tr>\n",
       "      <th>AUC_weighted</th>\n",
       "      <td>1.00</td>\n",
       "      <td>0.99</td>\n",
       "      <td>1.00</td>\n",
       "      <td>1.00</td>\n",
       "      <td>0.99</td>\n",
       "      <td>1.00</td>\n",
       "      <td>1.00</td>\n",
       "      <td>1.00</td>\n",
       "      <td>1.00</td>\n",
       "      <td>0.98</td>\n",
       "    </tr>\n",
       "    <tr>\n",
       "      <th>accuracy</th>\n",
       "      <td>0.96</td>\n",
       "      <td>0.95</td>\n",
       "      <td>0.96</td>\n",
       "      <td>0.94</td>\n",
       "      <td>0.91</td>\n",
       "      <td>0.95</td>\n",
       "      <td>0.94</td>\n",
       "      <td>0.94</td>\n",
       "      <td>0.97</td>\n",
       "      <td>0.86</td>\n",
       "    </tr>\n",
       "    <tr>\n",
       "      <th>average_precision_score_macro</th>\n",
       "      <td>0.99</td>\n",
       "      <td>0.98</td>\n",
       "      <td>0.99</td>\n",
       "      <td>0.98</td>\n",
       "      <td>0.94</td>\n",
       "      <td>0.98</td>\n",
       "      <td>0.98</td>\n",
       "      <td>0.98</td>\n",
       "      <td>1.00</td>\n",
       "      <td>0.92</td>\n",
       "    </tr>\n",
       "    <tr>\n",
       "      <th>average_precision_score_micro</th>\n",
       "      <td>0.99</td>\n",
       "      <td>0.98</td>\n",
       "      <td>0.99</td>\n",
       "      <td>0.98</td>\n",
       "      <td>0.94</td>\n",
       "      <td>0.98</td>\n",
       "      <td>0.98</td>\n",
       "      <td>0.98</td>\n",
       "      <td>1.00</td>\n",
       "      <td>0.95</td>\n",
       "    </tr>\n",
       "    <tr>\n",
       "      <th>average_precision_score_weighted</th>\n",
       "      <td>0.99</td>\n",
       "      <td>0.98</td>\n",
       "      <td>0.99</td>\n",
       "      <td>0.98</td>\n",
       "      <td>0.94</td>\n",
       "      <td>0.98</td>\n",
       "      <td>0.98</td>\n",
       "      <td>0.98</td>\n",
       "      <td>1.00</td>\n",
       "      <td>0.92</td>\n",
       "    </tr>\n",
       "    <tr>\n",
       "      <th>balanced_accuracy</th>\n",
       "      <td>0.96</td>\n",
       "      <td>0.95</td>\n",
       "      <td>0.96</td>\n",
       "      <td>0.94</td>\n",
       "      <td>0.91</td>\n",
       "      <td>0.95</td>\n",
       "      <td>0.94</td>\n",
       "      <td>0.94</td>\n",
       "      <td>0.97</td>\n",
       "      <td>0.87</td>\n",
       "    </tr>\n",
       "    <tr>\n",
       "      <th>f1_score_macro</th>\n",
       "      <td>0.96</td>\n",
       "      <td>0.95</td>\n",
       "      <td>0.96</td>\n",
       "      <td>0.94</td>\n",
       "      <td>0.91</td>\n",
       "      <td>0.95</td>\n",
       "      <td>0.94</td>\n",
       "      <td>0.94</td>\n",
       "      <td>0.97</td>\n",
       "      <td>0.84</td>\n",
       "    </tr>\n",
       "    <tr>\n",
       "      <th>f1_score_micro</th>\n",
       "      <td>0.96</td>\n",
       "      <td>0.95</td>\n",
       "      <td>0.96</td>\n",
       "      <td>0.94</td>\n",
       "      <td>0.91</td>\n",
       "      <td>0.95</td>\n",
       "      <td>0.94</td>\n",
       "      <td>0.94</td>\n",
       "      <td>0.97</td>\n",
       "      <td>0.86</td>\n",
       "    </tr>\n",
       "    <tr>\n",
       "      <th>f1_score_weighted</th>\n",
       "      <td>0.96</td>\n",
       "      <td>0.95</td>\n",
       "      <td>0.96</td>\n",
       "      <td>0.94</td>\n",
       "      <td>0.91</td>\n",
       "      <td>0.95</td>\n",
       "      <td>0.94</td>\n",
       "      <td>0.94</td>\n",
       "      <td>0.97</td>\n",
       "      <td>0.83</td>\n",
       "    </tr>\n",
       "    <tr>\n",
       "      <th>log_loss</th>\n",
       "      <td>0.11</td>\n",
       "      <td>0.54</td>\n",
       "      <td>0.24</td>\n",
       "      <td>0.32</td>\n",
       "      <td>1.62</td>\n",
       "      <td>0.77</td>\n",
       "      <td>0.38</td>\n",
       "      <td>0.34</td>\n",
       "      <td>0.20</td>\n",
       "      <td>0.58</td>\n",
       "    </tr>\n",
       "    <tr>\n",
       "      <th>norm_macro_recall</th>\n",
       "      <td>0.96</td>\n",
       "      <td>0.94</td>\n",
       "      <td>0.96</td>\n",
       "      <td>0.93</td>\n",
       "      <td>0.90</td>\n",
       "      <td>0.94</td>\n",
       "      <td>0.93</td>\n",
       "      <td>0.93</td>\n",
       "      <td>0.96</td>\n",
       "      <td>0.85</td>\n",
       "    </tr>\n",
       "    <tr>\n",
       "      <th>precision_score_macro</th>\n",
       "      <td>0.96</td>\n",
       "      <td>0.95</td>\n",
       "      <td>0.96</td>\n",
       "      <td>0.94</td>\n",
       "      <td>0.91</td>\n",
       "      <td>0.95</td>\n",
       "      <td>0.94</td>\n",
       "      <td>0.94</td>\n",
       "      <td>0.97</td>\n",
       "      <td>0.82</td>\n",
       "    </tr>\n",
       "    <tr>\n",
       "      <th>precision_score_micro</th>\n",
       "      <td>0.96</td>\n",
       "      <td>0.95</td>\n",
       "      <td>0.96</td>\n",
       "      <td>0.94</td>\n",
       "      <td>0.91</td>\n",
       "      <td>0.95</td>\n",
       "      <td>0.94</td>\n",
       "      <td>0.94</td>\n",
       "      <td>0.97</td>\n",
       "      <td>0.86</td>\n",
       "    </tr>\n",
       "    <tr>\n",
       "      <th>precision_score_weighted</th>\n",
       "      <td>0.96</td>\n",
       "      <td>0.95</td>\n",
       "      <td>0.96</td>\n",
       "      <td>0.94</td>\n",
       "      <td>0.91</td>\n",
       "      <td>0.95</td>\n",
       "      <td>0.94</td>\n",
       "      <td>0.94</td>\n",
       "      <td>0.97</td>\n",
       "      <td>0.82</td>\n",
       "    </tr>\n",
       "    <tr>\n",
       "      <th>recall_score_macro</th>\n",
       "      <td>0.96</td>\n",
       "      <td>0.95</td>\n",
       "      <td>0.96</td>\n",
       "      <td>0.94</td>\n",
       "      <td>0.91</td>\n",
       "      <td>0.95</td>\n",
       "      <td>0.94</td>\n",
       "      <td>0.94</td>\n",
       "      <td>0.97</td>\n",
       "      <td>0.87</td>\n",
       "    </tr>\n",
       "    <tr>\n",
       "      <th>recall_score_micro</th>\n",
       "      <td>0.96</td>\n",
       "      <td>0.95</td>\n",
       "      <td>0.96</td>\n",
       "      <td>0.94</td>\n",
       "      <td>0.91</td>\n",
       "      <td>0.95</td>\n",
       "      <td>0.94</td>\n",
       "      <td>0.94</td>\n",
       "      <td>0.97</td>\n",
       "      <td>0.86</td>\n",
       "    </tr>\n",
       "    <tr>\n",
       "      <th>recall_score_weighted</th>\n",
       "      <td>0.96</td>\n",
       "      <td>0.95</td>\n",
       "      <td>0.96</td>\n",
       "      <td>0.94</td>\n",
       "      <td>0.91</td>\n",
       "      <td>0.95</td>\n",
       "      <td>0.94</td>\n",
       "      <td>0.94</td>\n",
       "      <td>0.97</td>\n",
       "      <td>0.86</td>\n",
       "    </tr>\n",
       "    <tr>\n",
       "      <th>weighted_accuracy</th>\n",
       "      <td>0.96</td>\n",
       "      <td>0.95</td>\n",
       "      <td>0.96</td>\n",
       "      <td>0.93</td>\n",
       "      <td>0.91</td>\n",
       "      <td>0.95</td>\n",
       "      <td>0.94</td>\n",
       "      <td>0.94</td>\n",
       "      <td>0.96</td>\n",
       "      <td>0.85</td>\n",
       "    </tr>\n",
       "  </tbody>\n",
       "</table>\n",
       "</div>"
      ],
      "text/plain": [
       "                                    0    1    2    3    4    5    6    7    8  \\\n",
       "AUC_macro                        1.00 0.99 1.00 1.00 0.99 1.00 1.00 1.00 1.00   \n",
       "AUC_micro                        1.00 0.99 1.00 1.00 0.99 1.00 1.00 1.00 1.00   \n",
       "AUC_weighted                     1.00 0.99 1.00 1.00 0.99 1.00 1.00 1.00 1.00   \n",
       "accuracy                         0.96 0.95 0.96 0.94 0.91 0.95 0.94 0.94 0.97   \n",
       "average_precision_score_macro    0.99 0.98 0.99 0.98 0.94 0.98 0.98 0.98 1.00   \n",
       "average_precision_score_micro    0.99 0.98 0.99 0.98 0.94 0.98 0.98 0.98 1.00   \n",
       "average_precision_score_weighted 0.99 0.98 0.99 0.98 0.94 0.98 0.98 0.98 1.00   \n",
       "balanced_accuracy                0.96 0.95 0.96 0.94 0.91 0.95 0.94 0.94 0.97   \n",
       "f1_score_macro                   0.96 0.95 0.96 0.94 0.91 0.95 0.94 0.94 0.97   \n",
       "f1_score_micro                   0.96 0.95 0.96 0.94 0.91 0.95 0.94 0.94 0.97   \n",
       "f1_score_weighted                0.96 0.95 0.96 0.94 0.91 0.95 0.94 0.94 0.97   \n",
       "log_loss                         0.11 0.54 0.24 0.32 1.62 0.77 0.38 0.34 0.20   \n",
       "norm_macro_recall                0.96 0.94 0.96 0.93 0.90 0.94 0.93 0.93 0.96   \n",
       "precision_score_macro            0.96 0.95 0.96 0.94 0.91 0.95 0.94 0.94 0.97   \n",
       "precision_score_micro            0.96 0.95 0.96 0.94 0.91 0.95 0.94 0.94 0.97   \n",
       "precision_score_weighted         0.96 0.95 0.96 0.94 0.91 0.95 0.94 0.94 0.97   \n",
       "recall_score_macro               0.96 0.95 0.96 0.94 0.91 0.95 0.94 0.94 0.97   \n",
       "recall_score_micro               0.96 0.95 0.96 0.94 0.91 0.95 0.94 0.94 0.97   \n",
       "recall_score_weighted            0.96 0.95 0.96 0.94 0.91 0.95 0.94 0.94 0.97   \n",
       "weighted_accuracy                0.96 0.95 0.96 0.93 0.91 0.95 0.94 0.94 0.96   \n",
       "\n",
       "                                    9  \n",
       "AUC_macro                        0.98  \n",
       "AUC_micro                        0.99  \n",
       "AUC_weighted                     0.98  \n",
       "accuracy                         0.86  \n",
       "average_precision_score_macro    0.92  \n",
       "average_precision_score_micro    0.95  \n",
       "average_precision_score_weighted 0.92  \n",
       "balanced_accuracy                0.87  \n",
       "f1_score_macro                   0.84  \n",
       "f1_score_micro                   0.86  \n",
       "f1_score_weighted                0.83  \n",
       "log_loss                         0.58  \n",
       "norm_macro_recall                0.85  \n",
       "precision_score_macro            0.82  \n",
       "precision_score_micro            0.86  \n",
       "precision_score_weighted         0.82  \n",
       "recall_score_macro               0.87  \n",
       "recall_score_micro               0.86  \n",
       "recall_score_weighted            0.86  \n",
       "weighted_accuracy                0.85  "
      ]
     },
     "execution_count": 13,
     "metadata": {},
     "output_type": "execute_result"
    }
   ],
   "source": [
    "children = list(local_run.get_children())\n",
    "metricslist = {}\n",
    "for run in children:\n",
    "    properties = run.get_properties()\n",
    "    metrics = {k: v for k, v in run.get_metrics().items() if isinstance(v, float)}\n",
    "    metricslist[int(properties['iteration'])] = metrics\n",
    "\n",
    "rundata = pd.DataFrame(metricslist).sort_index(1)\n",
    "rundata"
   ]
  },
  {
   "cell_type": "markdown",
   "metadata": {},
   "source": [
    "## 7. Récupération du meilleur modèle\n",
    "\n",
    "Below we select the best pipeline from our iterations. The `get_output` method returns the best run and the fitted model. The Model includes the pipeline and any pre-processing.  Overloads on `get_output` allow you to retrieve the best run and fitted model for *any* logged metric or for a particular *iteration*."
   ]
  },
  {
   "cell_type": "code",
   "execution_count": 14,
   "metadata": {},
   "outputs": [
    {
     "name": "stdout",
     "output_type": "stream",
     "text": [
      "Run(Experiment: Exemple2-automlclassification,\n",
      "Id: AutoML_9351227c-348d-41b8-87f6-5ae7b4d294cc_8,\n",
      "Type: None,\n",
      "Status: Completed)\n",
      "\n",
      "Pipeline(memory=None,\n",
      "     steps=[('prefittedsoftvotingclassifier', PreFittedSoftVotingClassifier(classification_labels=None,\n",
      "               estimators=[('0', Pipeline(memory=None,\n",
      "     steps=[('MaxAbsScaler', MaxAbsScaler(copy=True)), ('LightGBMClassifier', LightGBMClassifier(boosting_type='gbdt', class_weight=None,\n",
      "        ... warm_start=False))]))],\n",
      "               flatten_transform=None, weights=[0.6, 0.1, 0.1, 0.1, 0.1]))])\n"
     ]
    }
   ],
   "source": [
    "best_run, fitted_model = local_run.get_output()\n",
    "\n",
    "print(best_run)\n",
    "print()\n",
    "print(fitted_model)"
   ]
  },
  {
   "cell_type": "code",
   "execution_count": 15,
   "metadata": {},
   "outputs": [
    {
     "data": {
      "text/plain": [
       "<bound method Pipeline.get_params of Pipeline(memory=None,\n",
       "     steps=[('prefittedsoftvotingclassifier', PreFittedSoftVotingClassifier(classification_labels=None,\n",
       "               estimators=[('0', Pipeline(memory=None,\n",
       "     steps=[('MaxAbsScaler', MaxAbsScaler(copy=True)), ('LightGBMClassifier', LightGBMClassifier(boosting_type='gbdt', class_weight=None,\n",
       "        ... warm_start=False))]))],\n",
       "               flatten_transform=None, weights=[0.6, 0.1, 0.1, 0.1, 0.1]))])>"
      ]
     },
     "execution_count": 15,
     "metadata": {},
     "output_type": "execute_result"
    }
   ],
   "source": [
    "fitted_model.get_params"
   ]
  },
  {
   "cell_type": "code",
   "execution_count": 16,
   "metadata": {},
   "outputs": [
    {
     "data": {
      "text/plain": [
       "[('prefittedsoftvotingclassifier',\n",
       "  PreFittedSoftVotingClassifier(classification_labels=None,\n",
       "                 estimators=[('0', Pipeline(memory=None,\n",
       "       steps=[('MaxAbsScaler', MaxAbsScaler(copy=True)), ('LightGBMClassifier', LightGBMClassifier(boosting_type='gbdt', class_weight=None,\n",
       "            colsample_bytree=1.0, importance_type='split', learning_rate=0.1,\n",
       "            max_depth=-1, min_child_samples=20, ...tors=100, n_jobs=1,\n",
       "             oob_score=False, random_state=None, verbose=0, warm_start=False))]))],\n",
       "                 flatten_transform=None, weights=[0.6, 0.1, 0.1, 0.1, 0.1]))]"
      ]
     },
     "execution_count": 16,
     "metadata": {},
     "output_type": "execute_result"
    }
   ],
   "source": [
    "fitted_model.steps"
   ]
  },
  {
   "cell_type": "markdown",
   "metadata": {},
   "source": [
    "### 7.1 Changement de la métrique AutoML\n"
   ]
  },
  {
   "cell_type": "code",
   "execution_count": 17,
   "metadata": {},
   "outputs": [
    {
     "name": "stdout",
     "output_type": "stream",
     "text": [
      "Meilleur modèle :\n",
      "Run(Experiment: Exemple2-automlclassification,\n",
      "Id: AutoML_9351227c-348d-41b8-87f6-5ae7b4d294cc_8,\n",
      "Type: None,\n",
      "Status: Completed)\n",
      "\n",
      "Pipeline(memory=None,\n",
      "     steps=[('prefittedsoftvotingclassifier', PreFittedSoftVotingClassifier(classification_labels=None,\n",
      "               estimators=[('0', Pipeline(memory=None,\n",
      "     steps=[('MaxAbsScaler', MaxAbsScaler(copy=True)), ('LightGBMClassifier', LightGBMClassifier(boosting_type='gbdt', class_weight=None,\n",
      "        ... warm_start=False))]))],\n",
      "               flatten_transform=None, weights=[0.6, 0.1, 0.1, 0.1, 0.1]))])\n"
     ]
    }
   ],
   "source": [
    "lookup_metric = \"f1_score_weighted\"\n",
    "best_run, fitted_model = local_run.get_output(metric = lookup_metric)\n",
    "print(\"Meilleur modèle :\")\n",
    "print(best_run)\n",
    "print()\n",
    "print(fitted_model)"
   ]
  },
  {
   "cell_type": "markdown",
   "metadata": {},
   "source": [
    "Model from a Specific Iteration\n",
    "Show the run and the model from the third iteration:"
   ]
  },
  {
   "cell_type": "code",
   "execution_count": 18,
   "metadata": {},
   "outputs": [
    {
     "name": "stdout",
     "output_type": "stream",
     "text": [
      "Modèle 3 eme itération :\n",
      "Run(Experiment: Exemple2-automlclassification,\n",
      "Id: AutoML_9351227c-348d-41b8-87f6-5ae7b4d294cc_3,\n",
      "Type: None,\n",
      "Status: Completed)\n",
      "\n",
      "Pipeline(memory=None,\n",
      "     steps=[('MinMaxScaler', MinMaxScaler(copy=True, feature_range=(0, 1))), ('LightGBMClassifier', LightGBMClassifier(boosting_type='goss', class_weight=None,\n",
      "          colsample_bytree=0.7922222222222222, importance_type='split',\n",
      "          learning_rate=0.1, max_bin=170, max_depth=4,\n",
      "          min_chil...      silent=True, subsample=1, subsample_for_bin=200000,\n",
      "          subsample_freq=0, verbose=-10))])\n"
     ]
    }
   ],
   "source": [
    "iteration = 3\n",
    "\n",
    "my_run, my_model = local_run.get_output(iteration = iteration)\n",
    "print(\"Modèle\",iteration,\"eme itération :\")\n",
    "print(my_run)\n",
    "print()\n",
    "print(my_model)"
   ]
  },
  {
   "cell_type": "markdown",
   "metadata": {},
   "source": [
    "## 8. Application du modèle\n",
    "\n",
    "### 8.1 Chargement des données"
   ]
  },
  {
   "cell_type": "code",
   "execution_count": 19,
   "metadata": {},
   "outputs": [],
   "source": [
    "digits = datasets.load_digits()\n",
    "X_test = digits.data[:10, :]\n",
    "y_test = digits.target[:10]\n",
    "images = digits.images[:10]"
   ]
  },
  {
   "cell_type": "markdown",
   "metadata": {},
   "source": [
    "### 8.2 Test\n",
    "We will try to predict 2 digits and see how our model works."
   ]
  },
  {
   "cell_type": "code",
   "execution_count": 20,
   "metadata": {},
   "outputs": [
    {
     "name": "stdout",
     "output_type": "stream",
     "text": [
      "4\n"
     ]
    },
    {
     "data": {
      "image/png": "[encoded data removed]",
      "text/plain": [
       "<Figure size 216x216 with 1 Axes>"
      ]
     },
     "metadata": {
      "needs_background": "light"
     },
     "output_type": "display_data"
    },
    {
     "name": "stdout",
     "output_type": "stream",
     "text": [
      "0\n"
     ]
    },
    {
     "data": {
      "image/png": "[encoded data removed]",
      "text/plain": [
       "<Figure size 216x216 with 1 Axes>"
      ]
     },
     "metadata": {
      "needs_background": "light"
     },
     "output_type": "display_data"
    },
    {
     "name": "stdout",
     "output_type": "stream",
     "text": [
      "CPU times: user 337 ms, sys: 1.07 ms, total: 338 ms\n",
      "Wall time: 262 ms\n"
     ]
    }
   ],
   "source": [
    "%%time\n",
    "# Randomly select digits and test.\n",
    "for index in np.random.choice(len(y_test), 2, replace = False):\n",
    "    print(index)\n",
    "    predicted = fitted_model.predict(X_test[index:index + 1])[0]\n",
    "    label = y_test[index]\n",
    "    title = \"Label value = %d  Predicted value = %d \" % (label, predicted)\n",
    "    fig = plt.figure(1, figsize = (3,3))\n",
    "    ax1 = fig.add_axes((0,0,.8,.8))\n",
    "    ax1.set_title(title)\n",
    "    plt.imshow(images[index], cmap = plt.cm.gray_r, interpolation = 'nearest')\n",
    "    plt.show()"
   ]
  },
  {
   "cell_type": "markdown",
   "metadata": {},
   "source": [
    "## 9. Référencement du modèle"
   ]
  },
  {
   "cell_type": "markdown",
   "metadata": {},
   "source": [
    "### Meilleur modèle"
   ]
  },
  {
   "cell_type": "code",
   "execution_count": 21,
   "metadata": {},
   "outputs": [
    {
     "name": "stdout",
     "output_type": "stream",
     "text": [
      "Run(Experiment: Exemple2-automlclassification,\n",
      "Id: AutoML_9351227c-348d-41b8-87f6-5ae7b4d294cc_8,\n",
      "Type: None,\n",
      "Status: Completed)\n",
      "Pipeline(memory=None,\n",
      "     steps=[('prefittedsoftvotingclassifier', PreFittedSoftVotingClassifier(classification_labels=None,\n",
      "               estimators=[('0', Pipeline(memory=None,\n",
      "     steps=[('MaxAbsScaler', MaxAbsScaler(copy=True)), ('LightGBMClassifier', LightGBMClassifier(boosting_type='gbdt', class_weight=None,\n",
      "        ... warm_start=False))]))],\n",
      "               flatten_transform=None, weights=[0.6, 0.1, 0.1, 0.1, 0.1]))])\n",
      "confusion_matrix aml://artifactId/ExperimentRun/dcid.AutoML_9351227c-348d-41b8-87f6-5ae7b4d294cc_8/confusion_matrix\n",
      "f1_score_micro 0.9652407308963173\n",
      "precision_score_macro 0.9663022304313964\n",
      "balanced_accuracy 0.9655590439442342\n",
      "AUC_micro 0.9992850515640933\n",
      "f1_score_macro 0.9653172893785165\n",
      "AUC_weighted 0.9992557112092131\n",
      "weighted_accuracy 0.9648522349987022\n",
      "AUC_macro 0.9992725104275081\n",
      "precision_score_weighted 0.9667646484108378\n",
      "f1_score_weighted 0.9653791516013842\n",
      "recall_score_weighted 0.9652407308963173\n",
      "average_precision_score_micro 0.9950137636750246\n",
      "precision_score_micro 0.9652407308963173\n",
      "accuracy 0.9652407308963173\n",
      "norm_macro_recall 0.9617322710491489\n",
      "log_loss 0.19522668791769737\n",
      "recall_score_macro 0.9655590439442342\n",
      "average_precision_score_macro 0.9951249635584482\n",
      "recall_score_micro 0.9652407308963173\n",
      "average_precision_score_weighted 0.9951119379729968\n",
      "accuracy_table aml://artifactId/ExperimentRun/dcid.AutoML_9351227c-348d-41b8-87f6-5ae7b4d294cc_8/accuracy_table\n"
     ]
    }
   ],
   "source": [
    "best_run, fitted_model = local_run.get_output()\n",
    "print(best_run)\n",
    "print(fitted_model)\n",
    "best_run_metrics = best_run.get_metrics()\n",
    "for metric_name in best_run_metrics:\n",
    "    metric = best_run_metrics[metric_name]\n",
    "    print(metric_name, metric)"
   ]
  },
  {
   "cell_type": "code",
   "execution_count": 22,
   "metadata": {},
   "outputs": [
    {
     "name": "stdout",
     "output_type": "stream",
     "text": [
      "prefittedsoftvotingclassifier\n"
     ]
    }
   ],
   "source": [
    "for step in fitted_model.named_steps:\n",
    "    print(step)"
   ]
  },
  {
   "cell_type": "markdown",
   "metadata": {},
   "source": [
    "### Référencement du modèle"
   ]
  },
  {
   "cell_type": "code",
   "execution_count": 23,
   "metadata": {},
   "outputs": [
    {
     "data": {
      "text/plain": [
       "Model(workspace=Workspace.create(name='AzureMLWorkshop', subscription_id='70b8f39e-8863-49f7-b6ba-34a80799550c', resource_group='AzureMLWorkshopRG'), name=Exemple2-AutoML-Classif, id=Exemple2-AutoML-Classif:1, version=1, tags={'Training context': 'Azure Auto ML'}, properties={'AUC': '0.9992557112092131', 'Accuracy': '0.9652407308963173'})"
      ]
     },
     "execution_count": 23,
     "metadata": {},
     "output_type": "execute_result"
    }
   ],
   "source": [
    "from azureml.core import Model\n",
    "\n",
    "best_run.register_model(model_path='outputs/model.pkl', model_name='Exemple2-AutoML-Classif',\n",
    "                        tags={'Training context':'Azure Auto ML'},\n",
    "                        properties={'AUC': best_run_metrics['AUC_weighted'], 'Accuracy': best_run_metrics['accuracy']})"
   ]
  },
  {
   "cell_type": "code",
   "execution_count": 24,
   "metadata": {},
   "outputs": [
    {
     "name": "stdout",
     "output_type": "stream",
     "text": [
      "Exemple2-AutoML-Classif version = 1\n",
      "\t Training context : Azure Auto ML\n",
      "\t AUC : 0.9992557112092131\n",
      "\t Accuracy : 0.9652407308963173\n",
      "\n",
      "\n",
      "Exemple4-AutoML-Forecast version = 1\n",
      "\t Training context : Azure Auto ML\n",
      "\t R2 : 0.2102297702988311\n",
      "\t RMSE : 0.025719636958220327\n",
      "\n",
      "\n",
      "IBM_attrition_explainer version = 1\n",
      "\n",
      "\n",
      "local_deploy_model version = 1\n",
      "\n",
      "\n",
      "boston_model.pkl version = 1\n",
      "\t algo : Regression\n",
      "\t type : sklearn\n",
      "\n",
      "\n"
     ]
    }
   ],
   "source": [
    "# Liste des modèles référencés\n",
    "for model in Model.list(ws):\n",
    "    print(model.name, 'version =', model.version)\n",
    "    for tag_name in model.tags:\n",
    "        tag = model.tags[tag_name]\n",
    "        print ('\\t',tag_name, ':', tag)\n",
    "    for prop_name in model.properties:\n",
    "        prop = model.properties[prop_name]\n",
    "        print ('\\t',prop_name, ':', prop)\n",
    "    print('\\n')"
   ]
  },
  {
   "cell_type": "markdown",
   "metadata": {},
   "source": [
    "<img src=\"https://github.com/retkowsky/images/blob/master/Powered-by-MS-Azure-logo-v2.png?raw=true\" height=\"300\" width=\"300\">"
   ]
  },
  {
   "cell_type": "code",
   "execution_count": null,
   "metadata": {},
   "outputs": [],
   "source": []
  }
 ],
 "metadata": {
  "authors": [
   {
    "name": "savitam"
   }
  ],
  "kernelspec": {
   "display_name": "Python 3.6 - AzureML",
   "language": "python",
   "name": "python3-azureml"
  },
  "language_info": {
   "codemirror_mode": {
    "name": "ipython",
    "version": 3
   },
   "file_extension": ".py",
   "mimetype": "text/x-python",
   "name": "python",
   "nbconvert_exporter": "python",
   "pygments_lexer": "ipython3",
   "version": "3.6.9"
  }
 },
 "nbformat": 4,
 "nbformat_minor": 2
}
