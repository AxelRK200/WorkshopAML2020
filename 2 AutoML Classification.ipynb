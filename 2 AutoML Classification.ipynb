{
 "cells": [
  {
   "cell_type": "markdown",
   "metadata": {},
   "source": [
    "# AutoML Classification"
   ]
  },
  {
   "cell_type": "markdown",
   "metadata": {},
   "source": [
    "<img src='https://github.com/retkowsky/images/blob/master/AzureMLservicebanniere.png?raw=true'>"
   ]
  },
  {
   "cell_type": "markdown",
   "metadata": {},
   "source": [
    "This is a copy of the test set of the **UCI ML hand-written digits datasets** http://archive.ics.uci.edu/ml/datasets/Optical+Recognition+of+Handwritten+Digits\n",
    "\n",
    "The data set contains images of hand-written digits: 10 classes where each class refers to a digit.\n",
    "\n"
   ]
  },
  {
   "cell_type": "markdown",
   "metadata": {},
   "source": [
    "<img src=\"https://www.seewald.at/img/L/digits.gif\">\n"
   ]
  },
  {
   "cell_type": "markdown",
   "metadata": {},
   "source": [
    "## Documentation Azure ML service\n",
    "> https://docs.microsoft.com/en-us/azure/machine-learning/service/how-to-automated-ml"
   ]
  },
  {
   "cell_type": "markdown",
   "metadata": {},
   "source": [
    "## 1. Informations\n",
    "\n",
    "As part of the setup you have already created an Azure ML `Workspace` object. <br> For AutoML you will need to create an `Experiment` object, which is a named object in a `Workspace` used to run experiments."
   ]
  },
  {
   "cell_type": "code",
   "execution_count": 1,
   "metadata": {},
   "outputs": [
    {
     "data": {
      "text/plain": [
       "'3.6.9 |Anaconda, Inc.| (default, Jul 30 2019, 19:07:31) \\n[GCC 7.3.0]'"
      ]
     },
     "execution_count": 1,
     "metadata": {},
     "output_type": "execute_result"
    }
   ],
   "source": [
    "import sys\n",
    "sys.version"
   ]
  },
  {
   "cell_type": "code",
   "execution_count": 2,
   "metadata": {},
   "outputs": [
    {
     "name": "stdout",
     "output_type": "stream",
     "text": [
      "Version Azure ML Service : 1.0.83\n"
     ]
    }
   ],
   "source": [
    "import azureml.core\n",
    "print(\"Version Azure ML Service :\", azureml.core.VERSION)"
   ]
  },
  {
   "cell_type": "code",
   "execution_count": 3,
   "metadata": {},
   "outputs": [],
   "source": [
    "import logging\n",
    "import os\n",
    "import random\n",
    "\n",
    "from matplotlib import pyplot as plt\n",
    "from matplotlib.pyplot import imshow\n",
    "import numpy as np\n",
    "import pandas as pd\n",
    "from sklearn import datasets\n",
    "\n",
    "import azureml.core\n",
    "from azureml.core.experiment import Experiment\n",
    "from azureml.core.workspace import Workspace\n",
    "from azureml.train.automl import AutoMLConfig\n",
    "from azureml.train.automl.run import AutoMLRun"
   ]
  },
  {
   "cell_type": "markdown",
   "metadata": {},
   "source": [
    "## 2. Connexion workspace Azure ML service"
   ]
  },
  {
   "cell_type": "code",
   "execution_count": 4,
   "metadata": {},
   "outputs": [
    {
     "data": {
      "text/html": [
       "<div>\n",
       "<style scoped>\n",
       "    .dataframe tbody tr th:only-of-type {\n",
       "        vertical-align: middle;\n",
       "    }\n",
       "\n",
       "    .dataframe tbody tr th {\n",
       "        vertical-align: top;\n",
       "    }\n",
       "\n",
       "    .dataframe thead th {\n",
       "        text-align: right;\n",
       "    }\n",
       "</style>\n",
       "<table border=\"1\" class=\"dataframe\">\n",
       "  <thead>\n",
       "    <tr style=\"text-align: right;\">\n",
       "      <th></th>\n",
       "      <th></th>\n",
       "    </tr>\n",
       "  </thead>\n",
       "  <tbody>\n",
       "    <tr>\n",
       "      <th>SDK version</th>\n",
       "      <td>1.0.83</td>\n",
       "    </tr>\n",
       "    <tr>\n",
       "      <th>Workspace Name</th>\n",
       "      <td>workshop-aml-2020</td>\n",
       "    </tr>\n",
       "    <tr>\n",
       "      <th>Resource Group</th>\n",
       "      <td>workshopaml2020RG</td>\n",
       "    </tr>\n",
       "    <tr>\n",
       "      <th>Location</th>\n",
       "      <td>westeurope</td>\n",
       "    </tr>\n",
       "    <tr>\n",
       "      <th>Project Directory</th>\n",
       "      <td>./sample_projects/workshop2</td>\n",
       "    </tr>\n",
       "    <tr>\n",
       "      <th>Experiment Name</th>\n",
       "      <td>workshop2-automlclassification</td>\n",
       "    </tr>\n",
       "  </tbody>\n",
       "</table>\n",
       "</div>"
      ],
      "text/plain": [
       "                                                 \n",
       "SDK version        1.0.83                        \n",
       "Workspace Name     workshop-aml-2020             \n",
       "Resource Group     workshopaml2020RG             \n",
       "Location           westeurope                    \n",
       "Project Directory  ./sample_projects/workshop2   \n",
       "Experiment Name    workshop2-automlclassification"
      ]
     },
     "execution_count": 4,
     "metadata": {},
     "output_type": "execute_result"
    }
   ],
   "source": [
    "ws = Workspace.from_config()\n",
    "\n",
    "experiment_name = 'workshop2-automlclassification'\n",
    "project_folder = './sample_projects/workshop2'\n",
    "\n",
    "experiment = Experiment(ws, experiment_name)\n",
    "\n",
    "output = {}\n",
    "output['SDK version'] = azureml.core.VERSION\n",
    "output['Workspace Name'] = ws.name\n",
    "output['Resource Group'] = ws.resource_group\n",
    "output['Location'] = ws.location\n",
    "output['Project Directory'] = project_folder\n",
    "output['Experiment Name'] = experiment.name\n",
    "pd.set_option('display.max_colwidth', -1)\n",
    "pd.DataFrame(data = output, index = ['']).T"
   ]
  },
  {
   "cell_type": "markdown",
   "metadata": {},
   "source": [
    "## 3. Chargement des données\n",
    "\n",
    "This uses scikit-learn's [load_digits](http://scikit-learn.org/stable/modules/generated/sklearn.datasets.load_digits.html) method."
   ]
  },
  {
   "cell_type": "markdown",
   "metadata": {},
   "source": [
    "Each datapoint is a 8x8 image of a digit."
   ]
  },
  {
   "cell_type": "code",
   "execution_count": 5,
   "metadata": {},
   "outputs": [],
   "source": [
    "from sklearn import datasets\n",
    "\n",
    "digits = datasets.load_digits()\n",
    "\n",
    "# Exclude the first 100 rows from training so that they can be used for test.\n",
    "X_train = digits.data[100:,:]\n",
    "y_train = digits.target[100:]"
   ]
  },
  {
   "cell_type": "code",
   "execution_count": 6,
   "metadata": {},
   "outputs": [
    {
     "name": "stdout",
     "output_type": "stream",
     "text": [
      "(1797, 64)\n"
     ]
    }
   ],
   "source": [
    "print(digits.data.shape)"
   ]
  },
  {
   "cell_type": "markdown",
   "metadata": {},
   "source": [
    "> On a 1797 images de 8 sur 8 pixels (=64)."
   ]
  },
  {
   "cell_type": "markdown",
   "metadata": {},
   "source": [
    "### Exemples d'images :"
   ]
  },
  {
   "cell_type": "code",
   "execution_count": 7,
   "metadata": {},
   "outputs": [
    {
     "data": {
      "text/plain": [
       "<Figure size 432x288 with 0 Axes>"
      ]
     },
     "metadata": {},
     "output_type": "display_data"
    },
    {
     "data": {
      "image/png": "[encoded data removed]",
      "text/plain": [
       "<Figure size 288x288 with 1 Axes>"
      ]
     },
     "metadata": {
      "needs_background": "light"
     },
     "output_type": "display_data"
    }
   ],
   "source": [
    "import matplotlib.pyplot as plt \n",
    "plt.gray() \n",
    "plt.matshow(digits.images[1]) \n",
    "plt.show() "
   ]
  },
  {
   "cell_type": "code",
   "execution_count": 8,
   "metadata": {},
   "outputs": [
    {
     "data": {
      "text/plain": [
       "<Figure size 432x288 with 0 Axes>"
      ]
     },
     "metadata": {},
     "output_type": "display_data"
    },
    {
     "data": {
      "image/png": "[encoded data removed]",
      "text/plain": [
       "<Figure size 288x288 with 1 Axes>"
      ]
     },
     "metadata": {
      "needs_background": "light"
     },
     "output_type": "display_data"
    }
   ],
   "source": [
    "import matplotlib.pyplot as plt \n",
    "plt.gray() \n",
    "plt.matshow(digits.images[9]) \n",
    "plt.show() "
   ]
  },
  {
   "cell_type": "markdown",
   "metadata": {},
   "source": [
    "## 4. Configuration AutoML\n",
    "\n"
   ]
  },
  {
   "cell_type": "code",
   "execution_count": 9,
   "metadata": {},
   "outputs": [
    {
     "name": "stderr",
     "output_type": "stream",
     "text": [
      "WARNING - The AutoMLConfig inputs you have specified will soon be deprecated. Please use the AutoMLConfig shown in our documentation: https://aka.ms/AutoMLConfig\n"
     ]
    }
   ],
   "source": [
    "automl_config = AutoMLConfig(task = 'classification',\n",
    "                             debug_log = 'automl2.log',\n",
    "                             primary_metric = 'AUC_weighted',\n",
    "                             iteration_timeout_minutes = 2, # Temps max par itération\n",
    "                             experiment_timeout_minutes = 5, # Temps max pour le process AutoML\n",
    "                             enable_early_stopping=True, # Sortie si pas d'amélioration de la métrique\n",
    "                             iterations = 10,           # Possibilité de définir le nombre d'itérations max\n",
    "                             n_cross_validations = 3,    # Nombre de validations croisées\n",
    "                             verbosity = logging.INFO,\n",
    "                             X = X_train, \n",
    "                             y = y_train)"
   ]
  },
  {
   "cell_type": "markdown",
   "metadata": {},
   "source": [
    "## 5. AutoML\n",
    "\n",
    "Call the `submit` method on the experiment object and pass the run configuration. Execution of local runs is synchronous. Depending on the data and the number of iterations this can run for a while.\n",
    "In this example, we specify `show_output = True` to print currently running iterations to the console.\n",
    "\n",
    "`AUC_weighted` is the **metric** used."
   ]
  },
  {
   "cell_type": "code",
   "execution_count": 10,
   "metadata": {},
   "outputs": [
    {
     "name": "stdout",
     "output_type": "stream",
     "text": [
      "Running on local machine\n",
      "Parent Run ID: AutoML_33c0a43b-2d4a-4b9c-8233-773657188da3\n",
      "\n",
      "Current status: DatasetCrossValidationSplit. Generating CV splits.\n",
      "\n",
      "****************************************************************************************************\n",
      "DATA GUARDRAILS: \n",
      "\n",
      "TYPE:         Class balancing detection\n",
      "STATUS:       PASSED\n",
      "DESCRIPTION:  Classes are balanced in the training data.\n",
      "\n",
      "****************************************************************************************************\n",
      "Current status: ModelSelection. Beginning model selection.\n",
      "\n",
      "****************************************************************************************************\n",
      "ITERATION: The iteration being evaluated.\n",
      "PIPELINE: A summary description of the pipeline being evaluated.\n",
      "DURATION: Time taken for the current iteration.\n",
      "METRIC: The result of computing score on the fitted pipeline.\n",
      "BEST: The best observed score thus far.\n",
      "****************************************************************************************************\n",
      "\n",
      " ITERATION   PIPELINE                                       DURATION      METRIC      BEST\n",
      "         0   StandardScalerWrapper SGD                      0:00:20       0.9942    0.9942\n",
      "         1   StandardScalerWrapper SGD                      0:00:16       0.9969    0.9969\n",
      "         2   MinMaxScaler LightGBM                          0:00:17       0.9977    0.9977\n",
      "         3   StandardScalerWrapper SGD                      0:00:15       0.9893    0.9977\n",
      "         4   StandardScalerWrapper ExtremeRandomTrees       0:00:16       0.9966    0.9977\n",
      "         5   MinMaxScaler SGD                               0:00:15       0.9959    0.9977\n",
      "         6   StandardScalerWrapper LightGBM                 0:00:17       0.9974    0.9977\n",
      "         7   StandardScalerWrapper ExtremeRandomTrees       0:00:16       0.9544    0.9977\n",
      "         8   VotingEnsemble                                 0:00:15       0.9985    0.9985\n",
      "         9   StackEnsemble                                  0:00:44       0.9753    0.9985\n"
     ]
    }
   ],
   "source": [
    "local_run = experiment.submit(automl_config, show_output = True)"
   ]
  },
  {
   "cell_type": "code",
   "execution_count": 11,
   "metadata": {},
   "outputs": [
    {
     "data": {
      "text/html": [
       "<table style=\"width:100%\"><tr><th>Experiment</th><th>Id</th><th>Type</th><th>Status</th><th>Details Page</th><th>Docs Page</th></tr><tr><td>workshop2-automlclassification</td><td>AutoML_33c0a43b-2d4a-4b9c-8233-773657188da3</td><td>automl</td><td>Completed</td><td><a href=\"https://ml.azure.com/experiments/workshop2-automlclassification/runs/AutoML_33c0a43b-2d4a-4b9c-8233-773657188da3?wsid=/subscriptions/70b8f39e-8863-49f7-b6ba-34a80799550c/resourcegroups/workshopaml2020RG/workspaces/workshop-aml-2020\" target=\"_blank\" rel=\"noopener\">Link to Azure Machine Learning studio</a></td><td><a href=\"https://docs.microsoft.com/en-us/python/api/overview/azure/ml/intro?view=azure-ml-py\" target=\"_blank\" rel=\"noopener\">Link to Documentation</a></td></tr></table>"
      ],
      "text/plain": [
       "Run(Experiment: workshop2-automlclassification,\n",
       "Id: AutoML_33c0a43b-2d4a-4b9c-8233-773657188da3,\n",
       "Type: automl,\n",
       "Status: Completed)"
      ]
     },
     "execution_count": 11,
     "metadata": {},
     "output_type": "execute_result"
    }
   ],
   "source": [
    "local_run"
   ]
  },
  {
   "cell_type": "markdown",
   "metadata": {},
   "source": [
    "## 6. Exploration des résultats AutoML"
   ]
  },
  {
   "cell_type": "markdown",
   "metadata": {},
   "source": [
    "### 6.1 Notebook Widget\n"
   ]
  },
  {
   "cell_type": "code",
   "execution_count": 12,
   "metadata": {},
   "outputs": [
    {
     "data": {
      "application/vnd.jupyter.widget-view+json": {
       "model_id": "2cab95a613144f03865f09404da32e13",
       "version_major": 2,
       "version_minor": 0
      },
      "text/plain": [
       "_AutoMLWidget(widget_settings={'childWidgetDisplay': 'popup', 'send_telemetry': False, 'log_level': 'INFO', 's…"
      ]
     },
     "metadata": {},
     "output_type": "display_data"
    },
    {
     "data": {
      "application/aml.mini.widget.v1": "{\"status\": \"Completed\", \"workbench_run_details_uri\": \"https://ml.azure.com/experiments/workshop2-automlclassification/runs/AutoML_33c0a43b-2d4a-4b9c-8233-773657188da3?wsid=/subscriptions/70b8f39e-8863-49f7-b6ba-34a80799550c/resourcegroups/workshopaml2020RG/workspaces/workshop-aml-2020\", \"run_id\": \"AutoML_33c0a43b-2d4a-4b9c-8233-773657188da3\", \"run_properties\": {\"run_id\": \"AutoML_33c0a43b-2d4a-4b9c-8233-773657188da3\", \"created_utc\": \"2020-02-14T08:49:43.322411Z\", \"properties\": {\"num_iterations\": \"10\", \"training_type\": \"TrainFull\", \"acquisition_function\": \"EI\", \"primary_metric\": \"AUC_weighted\", \"train_split\": \"0\", \"MaxTimeSeconds\": \"120\", \"acquisition_parameter\": \"0\", \"num_cross_validation\": \"3\", \"target\": \"local\", \"RawAMLSettingsString\": \"{'name': 'workshop2-automlclassification', 'path': '.', 'subscription_id': '70b8f39e-8863-49f7-b6ba-34a80799550c', 'resource_group': 'workshopaml2020RG', 'workspace_name': 'workshop-aml-2020', 'region': 'westeurope', 'compute_target': 'local', 'spark_service': None, 'azure_service': None, 'iterations': 10, 'primary_metric': 'AUC_weighted', 'task_type': 'classification', 'data_script': None, 'validation_size': 0.0, 'n_cross_validations': 3, 'y_min': None, 'y_max': None, 'num_classes': 10, 'featurization': 'off', 'preprocess': False, 'lag_length': 0, 'is_timeseries': False, 'max_cores_per_iteration': 1, 'max_concurrent_iterations': 1, 'iteration_timeout_minutes': 2, 'mem_in_mb': None, 'enforce_time_on_windows': False, 'experiment_timeout_minutes': 5, 'experiment_exit_score': None, 'whitelist_models': None, 'blacklist_algos': ['XGBoostClassifier', 'Prophet'], 'supported_models': ['AveragedPerceptronClassifier', 'LinearSVMClassifier', 'BernoulliNaiveBayes', 'DecisionTree', 'RandomForest', 'ExtremeRandomTrees', 'LogisticRegression', 'GradientBoosting', 'LinearSVM', 'TensorFlowDNN', 'XGBoostClassifier', 'KNN', 'TensorFlowLinearClassifier', 'MultinomialNaiveBayes', 'SVM', 'LightGBM', 'SGD'], 'auto_blacklist': True, 'blacklist_samples_reached': False, 'exclude_nan_labels': True, 'verbosity': 20, 'debug_log': 'automl2.log', 'show_warnings': False, 'model_explainability': False, 'service_url': None, 'sdk_url': None, 'sdk_packages': None, 'enable_onnx_compatible_models': False, 'enable_split_onnx_featurizer_estimator_models': False, 'vm_type': None, 'telemetry_verbosity': 'INFO', 'send_telemetry': True, 'enable_dnn': False, 'force_text_dnn': False, 'enable_feature_sweeping': True, 'enable_early_stopping': True, 'early_stopping_n_iters': 10, 'metrics': None, 'enable_ensembling': True, 'enable_stack_ensembling': True, 'ensemble_iterations': 10, 'enable_tf': False, 'enable_cache': True, 'enable_subsampling': False, 'subsample_seed': None, 'enable_nimbusml': False, 'enable_streaming': False, 'label_column_name': None, 'weight_column_name': None, 'cost_mode': 0, 'metric_operation': 'maximize'}\", \"AMLSettingsJsonString\": \"{\\\"name\\\": \\\"workshop2-automlclassification\\\", \\\"path\\\": \\\".\\\", \\\"subscription_id\\\": \\\"70b8f39e-8863-49f7-b6ba-34a80799550c\\\", \\\"resource_group\\\": \\\"workshopaml2020RG\\\", \\\"workspace_name\\\": \\\"workshop-aml-2020\\\", \\\"region\\\": \\\"westeurope\\\", \\\"compute_target\\\": \\\"local\\\", \\\"spark_service\\\": null, \\\"azure_service\\\": null, \\\"iterations\\\": 10, \\\"primary_metric\\\": \\\"AUC_weighted\\\", \\\"task_type\\\": \\\"classification\\\", \\\"data_script\\\": null, \\\"validation_size\\\": 0.0, \\\"n_cross_validations\\\": 3, \\\"y_min\\\": null, \\\"y_max\\\": null, \\\"num_classes\\\": 10, \\\"featurization\\\": \\\"off\\\", \\\"preprocess\\\": false, \\\"lag_length\\\": 0, \\\"is_timeseries\\\": false, \\\"max_cores_per_iteration\\\": 1, \\\"max_concurrent_iterations\\\": 1, \\\"iteration_timeout_minutes\\\": 2, \\\"mem_in_mb\\\": null, \\\"enforce_time_on_windows\\\": false, \\\"experiment_timeout_minutes\\\": 5, \\\"experiment_exit_score\\\": null, \\\"whitelist_models\\\": null, \\\"blacklist_algos\\\": [\\\"XGBoostClassifier\\\", \\\"Prophet\\\"], \\\"supported_models\\\": [\\\"AveragedPerceptronClassifier\\\", \\\"LinearSVMClassifier\\\", \\\"BernoulliNaiveBayes\\\", \\\"DecisionTree\\\", \\\"RandomForest\\\", \\\"ExtremeRandomTrees\\\", \\\"LogisticRegression\\\", \\\"GradientBoosting\\\", \\\"LinearSVM\\\", \\\"TensorFlowDNN\\\", \\\"XGBoostClassifier\\\", \\\"KNN\\\", \\\"TensorFlowLinearClassifier\\\", \\\"MultinomialNaiveBayes\\\", \\\"SVM\\\", \\\"LightGBM\\\", \\\"SGD\\\"], \\\"auto_blacklist\\\": true, \\\"blacklist_samples_reached\\\": false, \\\"exclude_nan_labels\\\": true, \\\"verbosity\\\": 20, \\\"debug_log\\\": \\\"automl2.log\\\", \\\"show_warnings\\\": false, \\\"model_explainability\\\": false, \\\"service_url\\\": null, \\\"sdk_url\\\": null, \\\"sdk_packages\\\": null, \\\"enable_onnx_compatible_models\\\": false, \\\"enable_split_onnx_featurizer_estimator_models\\\": false, \\\"vm_type\\\": null, \\\"telemetry_verbosity\\\": \\\"INFO\\\", \\\"send_telemetry\\\": true, \\\"enable_dnn\\\": false, \\\"force_text_dnn\\\": false, \\\"enable_feature_sweeping\\\": true, \\\"enable_early_stopping\\\": true, \\\"early_stopping_n_iters\\\": 10, \\\"metrics\\\": null, \\\"enable_ensembling\\\": true, \\\"enable_stack_ensembling\\\": true, \\\"ensemble_iterations\\\": 10, \\\"enable_tf\\\": false, \\\"enable_cache\\\": true, \\\"enable_subsampling\\\": false, \\\"subsample_seed\\\": null, \\\"enable_nimbusml\\\": false, \\\"enable_streaming\\\": false, \\\"label_column_name\\\": null, \\\"weight_column_name\\\": null, \\\"cost_mode\\\": 0, \\\"metric_operation\\\": \\\"maximize\\\"}\", \"DataPrepJsonString\": null, \"EnableSubsampling\": \"False\", \"Properties\": \"[display_task_type, classification],[dependencies_versions, {\\\"azureml-widgets\\\": \\\"1.0.83\\\", \\\"azureml-train\\\": \\\"1.0.83\\\", \\\"azureml-train-restclients-hyperdrive\\\": \\\"1.0.83\\\", \\\"azureml-train-core\\\": \\\"1.0.83\\\", \\\"azureml-train-automl\\\": \\\"1.0.83\\\", \\\"azureml-train-automl-runtime\\\": \\\"1.0.83.1\\\", \\\"azureml-train-automl-client\\\": \\\"1.0.83\\\", \\\"azureml-tensorboard\\\": \\\"1.0.83\\\", \\\"azureml-telemetry\\\": \\\"1.0.83\\\", \\\"azureml-sdk\\\": \\\"1.0.83\\\", \\\"azureml-samples\\\": \\\"0+unknown\\\", \\\"azureml-pipeline\\\": \\\"1.0.83\\\", \\\"azureml-pipeline-steps\\\": \\\"1.0.83\\\", \\\"azureml-pipeline-core\\\": \\\"1.0.83\\\", \\\"azureml-opendatasets\\\": \\\"1.0.83\\\", \\\"azureml-model-management-sdk\\\": \\\"1.0.1b6.post1\\\", \\\"azureml-mlflow\\\": \\\"1.0.83\\\", \\\"azureml-interpret\\\": \\\"1.0.83\\\", \\\"azureml-explain-model\\\": \\\"1.0.83\\\", \\\"azureml-defaults\\\": \\\"1.0.83\\\", \\\"azureml-dataprep\\\": \\\"1.1.35\\\", \\\"azureml-dataprep-native\\\": \\\"13.2.0\\\", \\\"azureml-datadrift\\\": \\\"1.0.83\\\", \\\"azureml-core\\\": \\\"1.0.83\\\", \\\"azureml-contrib-services\\\": \\\"1.0.83\\\", \\\"azureml-contrib-server\\\": \\\"1.0.83\\\", \\\"azureml-contrib-reinforcementlearning\\\": \\\"1.0.83\\\", \\\"azureml-contrib-pipeline-steps\\\": \\\"1.0.83\\\", \\\"azureml-contrib-notebook\\\": \\\"1.0.83\\\", \\\"azureml-contrib-interpret\\\": \\\"1.0.83\\\", \\\"azureml-contrib-datadrift\\\": \\\"1.0.83\\\", \\\"azureml-automl-runtime\\\": \\\"1.0.83\\\", \\\"azureml-automl-core\\\": \\\"1.0.83.1\\\"}]\", \"runTemplate\": \"AutoML\", \"azureml.runsource\": \"automl\", \"display_task_type\": \"classification\", \"dependencies_versions\": \"{\\\"azureml-widgets\\\": \\\"1.0.83\\\", \\\"azureml-train\\\": \\\"1.0.83\\\", \\\"azureml-train-restclients-hyperdrive\\\": \\\"1.0.83\\\", \\\"azureml-train-core\\\": \\\"1.0.83\\\", \\\"azureml-train-automl\\\": \\\"1.0.83\\\", \\\"azureml-train-automl-runtime\\\": \\\"1.0.83.1\\\", \\\"azureml-train-automl-client\\\": \\\"1.0.83\\\", \\\"azureml-tensorboard\\\": \\\"1.0.83\\\", \\\"azureml-telemetry\\\": \\\"1.0.83\\\", \\\"azureml-sdk\\\": \\\"1.0.83\\\", \\\"azureml-samples\\\": \\\"0+unknown\\\", \\\"azureml-pipeline\\\": \\\"1.0.83\\\", \\\"azureml-pipeline-steps\\\": \\\"1.0.83\\\", \\\"azureml-pipeline-core\\\": \\\"1.0.83\\\", \\\"azureml-opendatasets\\\": \\\"1.0.83\\\", \\\"azureml-model-management-sdk\\\": \\\"1.0.1b6.post1\\\", \\\"azureml-mlflow\\\": \\\"1.0.83\\\", \\\"azureml-interpret\\\": \\\"1.0.83\\\", \\\"azureml-explain-model\\\": \\\"1.0.83\\\", \\\"azureml-defaults\\\": \\\"1.0.83\\\", \\\"azureml-dataprep\\\": \\\"1.1.35\\\", \\\"azureml-dataprep-native\\\": \\\"13.2.0\\\", \\\"azureml-datadrift\\\": \\\"1.0.83\\\", \\\"azureml-core\\\": \\\"1.0.83\\\", \\\"azureml-contrib-services\\\": \\\"1.0.83\\\", \\\"azureml-contrib-server\\\": \\\"1.0.83\\\", \\\"azureml-contrib-reinforcementlearning\\\": \\\"1.0.83\\\", \\\"azureml-contrib-pipeline-steps\\\": \\\"1.0.83\\\", \\\"azureml-contrib-notebook\\\": \\\"1.0.83\\\", \\\"azureml-contrib-interpret\\\": \\\"1.0.83\\\", \\\"azureml-contrib-datadrift\\\": \\\"1.0.83\\\", \\\"azureml-automl-runtime\\\": \\\"1.0.83\\\", \\\"azureml-automl-core\\\": \\\"1.0.83.1\\\"}\", \"ClientType\": \"SDK\", \"ClientSdkVersion\": \"1.0.83\", \"ProblemInfoJsonString\": \"{\\\"dataset_num_categorical\\\": 0, \\\"is_sparse\\\": false, \\\"subsampling\\\": false, \\\"dataset_classes\\\": 10, \\\"dataset_features\\\": 64, \\\"dataset_samples\\\": 1697, \\\"single_frequency_class_detected\\\": false}\", \"feature_skus\": \"automatedml_sdk_guardrails\"}, \"tags\": {\"model_explain_run\": \"best_run\", \"experiment_status\": \"ModelSelection\", \"experiment_status_descr\": \"Beginning model selection.\", \"best_score\": \"0.9984552634619042\", \"best_pipeline\": \"VotingEnsemble\"}, \"end_time_utc\": \"2020-02-14T08:53:07.332816Z\", \"status\": \"Completed\", \"log_files\": {}, \"log_groups\": [], \"run_duration\": \"0:03:24\"}, \"child_runs\": [{\"run_id\": \"AutoML_33c0a43b-2d4a-4b9c-8233-773657188da3_0\", \"run_number\": 2, \"metric\": null, \"status\": \"Completed\", \"run_type\": null, \"training_percent\": \"100\", \"start_time\": \"2020-02-14T08:49:51.248719Z\", \"end_time\": \"2020-02-14T08:50:10.136598Z\", \"created_time\": \"2020-02-14T08:49:51.122Z\", \"created_time_dt\": \"2020-02-14T08:49:51.122Z\", \"duration\": \"0:00:19\", \"iteration\": \"0\", \"goal\": \"AUC_weighted_max\", \"run_name\": \"StandardScalerWrapper, SGD\", \"run_properties\": \"alpha=2.653134693877551, class_weight=None, eta0=0.0001,\\n           fit_intercept=True, l1_ratio=0.36734693877551017,\\n           learning_rate='constant', loss='modified_huber', max_iter=1000,\\n           n_jobs=1, penalty='none', power_t=0.1111111111111111,\\n           random_state=None, tol=0.001\", \"primary_metric\": 0.99415099, \"best_metric\": 0.99415099}, {\"run_id\": \"AutoML_33c0a43b-2d4a-4b9c-8233-773657188da3_1\", \"run_number\": 3, \"metric\": null, \"status\": \"Completed\", \"run_type\": null, \"training_percent\": \"100\", \"start_time\": \"2020-02-14T08:50:11.780962Z\", \"end_time\": \"2020-02-14T08:50:26.695499Z\", \"created_time\": \"2020-02-14T08:50:11.656026Z\", \"created_time_dt\": \"2020-02-14T08:50:11.656026Z\", \"duration\": \"0:00:15\", \"iteration\": \"1\", \"goal\": \"AUC_weighted_max\", \"run_name\": \"StandardScalerWrapper, SGD\", \"run_properties\": \"alpha=1.4286571428571428, class_weight=None, eta0=0.01,\\n           fit_intercept=True, l1_ratio=0.7551020408163265,\\n           learning_rate='constant', loss='log', max_iter=1000, n_jobs=1,\\n           penalty='none', power_t=0.4444444444444444, random_state=None,\\n           tol=0.001\", \"primary_metric\": 0.99687258, \"best_metric\": 0.99687258}, {\"run_id\": \"AutoML_33c0a43b-2d4a-4b9c-8233-773657188da3_2\", \"run_number\": 4, \"metric\": null, \"status\": \"Completed\", \"run_type\": null, \"training_percent\": \"100\", \"start_time\": \"2020-02-14T08:50:28.099962Z\", \"end_time\": \"2020-02-14T08:50:43.672773Z\", \"created_time\": \"2020-02-14T08:50:27.957386Z\", \"created_time_dt\": \"2020-02-14T08:50:27.957386Z\", \"duration\": \"0:00:15\", \"iteration\": \"2\", \"goal\": \"AUC_weighted_max\", \"run_name\": \"MinMaxScaler, LightGBM\", \"run_properties\": \"boosting_type='goss', class_weight=None,\\n          colsample_bytree=0.7922222222222222, importance_type='split',\\n          learning_rate=0.1, max_bin=170, max_depth=4,\\n          min_child_samples=65, min_child_weight=4,\\n          min_split_gain=0.8421052631578947, n_estimators=50, n_jobs=1,\\n          num_leaves=62, objective=None, random_state=None,\\n          reg_alpha=0.7894736842105263, reg_lambda=0.15789473684210525,\\n          silent=True, subsample=1, subsample_for_bin=200000,\\n          subsample_freq=0, verbose=-10\", \"primary_metric\": 0.99765641, \"best_metric\": 0.99765641}, {\"run_id\": \"AutoML_33c0a43b-2d4a-4b9c-8233-773657188da3_3\", \"run_number\": 5, \"metric\": null, \"status\": \"Completed\", \"run_type\": null, \"training_percent\": \"100\", \"start_time\": \"2020-02-14T08:50:45.657165Z\", \"end_time\": \"2020-02-14T08:50:59.982049Z\", \"created_time\": \"2020-02-14T08:50:45.529612Z\", \"created_time_dt\": \"2020-02-14T08:50:45.529612Z\", \"duration\": \"0:00:14\", \"iteration\": \"3\", \"goal\": \"AUC_weighted_max\", \"run_name\": \"StandardScalerWrapper, SGD\", \"run_properties\": \"alpha=0.0001, class_weight='balanced', eta0=0.0001,\\n           fit_intercept=False, l1_ratio=0.3469387755102041,\\n           learning_rate='constant', loss='modified_huber', max_iter=1000,\\n           n_jobs=1, penalty='l2', power_t=0.2222222222222222,\\n           random_state=None, tol=0.01\", \"primary_metric\": 0.98927464, \"best_metric\": 0.99765641}, {\"run_id\": \"AutoML_33c0a43b-2d4a-4b9c-8233-773657188da3_4\", \"run_number\": 6, \"metric\": null, \"status\": \"Completed\", \"run_type\": null, \"training_percent\": \"100\", \"start_time\": \"2020-02-14T08:51:01.486697Z\", \"end_time\": \"2020-02-14T08:51:16.998661Z\", \"created_time\": \"2020-02-14T08:51:01.370013Z\", \"created_time_dt\": \"2020-02-14T08:51:01.370013Z\", \"duration\": \"0:00:15\", \"iteration\": \"4\", \"goal\": \"AUC_weighted_max\", \"run_name\": \"StandardScalerWrapper, ExtremeRandomTrees\", \"run_properties\": \"bootstrap=True, class_weight=None, criterion='entropy',\\n           max_depth=None, max_features='sqrt', max_leaf_nodes=None,\\n           min_impurity_decrease=0.0, min_impurity_split=None,\\n           min_samples_leaf=0.01, min_samples_split=0.01,\\n           min_weight_fraction_leaf=0.0, n_estimators=100, n_jobs=1,\\n           oob_score=False, random_state=None, verbose=0, warm_start=False\", \"primary_metric\": 0.99663693, \"best_metric\": 0.99765641}, {\"run_id\": \"AutoML_33c0a43b-2d4a-4b9c-8233-773657188da3_5\", \"run_number\": 7, \"metric\": null, \"status\": \"Completed\", \"run_type\": null, \"training_percent\": \"100\", \"start_time\": \"2020-02-14T08:51:18.187455Z\", \"end_time\": \"2020-02-14T08:51:32.701778Z\", \"created_time\": \"2020-02-14T08:51:18.045411Z\", \"created_time_dt\": \"2020-02-14T08:51:18.045411Z\", \"duration\": \"0:00:14\", \"iteration\": \"5\", \"goal\": \"AUC_weighted_max\", \"run_name\": \"MinMaxScaler, SGD\", \"run_properties\": \"alpha=8.775522448979592, class_weight='balanced',\\n           eta0=0.01, fit_intercept=True, l1_ratio=0.8775510204081632,\\n           learning_rate='constant', loss='log', max_iter=1000, n_jobs=1,\\n           penalty='none', power_t=0.2222222222222222, random_state=None,\\n           tol=0.01\", \"primary_metric\": 0.99587295, \"best_metric\": 0.99765641}, {\"run_id\": \"AutoML_33c0a43b-2d4a-4b9c-8233-773657188da3_6\", \"run_number\": 8, \"metric\": null, \"status\": \"Completed\", \"run_type\": null, \"training_percent\": \"100\", \"start_time\": \"2020-02-14T08:51:34.125287Z\", \"end_time\": \"2020-02-14T08:51:49.99003Z\", \"created_time\": \"2020-02-14T08:51:33.968249Z\", \"created_time_dt\": \"2020-02-14T08:51:33.968249Z\", \"duration\": \"0:00:16\", \"iteration\": \"6\", \"goal\": \"AUC_weighted_max\", \"run_name\": \"StandardScalerWrapper, LightGBM\", \"run_properties\": \"boosting_type='gbdt', class_weight=None,\\n          colsample_bytree=0.6933333333333332, importance_type='split',\\n          learning_rate=0.07894947368421053, max_bin=240, max_depth=3,\\n          min_child_samples=30, min_child_weight=6,\\n          min_split_gain=0.631578947368421, n_estimators=50, n_jobs=1,\\n          num_leaves=65, objective=None, random_state=None,\\n          reg_alpha=0.5789473684210527, reg_lambda=0.631578947368421,\\n          silent=True, subsample=0.3963157894736842,\\n          subsample_for_bin=200000, subsample_freq=0, verbose=-10\", \"primary_metric\": 0.99738858, \"best_metric\": 0.99765641}, {\"run_id\": \"AutoML_33c0a43b-2d4a-4b9c-8233-773657188da3_7\", \"run_number\": 9, \"metric\": null, \"status\": \"Completed\", \"run_type\": null, \"training_percent\": \"100\", \"start_time\": \"2020-02-14T08:51:51.396045Z\", \"end_time\": \"2020-02-14T08:52:06.96763Z\", \"created_time\": \"2020-02-14T08:51:51.270441Z\", \"created_time_dt\": \"2020-02-14T08:51:51.270441Z\", \"duration\": \"0:00:15\", \"iteration\": \"7\", \"goal\": \"AUC_weighted_max\", \"run_name\": \"StandardScalerWrapper, ExtremeRandomTrees\", \"run_properties\": \"bootstrap=True, class_weight='balanced',\\n           criterion='entropy', max_depth=None, max_features=0.9,\\n           max_leaf_nodes=None, min_impurity_decrease=0.0,\\n           min_impurity_split=None, min_samples_leaf=0.08736842105263157,\\n           min_samples_split=0.15052631578947367,\\n           min_weight_fraction_leaf=0.0, n_estimators=10, n_jobs=1,\\n           oob_score=True, random_state=None, verbose=0, warm_start=False\", \"primary_metric\": 0.9544308, \"best_metric\": 0.99765641}, {\"run_id\": \"AutoML_33c0a43b-2d4a-4b9c-8233-773657188da3_8\", \"run_number\": 10, \"metric\": null, \"status\": \"Completed\", \"run_type\": null, \"training_percent\": \"100\", \"start_time\": \"2020-02-14T08:52:07.886799Z\", \"end_time\": \"2020-02-14T08:52:22.264968Z\", \"created_time\": \"2020-02-14T08:52:07.740088Z\", \"created_time_dt\": \"2020-02-14T08:52:07.740088Z\", \"duration\": \"0:00:14\", \"iteration\": \"8\", \"goal\": \"AUC_weighted_max\", \"run_name\": \"VotingEnsemble\", \"run_properties\": \"\", \"primary_metric\": 0.99845526, \"best_metric\": 0.99845526}, {\"run_id\": \"AutoML_33c0a43b-2d4a-4b9c-8233-773657188da3_9\", \"run_number\": 11, \"metric\": null, \"status\": \"Completed\", \"run_type\": null, \"training_percent\": \"100\", \"start_time\": \"2020-02-14T08:52:23.191363Z\", \"end_time\": \"2020-02-14T08:53:06.451307Z\", \"created_time\": \"2020-02-14T08:52:23.07913Z\", \"created_time_dt\": \"2020-02-14T08:52:23.07913Z\", \"duration\": \"0:00:43\", \"iteration\": \"9\", \"goal\": \"AUC_weighted_max\", \"run_name\": \"StackEnsemble\", \"run_properties\": \"\", \"primary_metric\": 0.97531746, \"best_metric\": 0.99845526}], \"children_metrics\": {\"categories\": [0], \"series\": {\"average_precision_score_macro\": [{\"categories\": [\"0\", \"1\", \"2\", \"3\", \"4\", \"5\", \"6\", \"7\", \"8\", \"9\"], \"mode\": \"markers\", \"name\": \"average_precision_score_macro\", \"stepped\": false, \"type\": \"scatter\", \"data\": [0.9778636339057046, 0.986364361406122, 0.9846845264716029, 0.9431582679347045, 0.9806932682878459, 0.9781260074754284, 0.9837124544260384, 0.8111063750645062, 0.9908459746168408, 0.9177586039115665]}, {\"categories\": [\"0\", \"1\", \"2\", \"3\", \"4\", \"5\", \"6\", \"7\", \"8\", \"9\"], \"mode\": \"lines\", \"name\": \"average_precision_score_macro_max\", \"stepped\": true, \"type\": \"scatter\", \"data\": [0.9778636339057046, 0.986364361406122, 0.986364361406122, 0.986364361406122, 0.986364361406122, 0.986364361406122, 0.986364361406122, 0.986364361406122, 0.9908459746168408, 0.9908459746168408]}], \"balanced_accuracy\": [{\"categories\": [\"0\", \"1\", \"2\", \"3\", \"4\", \"5\", \"6\", \"7\", \"8\", \"9\"], \"mode\": \"markers\", \"name\": \"balanced_accuracy\", \"stepped\": false, \"type\": \"scatter\", \"data\": [0.9491493591969098, 0.9597402565623053, 0.9357232758210251, 0.9089657941872211, 0.9451423198756146, 0.9390061399294586, 0.9399787168704153, 0.7463083782524619, 0.9616434242814899, 0.8014345683615214]}, {\"categories\": [\"0\", \"1\", \"2\", \"3\", \"4\", \"5\", \"6\", \"7\", \"8\", \"9\"], \"mode\": \"lines\", \"name\": \"balanced_accuracy_max\", \"stepped\": true, \"type\": \"scatter\", \"data\": [0.9491493591969098, 0.9597402565623053, 0.9597402565623053, 0.9597402565623053, 0.9597402565623053, 0.9597402565623053, 0.9597402565623053, 0.9597402565623053, 0.9616434242814899, 0.9616434242814899]}], \"average_precision_score_micro\": [{\"categories\": [\"0\", \"1\", \"2\", \"3\", \"4\", \"5\", \"6\", \"7\", \"8\", \"9\"], \"mode\": \"markers\", \"name\": \"average_precision_score_micro\", \"stepped\": false, \"type\": \"scatter\", \"data\": [0.9805799012798375, 0.9874889635444113, 0.9848078185355881, 0.9413758427880085, 0.9830727373616037, 0.9824773425034264, 0.9841897135298021, 0.7984036847332879, 0.9917639109684305, 0.9033128818830859]}, {\"categories\": [\"0\", \"1\", \"2\", \"3\", \"4\", \"5\", \"6\", \"7\", \"8\", \"9\"], \"mode\": \"lines\", \"name\": \"average_precision_score_micro_max\", \"stepped\": true, \"type\": \"scatter\", \"data\": [0.9805799012798375, 0.9874889635444113, 0.9874889635444113, 0.9874889635444113, 0.9874889635444113, 0.9874889635444113, 0.9874889635444113, 0.9874889635444113, 0.9917639109684305, 0.9917639109684305]}], \"norm_macro_recall\": [{\"categories\": [\"0\", \"1\", \"2\", \"3\", \"4\", \"5\", \"6\", \"7\", \"8\", \"9\"], \"mode\": \"markers\", \"name\": \"norm_macro_recall\", \"stepped\": false, \"type\": \"scatter\", \"data\": [0.9434992879965666, 0.9552669517358948, 0.928581417578917, 0.8988508824302457, 0.9390470220840162, 0.932229044366065, 0.9333096854115723, 0.7181204202805133, 0.9573815825349888, 0.7793717426239127]}, {\"categories\": [\"0\", \"1\", \"2\", \"3\", \"4\", \"5\", \"6\", \"7\", \"8\", \"9\"], \"mode\": \"lines\", \"name\": \"norm_macro_recall_max\", \"stepped\": true, \"type\": \"scatter\", \"data\": [0.9434992879965666, 0.9552669517358948, 0.9552669517358948, 0.9552669517358948, 0.9552669517358948, 0.9552669517358948, 0.9552669517358948, 0.9552669517358948, 0.9573815825349888, 0.9573815825349888]}], \"AUC_micro\": [{\"categories\": [\"0\", \"1\", \"2\", \"3\", \"4\", \"5\", \"6\", \"7\", \"8\", \"9\"], \"mode\": \"markers\", \"name\": \"AUC_micro\", \"stepped\": false, \"type\": \"scatter\", \"data\": [0.994827079672168, 0.9974852897025239, 0.9976906798088825, 0.9894471769379046, 0.9971907330555941, 0.9966480377725878, 0.9974563404883172, 0.9539097673525786, 0.9987013169478017, 0.9777400461854473]}, {\"categories\": [\"0\", \"1\", \"2\", \"3\", \"4\", \"5\", \"6\", \"7\", \"8\", \"9\"], \"mode\": \"lines\", \"name\": \"AUC_micro_max\", \"stepped\": true, \"type\": \"scatter\", \"data\": [0.994827079672168, 0.9974852897025239, 0.9976906798088825, 0.9976906798088825, 0.9976906798088825, 0.9976906798088825, 0.9976906798088825, 0.9976906798088825, 0.9987013169478017, 0.9987013169478017]}], \"precision_score_weighted\": [{\"categories\": [\"0\", \"1\", \"2\", \"3\", \"4\", \"5\", \"6\", \"7\", \"8\", \"9\"], \"mode\": \"markers\", \"name\": \"precision_score_weighted\", \"stepped\": false, \"type\": \"scatter\", \"data\": [0.9494828777333733, 0.9602359036091599, 0.9376858100407213, 0.9096050598450635, 0.9467873493244386, 0.9403460973775887, 0.9416688955990408, 0.7645955411440476, 0.9622215624282152, 0.7480996632265747]}, {\"categories\": [\"0\", \"1\", \"2\", \"3\", \"4\", \"5\", \"6\", \"7\", \"8\", \"9\"], \"mode\": \"lines\", \"name\": \"precision_score_weighted_max\", \"stepped\": true, \"type\": \"scatter\", \"data\": [0.9494828777333733, 0.9602359036091599, 0.9602359036091599, 0.9602359036091599, 0.9602359036091599, 0.9602359036091599, 0.9602359036091599, 0.9602359036091599, 0.9622215624282152, 0.9622215624282152]}], \"AUC_weighted\": [{\"categories\": [\"0\", \"1\", \"2\", \"3\", \"4\", \"5\", \"6\", \"7\", \"8\", \"9\"], \"mode\": \"markers\", \"name\": \"AUC_weighted\", \"stepped\": false, \"type\": \"scatter\", \"data\": [0.9941509877658037, 0.9968725813385921, 0.9976564131295369, 0.9892746352476379, 0.9966369298548119, 0.9958729501815401, 0.9973885789425502, 0.9544308032130285, 0.9984552634619042, 0.9753174561083965]}, {\"categories\": [\"0\", \"1\", \"2\", \"3\", \"4\", \"5\", \"6\", \"7\", \"8\", \"9\"], \"mode\": \"lines\", \"name\": \"AUC_weighted_max\", \"stepped\": true, \"type\": \"scatter\", \"data\": [0.9941509877658037, 0.9968725813385921, 0.9976564131295369, 0.9976564131295369, 0.9976564131295369, 0.9976564131295369, 0.9976564131295369, 0.9976564131295369, 0.9984552634619042, 0.9984552634619042]}], \"precision_score_macro\": [{\"categories\": [\"0\", \"1\", \"2\", \"3\", \"4\", \"5\", \"6\", \"7\", \"8\", \"9\"], \"mode\": \"markers\", \"name\": \"precision_score_macro\", \"stepped\": false, \"type\": \"scatter\", \"data\": [0.9493915201540585, 0.9598447154662191, 0.9370791431812971, 0.9081866449965922, 0.9461181617435224, 0.9400267801165693, 0.9404746020424395, 0.7653353375444257, 0.9624377707657176, 0.7534489921191493]}, {\"categories\": [\"0\", \"1\", \"2\", \"3\", \"4\", \"5\", \"6\", \"7\", \"8\", \"9\"], \"mode\": \"lines\", \"name\": \"precision_score_macro_max\", \"stepped\": true, \"type\": \"scatter\", \"data\": [0.9493915201540585, 0.9598447154662191, 0.9598447154662191, 0.9598447154662191, 0.9598447154662191, 0.9598447154662191, 0.9598447154662191, 0.9598447154662191, 0.9624377707657176, 0.9624377707657176]}], \"precision_score_micro\": [{\"categories\": [\"0\", \"1\", \"2\", \"3\", \"4\", \"5\", \"6\", \"7\", \"8\", \"9\"], \"mode\": \"markers\", \"name\": \"precision_score_micro\", \"stepped\": false, \"type\": \"scatter\", \"data\": [0.9481472216141844, 0.9587541824322212, 0.9351824634916664, 0.9080688368408435, 0.9452067502631936, 0.9387222865005159, 0.9393101723005722, 0.7442404911556543, 0.9611140644381209, 0.7914391736243577]}, {\"categories\": [\"0\", \"1\", \"2\", \"3\", \"4\", \"5\", \"6\", \"7\", \"8\", \"9\"], \"mode\": \"lines\", \"name\": \"precision_score_micro_max\", \"stepped\": true, \"type\": \"scatter\", \"data\": [0.9481472216141844, 0.9587541824322212, 0.9587541824322212, 0.9587541824322212, 0.9587541824322212, 0.9587541824322212, 0.9587541824322212, 0.9587541824322212, 0.9611140644381209, 0.9611140644381209]}], \"average_precision_score_weighted\": [{\"categories\": [\"0\", \"1\", \"2\", \"3\", \"4\", \"5\", \"6\", \"7\", \"8\", \"9\"], \"mode\": \"markers\", \"name\": \"average_precision_score_weighted\", \"stepped\": false, \"type\": \"scatter\", \"data\": [0.977842169661093, 0.9863937756795523, 0.9847317338491589, 0.9430675229281444, 0.980942168552022, 0.9779112919286854, 0.9839265875300168, 0.8111805042647401, 0.9908636026274205, 0.9152994051198856]}, {\"categories\": [\"0\", \"1\", \"2\", \"3\", \"4\", \"5\", \"6\", \"7\", \"8\", \"9\"], \"mode\": \"lines\", \"name\": \"average_precision_score_weighted_max\", \"stepped\": true, \"type\": \"scatter\", \"data\": [0.977842169661093, 0.9863937756795523, 0.9863937756795523, 0.9863937756795523, 0.9863937756795523, 0.9863937756795523, 0.9863937756795523, 0.9863937756795523, 0.9908636026274205, 0.9908636026274205]}], \"f1_score_macro\": [{\"categories\": [\"0\", \"1\", \"2\", \"3\", \"4\", \"5\", \"6\", \"7\", \"8\", \"9\"], \"mode\": \"markers\", \"name\": \"f1_score_macro\", \"stepped\": false, \"type\": \"scatter\", \"data\": [0.9484138087304298, 0.9589212093926339, 0.9351997885254847, 0.9064735122307906, 0.9447840962154395, 0.9385618168504021, 0.939289584519635, 0.7150140449359886, 0.9614870859823798, 0.7648077655823405]}, {\"categories\": [\"0\", \"1\", \"2\", \"3\", \"4\", \"5\", \"6\", \"7\", \"8\", \"9\"], \"mode\": \"lines\", \"name\": \"f1_score_macro_max\", \"stepped\": true, \"type\": \"scatter\", \"data\": [0.9484138087304298, 0.9589212093926339, 0.9589212093926339, 0.9589212093926339, 0.9589212093926339, 0.9589212093926339, 0.9589212093926339, 0.9589212093926339, 0.9614870859823798, 0.9614870859823798]}], \"f1_score_micro\": [{\"categories\": [\"0\", \"1\", \"2\", \"3\", \"4\", \"5\", \"6\", \"7\", \"8\", \"9\"], \"mode\": \"markers\", \"name\": \"f1_score_micro\", \"stepped\": false, \"type\": \"scatter\", \"data\": [0.9481472216141844, 0.9587541824322212, 0.9351824634916664, 0.9080688368408435, 0.9452067502631936, 0.9387222865005159, 0.9393101723005722, 0.7442404911556543, 0.9611140644381209, 0.7914391736243577]}, {\"categories\": [\"0\", \"1\", \"2\", \"3\", \"4\", \"5\", \"6\", \"7\", \"8\", \"9\"], \"mode\": \"lines\", \"name\": \"f1_score_micro_max\", \"stepped\": true, \"type\": \"scatter\", \"data\": [0.9481472216141844, 0.9587541824322212, 0.9587541824322212, 0.9587541824322212, 0.9587541824322212, 0.9587541824322212, 0.9587541824322212, 0.9587541824322212, 0.9611140644381209, 0.9611140644381209]}], \"AUC_macro\": [{\"categories\": [\"0\", \"1\", \"2\", \"3\", \"4\", \"5\", \"6\", \"7\", \"8\", \"9\"], \"mode\": \"markers\", \"name\": \"AUC_macro\", \"stepped\": false, \"type\": \"scatter\", \"data\": [0.9940559788561911, 0.9968192317434955, 0.9976954935526967, 0.9893125165920807, 0.996628683436367, 0.9959701220592327, 0.9973865188586353, 0.9541585104603421, 0.9984712215486359, 0.9756307324177396]}, {\"categories\": [\"0\", \"1\", \"2\", \"3\", \"4\", \"5\", \"6\", \"7\", \"8\", \"9\"], \"mode\": \"lines\", \"name\": \"AUC_macro_max\", \"stepped\": true, \"type\": \"scatter\", \"data\": [0.9940559788561911, 0.9968192317434955, 0.9976954935526967, 0.9976954935526967, 0.9976954935526967, 0.9976954935526967, 0.9976954935526967, 0.9976954935526967, 0.9984712215486359, 0.9984712215486359]}], \"accuracy\": [{\"categories\": [\"0\", \"1\", \"2\", \"3\", \"4\", \"5\", \"6\", \"7\", \"8\", \"9\"], \"mode\": \"markers\", \"name\": \"accuracy\", \"stepped\": false, \"type\": \"scatter\", \"data\": [0.9481472216141844, 0.9587541824322212, 0.9351824634916664, 0.9080688368408435, 0.9452067502631936, 0.9387222865005159, 0.9393101723005722, 0.7442404911556543, 0.9611140644381209, 0.7914391736243577]}, {\"categories\": [\"0\", \"1\", \"2\", \"3\", \"4\", \"5\", \"6\", \"7\", \"8\", \"9\"], \"mode\": \"lines\", \"name\": \"accuracy_max\", \"stepped\": true, \"type\": \"scatter\", \"data\": [0.9481472216141844, 0.9587541824322212, 0.9587541824322212, 0.9587541824322212, 0.9587541824322212, 0.9587541824322212, 0.9587541824322212, 0.9587541824322212, 0.9611140644381209, 0.9611140644381209]}], \"weighted_accuracy\": [{\"categories\": [\"0\", \"1\", \"2\", \"3\", \"4\", \"5\", \"6\", \"7\", \"8\", \"9\"], \"mode\": \"markers\", \"name\": \"weighted_accuracy\", \"stepped\": false, \"type\": \"scatter\", \"data\": [0.9470800227615922, 0.9577371399024078, 0.9345605875314177, 0.9072404605668454, 0.9452287541062229, 0.9383588057442417, 0.9385547528652828, 0.7421476604092745, 0.9605132192252532, 0.7825952017636458]}, {\"categories\": [\"0\", \"1\", \"2\", \"3\", \"4\", \"5\", \"6\", \"7\", \"8\", \"9\"], \"mode\": \"lines\", \"name\": \"weighted_accuracy_max\", \"stepped\": true, \"type\": \"scatter\", \"data\": [0.9470800227615922, 0.9577371399024078, 0.9577371399024078, 0.9577371399024078, 0.9577371399024078, 0.9577371399024078, 0.9577371399024078, 0.9577371399024078, 0.9605132192252532, 0.9605132192252532]}], \"f1_score_weighted\": [{\"categories\": [\"0\", \"1\", \"2\", \"3\", \"4\", \"5\", \"6\", \"7\", \"8\", \"9\"], \"mode\": \"markers\", \"name\": \"f1_score_weighted\", \"stepped\": false, \"type\": \"scatter\", \"data\": [0.9479312555287626, 0.9585888140383595, 0.9352181262455677, 0.9067023005797726, 0.9451670307238013, 0.9385630214822873, 0.9395483949197097, 0.7141212407944786, 0.9611245799084039, 0.7581303660938826]}, {\"categories\": [\"0\", \"1\", \"2\", \"3\", \"4\", \"5\", \"6\", \"7\", \"8\", \"9\"], \"mode\": \"lines\", \"name\": \"f1_score_weighted_max\", \"stepped\": true, \"type\": \"scatter\", \"data\": [0.9479312555287626, 0.9585888140383595, 0.9585888140383595, 0.9585888140383595, 0.9585888140383595, 0.9585888140383595, 0.9585888140383595, 0.9585888140383595, 0.9611245799084039, 0.9611245799084039]}], \"log_loss\": [{\"categories\": [\"0\", \"1\", \"2\", \"3\", \"4\", \"5\", \"6\", \"7\", \"8\", \"9\"], \"mode\": \"markers\", \"name\": \"log_loss\", \"stepped\": false, \"type\": \"scatter\", \"data\": [0.5410614594597781, 0.24266924997632067, 0.32456495034312055, 1.619812866284426, 0.7708079928914408, 0.3856364387492397, 0.33509476736668137, 1.3767789631416578, 0.32418613265963986, 0.6318969733889724]}, {\"categories\": [\"0\", \"1\", \"2\", \"3\", \"4\", \"5\", \"6\", \"7\", \"8\", \"9\"], \"mode\": \"lines\", \"name\": \"log_loss_min\", \"stepped\": true, \"type\": \"scatter\", \"data\": [0.5410614594597781, 0.24266924997632067, 0.24266924997632067, 0.24266924997632067, 0.24266924997632067, 0.24266924997632067, 0.24266924997632067, 0.24266924997632067, 0.24266924997632067, 0.24266924997632067]}], \"recall_score_micro\": [{\"categories\": [\"0\", \"1\", \"2\", \"3\", \"4\", \"5\", \"6\", \"7\", \"8\", \"9\"], \"mode\": \"markers\", \"name\": \"recall_score_micro\", \"stepped\": false, \"type\": \"scatter\", \"data\": [0.9481472216141844, 0.9587541824322212, 0.9351824634916664, 0.9080688368408435, 0.9452067502631936, 0.9387222865005159, 0.9393101723005722, 0.7442404911556543, 0.9611140644381209, 0.7914391736243577]}, {\"categories\": [\"0\", \"1\", \"2\", \"3\", \"4\", \"5\", \"6\", \"7\", \"8\", \"9\"], \"mode\": \"lines\", \"name\": \"recall_score_micro_max\", \"stepped\": true, \"type\": \"scatter\", \"data\": [0.9481472216141844, 0.9587541824322212, 0.9587541824322212, 0.9587541824322212, 0.9587541824322212, 0.9587541824322212, 0.9587541824322212, 0.9587541824322212, 0.9611140644381209, 0.9611140644381209]}], \"recall_score_weighted\": [{\"categories\": [\"0\", \"1\", \"2\", \"3\", \"4\", \"5\", \"6\", \"7\", \"8\", \"9\"], \"mode\": \"markers\", \"name\": \"recall_score_weighted\", \"stepped\": false, \"type\": \"scatter\", \"data\": [0.9481472216141844, 0.9587541824322212, 0.9351824634916664, 0.9080688368408435, 0.9452067502631936, 0.9387222865005159, 0.9393101723005722, 0.7442404911556543, 0.9611140644381209, 0.7914391736243577]}, {\"categories\": [\"0\", \"1\", \"2\", \"3\", \"4\", \"5\", \"6\", \"7\", \"8\", \"9\"], \"mode\": \"lines\", \"name\": \"recall_score_weighted_max\", \"stepped\": true, \"type\": \"scatter\", \"data\": [0.9481472216141844, 0.9587541824322212, 0.9587541824322212, 0.9587541824322212, 0.9587541824322212, 0.9587541824322212, 0.9587541824322212, 0.9587541824322212, 0.9611140644381209, 0.9611140644381209]}], \"recall_score_macro\": [{\"categories\": [\"0\", \"1\", \"2\", \"3\", \"4\", \"5\", \"6\", \"7\", \"8\", \"9\"], \"mode\": \"markers\", \"name\": \"recall_score_macro\", \"stepped\": false, \"type\": \"scatter\", \"data\": [0.9491493591969098, 0.9597402565623053, 0.9357232758210251, 0.9089657941872211, 0.9451423198756146, 0.9390061399294586, 0.9399787168704153, 0.7463083782524619, 0.9616434242814899, 0.8014345683615214]}, {\"categories\": [\"0\", \"1\", \"2\", \"3\", \"4\", \"5\", \"6\", \"7\", \"8\", \"9\"], \"mode\": \"lines\", \"name\": \"recall_score_macro_max\", \"stepped\": true, \"type\": \"scatter\", \"data\": [0.9491493591969098, 0.9597402565623053, 0.9597402565623053, 0.9597402565623053, 0.9597402565623053, 0.9597402565623053, 0.9597402565623053, 0.9597402565623053, 0.9616434242814899, 0.9616434242814899]}]}, \"metricName\": null, \"primaryMetricName\": \"AUC_weighted\", \"showLegend\": false}, \"run_metrics\": [], \"run_logs\": \"\\nRun is completed.\", \"graph\": {}, \"widget_settings\": {\"childWidgetDisplay\": \"popup\", \"send_telemetry\": false, \"log_level\": \"INFO\", \"sdk_version\": \"1.0.83\"}, \"loading\": false}"
     },
     "metadata": {},
     "output_type": "display_data"
    }
   ],
   "source": [
    "from azureml.widgets import RunDetails\n",
    "RunDetails(local_run).show() "
   ]
  },
  {
   "cell_type": "markdown",
   "metadata": {},
   "source": [
    "\n",
    "### 6.2 Métriques par itération\n"
   ]
  },
  {
   "cell_type": "code",
   "execution_count": 21,
   "metadata": {},
   "outputs": [
    {
     "data": {
      "text/html": [
       "<div>\n",
       "<style scoped>\n",
       "    .dataframe tbody tr th:only-of-type {\n",
       "        vertical-align: middle;\n",
       "    }\n",
       "\n",
       "    .dataframe tbody tr th {\n",
       "        vertical-align: top;\n",
       "    }\n",
       "\n",
       "    .dataframe thead th {\n",
       "        text-align: right;\n",
       "    }\n",
       "</style>\n",
       "<table border=\"1\" class=\"dataframe\">\n",
       "  <thead>\n",
       "    <tr style=\"text-align: right;\">\n",
       "      <th></th>\n",
       "      <th>0</th>\n",
       "      <th>1</th>\n",
       "      <th>2</th>\n",
       "      <th>3</th>\n",
       "      <th>4</th>\n",
       "      <th>5</th>\n",
       "      <th>6</th>\n",
       "      <th>7</th>\n",
       "      <th>8</th>\n",
       "      <th>9</th>\n",
       "    </tr>\n",
       "  </thead>\n",
       "  <tbody>\n",
       "    <tr>\n",
       "      <th>AUC_macro</th>\n",
       "      <td>0.99</td>\n",
       "      <td>1.00</td>\n",
       "      <td>1.00</td>\n",
       "      <td>0.99</td>\n",
       "      <td>1.00</td>\n",
       "      <td>1.00</td>\n",
       "      <td>1.00</td>\n",
       "      <td>0.95</td>\n",
       "      <td>1.00</td>\n",
       "      <td>0.98</td>\n",
       "    </tr>\n",
       "    <tr>\n",
       "      <th>AUC_micro</th>\n",
       "      <td>0.99</td>\n",
       "      <td>1.00</td>\n",
       "      <td>1.00</td>\n",
       "      <td>0.99</td>\n",
       "      <td>1.00</td>\n",
       "      <td>1.00</td>\n",
       "      <td>1.00</td>\n",
       "      <td>0.95</td>\n",
       "      <td>1.00</td>\n",
       "      <td>0.98</td>\n",
       "    </tr>\n",
       "    <tr>\n",
       "      <th>AUC_weighted</th>\n",
       "      <td>0.99</td>\n",
       "      <td>1.00</td>\n",
       "      <td>1.00</td>\n",
       "      <td>0.99</td>\n",
       "      <td>1.00</td>\n",
       "      <td>1.00</td>\n",
       "      <td>1.00</td>\n",
       "      <td>0.95</td>\n",
       "      <td>1.00</td>\n",
       "      <td>0.98</td>\n",
       "    </tr>\n",
       "    <tr>\n",
       "      <th>accuracy</th>\n",
       "      <td>0.95</td>\n",
       "      <td>0.96</td>\n",
       "      <td>0.94</td>\n",
       "      <td>0.91</td>\n",
       "      <td>0.95</td>\n",
       "      <td>0.94</td>\n",
       "      <td>0.94</td>\n",
       "      <td>0.74</td>\n",
       "      <td>0.96</td>\n",
       "      <td>0.79</td>\n",
       "    </tr>\n",
       "    <tr>\n",
       "      <th>average_precision_score_macro</th>\n",
       "      <td>0.98</td>\n",
       "      <td>0.99</td>\n",
       "      <td>0.98</td>\n",
       "      <td>0.94</td>\n",
       "      <td>0.98</td>\n",
       "      <td>0.98</td>\n",
       "      <td>0.98</td>\n",
       "      <td>0.81</td>\n",
       "      <td>0.99</td>\n",
       "      <td>0.92</td>\n",
       "    </tr>\n",
       "    <tr>\n",
       "      <th>average_precision_score_micro</th>\n",
       "      <td>0.98</td>\n",
       "      <td>0.99</td>\n",
       "      <td>0.98</td>\n",
       "      <td>0.94</td>\n",
       "      <td>0.98</td>\n",
       "      <td>0.98</td>\n",
       "      <td>0.98</td>\n",
       "      <td>0.80</td>\n",
       "      <td>0.99</td>\n",
       "      <td>0.90</td>\n",
       "    </tr>\n",
       "    <tr>\n",
       "      <th>average_precision_score_weighted</th>\n",
       "      <td>0.98</td>\n",
       "      <td>0.99</td>\n",
       "      <td>0.98</td>\n",
       "      <td>0.94</td>\n",
       "      <td>0.98</td>\n",
       "      <td>0.98</td>\n",
       "      <td>0.98</td>\n",
       "      <td>0.81</td>\n",
       "      <td>0.99</td>\n",
       "      <td>0.92</td>\n",
       "    </tr>\n",
       "    <tr>\n",
       "      <th>balanced_accuracy</th>\n",
       "      <td>0.95</td>\n",
       "      <td>0.96</td>\n",
       "      <td>0.94</td>\n",
       "      <td>0.91</td>\n",
       "      <td>0.95</td>\n",
       "      <td>0.94</td>\n",
       "      <td>0.94</td>\n",
       "      <td>0.75</td>\n",
       "      <td>0.96</td>\n",
       "      <td>0.80</td>\n",
       "    </tr>\n",
       "    <tr>\n",
       "      <th>f1_score_macro</th>\n",
       "      <td>0.95</td>\n",
       "      <td>0.96</td>\n",
       "      <td>0.94</td>\n",
       "      <td>0.91</td>\n",
       "      <td>0.94</td>\n",
       "      <td>0.94</td>\n",
       "      <td>0.94</td>\n",
       "      <td>0.72</td>\n",
       "      <td>0.96</td>\n",
       "      <td>0.76</td>\n",
       "    </tr>\n",
       "    <tr>\n",
       "      <th>f1_score_micro</th>\n",
       "      <td>0.95</td>\n",
       "      <td>0.96</td>\n",
       "      <td>0.94</td>\n",
       "      <td>0.91</td>\n",
       "      <td>0.95</td>\n",
       "      <td>0.94</td>\n",
       "      <td>0.94</td>\n",
       "      <td>0.74</td>\n",
       "      <td>0.96</td>\n",
       "      <td>0.79</td>\n",
       "    </tr>\n",
       "    <tr>\n",
       "      <th>f1_score_weighted</th>\n",
       "      <td>0.95</td>\n",
       "      <td>0.96</td>\n",
       "      <td>0.94</td>\n",
       "      <td>0.91</td>\n",
       "      <td>0.95</td>\n",
       "      <td>0.94</td>\n",
       "      <td>0.94</td>\n",
       "      <td>0.71</td>\n",
       "      <td>0.96</td>\n",
       "      <td>0.76</td>\n",
       "    </tr>\n",
       "    <tr>\n",
       "      <th>log_loss</th>\n",
       "      <td>0.54</td>\n",
       "      <td>0.24</td>\n",
       "      <td>0.32</td>\n",
       "      <td>1.62</td>\n",
       "      <td>0.77</td>\n",
       "      <td>0.39</td>\n",
       "      <td>0.34</td>\n",
       "      <td>1.38</td>\n",
       "      <td>0.32</td>\n",
       "      <td>0.63</td>\n",
       "    </tr>\n",
       "    <tr>\n",
       "      <th>norm_macro_recall</th>\n",
       "      <td>0.94</td>\n",
       "      <td>0.96</td>\n",
       "      <td>0.93</td>\n",
       "      <td>0.90</td>\n",
       "      <td>0.94</td>\n",
       "      <td>0.93</td>\n",
       "      <td>0.93</td>\n",
       "      <td>0.72</td>\n",
       "      <td>0.96</td>\n",
       "      <td>0.78</td>\n",
       "    </tr>\n",
       "    <tr>\n",
       "      <th>precision_score_macro</th>\n",
       "      <td>0.95</td>\n",
       "      <td>0.96</td>\n",
       "      <td>0.94</td>\n",
       "      <td>0.91</td>\n",
       "      <td>0.95</td>\n",
       "      <td>0.94</td>\n",
       "      <td>0.94</td>\n",
       "      <td>0.77</td>\n",
       "      <td>0.96</td>\n",
       "      <td>0.75</td>\n",
       "    </tr>\n",
       "    <tr>\n",
       "      <th>precision_score_micro</th>\n",
       "      <td>0.95</td>\n",
       "      <td>0.96</td>\n",
       "      <td>0.94</td>\n",
       "      <td>0.91</td>\n",
       "      <td>0.95</td>\n",
       "      <td>0.94</td>\n",
       "      <td>0.94</td>\n",
       "      <td>0.74</td>\n",
       "      <td>0.96</td>\n",
       "      <td>0.79</td>\n",
       "    </tr>\n",
       "    <tr>\n",
       "      <th>precision_score_weighted</th>\n",
       "      <td>0.95</td>\n",
       "      <td>0.96</td>\n",
       "      <td>0.94</td>\n",
       "      <td>0.91</td>\n",
       "      <td>0.95</td>\n",
       "      <td>0.94</td>\n",
       "      <td>0.94</td>\n",
       "      <td>0.76</td>\n",
       "      <td>0.96</td>\n",
       "      <td>0.75</td>\n",
       "    </tr>\n",
       "    <tr>\n",
       "      <th>recall_score_macro</th>\n",
       "      <td>0.95</td>\n",
       "      <td>0.96</td>\n",
       "      <td>0.94</td>\n",
       "      <td>0.91</td>\n",
       "      <td>0.95</td>\n",
       "      <td>0.94</td>\n",
       "      <td>0.94</td>\n",
       "      <td>0.75</td>\n",
       "      <td>0.96</td>\n",
       "      <td>0.80</td>\n",
       "    </tr>\n",
       "    <tr>\n",
       "      <th>recall_score_micro</th>\n",
       "      <td>0.95</td>\n",
       "      <td>0.96</td>\n",
       "      <td>0.94</td>\n",
       "      <td>0.91</td>\n",
       "      <td>0.95</td>\n",
       "      <td>0.94</td>\n",
       "      <td>0.94</td>\n",
       "      <td>0.74</td>\n",
       "      <td>0.96</td>\n",
       "      <td>0.79</td>\n",
       "    </tr>\n",
       "    <tr>\n",
       "      <th>recall_score_weighted</th>\n",
       "      <td>0.95</td>\n",
       "      <td>0.96</td>\n",
       "      <td>0.94</td>\n",
       "      <td>0.91</td>\n",
       "      <td>0.95</td>\n",
       "      <td>0.94</td>\n",
       "      <td>0.94</td>\n",
       "      <td>0.74</td>\n",
       "      <td>0.96</td>\n",
       "      <td>0.79</td>\n",
       "    </tr>\n",
       "    <tr>\n",
       "      <th>weighted_accuracy</th>\n",
       "      <td>0.95</td>\n",
       "      <td>0.96</td>\n",
       "      <td>0.93</td>\n",
       "      <td>0.91</td>\n",
       "      <td>0.95</td>\n",
       "      <td>0.94</td>\n",
       "      <td>0.94</td>\n",
       "      <td>0.74</td>\n",
       "      <td>0.96</td>\n",
       "      <td>0.78</td>\n",
       "    </tr>\n",
       "  </tbody>\n",
       "</table>\n",
       "</div>"
      ],
      "text/plain": [
       "                                    0    1    2    3    4    5    6    7    8  \\\n",
       "AUC_macro                        0.99 1.00 1.00 0.99 1.00 1.00 1.00 0.95 1.00   \n",
       "AUC_micro                        0.99 1.00 1.00 0.99 1.00 1.00 1.00 0.95 1.00   \n",
       "AUC_weighted                     0.99 1.00 1.00 0.99 1.00 1.00 1.00 0.95 1.00   \n",
       "accuracy                         0.95 0.96 0.94 0.91 0.95 0.94 0.94 0.74 0.96   \n",
       "average_precision_score_macro    0.98 0.99 0.98 0.94 0.98 0.98 0.98 0.81 0.99   \n",
       "average_precision_score_micro    0.98 0.99 0.98 0.94 0.98 0.98 0.98 0.80 0.99   \n",
       "average_precision_score_weighted 0.98 0.99 0.98 0.94 0.98 0.98 0.98 0.81 0.99   \n",
       "balanced_accuracy                0.95 0.96 0.94 0.91 0.95 0.94 0.94 0.75 0.96   \n",
       "f1_score_macro                   0.95 0.96 0.94 0.91 0.94 0.94 0.94 0.72 0.96   \n",
       "f1_score_micro                   0.95 0.96 0.94 0.91 0.95 0.94 0.94 0.74 0.96   \n",
       "f1_score_weighted                0.95 0.96 0.94 0.91 0.95 0.94 0.94 0.71 0.96   \n",
       "log_loss                         0.54 0.24 0.32 1.62 0.77 0.39 0.34 1.38 0.32   \n",
       "norm_macro_recall                0.94 0.96 0.93 0.90 0.94 0.93 0.93 0.72 0.96   \n",
       "precision_score_macro            0.95 0.96 0.94 0.91 0.95 0.94 0.94 0.77 0.96   \n",
       "precision_score_micro            0.95 0.96 0.94 0.91 0.95 0.94 0.94 0.74 0.96   \n",
       "precision_score_weighted         0.95 0.96 0.94 0.91 0.95 0.94 0.94 0.76 0.96   \n",
       "recall_score_macro               0.95 0.96 0.94 0.91 0.95 0.94 0.94 0.75 0.96   \n",
       "recall_score_micro               0.95 0.96 0.94 0.91 0.95 0.94 0.94 0.74 0.96   \n",
       "recall_score_weighted            0.95 0.96 0.94 0.91 0.95 0.94 0.94 0.74 0.96   \n",
       "weighted_accuracy                0.95 0.96 0.93 0.91 0.95 0.94 0.94 0.74 0.96   \n",
       "\n",
       "                                    9  \n",
       "AUC_macro                        0.98  \n",
       "AUC_micro                        0.98  \n",
       "AUC_weighted                     0.98  \n",
       "accuracy                         0.79  \n",
       "average_precision_score_macro    0.92  \n",
       "average_precision_score_micro    0.90  \n",
       "average_precision_score_weighted 0.92  \n",
       "balanced_accuracy                0.80  \n",
       "f1_score_macro                   0.76  \n",
       "f1_score_micro                   0.79  \n",
       "f1_score_weighted                0.76  \n",
       "log_loss                         0.63  \n",
       "norm_macro_recall                0.78  \n",
       "precision_score_macro            0.75  \n",
       "precision_score_micro            0.79  \n",
       "precision_score_weighted         0.75  \n",
       "recall_score_macro               0.80  \n",
       "recall_score_micro               0.79  \n",
       "recall_score_weighted            0.79  \n",
       "weighted_accuracy                0.78  "
      ]
     },
     "execution_count": 21,
     "metadata": {},
     "output_type": "execute_result"
    }
   ],
   "source": [
    "children = list(local_run.get_children())\n",
    "metricslist = {}\n",
    "for run in children:\n",
    "    properties = run.get_properties()\n",
    "    metrics = {k: v for k, v in run.get_metrics().items() if isinstance(v, float)}\n",
    "    metricslist[int(properties['iteration'])] = metrics\n",
    "\n",
    "rundata = pd.DataFrame(metricslist).sort_index(1)\n",
    "rundata"
   ]
  },
  {
   "cell_type": "markdown",
   "metadata": {},
   "source": [
    "## 7. Récupération du meilleur modèle\n",
    "\n",
    "Below we select the best pipeline from our iterations. The `get_output` method returns the best run and the fitted model. The Model includes the pipeline and any pre-processing.  Overloads on `get_output` allow you to retrieve the best run and fitted model for *any* logged metric or for a particular *iteration*."
   ]
  },
  {
   "cell_type": "code",
   "execution_count": 22,
   "metadata": {},
   "outputs": [
    {
     "name": "stdout",
     "output_type": "stream",
     "text": [
      "Run(Experiment: workshop2-automlclassification,\n",
      "Id: AutoML_33c0a43b-2d4a-4b9c-8233-773657188da3_8,\n",
      "Type: None,\n",
      "Status: Completed)\n",
      "\n",
      "Pipeline(memory=None,\n",
      "     steps=[('prefittedsoftvotingclassifier', PreFittedSoftVotingClassifier(classification_labels=None,\n",
      "               estimators=[('2', Pipeline(memory=None,\n",
      "     steps=[('MinMaxScaler', MinMaxScaler(copy=True, feature_range=(0, 1))), ('LightGBMClassifier', LightGBMClassifier(boosting_type='goss', class...         tol=0.01))]))],\n",
      "               flatten_transform=None, weights=[0.3, 0.2, 0.3, 0.1, 0.1]))])\n"
     ]
    }
   ],
   "source": [
    "best_run, fitted_model = local_run.get_output()\n",
    "\n",
    "print(best_run)\n",
    "print()\n",
    "print(fitted_model)"
   ]
  },
  {
   "cell_type": "code",
   "execution_count": 23,
   "metadata": {},
   "outputs": [
    {
     "data": {
      "text/plain": [
       "<bound method Pipeline.get_params of Pipeline(memory=None,\n",
       "     steps=[('prefittedsoftvotingclassifier', PreFittedSoftVotingClassifier(classification_labels=None,\n",
       "               estimators=[('2', Pipeline(memory=None,\n",
       "     steps=[('MinMaxScaler', MinMaxScaler(copy=True, feature_range=(0, 1))), ('LightGBMClassifier', LightGBMClassifier(boosting_type='goss', class...         tol=0.01))]))],\n",
       "               flatten_transform=None, weights=[0.3, 0.2, 0.3, 0.1, 0.1]))])>"
      ]
     },
     "execution_count": 23,
     "metadata": {},
     "output_type": "execute_result"
    }
   ],
   "source": [
    "fitted_model.get_params"
   ]
  },
  {
   "cell_type": "code",
   "execution_count": 24,
   "metadata": {},
   "outputs": [
    {
     "data": {
      "text/plain": [
       "[('prefittedsoftvotingclassifier',\n",
       "  PreFittedSoftVotingClassifier(classification_labels=None,\n",
       "                 estimators=[('2', Pipeline(memory=None,\n",
       "       steps=[('MinMaxScaler', MinMaxScaler(copy=True, feature_range=(0, 1))), ('LightGBMClassifier', LightGBMClassifier(boosting_type='goss', class_weight=None,\n",
       "            colsample_bytree=0.7922222222222222, importance_type='split',\n",
       "            learning_rate=0.1,...\n",
       "             penalty='none', power_t=0.2222222222222222, random_state=None,\n",
       "             tol=0.01))]))],\n",
       "                 flatten_transform=None, weights=[0.3, 0.2, 0.3, 0.1, 0.1]))]"
      ]
     },
     "execution_count": 24,
     "metadata": {},
     "output_type": "execute_result"
    }
   ],
   "source": [
    "fitted_model.steps"
   ]
  },
  {
   "cell_type": "markdown",
   "metadata": {},
   "source": [
    "### 7.1 Changement de la métrique AutoML\n"
   ]
  },
  {
   "cell_type": "code",
   "execution_count": 25,
   "metadata": {},
   "outputs": [
    {
     "name": "stdout",
     "output_type": "stream",
     "text": [
      "Meilleur modèle :\n",
      "Run(Experiment: workshop2-automlclassification,\n",
      "Id: AutoML_33c0a43b-2d4a-4b9c-8233-773657188da3_8,\n",
      "Type: None,\n",
      "Status: Completed)\n",
      "\n",
      "Pipeline(memory=None,\n",
      "     steps=[('prefittedsoftvotingclassifier', PreFittedSoftVotingClassifier(classification_labels=None,\n",
      "               estimators=[('2', Pipeline(memory=None,\n",
      "     steps=[('MinMaxScaler', MinMaxScaler(copy=True, feature_range=(0, 1))), ('LightGBMClassifier', LightGBMClassifier(boosting_type='goss', class...         tol=0.01))]))],\n",
      "               flatten_transform=None, weights=[0.3, 0.2, 0.3, 0.1, 0.1]))])\n"
     ]
    }
   ],
   "source": [
    "lookup_metric = \"f1_score_weighted\"\n",
    "best_run, fitted_model = local_run.get_output(metric = lookup_metric)\n",
    "print(\"Meilleur modèle :\")\n",
    "print(best_run)\n",
    "print()\n",
    "print(fitted_model)"
   ]
  },
  {
   "cell_type": "markdown",
   "metadata": {},
   "source": [
    "Model from a Specific Iteration\n",
    "Show the run and the model from the third iteration:"
   ]
  },
  {
   "cell_type": "code",
   "execution_count": 26,
   "metadata": {},
   "outputs": [
    {
     "name": "stdout",
     "output_type": "stream",
     "text": [
      "Modèle 3 eme itération :\n",
      "Run(Experiment: workshop2-automlclassification,\n",
      "Id: AutoML_33c0a43b-2d4a-4b9c-8233-773657188da3_3,\n",
      "Type: None,\n",
      "Status: Completed)\n",
      "\n",
      "Pipeline(memory=None,\n",
      "     steps=[('StandardScalerWrapper', <automl.client.core.runtime.model_wrappers.StandardScalerWrapper object at 0x7f4890597b70>), ('SGDClassifierWrapper', SGDClassifierWrapper(alpha=0.0001, class_weight='balanced', eta0=0.0001,\n",
      "           fit_intercept=False, l1_ratio=0.3469387755102041,\n",
      "           learning_rate='constant', loss='modified_huber', max_iter=1000,\n",
      "           n_jobs=1, penalty='l2', power_t=0.2222222222222222,\n",
      "           random_state=None, tol=0.01))])\n"
     ]
    }
   ],
   "source": [
    "iteration = 3\n",
    "\n",
    "my_run, my_model = local_run.get_output(iteration = iteration)\n",
    "print(\"Modèle\",iteration,\"eme itération :\")\n",
    "print(my_run)\n",
    "print()\n",
    "print(my_model)"
   ]
  },
  {
   "cell_type": "markdown",
   "metadata": {},
   "source": [
    "## 8. Application du modèle\n",
    "\n",
    "### 8.1 Chargement des données"
   ]
  },
  {
   "cell_type": "code",
   "execution_count": 27,
   "metadata": {},
   "outputs": [],
   "source": [
    "digits = datasets.load_digits()\n",
    "X_test = digits.data[:10, :]\n",
    "y_test = digits.target[:10]\n",
    "images = digits.images[:10]"
   ]
  },
  {
   "cell_type": "markdown",
   "metadata": {},
   "source": [
    "### 8.2 Test\n",
    "We will try to predict 2 digits and see how our model works."
   ]
  },
  {
   "cell_type": "code",
   "execution_count": 28,
   "metadata": {},
   "outputs": [
    {
     "name": "stdout",
     "output_type": "stream",
     "text": [
      "3\n"
     ]
    },
    {
     "data": {
      "image/png": "[encoded data removed]",
      "text/plain": [
       "<Figure size 216x216 with 1 Axes>"
      ]
     },
     "metadata": {
      "needs_background": "light"
     },
     "output_type": "display_data"
    },
    {
     "name": "stdout",
     "output_type": "stream",
     "text": [
      "5\n"
     ]
    },
    {
     "data": {
      "image/png": "[encoded data removed]",
      "text/plain": [
       "<Figure size 216x216 with 1 Axes>"
      ]
     },
     "metadata": {
      "needs_background": "light"
     },
     "output_type": "display_data"
    },
    {
     "name": "stdout",
     "output_type": "stream",
     "text": [
      "CPU times: user 394 ms, sys: 19 ms, total: 413 ms\n",
      "Wall time: 339 ms\n"
     ]
    }
   ],
   "source": [
    "%%time\n",
    "# Randomly select digits and test.\n",
    "for index in np.random.choice(len(y_test), 2, replace = False):\n",
    "    print(index)\n",
    "    predicted = fitted_model.predict(X_test[index:index + 1])[0]\n",
    "    label = y_test[index]\n",
    "    title = \"Label value = %d  Predicted value = %d \" % (label, predicted)\n",
    "    fig = plt.figure(1, figsize = (3,3))\n",
    "    ax1 = fig.add_axes((0,0,.8,.8))\n",
    "    ax1.set_title(title)\n",
    "    plt.imshow(images[index], cmap = plt.cm.gray_r, interpolation = 'nearest')\n",
    "    plt.show()"
   ]
  },
  {
   "cell_type": "markdown",
   "metadata": {},
   "source": [
    "<img src=\"https://github.com/retkowsky/images/blob/master/Powered-by-MS-Azure-logo-v2.png?raw=true\" height=\"300\" width=\"300\">"
   ]
  }
 ],
 "metadata": {
  "authors": [
   {
    "name": "savitam"
   }
  ],
  "kernelspec": {
   "display_name": "Python 3.6 - AzureML",
   "language": "python",
   "name": "python3-azureml"
  },
  "language_info": {
   "codemirror_mode": {
    "name": "ipython",
    "version": 3
   },
   "file_extension": ".py",
   "mimetype": "text/x-python",
   "name": "python",
   "nbconvert_exporter": "python",
   "pygments_lexer": "ipython3",
   "version": "3.6.9"
  }
 },
 "nbformat": 4,
 "nbformat_minor": 2
}
