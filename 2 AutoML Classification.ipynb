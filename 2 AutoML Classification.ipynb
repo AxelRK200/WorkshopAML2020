{
 "cells": [
  {
   "cell_type": "markdown",
   "metadata": {},
   "source": [
    "# AutoML Classification"
   ]
  },
  {
   "cell_type": "markdown",
   "metadata": {},
   "source": [
    "<img src='https://github.com/retkowsky/images/blob/master/AzureMLservicebanniere.png?raw=true'>"
   ]
  },
  {
   "cell_type": "markdown",
   "metadata": {},
   "source": [
    "This is a copy of the test set of the **UCI ML hand-written digits datasets** http://archive.ics.uci.edu/ml/datasets/Optical+Recognition+of+Handwritten+Digits\n",
    "\n",
    "The data set contains images of hand-written digits: 10 classes where each class refers to a digit.\n",
    "\n"
   ]
  },
  {
   "cell_type": "markdown",
   "metadata": {},
   "source": [
    "<img src=\"https://www.seewald.at/img/L/digits.gif\">\n"
   ]
  },
  {
   "cell_type": "markdown",
   "metadata": {},
   "source": [
    "## Documentation Azure ML service\n",
    "> https://docs.microsoft.com/en-us/azure/machine-learning/service/how-to-automated-ml"
   ]
  },
  {
   "cell_type": "markdown",
   "metadata": {},
   "source": [
    "## 1. Informations\n",
    "\n",
    "As part of the setup you have already created an Azure ML `Workspace` object. <br> For AutoML you will need to create an `Experiment` object, which is a named object in a `Workspace` used to run experiments."
   ]
  },
  {
   "cell_type": "code",
   "execution_count": 1,
   "metadata": {},
   "outputs": [
    {
     "data": {
      "text/plain": [
       "'3.6.9 |Anaconda, Inc.| (default, Jul 30 2019, 19:07:31) \\n[GCC 7.3.0]'"
      ]
     },
     "execution_count": 1,
     "metadata": {},
     "output_type": "execute_result"
    }
   ],
   "source": [
    "import sys\n",
    "sys.version"
   ]
  },
  {
   "cell_type": "code",
   "execution_count": 2,
   "metadata": {},
   "outputs": [
    {
     "name": "stdout",
     "output_type": "stream",
     "text": [
      "Version Azure ML Service : 1.4.0\n"
     ]
    }
   ],
   "source": [
    "import azureml.core\n",
    "print(\"Version Azure ML Service :\", azureml.core.VERSION)"
   ]
  },
  {
   "cell_type": "code",
   "execution_count": 3,
   "metadata": {},
   "outputs": [],
   "source": [
    "import logging\n",
    "import os\n",
    "import random\n",
    "\n",
    "from matplotlib import pyplot as plt\n",
    "from matplotlib.pyplot import imshow\n",
    "import numpy as np\n",
    "import pandas as pd\n",
    "from sklearn import datasets\n",
    "\n",
    "import azureml.core\n",
    "from azureml.core.experiment import Experiment\n",
    "from azureml.core.workspace import Workspace\n",
    "from azureml.train.automl import AutoMLConfig\n",
    "from azureml.train.automl.run import AutoMLRun"
   ]
  },
  {
   "cell_type": "markdown",
   "metadata": {},
   "source": [
    "## 2. Connexion workspace Azure ML service"
   ]
  },
  {
   "cell_type": "code",
   "execution_count": 4,
   "metadata": {},
   "outputs": [
    {
     "data": {
      "text/html": [
       "<div>\n",
       "<style scoped>\n",
       "    .dataframe tbody tr th:only-of-type {\n",
       "        vertical-align: middle;\n",
       "    }\n",
       "\n",
       "    .dataframe tbody tr th {\n",
       "        vertical-align: top;\n",
       "    }\n",
       "\n",
       "    .dataframe thead th {\n",
       "        text-align: right;\n",
       "    }\n",
       "</style>\n",
       "<table border=\"1\" class=\"dataframe\">\n",
       "  <thead>\n",
       "    <tr style=\"text-align: right;\">\n",
       "      <th></th>\n",
       "      <th></th>\n",
       "    </tr>\n",
       "  </thead>\n",
       "  <tbody>\n",
       "    <tr>\n",
       "      <th>SDK version</th>\n",
       "      <td>1.4.0</td>\n",
       "    </tr>\n",
       "    <tr>\n",
       "      <th>Workspace Name</th>\n",
       "      <td>workshopAML2020</td>\n",
       "    </tr>\n",
       "    <tr>\n",
       "      <th>Resource Group</th>\n",
       "      <td>workshopAML2020-rg</td>\n",
       "    </tr>\n",
       "    <tr>\n",
       "      <th>Location</th>\n",
       "      <td>westeurope</td>\n",
       "    </tr>\n",
       "    <tr>\n",
       "      <th>Project Directory</th>\n",
       "      <td>./sample_projects/workshop2</td>\n",
       "    </tr>\n",
       "    <tr>\n",
       "      <th>Experiment Name</th>\n",
       "      <td>Exemple2-automlclassificationSR</td>\n",
       "    </tr>\n",
       "  </tbody>\n",
       "</table>\n",
       "</div>"
      ],
      "text/plain": [
       "                                                  \n",
       "SDK version        1.4.0                          \n",
       "Workspace Name     workshopAML2020                \n",
       "Resource Group     workshopAML2020-rg             \n",
       "Location           westeurope                     \n",
       "Project Directory  ./sample_projects/workshop2    \n",
       "Experiment Name    Exemple2-automlclassificationSR"
      ]
     },
     "execution_count": 4,
     "metadata": {},
     "output_type": "execute_result"
    }
   ],
   "source": [
    "ws = Workspace.from_config()\n",
    "\n",
    "experiment_name = 'Exemple2-automlclassificationSR'\n",
    "\n",
    "project_folder = './sample_projects/workshop2'\n",
    "\n",
    "experiment = Experiment(ws, experiment_name)\n",
    "\n",
    "output = {}\n",
    "output['SDK version'] = azureml.core.VERSION\n",
    "output['Workspace Name'] = ws.name\n",
    "output['Resource Group'] = ws.resource_group\n",
    "output['Location'] = ws.location\n",
    "output['Project Directory'] = project_folder\n",
    "output['Experiment Name'] = experiment.name\n",
    "pd.set_option('display.max_colwidth', -1)\n",
    "pd.DataFrame(data = output, index = ['']).T"
   ]
  },
  {
   "cell_type": "code",
   "execution_count": 5,
   "metadata": {},
   "outputs": [
    {
     "name": "stdout",
     "output_type": "stream",
     "text": [
      "Compute Targets :\n",
      "\t drift-aks : AKS\n",
      "\t instance-aks : AKS\n",
      "\t instance : ComputeInstance\n",
      "\t AutoML : AmlCompute\n",
      "\t cpu-cluster : AmlCompute\n",
      "\t cpupipelines : AmlCompute\n",
      "\t clustergpuNC6 : AmlCompute\n",
      "\t gpuclusterNC6 : AmlCompute\n",
      "\t cpu-standardd4 : AmlCompute\n",
      "Datastores :\n",
      "\t azureml : AzureBlob\n",
      "\t modelservingdata : AzureBlob\n",
      "\t aiexportdata : AzureBlob\n",
      "\t modeldata : AzureBlob\n",
      "\t teststorageserge : AzureBlob\n",
      "\t azureml_globaldatasets : AzureBlob\n",
      "\t workspaceblobstore : AzureBlob\n",
      "\t workspacefilestore : AzureFile\n",
      "Datasets :\n",
      "\t drift-demo-dataset\n",
      "\t target\n",
      "\t dataset\n",
      "\t Iris\n",
      "\t mnist dataset\n",
      "\t diabetes dataset\n"
     ]
    }
   ],
   "source": [
    "from azureml.core import ComputeTarget, Datastore, Dataset\n",
    "\n",
    "print(\"Compute Targets :\")\n",
    "for compute_name in ws.compute_targets:\n",
    "    compute = ws.compute_targets[compute_name]\n",
    "    print(\"\\t\", compute.name, ':', compute.type)\n",
    "    \n",
    "print(\"Datastores :\")\n",
    "for datastore_name in ws.datastores:\n",
    "    datastore = Datastore.get(ws, datastore_name)\n",
    "    print(\"\\t\", datastore.name, ':', datastore.datastore_type)\n",
    "    \n",
    "print(\"Datasets :\")\n",
    "for dataset_name in list(ws.datasets.keys()):\n",
    "    dataset = Dataset.get_by_name(ws, dataset_name)\n",
    "    print(\"\\t\", dataset.name)"
   ]
  },
  {
   "cell_type": "markdown",
   "metadata": {},
   "source": [
    "## 3. Chargement des données\n",
    "\n",
    "This uses scikit-learn's [load_digits](http://scikit-learn.org/stable/modules/generated/sklearn.datasets.load_digits.html) method."
   ]
  },
  {
   "cell_type": "markdown",
   "metadata": {},
   "source": [
    "Each datapoint is a 8x8 image of a digit."
   ]
  },
  {
   "cell_type": "code",
   "execution_count": 6,
   "metadata": {},
   "outputs": [],
   "source": [
    "from sklearn import datasets\n",
    "\n",
    "digits = datasets.load_digits()\n",
    "\n",
    "# Exclude the first 100 rows from training so that they can be used for test.\n",
    "X_train = digits.data[100:,:]\n",
    "y_train = digits.target[100:]"
   ]
  },
  {
   "cell_type": "code",
   "execution_count": 7,
   "metadata": {},
   "outputs": [
    {
     "name": "stdout",
     "output_type": "stream",
     "text": [
      "Taille du dataset :  (1797, 64)\n"
     ]
    }
   ],
   "source": [
    "print(\"Taille du dataset : \", digits.data.shape)"
   ]
  },
  {
   "cell_type": "markdown",
   "metadata": {},
   "source": [
    "> On a 1797 images de 8 sur 8 pixels (=64)."
   ]
  },
  {
   "cell_type": "markdown",
   "metadata": {},
   "source": [
    "### Exemples d'images :"
   ]
  },
  {
   "cell_type": "code",
   "execution_count": 8,
   "metadata": {},
   "outputs": [],
   "source": [
    "def visu(chiffre):\n",
    "    import matplotlib.pyplot as plt \n",
    "    plt.gray() \n",
    "    plt.matshow(digits.images[chiffre]) \n",
    "    plt.show() "
   ]
  },
  {
   "cell_type": "code",
   "execution_count": 9,
   "metadata": {},
   "outputs": [
    {
     "data": {
      "text/plain": [
       "<Figure size 432x288 with 0 Axes>"
      ]
     },
     "metadata": {},
     "output_type": "display_data"
    },
    {
     "data": {
      "image/png": "[encoded data removed]",
      "text/plain": [
       "<Figure size 288x288 with 1 Axes>"
      ]
     },
     "metadata": {
      "needs_background": "light"
     },
     "output_type": "display_data"
    }
   ],
   "source": [
    "visu(1)"
   ]
  },
  {
   "cell_type": "code",
   "execution_count": 10,
   "metadata": {},
   "outputs": [
    {
     "data": {
      "text/plain": [
       "<Figure size 432x288 with 0 Axes>"
      ]
     },
     "metadata": {},
     "output_type": "display_data"
    },
    {
     "data": {
      "image/png": "[encoded data removed]",
      "text/plain": [
       "<Figure size 288x288 with 1 Axes>"
      ]
     },
     "metadata": {
      "needs_background": "light"
     },
     "output_type": "display_data"
    }
   ],
   "source": [
    "visu(0)"
   ]
  },
  {
   "cell_type": "code",
   "execution_count": 11,
   "metadata": {},
   "outputs": [
    {
     "data": {
      "text/plain": [
       "<Figure size 432x288 with 0 Axes>"
      ]
     },
     "metadata": {},
     "output_type": "display_data"
    },
    {
     "data": {
      "image/png": "[encoded data removed]",
      "text/plain": [
       "<Figure size 288x288 with 1 Axes>"
      ]
     },
     "metadata": {
      "needs_background": "light"
     },
     "output_type": "display_data"
    }
   ],
   "source": [
    "visu(9)"
   ]
  },
  {
   "cell_type": "markdown",
   "metadata": {},
   "source": [
    "## 4. Configuration AutoML\n",
    "\n"
   ]
  },
  {
   "cell_type": "code",
   "execution_count": 12,
   "metadata": {},
   "outputs": [
    {
     "name": "stderr",
     "output_type": "stream",
     "text": [
      "WARNING - The AutoMLConfig inputs you have specified will soon be deprecated. Please use the AutoMLConfig shown in our documentation: https://aka.ms/AutoMLConfig\n"
     ]
    }
   ],
   "source": [
    "automl_config = AutoMLConfig(task = 'classification',\n",
    "                             debug_log = 'automl2.log',\n",
    "                             primary_metric = 'AUC_weighted', #the metric I want to use\n",
    "                             iteration_timeout_minutes = 2, # Temps max par itération\n",
    "                             experiment_timeout_minutes = 15, # Temps max pour le process AutoML\n",
    "                             enable_early_stopping=True, # Sortie si pas d'amélioration de la métrique\n",
    "                             iterations = 5,           # Possibilité de définir le nombre d'itérations max\n",
    "                             n_cross_validations = 3,    # Nombre de validations croisées\n",
    "                             verbosity = logging.INFO,\n",
    "                             X = X_train, \n",
    "                             y = y_train)"
   ]
  },
  {
   "cell_type": "markdown",
   "metadata": {},
   "source": [
    "## 5. AutoML\n",
    "\n",
    "Call the `submit` method on the experiment object and pass the run configuration. Execution of local runs is synchronous. Depending on the data and the number of iterations this can run for a while.\n",
    "In this example, we specify `show_output = True` to print currently running iterations to the console.\n",
    "\n",
    "`AUC_weighted` is the **metric** used."
   ]
  },
  {
   "cell_type": "code",
   "execution_count": 13,
   "metadata": {},
   "outputs": [],
   "source": [
    "#Mise à jour si besoin (redémarrer le kernel ensuite)\n",
    "#!pip install --upgrade azureml-sdk[automl]"
   ]
  },
  {
   "cell_type": "code",
   "execution_count": 14,
   "metadata": {},
   "outputs": [
    {
     "name": "stdout",
     "output_type": "stream",
     "text": [
      "Running on local machine\n",
      "Parent Run ID: AutoML_e5f99db5-fad3-44d1-9829-5bf62a6cfd61\n",
      "\n",
      "Current status: DatasetEvaluation. Gathering dataset statistics.\n",
      "Current status: FeaturesGeneration. Generating features for the dataset.\n",
      "Current status: DatasetFeaturization. Beginning to fit featurizers and featurize the dataset.\n",
      "Current status: DatasetFeaturizationCompleted. Completed fit featurizers and featurizing the dataset.\n",
      "Current status: DatasetCrossValidationSplit. Generating individually featurized CV splits.\n",
      "\n",
      "****************************************************************************************************\n",
      "DATA GUARDRAILS: \n",
      "\n",
      "TYPE:         Class balancing detection\n",
      "STATUS:       PASSED\n",
      "DESCRIPTION:  Your inputs were analyzed, and all classes are balanced in your training data.\n",
      "              Learn more about imbalanced data: https://aka.ms/AutomatedMLImbalancedData\n",
      "\n",
      "TYPE:         Missing feature values imputation\n",
      "STATUS:       PASSED\n",
      "DESCRIPTION:  No feature missing values were detected in the training data.\n",
      "              Learn more about missing value imputation: https://aka.ms/AutomatedMLFeaturization\n",
      "\n",
      "TYPE:         High cardinality feature detection\n",
      "STATUS:       PASSED\n",
      "DESCRIPTION:  Your inputs were analyzed, and no high cardinality features were detected.\n",
      "              Learn more about high cardinality feature handling: https://aka.ms/AutomatedMLFeaturization\n",
      "\n",
      "****************************************************************************************************\n",
      "Current status: ModelSelection. Beginning model selection.\n",
      "\n",
      "****************************************************************************************************\n",
      "ITERATION: The iteration being evaluated.\n",
      "PIPELINE: A summary description of the pipeline being evaluated.\n",
      "DURATION: Time taken for the current iteration.\n",
      "METRIC: The result of computing score on the fitted pipeline.\n",
      "BEST: The best observed score thus far.\n",
      "****************************************************************************************************\n",
      "\n",
      " ITERATION   PIPELINE                                       DURATION      METRIC      BEST\n",
      "         0   MaxAbsScaler LightGBM                          0:00:35       0.9992    0.9992\n",
      "         1   MaxAbsScaler XGBoostClassifier                 0:00:32       0.9992    0.9992\n",
      "         2   StandardScalerWrapper SGD                      0:00:19       0.9942    0.9992\n",
      "         3   VotingEnsemble                                 0:00:18       0.9993    0.9993\n",
      "         4   StackEnsemble                                  0:00:34       0.9229    0.9993\n",
      "****************************************************************************************************\n",
      "Current status: BestRunExplainModel. Best run model explanations started\n",
      "Current status: ModelExplanationDataSetSetup. Model explanations data setup completed\n",
      "Current status: PickSurrogateModel. Choosing LightGBM as the surrogate model for explanations\n",
      "Current status: EngineeredFeatureExplanations. Computation of engineered features started\n",
      "Current status: EngineeredFeatureExplanations. Computation of engineered features completed\n",
      "Current status: BestRunExplainModel. Best run model explanations completed\n",
      "****************************************************************************************************\n"
     ]
    }
   ],
   "source": [
    "local_run = experiment.submit(automl_config, show_output = True)"
   ]
  },
  {
   "cell_type": "code",
   "execution_count": 15,
   "metadata": {},
   "outputs": [
    {
     "data": {
      "text/html": [
       "<table style=\"width:100%\"><tr><th>Experiment</th><th>Id</th><th>Type</th><th>Status</th><th>Details Page</th><th>Docs Page</th></tr><tr><td>Exemple2-automlclassificationSR</td><td>AutoML_e5f99db5-fad3-44d1-9829-5bf62a6cfd61</td><td>automl</td><td>Completed</td><td><a href=\"https://ml.azure.com/experiments/Exemple2-automlclassificationSR/runs/AutoML_e5f99db5-fad3-44d1-9829-5bf62a6cfd61?wsid=/subscriptions/70b8f39e-8863-49f7-b6ba-34a80799550c/resourcegroups/workshopAML2020-rg/workspaces/workshopAML2020\" target=\"_blank\" rel=\"noopener\">Link to Azure Machine Learning studio</a></td><td><a href=\"https://docs.microsoft.com/en-us/python/api/overview/azure/ml/intro?view=azure-ml-py\" target=\"_blank\" rel=\"noopener\">Link to Documentation</a></td></tr></table>"
      ],
      "text/plain": [
       "Run(Experiment: Exemple2-automlclassificationSR,\n",
       "Id: AutoML_e5f99db5-fad3-44d1-9829-5bf62a6cfd61,\n",
       "Type: automl,\n",
       "Status: Completed)"
      ]
     },
     "execution_count": 15,
     "metadata": {},
     "output_type": "execute_result"
    }
   ],
   "source": [
    "local_run"
   ]
  },
  {
   "cell_type": "markdown",
   "metadata": {},
   "source": [
    "## 6. Exploration des résultats AutoML"
   ]
  },
  {
   "cell_type": "markdown",
   "metadata": {},
   "source": [
    "### 6.1 Notebook Widget\n"
   ]
  },
  {
   "cell_type": "code",
   "execution_count": 16,
   "metadata": {},
   "outputs": [
    {
     "data": {
      "application/vnd.jupyter.widget-view+json": {
       "model_id": "f8ff128b0c4040ecb5de8f54e1ad0dac",
       "version_major": 2,
       "version_minor": 0
      },
      "text/plain": [
       "_AutoMLWidget(widget_settings={'childWidgetDisplay': 'popup', 'send_telemetry': False, 'log_level': 'INFO', 's…"
      ]
     },
     "metadata": {},
     "output_type": "display_data"
    },
    {
     "data": {
      "application/aml.mini.widget.v1": "{\"status\": \"Completed\", \"workbench_run_details_uri\": \"https://ml.azure.com/experiments/Exemple2-automlclassificationSR/runs/AutoML_e5f99db5-fad3-44d1-9829-5bf62a6cfd61?wsid=/subscriptions/70b8f39e-8863-49f7-b6ba-34a80799550c/resourcegroups/workshopAML2020-rg/workspaces/workshopAML2020\", \"run_id\": \"AutoML_e5f99db5-fad3-44d1-9829-5bf62a6cfd61\", \"run_properties\": {\"run_id\": \"AutoML_e5f99db5-fad3-44d1-9829-5bf62a6cfd61\", \"created_utc\": \"2020-05-06T10:30:27.370187Z\", \"properties\": {\"num_iterations\": \"5\", \"training_type\": \"TrainFull\", \"acquisition_function\": \"EI\", \"primary_metric\": \"AUC_weighted\", \"train_split\": \"0\", \"acquisition_parameter\": \"0\", \"num_cross_validation\": \"3\", \"target\": \"local\", \"RawAMLSettingsString\": \"{'name': 'Exemple2-automlclassificationSR', 'path': '.', 'subscription_id': '70b8f39e-8863-49f7-b6ba-34a80799550c', 'resource_group': 'workshopAML2020-rg', 'workspace_name': 'workshopAML2020', 'region': 'westeurope', 'compute_target': 'local', 'spark_service': None, 'azure_service': 'Microsoft.AzureNotebookVM', 'iterations': 5, 'primary_metric': 'AUC_weighted', 'task_type': 'classification', 'data_script': None, 'validation_size': 0.0, 'n_cross_validations': 3, 'y_min': None, 'y_max': None, 'num_classes': 10, 'featurization': 'auto', 'lag_length': 0, 'is_timeseries': False, 'max_cores_per_iteration': 1, 'max_concurrent_iterations': 1, 'iteration_timeout_minutes': 2, 'mem_in_mb': None, 'enforce_time_on_windows': False, 'experiment_timeout_minutes': 15, 'experiment_exit_score': None, 'whitelist_models': None, 'blacklist_algos': None, 'supported_models': ['RandomForest', 'LightGBM', 'GradientBoosting', 'SVM', 'LinearSVM', 'TensorFlowLinearClassifier', 'LogisticRegression', 'BernoulliNaiveBayes', 'SGD', 'KNN', 'XGBoostClassifier', 'DecisionTree', 'ExtremeRandomTrees', 'AveragedPerceptronClassifier', 'MultinomialNaiveBayes', 'TensorFlowDNN'], 'auto_blacklist': True, 'blacklist_samples_reached': False, 'exclude_nan_labels': True, 'verbosity': 20, 'debug_log': 'automl2.log', 'show_warnings': False, 'model_explainability': True, 'service_url': None, 'sdk_url': None, 'sdk_packages': None, 'enable_onnx_compatible_models': False, 'enable_split_onnx_featurizer_estimator_models': False, 'vm_type': None, 'telemetry_verbosity': 20, 'send_telemetry': True, 'enable_dnn': False, 'force_text_dnn': False, 'enable_feature_sweeping': True, 'enable_early_stopping': True, 'early_stopping_n_iters': 10, 'metrics': None, 'enable_ensembling': True, 'enable_stack_ensembling': True, 'ensemble_iterations': 5, 'enable_tf': False, 'enable_cache': True, 'enable_subsampling': False, 'subsample_seed': None, 'enable_nimbusml': False, 'enable_streaming': False, 'force_streaming': False, 'track_child_runs': True, 'label_column_name': None, 'weight_column_name': None, 'cost_mode': 1, 'metric_operation': 'maximize', 'preprocess': True, 'scenario': 'SDK'}\", \"AMLSettingsJsonString\": \"{\\\"name\\\": \\\"Exemple2-automlclassificationSR\\\", \\\"path\\\": \\\".\\\", \\\"subscription_id\\\": \\\"70b8f39e-8863-49f7-b6ba-34a80799550c\\\", \\\"resource_group\\\": \\\"workshopAML2020-rg\\\", \\\"workspace_name\\\": \\\"workshopAML2020\\\", \\\"region\\\": \\\"westeurope\\\", \\\"compute_target\\\": \\\"local\\\", \\\"spark_service\\\": null, \\\"azure_service\\\": \\\"Microsoft.AzureNotebookVM\\\", \\\"iterations\\\": 5, \\\"primary_metric\\\": \\\"AUC_weighted\\\", \\\"task_type\\\": \\\"classification\\\", \\\"data_script\\\": null, \\\"validation_size\\\": 0.0, \\\"n_cross_validations\\\": 3, \\\"y_min\\\": null, \\\"y_max\\\": null, \\\"num_classes\\\": 10, \\\"featurization\\\": \\\"auto\\\", \\\"lag_length\\\": 0, \\\"is_timeseries\\\": false, \\\"max_cores_per_iteration\\\": 1, \\\"max_concurrent_iterations\\\": 1, \\\"iteration_timeout_minutes\\\": 2, \\\"mem_in_mb\\\": null, \\\"enforce_time_on_windows\\\": false, \\\"experiment_timeout_minutes\\\": 15, \\\"experiment_exit_score\\\": null, \\\"whitelist_models\\\": null, \\\"blacklist_algos\\\": null, \\\"supported_models\\\": [\\\"RandomForest\\\", \\\"LightGBM\\\", \\\"GradientBoosting\\\", \\\"SVM\\\", \\\"LinearSVM\\\", \\\"TensorFlowLinearClassifier\\\", \\\"LogisticRegression\\\", \\\"BernoulliNaiveBayes\\\", \\\"SGD\\\", \\\"KNN\\\", \\\"XGBoostClassifier\\\", \\\"DecisionTree\\\", \\\"ExtremeRandomTrees\\\", \\\"AveragedPerceptronClassifier\\\", \\\"MultinomialNaiveBayes\\\", \\\"TensorFlowDNN\\\"], \\\"auto_blacklist\\\": true, \\\"blacklist_samples_reached\\\": false, \\\"exclude_nan_labels\\\": true, \\\"verbosity\\\": 20, \\\"debug_log\\\": \\\"automl2.log\\\", \\\"show_warnings\\\": false, \\\"model_explainability\\\": true, \\\"service_url\\\": null, \\\"sdk_url\\\": null, \\\"sdk_packages\\\": null, \\\"enable_onnx_compatible_models\\\": false, \\\"enable_split_onnx_featurizer_estimator_models\\\": false, \\\"vm_type\\\": null, \\\"telemetry_verbosity\\\": 20, \\\"send_telemetry\\\": true, \\\"enable_dnn\\\": false, \\\"force_text_dnn\\\": false, \\\"enable_feature_sweeping\\\": true, \\\"enable_early_stopping\\\": true, \\\"early_stopping_n_iters\\\": 10, \\\"metrics\\\": null, \\\"enable_ensembling\\\": true, \\\"enable_stack_ensembling\\\": true, \\\"ensemble_iterations\\\": 5, \\\"enable_tf\\\": false, \\\"enable_cache\\\": true, \\\"enable_subsampling\\\": false, \\\"subsample_seed\\\": null, \\\"enable_nimbusml\\\": false, \\\"enable_streaming\\\": false, \\\"force_streaming\\\": false, \\\"track_child_runs\\\": true, \\\"label_column_name\\\": null, \\\"weight_column_name\\\": null, \\\"cost_mode\\\": 1, \\\"metric_operation\\\": \\\"maximize\\\", \\\"preprocess\\\": true, \\\"scenario\\\": \\\"SDK\\\"}\", \"DataPrepJsonString\": null, \"EnableSubsampling\": \"False\", \"runTemplate\": \"AutoML\", \"azureml.runsource\": \"automl\", \"display_task_type\": \"classification\", \"dependencies_versions\": \"{\\\"azureml-widgets\\\": \\\"1.4.0\\\", \\\"azureml-train\\\": \\\"1.4.0\\\", \\\"azureml-train-restclients-hyperdrive\\\": \\\"1.4.0\\\", \\\"azureml-train-core\\\": \\\"1.4.0\\\", \\\"azureml-train-automl\\\": \\\"1.4.0\\\", \\\"azureml-train-automl-runtime\\\": \\\"1.4.0.post1\\\", \\\"azureml-train-automl-client\\\": \\\"1.4.0\\\", \\\"azureml-tensorboard\\\": \\\"1.4.0\\\", \\\"azureml-telemetry\\\": \\\"1.4.0\\\", \\\"azureml-sdk\\\": \\\"1.4.0\\\", \\\"azureml-samples\\\": \\\"0+unknown\\\", \\\"azureml-pipeline\\\": \\\"1.4.0\\\", \\\"azureml-pipeline-steps\\\": \\\"1.4.0\\\", \\\"azureml-pipeline-core\\\": \\\"1.4.0\\\", \\\"azureml-opendatasets\\\": \\\"1.2.0\\\", \\\"azureml-model-management-sdk\\\": \\\"1.0.1b6.post1\\\", \\\"azureml-mlflow\\\": \\\"1.2.0\\\", \\\"azureml-interpret\\\": \\\"1.4.0\\\", \\\"azureml-explain-model\\\": \\\"1.4.0\\\", \\\"azureml-defaults\\\": \\\"1.4.0\\\", \\\"azureml-dataprep\\\": \\\"1.4.6\\\", \\\"azureml-dataprep-native\\\": \\\"14.1.0\\\", \\\"azureml-datadrift\\\": \\\"1.4.0\\\", \\\"azureml-core\\\": \\\"1.4.0.post1\\\", \\\"azureml-contrib-services\\\": \\\"1.4.0\\\", \\\"azureml-contrib-server\\\": \\\"1.4.0\\\", \\\"azureml-contrib-reinforcementlearning\\\": \\\"1.2.0\\\", \\\"azureml-contrib-pipeline-steps\\\": \\\"1.4.0\\\", \\\"azureml-contrib-notebook\\\": \\\"1.4.0\\\", \\\"azureml-contrib-interpret\\\": \\\"1.2.0\\\", \\\"azureml-contrib-gbdt\\\": \\\"1.4.0\\\", \\\"azureml-automl-runtime\\\": \\\"1.4.0.post1\\\", \\\"azureml-automl-core\\\": \\\"1.4.0\\\", \\\"azureml-accel-models\\\": \\\"1.4.0\\\"}\", \"ClientType\": \"SDK\", \"environment_cpu_name\": \"\", \"environment_cpu_version\": \"\", \"environment_gpu_name\": \"\", \"environment_gpu_version\": \"\", \"root_attribution\": \"AutoML\", \"attribution\": \"AutoML\", \"CancelUri\": \"https://westeurope.experiments.azureml.net/jasmine/v1.0/subscriptions/70b8f39e-8863-49f7-b6ba-34a80799550c/resourceGroups/workshopAML2020-rg/providers/Microsoft.MachineLearningServices/workspaces/workshopAML2020/experiment/Exemple2-automlclassificationSR/cancel/AutoML_e5f99db5-fad3-44d1-9829-5bf62a6cfd61\", \"ClientSdkVersion\": \"1.4.0\", \"ProblemInfoJsonString\": \"{\\\"dataset_num_categorical\\\": 0, \\\"is_sparse\\\": false, \\\"subsampling\\\": false, \\\"dataset_classes\\\": 10, \\\"dataset_features\\\": 61, \\\"dataset_samples\\\": 1697, \\\"single_frequency_class_detected\\\": false}\", \"feature_skus\": \"automatedml_sdk_guardrails\", \"azureml.git.repository_uri\": \"https://github.com/retkowsky/WorkshopAML2020\", \"mlflow.source.git.repoURL\": \"https://github.com/retkowsky/WorkshopAML2020\", \"azureml.git.branch\": \"master\", \"mlflow.source.git.branch\": \"master\", \"azureml.git.commit\": \"eb05ad565a41b5121d26c6fda4b1c6398a9243d7\", \"mlflow.source.git.commit\": \"eb05ad565a41b5121d26c6fda4b1c6398a9243d7\", \"azureml.git.dirty\": \"True\"}, \"tags\": {\"model_explain_run\": \"best_run\", \"model_explain_best_run_child_id\": \"AutoML_e5f99db5-fad3-44d1-9829-5bf62a6cfd61_3\", \"best_score\": \"0.9993067801973444\", \"best_pipeline\": \"VotingEnsemble\", \"automl_best_child_run_id\": \"AutoML_e5f99db5-fad3-44d1-9829-5bf62a6cfd61_3\"}, \"end_time_utc\": \"2020-05-06T10:34:10.129036Z\", \"status\": \"Completed\", \"log_files\": {}, \"log_groups\": [], \"run_duration\": \"0:03:42\"}, \"child_runs\": [{\"run_id\": \"AutoML_e5f99db5-fad3-44d1-9829-5bf62a6cfd61_0\", \"run_number\": 82, \"metric\": null, \"status\": \"Completed\", \"run_type\": null, \"training_percent\": \"100\", \"start_time\": \"2020-05-06T10:30:46.537473Z\", \"end_time\": \"2020-05-06T10:31:22.047164Z\", \"created_time\": \"2020-05-06T10:30:45.991368Z\", \"created_time_dt\": \"2020-05-06T10:30:45.991368Z\", \"duration\": \"0:00:36\", \"iteration\": \"0\", \"goal\": \"AUC_weighted_max\", \"run_name\": \"MaxAbsScaler, LightGBM\", \"run_properties\": \"copy=True\", \"primary_metric\": 0.99919404, \"best_metric\": 0.99919404}, {\"run_id\": \"AutoML_e5f99db5-fad3-44d1-9829-5bf62a6cfd61_1\", \"run_number\": 83, \"metric\": null, \"status\": \"Completed\", \"run_type\": null, \"training_percent\": \"100\", \"start_time\": \"2020-05-06T10:31:26.035928Z\", \"end_time\": \"2020-05-06T10:31:58.882301Z\", \"created_time\": \"2020-05-06T10:31:25.587019Z\", \"created_time_dt\": \"2020-05-06T10:31:25.587019Z\", \"duration\": \"0:00:33\", \"iteration\": \"1\", \"goal\": \"AUC_weighted_max\", \"run_name\": \"MaxAbsScaler, XGBoostClassifier\", \"run_properties\": \"copy=True\", \"primary_metric\": 0.99915093, \"best_metric\": 0.99919404}, {\"run_id\": \"AutoML_e5f99db5-fad3-44d1-9829-5bf62a6cfd61_2\", \"run_number\": 84, \"metric\": null, \"status\": \"Completed\", \"run_type\": null, \"training_percent\": \"100\", \"start_time\": \"2020-05-06T10:32:07.009895Z\", \"end_time\": \"2020-05-06T10:32:27.005955Z\", \"created_time\": \"2020-05-06T10:32:00.139384Z\", \"created_time_dt\": \"2020-05-06T10:32:00.139384Z\", \"duration\": \"0:00:26\", \"iteration\": \"2\", \"goal\": \"AUC_weighted_max\", \"run_name\": \"StandardScalerWrapper, SGD\", \"run_properties\": \"<azureml.automl.runtime.shared.model_wrappers.StandardScalerWrapper object at 0x7f845283f4e0\", \"primary_metric\": 0.99415455, \"best_metric\": 0.99919404}, {\"run_id\": \"AutoML_e5f99db5-fad3-44d1-9829-5bf62a6cfd61_3\", \"run_number\": 85, \"metric\": null, \"status\": \"Completed\", \"run_type\": null, \"training_percent\": \"100\", \"start_time\": \"2020-05-06T10:32:27.924133Z\", \"end_time\": \"2020-05-06T10:32:46.878758Z\", \"created_time\": \"2020-05-06T10:32:27.797516Z\", \"created_time_dt\": \"2020-05-06T10:32:27.797516Z\", \"duration\": \"0:00:19\", \"iteration\": \"3\", \"goal\": \"AUC_weighted_max\", \"run_name\": \"VotingEnsemble\", \"run_properties\": \"classification_labels=None,\\n               estimators=[('0', Pipeline(memory=None,\\n     steps=[('maxabsscaler', MaxAbsScaler(copy=True\", \"primary_metric\": 0.99930678, \"best_metric\": 0.99930678}, {\"run_id\": \"AutoML_e5f99db5-fad3-44d1-9829-5bf62a6cfd61_4\", \"run_number\": 86, \"metric\": null, \"status\": \"Completed\", \"run_type\": null, \"training_percent\": \"100\", \"start_time\": \"2020-05-06T10:32:48.201225Z\", \"end_time\": \"2020-05-06T10:33:23.117131Z\", \"created_time\": \"2020-05-06T10:32:48.065229Z\", \"created_time_dt\": \"2020-05-06T10:32:48.065229Z\", \"duration\": \"0:00:35\", \"iteration\": \"4\", \"goal\": \"AUC_weighted_max\", \"run_name\": \"StackEnsemble\", \"run_properties\": \"base_learners=[('0', Pipeline(memory=None,\\n     steps=[('maxabsscaler', MaxAbsScaler(copy=True\", \"primary_metric\": 0.92287207, \"best_metric\": 0.99930678}], \"children_metrics\": {\"categories\": [0], \"series\": {\"average_precision_score_macro\": [{\"categories\": [\"0\", \"1\", \"2\", \"3\", \"4\"], \"mode\": \"markers\", \"name\": \"average_precision_score_macro\", \"stepped\": false, \"type\": \"scatter\", \"data\": [0.994792988333756, 0.9939933758616979, 0.9778357042359488, 0.9951234831781536, 0.8127260606874578]}, {\"categories\": [\"0\", \"1\", \"2\", \"3\", \"4\"], \"mode\": \"lines\", \"name\": \"average_precision_score_macro_max\", \"stepped\": true, \"type\": \"scatter\", \"data\": [0.994792988333756, 0.994792988333756, 0.994792988333756, 0.9951234831781536, 0.9951234831781536]}], \"accuracy\": [{\"categories\": [\"0\", \"1\", \"2\", \"3\", \"4\"], \"mode\": \"markers\", \"name\": \"accuracy\", \"stepped\": false, \"type\": \"scatter\", \"data\": [0.9628839759425456, 0.9605251362873553, 0.9487371921156593, 0.962881891241127, 0.5669043226283915]}, {\"categories\": [\"0\", \"1\", \"2\", \"3\", \"4\"], \"mode\": \"lines\", \"name\": \"accuracy_max\", \"stepped\": true, \"type\": \"scatter\", \"data\": [0.9628839759425456, 0.9628839759425456, 0.9628839759425456, 0.9628839759425456, 0.9628839759425456]}], \"AUC_weighted\": [{\"categories\": [\"0\", \"1\", \"2\", \"3\", \"4\"], \"mode\": \"markers\", \"name\": \"AUC_weighted\", \"stepped\": false, \"type\": \"scatter\", \"data\": [0.9991940367053402, 0.9991509279404523, 0.9941545470052936, 0.9993067801973444, 0.9228720665309114]}, {\"categories\": [\"0\", \"1\", \"2\", \"3\", \"4\"], \"mode\": \"lines\", \"name\": \"AUC_weighted_max\", \"stepped\": true, \"type\": \"scatter\", \"data\": [0.9991940367053402, 0.9991940367053402, 0.9991940367053402, 0.9993067801973444, 0.9993067801973444]}], \"f1_score_macro\": [{\"categories\": [\"0\", \"1\", \"2\", \"3\", \"4\"], \"mode\": \"markers\", \"name\": \"f1_score_macro\", \"stepped\": false, \"type\": \"scatter\", \"data\": [0.9630586267844569, 0.9605393679245454, 0.9489370509730634, 0.9631841907652184, 0.5114365478155467]}, {\"categories\": [\"0\", \"1\", \"2\", \"3\", \"4\"], \"mode\": \"lines\", \"name\": \"f1_score_macro_max\", \"stepped\": true, \"type\": \"scatter\", \"data\": [0.9630586267844569, 0.9630586267844569, 0.9630586267844569, 0.9631841907652184, 0.9631841907652184]}], \"precision_score_macro\": [{\"categories\": [\"0\", \"1\", \"2\", \"3\", \"4\"], \"mode\": \"markers\", \"name\": \"precision_score_macro\", \"stepped\": false, \"type\": \"scatter\", \"data\": [0.9640830453384751, 0.9613595438298086, 0.9499254365672122, 0.9642658590643004, 0.49869402714860445]}, {\"categories\": [\"0\", \"1\", \"2\", \"3\", \"4\"], \"mode\": \"lines\", \"name\": \"precision_score_macro_max\", \"stepped\": true, \"type\": \"scatter\", \"data\": [0.9640830453384751, 0.9640830453384751, 0.9640830453384751, 0.9642658590643004, 0.9642658590643004]}], \"AUC_macro\": [{\"categories\": [\"0\", \"1\", \"2\", \"3\", \"4\"], \"mode\": \"markers\", \"name\": \"AUC_macro\", \"stepped\": false, \"type\": \"scatter\", \"data\": [0.9992289225554636, 0.9991689809164891, 0.9940587542814656, 0.9993299806746186, 0.9255132740638592]}, {\"categories\": [\"0\", \"1\", \"2\", \"3\", \"4\"], \"mode\": \"lines\", \"name\": \"AUC_macro_max\", \"stepped\": true, \"type\": \"scatter\", \"data\": [0.9992289225554636, 0.9992289225554636, 0.9992289225554636, 0.9993299806746186, 0.9993299806746186]}], \"log_loss\": [{\"categories\": [\"0\", \"1\", \"2\", \"3\", \"4\"], \"mode\": \"markers\", \"name\": \"log_loss\", \"stepped\": false, \"type\": \"scatter\", \"data\": [0.11264348157133698, 0.1342876872993016, 0.5406505477752114, 0.11422697996056598, 1.3281366105328651]}, {\"categories\": [\"0\", \"1\", \"2\", \"3\", \"4\"], \"mode\": \"lines\", \"name\": \"log_loss_min\", \"stepped\": true, \"type\": \"scatter\", \"data\": [0.11264348157133698, 0.11264348157133698, 0.11264348157133698, 0.11264348157133698, 0.11264348157133698]}], \"f1_score_weighted\": [{\"categories\": [\"0\", \"1\", \"2\", \"3\", \"4\"], \"mode\": \"markers\", \"name\": \"f1_score_weighted\", \"stepped\": false, \"type\": \"scatter\", \"data\": [0.9629897652902043, 0.9607122386657801, 0.9485057763434682, 0.9630532369513989, 0.5058580858628984]}, {\"categories\": [\"0\", \"1\", \"2\", \"3\", \"4\"], \"mode\": \"lines\", \"name\": \"f1_score_weighted_max\", \"stepped\": true, \"type\": \"scatter\", \"data\": [0.9629897652902043, 0.9629897652902043, 0.9629897652902043, 0.9630532369513989, 0.9630532369513989]}], \"precision_score_micro\": [{\"categories\": [\"0\", \"1\", \"2\", \"3\", \"4\"], \"mode\": \"markers\", \"name\": \"precision_score_micro\", \"stepped\": false, \"type\": \"scatter\", \"data\": [0.9628839759425456, 0.9605251362873553, 0.9487371921156593, 0.962881891241127, 0.5669043226283915]}, {\"categories\": [\"0\", \"1\", \"2\", \"3\", \"4\"], \"mode\": \"lines\", \"name\": \"precision_score_micro_max\", \"stepped\": true, \"type\": \"scatter\", \"data\": [0.9628839759425456, 0.9628839759425456, 0.9628839759425456, 0.9628839759425456, 0.9628839759425456]}], \"matthews_correlation\": [{\"categories\": [\"0\", \"1\", \"2\", \"3\", \"4\"], \"mode\": \"markers\", \"name\": \"matthews_correlation\", \"stepped\": false, \"type\": \"scatter\", \"data\": [0.9588531516939129, 0.9562257668672043, 0.943174987141993, 0.9588466112254489, 0.5964563910275614]}, {\"categories\": [\"0\", \"1\", \"2\", \"3\", \"4\"], \"mode\": \"lines\", \"name\": \"matthews_correlation_max\", \"stepped\": true, \"type\": \"scatter\", \"data\": [0.9588531516939129, 0.9588531516939129, 0.9588531516939129, 0.9588531516939129, 0.9588531516939129]}], \"precision_score_weighted\": [{\"categories\": [\"0\", \"1\", \"2\", \"3\", \"4\"], \"mode\": \"markers\", \"name\": \"precision_score_weighted\", \"stepped\": false, \"type\": \"scatter\", \"data\": [0.9643887974423323, 0.9621190907630258, 0.9500510031732552, 0.9644625222143097, 0.49458419552369404]}, {\"categories\": [\"0\", \"1\", \"2\", \"3\", \"4\"], \"mode\": \"lines\", \"name\": \"precision_score_weighted_max\", \"stepped\": true, \"type\": \"scatter\", \"data\": [0.9643887974423323, 0.9643887974423323, 0.9643887974423323, 0.9644625222143097, 0.9644625222143097]}], \"AUC_micro\": [{\"categories\": [\"0\", \"1\", \"2\", \"3\", \"4\"], \"mode\": \"markers\", \"name\": \"AUC_micro\", \"stepped\": false, \"type\": \"scatter\", \"data\": [0.9991625925212827, 0.9991268520936541, 0.994818444450195, 0.9992612260459106, 0.9312233391549101]}, {\"categories\": [\"0\", \"1\", \"2\", \"3\", \"4\"], \"mode\": \"lines\", \"name\": \"AUC_micro_max\", \"stepped\": true, \"type\": \"scatter\", \"data\": [0.9991625925212827, 0.9991625925212827, 0.9991625925212827, 0.9992612260459106, 0.9992612260459106]}], \"average_precision_score_micro\": [{\"categories\": [\"0\", \"1\", \"2\", \"3\", \"4\"], \"mode\": \"markers\", \"name\": \"average_precision_score_micro\", \"stepped\": false, \"type\": \"scatter\", \"data\": [0.9944002366191053, 0.9938193767064769, 0.9805104826410368, 0.9947601276599153, 0.7326513494058493]}, {\"categories\": [\"0\", \"1\", \"2\", \"3\", \"4\"], \"mode\": \"lines\", \"name\": \"average_precision_score_micro_max\", \"stepped\": true, \"type\": \"scatter\", \"data\": [0.9944002366191053, 0.9944002366191053, 0.9944002366191053, 0.9947601276599153, 0.9947601276599153]}], \"weighted_accuracy\": [{\"categories\": [\"0\", \"1\", \"2\", \"3\", \"4\"], \"mode\": \"markers\", \"name\": \"weighted_accuracy\", \"stepped\": false, \"type\": \"scatter\", \"data\": [0.9624157429451962, 0.9600002216335907, 0.9477426515341758, 0.9623653309429064, 0.5536964534029146]}, {\"categories\": [\"0\", \"1\", \"2\", \"3\", \"4\"], \"mode\": \"lines\", \"name\": \"weighted_accuracy_max\", \"stepped\": true, \"type\": \"scatter\", \"data\": [0.9624157429451962, 0.9624157429451962, 0.9624157429451962, 0.9624157429451962, 0.9624157429451962]}], \"recall_score_macro\": [{\"categories\": [\"0\", \"1\", \"2\", \"3\", \"4\"], \"mode\": \"markers\", \"name\": \"recall_score_macro\", \"stepped\": false, \"type\": \"scatter\", \"data\": [0.9633000881733736, 0.9609461219451969, 0.9496701925302432, 0.9633282182472026, 0.580706440177537]}, {\"categories\": [\"0\", \"1\", \"2\", \"3\", \"4\"], \"mode\": \"lines\", \"name\": \"recall_score_macro_max\", \"stepped\": true, \"type\": \"scatter\", \"data\": [0.9633000881733736, 0.9633000881733736, 0.9633000881733736, 0.9633282182472026, 0.9633282182472026]}], \"recall_score_micro\": [{\"categories\": [\"0\", \"1\", \"2\", \"3\", \"4\"], \"mode\": \"markers\", \"name\": \"recall_score_micro\", \"stepped\": false, \"type\": \"scatter\", \"data\": [0.9628839759425456, 0.9605251362873553, 0.9487371921156593, 0.962881891241127, 0.5669043226283915]}, {\"categories\": [\"0\", \"1\", \"2\", \"3\", \"4\"], \"mode\": \"lines\", \"name\": \"recall_score_micro_max\", \"stepped\": true, \"type\": \"scatter\", \"data\": [0.9628839759425456, 0.9628839759425456, 0.9628839759425456, 0.9628839759425456, 0.9628839759425456]}], \"recall_score_weighted\": [{\"categories\": [\"0\", \"1\", \"2\", \"3\", \"4\"], \"mode\": \"markers\", \"name\": \"recall_score_weighted\", \"stepped\": false, \"type\": \"scatter\", \"data\": [0.9628839759425456, 0.9605251362873553, 0.9487371921156593, 0.962881891241127, 0.5669043226283915]}, {\"categories\": [\"0\", \"1\", \"2\", \"3\", \"4\"], \"mode\": \"lines\", \"name\": \"recall_score_weighted_max\", \"stepped\": true, \"type\": \"scatter\", \"data\": [0.9628839759425456, 0.9628839759425456, 0.9628839759425456, 0.9628839759425456, 0.9628839759425456]}], \"balanced_accuracy\": [{\"categories\": [\"0\", \"1\", \"2\", \"3\", \"4\"], \"mode\": \"markers\", \"name\": \"balanced_accuracy\", \"stepped\": false, \"type\": \"scatter\", \"data\": [0.9633000881733736, 0.9609461219451969, 0.9496701925302432, 0.9633282182472026, 0.580706440177537]}, {\"categories\": [\"0\", \"1\", \"2\", \"3\", \"4\"], \"mode\": \"lines\", \"name\": \"balanced_accuracy_max\", \"stepped\": true, \"type\": \"scatter\", \"data\": [0.9633000881733736, 0.9633000881733736, 0.9633000881733736, 0.9633282182472026, 0.9633282182472026]}], \"average_precision_score_weighted\": [{\"categories\": [\"0\", \"1\", \"2\", \"3\", \"4\"], \"mode\": \"markers\", \"name\": \"average_precision_score_weighted\", \"stepped\": false, \"type\": \"scatter\", \"data\": [0.9947431665432841, 0.9940092587807604, 0.9778202369256533, 0.9950909481282277, 0.8063016515233487]}, {\"categories\": [\"0\", \"1\", \"2\", \"3\", \"4\"], \"mode\": \"lines\", \"name\": \"average_precision_score_weighted_max\", \"stepped\": true, \"type\": \"scatter\", \"data\": [0.9947431665432841, 0.9947431665432841, 0.9947431665432841, 0.9950909481282277, 0.9950909481282277]}], \"f1_score_micro\": [{\"categories\": [\"0\", \"1\", \"2\", \"3\", \"4\"], \"mode\": \"markers\", \"name\": \"f1_score_micro\", \"stepped\": false, \"type\": \"scatter\", \"data\": [0.9628839759425456, 0.9605251362873553, 0.9487371921156593, 0.962881891241127, 0.5669043226283915]}, {\"categories\": [\"0\", \"1\", \"2\", \"3\", \"4\"], \"mode\": \"lines\", \"name\": \"f1_score_micro_max\", \"stepped\": true, \"type\": \"scatter\", \"data\": [0.9628839759425456, 0.9628839759425456, 0.9628839759425456, 0.9628839759425456, 0.9628839759425456]}], \"norm_macro_recall\": [{\"categories\": [\"0\", \"1\", \"2\", \"3\", \"4\"], \"mode\": \"markers\", \"name\": \"norm_macro_recall\", \"stepped\": false, \"type\": \"scatter\", \"data\": [0.9592223201926373, 0.95660680216133, 0.9440779917002701, 0.9592535758302251, 0.53411826686393]}, {\"categories\": [\"0\", \"1\", \"2\", \"3\", \"4\"], \"mode\": \"lines\", \"name\": \"norm_macro_recall_max\", \"stepped\": true, \"type\": \"scatter\", \"data\": [0.9592223201926373, 0.9592223201926373, 0.9592223201926373, 0.9592535758302251, 0.9592535758302251]}]}, \"metricName\": null, \"primaryMetricName\": \"AUC_weighted\", \"showLegend\": false}, \"run_metrics\": [{\"name\": \"experiment_status\", \"run_id\": \"AutoML_e5f99db5-fad3-44d1-9829-5bf62a6cfd61\", \"categories\": [0, 1, 2, 3, 4, 5, 6, 7, 8, 9, 10, 11], \"series\": [{\"data\": [\"DatasetEvaluation\", \"FeaturesGeneration\", \"DatasetFeaturization\", \"DatasetFeaturizationCompleted\", \"DatasetCrossValidationSplit\", \"ModelSelection\", \"BestRunExplainModel\", \"ModelExplanationDataSetSetup\", \"PickSurrogateModel\", \"EngineeredFeatureExplanations\", \"EngineeredFeatureExplanations\", \"BestRunExplainModel\"]}]}, {\"name\": \"experiment_status_description\", \"run_id\": \"AutoML_e5f99db5-fad3-44d1-9829-5bf62a6cfd61\", \"categories\": [0, 1, 2, 3, 4, 5, 6, 7, 8, 9, 10, 11], \"series\": [{\"data\": [\"Gathering dataset statistics.\", \"Generating features for the dataset.\", \"Beginning to fit featurizers and featurize the dataset.\", \"Completed fit featurizers and featurizing the dataset.\", \"Generating individually featurized CV splits.\", \"Beginning model selection.\", \"Best run model explanations started\", \"Model explanations data setup completed\", \"Choosing LightGBM as the surrogate model for explanations\", \"Computation of engineered features started\", \"Computation of engineered features completed\", \"Best run model explanations completed\"]}]}], \"run_logs\": \"\\nRun is completed.\", \"graph\": {}, \"widget_settings\": {\"childWidgetDisplay\": \"popup\", \"send_telemetry\": false, \"log_level\": \"INFO\", \"sdk_version\": \"1.4.0\"}, \"loading\": false}"
     },
     "metadata": {},
     "output_type": "display_data"
    }
   ],
   "source": [
    "from azureml.widgets import RunDetails\n",
    "RunDetails(local_run).show() "
   ]
  },
  {
   "cell_type": "markdown",
   "metadata": {},
   "source": [
    "\n",
    "### 6.2 Métriques par itération\n"
   ]
  },
  {
   "cell_type": "code",
   "execution_count": 17,
   "metadata": {},
   "outputs": [
    {
     "data": {
      "text/html": [
       "<div>\n",
       "<style scoped>\n",
       "    .dataframe tbody tr th:only-of-type {\n",
       "        vertical-align: middle;\n",
       "    }\n",
       "\n",
       "    .dataframe tbody tr th {\n",
       "        vertical-align: top;\n",
       "    }\n",
       "\n",
       "    .dataframe thead th {\n",
       "        text-align: right;\n",
       "    }\n",
       "</style>\n",
       "<table border=\"1\" class=\"dataframe\">\n",
       "  <thead>\n",
       "    <tr style=\"text-align: right;\">\n",
       "      <th></th>\n",
       "      <th>0</th>\n",
       "      <th>1</th>\n",
       "      <th>2</th>\n",
       "      <th>3</th>\n",
       "      <th>4</th>\n",
       "    </tr>\n",
       "  </thead>\n",
       "  <tbody>\n",
       "    <tr>\n",
       "      <th>AUC_macro</th>\n",
       "      <td>1.00</td>\n",
       "      <td>1.00</td>\n",
       "      <td>0.99</td>\n",
       "      <td>1.00</td>\n",
       "      <td>0.93</td>\n",
       "    </tr>\n",
       "    <tr>\n",
       "      <th>AUC_micro</th>\n",
       "      <td>1.00</td>\n",
       "      <td>1.00</td>\n",
       "      <td>0.99</td>\n",
       "      <td>1.00</td>\n",
       "      <td>0.93</td>\n",
       "    </tr>\n",
       "    <tr>\n",
       "      <th>AUC_weighted</th>\n",
       "      <td>1.00</td>\n",
       "      <td>1.00</td>\n",
       "      <td>0.99</td>\n",
       "      <td>1.00</td>\n",
       "      <td>0.92</td>\n",
       "    </tr>\n",
       "    <tr>\n",
       "      <th>accuracy</th>\n",
       "      <td>0.96</td>\n",
       "      <td>0.96</td>\n",
       "      <td>0.95</td>\n",
       "      <td>0.96</td>\n",
       "      <td>0.57</td>\n",
       "    </tr>\n",
       "    <tr>\n",
       "      <th>average_precision_score_macro</th>\n",
       "      <td>0.99</td>\n",
       "      <td>0.99</td>\n",
       "      <td>0.98</td>\n",
       "      <td>1.00</td>\n",
       "      <td>0.81</td>\n",
       "    </tr>\n",
       "    <tr>\n",
       "      <th>average_precision_score_micro</th>\n",
       "      <td>0.99</td>\n",
       "      <td>0.99</td>\n",
       "      <td>0.98</td>\n",
       "      <td>0.99</td>\n",
       "      <td>0.73</td>\n",
       "    </tr>\n",
       "    <tr>\n",
       "      <th>average_precision_score_weighted</th>\n",
       "      <td>0.99</td>\n",
       "      <td>0.99</td>\n",
       "      <td>0.98</td>\n",
       "      <td>1.00</td>\n",
       "      <td>0.81</td>\n",
       "    </tr>\n",
       "    <tr>\n",
       "      <th>balanced_accuracy</th>\n",
       "      <td>0.96</td>\n",
       "      <td>0.96</td>\n",
       "      <td>0.95</td>\n",
       "      <td>0.96</td>\n",
       "      <td>0.58</td>\n",
       "    </tr>\n",
       "    <tr>\n",
       "      <th>f1_score_macro</th>\n",
       "      <td>0.96</td>\n",
       "      <td>0.96</td>\n",
       "      <td>0.95</td>\n",
       "      <td>0.96</td>\n",
       "      <td>0.51</td>\n",
       "    </tr>\n",
       "    <tr>\n",
       "      <th>f1_score_micro</th>\n",
       "      <td>0.96</td>\n",
       "      <td>0.96</td>\n",
       "      <td>0.95</td>\n",
       "      <td>0.96</td>\n",
       "      <td>0.57</td>\n",
       "    </tr>\n",
       "    <tr>\n",
       "      <th>f1_score_weighted</th>\n",
       "      <td>0.96</td>\n",
       "      <td>0.96</td>\n",
       "      <td>0.95</td>\n",
       "      <td>0.96</td>\n",
       "      <td>0.51</td>\n",
       "    </tr>\n",
       "    <tr>\n",
       "      <th>log_loss</th>\n",
       "      <td>0.11</td>\n",
       "      <td>0.13</td>\n",
       "      <td>0.54</td>\n",
       "      <td>0.11</td>\n",
       "      <td>1.33</td>\n",
       "    </tr>\n",
       "    <tr>\n",
       "      <th>matthews_correlation</th>\n",
       "      <td>0.96</td>\n",
       "      <td>0.96</td>\n",
       "      <td>0.94</td>\n",
       "      <td>0.96</td>\n",
       "      <td>0.60</td>\n",
       "    </tr>\n",
       "    <tr>\n",
       "      <th>norm_macro_recall</th>\n",
       "      <td>0.96</td>\n",
       "      <td>0.96</td>\n",
       "      <td>0.94</td>\n",
       "      <td>0.96</td>\n",
       "      <td>0.53</td>\n",
       "    </tr>\n",
       "    <tr>\n",
       "      <th>precision_score_macro</th>\n",
       "      <td>0.96</td>\n",
       "      <td>0.96</td>\n",
       "      <td>0.95</td>\n",
       "      <td>0.96</td>\n",
       "      <td>0.50</td>\n",
       "    </tr>\n",
       "    <tr>\n",
       "      <th>precision_score_micro</th>\n",
       "      <td>0.96</td>\n",
       "      <td>0.96</td>\n",
       "      <td>0.95</td>\n",
       "      <td>0.96</td>\n",
       "      <td>0.57</td>\n",
       "    </tr>\n",
       "    <tr>\n",
       "      <th>precision_score_weighted</th>\n",
       "      <td>0.96</td>\n",
       "      <td>0.96</td>\n",
       "      <td>0.95</td>\n",
       "      <td>0.96</td>\n",
       "      <td>0.49</td>\n",
       "    </tr>\n",
       "    <tr>\n",
       "      <th>recall_score_macro</th>\n",
       "      <td>0.96</td>\n",
       "      <td>0.96</td>\n",
       "      <td>0.95</td>\n",
       "      <td>0.96</td>\n",
       "      <td>0.58</td>\n",
       "    </tr>\n",
       "    <tr>\n",
       "      <th>recall_score_micro</th>\n",
       "      <td>0.96</td>\n",
       "      <td>0.96</td>\n",
       "      <td>0.95</td>\n",
       "      <td>0.96</td>\n",
       "      <td>0.57</td>\n",
       "    </tr>\n",
       "    <tr>\n",
       "      <th>recall_score_weighted</th>\n",
       "      <td>0.96</td>\n",
       "      <td>0.96</td>\n",
       "      <td>0.95</td>\n",
       "      <td>0.96</td>\n",
       "      <td>0.57</td>\n",
       "    </tr>\n",
       "    <tr>\n",
       "      <th>weighted_accuracy</th>\n",
       "      <td>0.96</td>\n",
       "      <td>0.96</td>\n",
       "      <td>0.95</td>\n",
       "      <td>0.96</td>\n",
       "      <td>0.55</td>\n",
       "    </tr>\n",
       "  </tbody>\n",
       "</table>\n",
       "</div>"
      ],
      "text/plain": [
       "                                    0    1    2    3    4\n",
       "AUC_macro                        1.00 1.00 0.99 1.00 0.93\n",
       "AUC_micro                        1.00 1.00 0.99 1.00 0.93\n",
       "AUC_weighted                     1.00 1.00 0.99 1.00 0.92\n",
       "accuracy                         0.96 0.96 0.95 0.96 0.57\n",
       "average_precision_score_macro    0.99 0.99 0.98 1.00 0.81\n",
       "average_precision_score_micro    0.99 0.99 0.98 0.99 0.73\n",
       "average_precision_score_weighted 0.99 0.99 0.98 1.00 0.81\n",
       "balanced_accuracy                0.96 0.96 0.95 0.96 0.58\n",
       "f1_score_macro                   0.96 0.96 0.95 0.96 0.51\n",
       "f1_score_micro                   0.96 0.96 0.95 0.96 0.57\n",
       "f1_score_weighted                0.96 0.96 0.95 0.96 0.51\n",
       "log_loss                         0.11 0.13 0.54 0.11 1.33\n",
       "matthews_correlation             0.96 0.96 0.94 0.96 0.60\n",
       "norm_macro_recall                0.96 0.96 0.94 0.96 0.53\n",
       "precision_score_macro            0.96 0.96 0.95 0.96 0.50\n",
       "precision_score_micro            0.96 0.96 0.95 0.96 0.57\n",
       "precision_score_weighted         0.96 0.96 0.95 0.96 0.49\n",
       "recall_score_macro               0.96 0.96 0.95 0.96 0.58\n",
       "recall_score_micro               0.96 0.96 0.95 0.96 0.57\n",
       "recall_score_weighted            0.96 0.96 0.95 0.96 0.57\n",
       "weighted_accuracy                0.96 0.96 0.95 0.96 0.55"
      ]
     },
     "execution_count": 17,
     "metadata": {},
     "output_type": "execute_result"
    }
   ],
   "source": [
    "children = list(local_run.get_children())\n",
    "metricslist = {}\n",
    "for run in children:\n",
    "    properties = run.get_properties()\n",
    "    metrics = {k: v for k, v in run.get_metrics().items() if isinstance(v, float)}\n",
    "    metricslist[int(properties['iteration'])] = metrics\n",
    "\n",
    "rundata = pd.DataFrame(metricslist).sort_index(1)\n",
    "rundata"
   ]
  },
  {
   "cell_type": "markdown",
   "metadata": {},
   "source": [
    "## 7. Récupération du meilleur modèle"
   ]
  },
  {
   "cell_type": "code",
   "execution_count": 18,
   "metadata": {},
   "outputs": [
    {
     "name": "stdout",
     "output_type": "stream",
     "text": [
      "Run(Experiment: Exemple2-automlclassificationSR,\n",
      "Id: AutoML_e5f99db5-fad3-44d1-9829-5bf62a6cfd61_3,\n",
      "Type: None,\n",
      "Status: Completed)\n"
     ]
    }
   ],
   "source": [
    "best_run, fitted_model = local_run.get_output()\n",
    "print(best_run)"
   ]
  },
  {
   "cell_type": "code",
   "execution_count": 19,
   "metadata": {},
   "outputs": [
    {
     "name": "stdout",
     "output_type": "stream",
     "text": [
      "Pipeline(memory=None,\n",
      "     steps=[('datatransformer', DataTransformer(enable_dnn=None, enable_feature_sweeping=None,\n",
      "        feature_sweeping_config=None, feature_sweeping_timeout=None,\n",
      "        featurization_config=None, force_text_dnn=None,\n",
      "        is_cross_validation=None, is_onnx_compatible=None, logger=None,\n",
      "        obser...erbose=-10,\n",
      "         verbosity=0))]))],\n",
      "               flatten_transform=None, weights=[0.6, 0.4]))])\n"
     ]
    }
   ],
   "source": [
    "print(fitted_model)"
   ]
  },
  {
   "cell_type": "code",
   "execution_count": 20,
   "metadata": {},
   "outputs": [
    {
     "data": {
      "text/plain": [
       "<bound method Pipeline.get_params of Pipeline(memory=None,\n",
       "     steps=[('datatransformer', DataTransformer(enable_dnn=None, enable_feature_sweeping=None,\n",
       "        feature_sweeping_config=None, feature_sweeping_timeout=None,\n",
       "        featurization_config=None, force_text_dnn=None,\n",
       "        is_cross_validation=None, is_onnx_compatible=None, logger=None,\n",
       "        obser...erbose=-10,\n",
       "         verbosity=0))]))],\n",
       "               flatten_transform=None, weights=[0.6, 0.4]))])>"
      ]
     },
     "execution_count": 20,
     "metadata": {},
     "output_type": "execute_result"
    }
   ],
   "source": [
    "fitted_model.get_params"
   ]
  },
  {
   "cell_type": "code",
   "execution_count": 21,
   "metadata": {},
   "outputs": [
    {
     "data": {
      "text/html": [
       "[('datatransformer', DataTransformer(enable_dnn=None, enable_feature_sweeping=None,\n",
       "        feature_sweeping_config=None, feature_sweeping_timeout=None,\n",
       "        featurization_config=None, force_text_dnn=None,\n",
       "        is_cross_validation=None, is_onnx_compatible=None, logger=None,\n",
       "        observer=None, task=None, working_dir=None)), ('prefittedsoftvotingclassifier', PreFittedSoftVotingClassifier(classification_labels=None,\n",
       "               estimators=[('0', Pipeline(memory=None,\n",
       "     steps=[('maxabsscaler', MaxAbsScaler(copy=True)), ('lightgbmclassifier', LightGBMClassifier(boosting_type='gbdt', class_weight=None,\n",
       "          colsample_bytree=1.0, importance_type='split', learning_rate=0.1,\n",
       "          max_depth=-1, min_child_samples=20, ...None,\n",
       "         silent=None, subsample=1, tree_method='auto', verbose=-10,\n",
       "         verbosity=0))]))],\n",
       "               flatten_transform=None, weights=[0.6, 0.4]))]"
      ],
      "text/plain": [
       "[('datatransformer',\n",
       "  DataTransformer(enable_dnn=None, enable_feature_sweeping=None,\n",
       "          feature_sweeping_config=None, feature_sweeping_timeout=None,\n",
       "          featurization_config=None, force_text_dnn=None,\n",
       "          is_cross_validation=None, is_onnx_compatible=None, logger=None,\n",
       "          observer=None, task=None, working_dir=None)),\n",
       " ('prefittedsoftvotingclassifier',\n",
       "  PreFittedSoftVotingClassifier(classification_labels=None,\n",
       "                 estimators=[('0', Pipeline(memory=None,\n",
       "       steps=[('maxabsscaler', MaxAbsScaler(copy=True)), ('lightgbmclassifier', LightGBMClassifier(boosting_type='gbdt', class_weight=None,\n",
       "            colsample_bytree=1.0, importance_type='split', learning_rate=0.1,\n",
       "            max_depth=-1, min_child_samples=20, ...None,\n",
       "           silent=None, subsample=1, tree_method='auto', verbose=-10,\n",
       "           verbosity=0))]))],\n",
       "                 flatten_transform=None, weights=[0.6, 0.4]))]"
      ]
     },
     "execution_count": 21,
     "metadata": {},
     "output_type": "execute_result"
    }
   ],
   "source": [
    "fitted_model.steps"
   ]
  },
  {
   "cell_type": "code",
   "execution_count": 23,
   "metadata": {},
   "outputs": [
    {
     "name": "stdout",
     "output_type": "stream",
     "text": [
      "Métriques du meilleur modèle :\n",
      "\n",
      "- average_precision_score_macro = 0.9951234831781536\n",
      "- accuracy = 0.962881891241127\n",
      "- AUC_weighted = 0.9993067801973444\n",
      "- f1_score_macro = 0.9631841907652184\n",
      "- precision_score_macro = 0.9642658590643004\n",
      "- confusion_matrix = aml://artifactId/ExperimentRun/dcid.AutoML_e5f99db5-fad3-44d1-9829-5bf62a6cfd61_3/confusion_matrix\n",
      "- log_loss = 0.11422697996056598\n",
      "- AUC_macro = 0.9993299806746186\n",
      "- f1_score_weighted = 0.9630532369513989\n",
      "- precision_score_micro = 0.962881891241127\n",
      "- accuracy_table = aml://artifactId/ExperimentRun/dcid.AutoML_e5f99db5-fad3-44d1-9829-5bf62a6cfd61_3/accuracy_table\n",
      "- matthews_correlation = 0.9588466112254489\n",
      "- precision_score_weighted = 0.9644625222143097\n",
      "- AUC_micro = 0.9992612260459106\n",
      "- average_precision_score_micro = 0.9947601276599153\n",
      "- weighted_accuracy = 0.9623653309429064\n",
      "- recall_score_macro = 0.9633282182472026\n",
      "- recall_score_weighted = 0.962881891241127\n",
      "- recall_score_micro = 0.962881891241127\n",
      "- average_precision_score_weighted = 0.9950909481282277\n",
      "- f1_score_micro = 0.962881891241127\n",
      "- norm_macro_recall = 0.9592535758302251\n",
      "- balanced_accuracy = 0.9633282182472026\n"
     ]
    }
   ],
   "source": [
    "print(\"Métriques du meilleur modèle :\")\n",
    "print()\n",
    "best_run_metrics = best_run.get_metrics()\n",
    "for metric_name in best_run_metrics:\n",
    "    metric = best_run_metrics[metric_name]\n",
    "    print('-', metric_name, '=', metric)"
   ]
  },
  {
   "cell_type": "markdown",
   "metadata": {},
   "source": [
    "### 7.1 Changement de la métrique AutoML\n"
   ]
  },
  {
   "cell_type": "code",
   "execution_count": 24,
   "metadata": {},
   "outputs": [
    {
     "name": "stdout",
     "output_type": "stream",
     "text": [
      "Meilleur modèle :\n",
      "\n",
      "Best Run = Run(Experiment: Exemple2-automlclassificationSR,\n",
      "Id: AutoML_e5f99db5-fad3-44d1-9829-5bf62a6cfd61_3,\n",
      "Type: None,\n",
      "Status: Completed)\n",
      "\n",
      "Pipeline(memory=None,\n",
      "     steps=[('datatransformer', DataTransformer(enable_dnn=None, enable_feature_sweeping=None,\n",
      "        feature_sweeping_config=None, feature_sweeping_timeout=None,\n",
      "        featurization_config=None, force_text_dnn=None,\n",
      "        is_cross_validation=None, is_onnx_compatible=None, logger=None,\n",
      "        obser...erbose=-10,\n",
      "         verbosity=0))]))],\n",
      "               flatten_transform=None, weights=[0.6, 0.4]))])\n"
     ]
    }
   ],
   "source": [
    "lookup_metric = \"f1_score_weighted\"\n",
    "best_run, fitted_model = local_run.get_output(metric = lookup_metric)\n",
    "print(\"Meilleur modèle :\")\n",
    "print()\n",
    "print('Best Run =', best_run)\n",
    "print()\n",
    "print(fitted_model)"
   ]
  },
  {
   "cell_type": "markdown",
   "metadata": {},
   "source": [
    "Choix d'une itération particulière :"
   ]
  },
  {
   "cell_type": "code",
   "execution_count": 25,
   "metadata": {},
   "outputs": [
    {
     "name": "stdout",
     "output_type": "stream",
     "text": [
      "Modèle 2 eme itération :\n",
      "Run(Experiment: Exemple2-automlclassificationSR,\n",
      "Id: AutoML_e5f99db5-fad3-44d1-9829-5bf62a6cfd61_2,\n",
      "Type: None,\n",
      "Status: Completed)\n",
      "\n",
      "Pipeline(memory=None,\n",
      "     steps=[('datatransformer', DataTransformer(enable_dnn=None, enable_feature_sweeping=None,\n",
      "        feature_sweeping_config=None, feature_sweeping_timeout=None,\n",
      "        featurization_config=None, force_text_dnn=None,\n",
      "        is_cross_validation=None, is_onnx_compatible=None, logger=None,\n",
      "        obser...    n_jobs=1, penalty='none', power_t=0.1111111111111111,\n",
      "           random_state=None, tol=0.001))])\n"
     ]
    }
   ],
   "source": [
    "iteration = 2\n",
    "\n",
    "my_run, my_model = local_run.get_output(iteration = iteration)\n",
    "print(\"Modèle\",iteration,\"eme itération :\")\n",
    "print(my_run)\n",
    "print()\n",
    "print(my_model)"
   ]
  },
  {
   "cell_type": "markdown",
   "metadata": {},
   "source": [
    "## 8. Application du modèle\n",
    "\n",
    "### 8.1 Chargement des données"
   ]
  },
  {
   "cell_type": "code",
   "execution_count": 26,
   "metadata": {},
   "outputs": [],
   "source": [
    "digits = datasets.load_digits()\n",
    "X_test = digits.data[:10, :]\n",
    "y_test = digits.target[:10]\n",
    "images = digits.images[:10]"
   ]
  },
  {
   "cell_type": "markdown",
   "metadata": {},
   "source": [
    "### 8.2 Test\n",
    "We will try to predict 2 digits and see how our model works."
   ]
  },
  {
   "cell_type": "code",
   "execution_count": 27,
   "metadata": {},
   "outputs": [
    {
     "name": "stdout",
     "output_type": "stream",
     "text": [
      "4\n"
     ]
    },
    {
     "data": {
      "image/png": "[encoded data removed]",
      "text/plain": [
       "<Figure size 216x216 with 1 Axes>"
      ]
     },
     "metadata": {
      "needs_background": "light"
     },
     "output_type": "display_data"
    },
    {
     "name": "stdout",
     "output_type": "stream",
     "text": [
      "0\n"
     ]
    },
    {
     "data": {
      "image/png": "[encoded data removed]",
      "text/plain": [
       "<Figure size 216x216 with 1 Axes>"
      ]
     },
     "metadata": {
      "needs_background": "light"
     },
     "output_type": "display_data"
    },
    {
     "name": "stdout",
     "output_type": "stream",
     "text": [
      "CPU times: user 825 ms, sys: 364 ms, total: 1.19 s\n",
      "Wall time: 475 ms\n"
     ]
    }
   ],
   "source": [
    "%%time\n",
    "# Randomly select digits and test.\n",
    "for index in np.random.choice(len(y_test), 2, replace = False):\n",
    "    print(index)\n",
    "    predicted = fitted_model.predict(X_test[index:index + 1])[0]\n",
    "    label = y_test[index]\n",
    "    title = \"Label = %d  Esimation = %d \" % (label, predicted)\n",
    "    fig = plt.figure(1, figsize = (3,3))\n",
    "    ax1 = fig.add_axes((0,0,.8,.8))\n",
    "    ax1.set_title(title)\n",
    "    plt.imshow(images[index], cmap = plt.cm.gray_r, interpolation = 'nearest')\n",
    "    plt.show()"
   ]
  },
  {
   "cell_type": "markdown",
   "metadata": {},
   "source": [
    "## 9. Référencement du modèle"
   ]
  },
  {
   "cell_type": "markdown",
   "metadata": {},
   "source": [
    "### Meilleur modèle"
   ]
  },
  {
   "cell_type": "code",
   "execution_count": 28,
   "metadata": {},
   "outputs": [
    {
     "name": "stdout",
     "output_type": "stream",
     "text": [
      "Run(Experiment: Exemple2-automlclassificationSR,\n",
      "Id: AutoML_e5f99db5-fad3-44d1-9829-5bf62a6cfd61_3,\n",
      "Type: None,\n",
      "Status: Completed)\n",
      "\n",
      "Pipeline(memory=None,\n",
      "     steps=[('datatransformer', DataTransformer(enable_dnn=None, enable_feature_sweeping=None,\n",
      "        feature_sweeping_config=None, feature_sweeping_timeout=None,\n",
      "        featurization_config=None, force_text_dnn=None,\n",
      "        is_cross_validation=None, is_onnx_compatible=None, logger=None,\n",
      "        obser...erbose=-10,\n",
      "         verbosity=0))]))],\n",
      "               flatten_transform=None, weights=[0.6, 0.4]))])\n",
      "\n",
      "Métriques :\n",
      "average_precision_score_macro = 0.9951234831781536\n",
      "accuracy = 0.962881891241127\n",
      "AUC_weighted = 0.9993067801973444\n",
      "f1_score_macro = 0.9631841907652184\n",
      "precision_score_macro = 0.9642658590643004\n",
      "confusion_matrix = aml://artifactId/ExperimentRun/dcid.AutoML_e5f99db5-fad3-44d1-9829-5bf62a6cfd61_3/confusion_matrix\n",
      "log_loss = 0.11422697996056598\n",
      "AUC_macro = 0.9993299806746186\n",
      "f1_score_weighted = 0.9630532369513989\n",
      "precision_score_micro = 0.962881891241127\n",
      "accuracy_table = aml://artifactId/ExperimentRun/dcid.AutoML_e5f99db5-fad3-44d1-9829-5bf62a6cfd61_3/accuracy_table\n",
      "matthews_correlation = 0.9588466112254489\n",
      "precision_score_weighted = 0.9644625222143097\n",
      "AUC_micro = 0.9992612260459106\n",
      "average_precision_score_micro = 0.9947601276599153\n",
      "weighted_accuracy = 0.9623653309429064\n",
      "recall_score_macro = 0.9633282182472026\n",
      "recall_score_weighted = 0.962881891241127\n",
      "recall_score_micro = 0.962881891241127\n",
      "average_precision_score_weighted = 0.9950909481282277\n",
      "f1_score_micro = 0.962881891241127\n",
      "norm_macro_recall = 0.9592535758302251\n",
      "balanced_accuracy = 0.9633282182472026\n"
     ]
    }
   ],
   "source": [
    "best_run, fitted_model = local_run.get_output()\n",
    "print(best_run)\n",
    "print()\n",
    "print(fitted_model)\n",
    "print()\n",
    "print(\"Métriques :\")\n",
    "best_run_metrics = best_run.get_metrics()\n",
    "for metric_name in best_run_metrics:\n",
    "    metric = best_run_metrics[metric_name]\n",
    "    print(metric_name, '=', metric)"
   ]
  },
  {
   "cell_type": "code",
   "execution_count": 29,
   "metadata": {},
   "outputs": [
    {
     "name": "stdout",
     "output_type": "stream",
     "text": [
      "datatransformer\n",
      "prefittedsoftvotingclassifier\n"
     ]
    }
   ],
   "source": [
    "for step in fitted_model.named_steps:\n",
    "    print(step)"
   ]
  },
  {
   "cell_type": "markdown",
   "metadata": {},
   "source": [
    "### Référencement du modèle"
   ]
  },
  {
   "cell_type": "code",
   "execution_count": 30,
   "metadata": {},
   "outputs": [
    {
     "data": {
      "text/plain": [
       "Model(workspace=Workspace.create(name='workshopAML2020', subscription_id='70b8f39e-8863-49f7-b6ba-34a80799550c', resource_group='workshopAML2020-rg'), name=mybestmodel, id=mybestmodel:5, version=5, tags={'Training context': 'Azure Auto ML'}, properties={'AUC': '0.9993067801973444', 'Accuracy': '0.962881891241127'})"
      ]
     },
     "execution_count": 30,
     "metadata": {},
     "output_type": "execute_result"
    }
   ],
   "source": [
    "from azureml.core import Model\n",
    "\n",
    "best_run.register_model(model_path='outputs/model.pkl', model_name='mybestmodel',\n",
    "                        tags={'Training context':'Azure Auto ML'},\n",
    "                        properties={'AUC': best_run_metrics['AUC_weighted'], 'Accuracy': best_run_metrics['accuracy']})"
   ]
  },
  {
   "cell_type": "code",
   "execution_count": 31,
   "metadata": {},
   "outputs": [
    {
     "name": "stdout",
     "output_type": "stream",
     "text": [
      "mybestmodel - version = 5\n",
      "\t Training context : Azure Auto ML\n",
      "\t AUC : 0.9993067801973444\n",
      "\t Accuracy : 0.962881891241127\n",
      "\n",
      "\n",
      "RegressionRidge - version = 7\n",
      "\t area : Diabetes\n",
      "\t type : Regression Ridge\n",
      "\t k : 0.4\n",
      "\t MSE : 3295.741064355809\n",
      "\t R2 : 0.3572956390661659\n",
      "\t Framework : Azure ML\n",
      "\n",
      "\n",
      "model_explain_model_on_amlcomp - version = 1\n",
      "\n",
      "\n",
      "IBM_attrition_explainer - version = 10\n",
      "\n",
      "\n",
      "local_deploy_model - version = 10\n",
      "\n",
      "\n",
      "IBM_attrition_explainer - version = 9\n",
      "\n",
      "\n",
      "local_deploy_model - version = 9\n",
      "\n",
      "\n",
      "Diabetes - version = 15\n",
      "\t Training context : Hyperdrive\n",
      "\t AUC : 0.8569106291712714\n",
      "\t Accuracy : 0.7902222222222223\n",
      "\n",
      "\n",
      "Exemple10-Modele-TensorFlow - version = 16\n",
      "\t Framework : TensorFlow\n",
      "\t Hyperdrive : Oui\n",
      "\t GPU : Oui\n",
      "\n",
      "\n",
      "Diabetes - version = 14\n",
      "\t Training context : Hyperdrive\n",
      "\t AUC : 0.8569106291712714\n",
      "\t Accuracy : 0.7902222222222223\n",
      "\n",
      "\n",
      "Exemple10-Modele-TensorFlow - version = 15\n",
      "\t Framework : TensorFlow\n",
      "\t Hyperdrive : Oui\n",
      "\t GPU : Oui\n",
      "\n",
      "\n",
      "diabetes_model - version = 15\n",
      "\t Training context : Pipeline\n",
      "\n",
      "\n",
      "Modele-SKLEARN-Regression - version = 2\n",
      "\t area : diabetes\n",
      "\t type : regression\n",
      "\t format : Scikit-Learn pkl\n",
      "\n",
      "\n",
      "Exemple4-AutoML-Forecast - version = 5\n",
      "\t Training context : Azure Auto ML\n",
      "\t R2 : 0.2102297702988311\n",
      "\t RMSE : 0.025719636958220327\n",
      "\n",
      "\n",
      "boston_model.pkl - version = 13\n",
      "\t algo : Regression\n",
      "\t Training context : Azure ML\n",
      "\t Framework : scikit-learn\n",
      "\n",
      "\n",
      "RegressionRidge - version = 6\n",
      "\t area : Diabetes\n",
      "\t type : Regression Ridge\n",
      "\t k : 0.4\n",
      "\t MSE : 3295.741064355809\n",
      "\t R2 : 0.3572956390661659\n",
      "\t Framework : Azure ML\n",
      "\n",
      "\n",
      "RegressionRidge - version = 5\n",
      "\t area : Diabetes\n",
      "\t type : Regression Ridge\n",
      "\t k : 0.4\n",
      "\t MSE : 3295.741064355809\n",
      "\t R2 : 0.3572956390661659\n",
      "\t Framework : Azure ML\n",
      "\n",
      "\n",
      "Exemple3-AutoML-Regression - version = 8\n",
      "\t Training context : Azure Auto ML\n",
      "\t R2 : 0.8267547975259869\n",
      "\t RMSE : 0.08250675651473231\n",
      "\n",
      "\n",
      "mybestmodel - version = 4\n",
      "\t Training context : Azure Auto ML\n",
      "\t AUC : 0.9993067801973444\n",
      "\t Accuracy : 0.962881891241127\n",
      "\n",
      "\n",
      "Diabetes - version = 13\n",
      "\t Training context : Hyperdrive\n",
      "\t AUC : 0.8569106291712714\n",
      "\t Accuracy : 0.7902222222222223\n",
      "\n",
      "\n",
      "Exemple10-Modele-TensorFlow - version = 14\n",
      "\t Framework : TensorFlow\n",
      "\t Hyperdrive : Oui\n",
      "\t GPU : Oui\n",
      "\n",
      "\n",
      "IBM_attrition_explainer - version = 8\n",
      "\n",
      "\n",
      "local_deploy_model - version = 8\n",
      "\n",
      "\n",
      "diabetes_model - version = 14\n",
      "\t Training context : Pipeline\n",
      "\n",
      "\n",
      "Modele-SKLEARN-Regression - version = 1\n",
      "\t area : diabetes\n",
      "\t type : regression\n",
      "\t format : Scikit-Learn pkl\n",
      "\n",
      "\n",
      "boston_model.pkl - version = 12\n",
      "\t algo : Regression\n",
      "\t Training context : Azure ML\n",
      "\t Framework : scikit-learn\n",
      "\n",
      "\n",
      "RegressionRidge - version = 4\n",
      "\t area : Diabetes\n",
      "\t type : Regression Ridge\n",
      "\t k : 0.3\n",
      "\t MSE : 3077.2\n",
      "\t Framework : Azure ML\n",
      "\n",
      "\n",
      "resnet50.4.accelonnx - version = 1\n",
      "\t parentModelName : resnet50\n",
      "\t parentModelFlavor : TF\n",
      "\t modelFlavor : AccelOnnx\n",
      "\t parentModelArtifactLocation : aml://artifact/LocalUpload/200430T125953-55db4332/resnet50\n",
      "\t convertModelLogLocation : aml://artifact/LocalUpload/119439fb2e6c41d39b0e5ecaa1e1bf77/conversion_log\n",
      "\t compileOptions_toolVersion : 1.0\n",
      "\t compileOptions_toolName : fpga\n",
      "\t compileOptions_input_node_names : Placeholder:0\n",
      "\t compileOptions_output_node_names : classifier/resnet_v1_50/predictions/Softmax:0\n",
      "\t compileOptions_require_fpga_conversion : True\n",
      "\t compileOptions_sourceModelFlavor : tf\n",
      "\t compileOptions_targetModelFlavor : accelonnx\n",
      "\t compileOptions_unpack : false\n",
      "\n",
      "\n",
      "resnet50 - version = 4\n",
      "\n",
      "\n",
      "RegressionRidge - version = 3\n",
      "\t area : Diabetes\n",
      "\t type : Regression Ridge\n",
      "\t k : 0.4\n",
      "\t MSE : 3295.74\n",
      "\t Framework : Azure ML\n",
      "\n",
      "\n",
      "RegressionRidge - version = 2\n",
      "\t area : Diabetes\n",
      "\t type : Regression Ridge\n",
      "\t k : 0.4\n",
      "\t MSE : 3295.74\n",
      "\t Framework : Azure ML\n",
      "\n",
      "\n",
      "RegressionRidge - version = 1\n",
      "\t area : Diabetes\n",
      "\t type : Regression Ridge\n",
      "\t k : 0.4\n",
      "\t MSE : 3295.74\n",
      "\t Framework : Azure ML\n",
      "\n",
      "\n",
      "resnet50 - version = 2\n",
      "\n",
      "\n",
      "ssdvgg.1.accelonnx - version = 1\n",
      "\t parentModelName : ssdvgg\n",
      "\t parentModelFlavor : TF\n",
      "\t modelFlavor : AccelOnnx\n",
      "\t parentModelArtifactLocation : aml://artifact/LocalUpload/200429T124534-4846cffe/saved_model\n",
      "\t convertModelLogLocation : aml://artifact/LocalUpload/ffaee3a06dba4e87a9ae84524cd868e7/conversion_log\n",
      "\t compileOptions_toolVersion : 1.0\n",
      "\t compileOptions_toolName : fpga\n",
      "\t compileOptions_input_node_names : Placeholder:0\n",
      "\t compileOptions_output_node_names : ssd_300_vgg/block4_box/Reshape_1:0,ssd_300_vgg/block7_box/Reshape_1:0,ssd_300_vgg/block8_box/Reshape_1:0,ssd_300_vgg/block9_box/Reshape_1:0,ssd_300_vgg/block10_box/Reshape_1:0,ssd_300_vgg/block11_box/Reshape_1:0,ssd_300_vgg/block4_box/Reshape:0,ssd_300_vgg/block7_box/Reshape:0,ssd_300_vgg/block8_box/Reshape:0,ssd_300_vgg/block9_box/Reshape:0,ssd_300_vgg/block10_box/Reshape:0,ssd_300_vgg/block11_box/Reshape:0\n",
      "\t compileOptions_require_fpga_conversion : True\n",
      "\t compileOptions_sourceModelFlavor : tf\n",
      "\t compileOptions_targetModelFlavor : accelonnx\n",
      "\t compileOptions_unpack : false\n",
      "\n",
      "\n",
      "ssdvgg - version = 1\n",
      "\n",
      "\n",
      "elevation-regression-model.pkl - version = 1\n",
      "\t area : weather\n",
      "\t type : linear regression\n",
      "\n",
      "\n",
      "MLTemplateAzure-master - version = 4\n",
      "\n",
      "\n",
      "MLTemplateAzure-master - version = 3\n",
      "\n",
      "\n",
      "MLTemplateAzure-master - version = 2\n",
      "\n",
      "\n",
      "MLTemplateAzure-master - version = 1\n",
      "\n",
      "\n",
      "diabetes_model - version = 13\n",
      "\t Training context : Pipeline\n",
      "\n",
      "\n",
      "diabetes_model - version = 12\n",
      "\t Training context : Pipeline\n",
      "\n",
      "\n",
      "diabetes_model - version = 11\n",
      "\t Training context : Pipeline\n",
      "\n",
      "\n",
      "Exemple10-Modele-TensorFlow - version = 13\n",
      "\t Framework : TensorFlow\n",
      "\t Hyperdrive : Oui\n",
      "\t GPU : Oui\n",
      "\n",
      "\n",
      "Exemple10-Modele-TensorFlow - version = 12\n",
      "\t Training context : TensorFlow Hyperdrive\n",
      "\t GPU : Oui\n",
      "\n",
      "\n",
      "Diabetes - version = 12\n",
      "\t Training context : Hyperdrive\n",
      "\t AUC : 0.8569106291712714\n",
      "\t Accuracy : 0.7902222222222223\n",
      "\n",
      "\n",
      "diabetes_model - version = 10\n",
      "\t Training context : Pipeline\n",
      "\n",
      "\n",
      "sklearn_regression_model.pkl - version = 14\n",
      "\t area : diabetes\n",
      "\t type : regression\n",
      "\t format : Scikit-Learn pkl\n",
      "\n",
      "\n",
      "diabetes_model - version = 9\n",
      "\t Training context : Pipeline\n",
      "\n",
      "\n",
      "boston_model.pkl - version = 11\n",
      "\t algo : Regression\n",
      "\t Training context : Azure ML\n",
      "\t Framework : scikit-learn\n",
      "\n",
      "\n",
      "mybestmodel - version = 3\n",
      "\t Training context : Azure Auto ML\n",
      "\t AUC : 0.9993193003206503\n",
      "\t Accuracy : 0.9658275743456644\n",
      "\n",
      "\n",
      "Exemple3-AutoML-Regression - version = 7\n",
      "\t Training context : Azure Auto ML\n",
      "\t R2 : 0.8736789106695474\n",
      "\t RMSE : 0.07225365701425089\n",
      "\n",
      "\n",
      "Exemple3-AutoML-Regression - version = 6\n",
      "\t Training context : Azure Auto ML\n",
      "\t R2 : 0.8736789106695474\n",
      "\t RMSE : 0.07225365701425089\n",
      "\n",
      "\n",
      "diabetes_model - version = 8\n",
      "\t Training context : Pipeline\n",
      "\n",
      "\n",
      "Exemple10-Modele-TensorFlow - version = 11\n",
      "\t Training context : TensorFlow GPU Hyperdrive\n",
      "\n",
      "\n",
      "IBM_attrition_explainer - version = 7\n",
      "\n",
      "\n",
      "local_deploy_model - version = 7\n",
      "\n",
      "\n",
      "Diabetes - version = 11\n",
      "\t Training context : Hyperdrive\n",
      "\t AUC : 0.8569106291712714\n",
      "\t Accuracy : 0.7902222222222223\n",
      "\n",
      "\n",
      "sklearn_regression_model.pkl - version = 13\n",
      "\t area : diabetes\n",
      "\t type : regression\n",
      "\t format : Scikit-Learn pkl\n",
      "\n",
      "\n",
      "sklearn_regression_model.pkl - version = 12\n",
      "\t area : diabetes\n",
      "\t type : regression\n",
      "\t format : Scikit-Learn pkl\n",
      "\n",
      "\n",
      "sklearn_regression_model.pkl - version = 11\n",
      "\t area : diabetes\n",
      "\t type : regression\n",
      "\t format : Scikit-Learn pkl\n",
      "\n",
      "\n",
      "sklearn_regression_model.pkl - version = 10\n",
      "\t area : diabetes\n",
      "\t type : regression\n",
      "\t format : Scikit-Learn pkl\n",
      "\n",
      "\n",
      "sklearn_regression_model.pkl - version = 9\n",
      "\t area : diabetes\n",
      "\t type : regression\n",
      "\t format : Scikit-Learn pkl\n",
      "\n",
      "\n",
      "sklearn_regression_model.pkl - version = 8\n",
      "\t area : diabetes\n",
      "\t type : regression\n",
      "\t format : Scikit-Learn pkl\n",
      "\n",
      "\n",
      "sklearn_regression_model.pkl - version = 7\n",
      "\t area : diabetes\n",
      "\t type : regression\n",
      "\n",
      "\n",
      "diabetes_model - version = 7\n",
      "\t Training context : Pipeline\n",
      "\n",
      "\n",
      "diabetes_model - version = 6\n",
      "\t Training context : Pipeline\n",
      "\n",
      "\n",
      "Exemple10-Modele-TensorFlow - version = 10\n",
      "\t Training context : TensorFlow GPU Hyperdrive\n",
      "\n",
      "\n",
      "Diabetes - version = 10\n",
      "\t Training context : Hyperdrive\n",
      "\t AUC : 0.8569106291712714\n",
      "\t Accuracy : 0.7902222222222223\n",
      "\n",
      "\n",
      "diabetes_model - version = 5\n",
      "\t Training context : Pipeline\n",
      "\n",
      "\n",
      "sklearn_regression_model.pkl - version = 6\n",
      "\t area : diabetes\n",
      "\t type : regression\n",
      "\n",
      "\n",
      "mybestmodel - version = 2\n",
      "\t Training context : Azure Auto ML\n",
      "\t AUC : 0.9994706712034915\n",
      "\t Accuracy : 0.9705396494881139\n",
      "\n",
      "\n",
      "mybestmodel - version = 1\n",
      "\t Training context : Azure Auto ML\n",
      "\t AUC : 0.9994706712034915\n",
      "\t Accuracy : 0.9705396494881139\n",
      "\n",
      "\n",
      "Exemple10-Modele-TensorFlow - version = 9\n",
      "\t Training context : TensorFlow GPU Hyperdrive\n",
      "\n",
      "\n",
      "Exemple10-Modele-TensorFlow - version = 8\n",
      "\t Training context : TensorFlow GPU Hyperdrive\n",
      "\n",
      "\n",
      "Exemple10-Modele-TensorFlow - version = 7\n",
      "\t Training context : TensorFlow GPU Hyperdrive\n",
      "\n",
      "\n",
      "Exemple10-Modele-TensorFlow - version = 6\n",
      "\t Training context : TensorFlow GPU\n",
      "\n",
      "\n",
      "Diabetes - version = 9\n",
      "\t Training context : Hyperdrive\n",
      "\t AUC : 0.8569106291712714\n",
      "\t Accuracy : 0.7902222222222223\n",
      "\n",
      "\n",
      "sklearn_regression_model.pkl - version = 5\n",
      "\t area : diabetes\n",
      "\t type : regression\n",
      "\n",
      "\n",
      "boston_model.pkl - version = 10\n",
      "\t algo : Regression\n",
      "\t Training context : Azure ML\n",
      "\t Framework : scikit-learn\n",
      "\n",
      "\n",
      "sklearn_regression_model.pkl - version = 4\n",
      "\t area : diabetes\n",
      "\t type : regression\n",
      "\n",
      "\n",
      "boston_model.pkl - version = 9\n",
      "\t algo : Regression\n",
      "\t Training context : Azure ML\n",
      "\t Framework : scikit-learn\n",
      "\n",
      "\n",
      "diabetes_model - version = 4\n",
      "\t Training context : Pipeline\n",
      "\n",
      "\n",
      "Diabetes - version = 8\n",
      "\t Training context : Hyperdrive\n",
      "\t AUC : 0.8569106291712714\n",
      "\t Accuracy : 0.7902222222222223\n",
      "\n",
      "\n",
      "diabetes_model - version = 3\n",
      "\t Training context : Pipeline\n",
      "\n",
      "\n",
      "Exemple10-Modele-TensorFlow - version = 5\n",
      "\t Training context : TensorFlow GPU\n",
      "\n",
      "\n",
      "sklearn_regression_model.pkl - version = 3\n",
      "\t area : diabetes\n",
      "\t type : regression\n",
      "\n",
      "\n",
      "IBM_attrition_explainer - version = 6\n",
      "\n",
      "\n",
      "local_deploy_model - version = 6\n",
      "\n",
      "\n",
      "boston_model.pkl - version = 8\n",
      "\t algo : Regression\n",
      "\t Training context : Azure ML\n",
      "\t Framework : scikit-learn\n",
      "\n",
      "\n",
      "Exemple4-AutoML-Forecast - version = 4\n",
      "\t Training context : Azure Auto ML\n",
      "\t R2 : 0.2102297702988311\n",
      "\t RMSE : 0.025719636958220327\n",
      "\n",
      "\n",
      "Exemple3-AutoML-Regression - version = 5\n",
      "\t Training context : Azure Auto ML\n",
      "\t R2 : 0.8846871539563971\n",
      "\t RMSE : 0.0687685685144201\n",
      "\n",
      "\n",
      "Exemple2-AutoML-Classif - version = 4\n",
      "\t Training context : Azure Auto ML\n",
      "\t AUC : 0.9995378939750003\n",
      "\t Accuracy : 0.9728977962866562\n",
      "\n",
      "\n",
      "Exemple10-Modele-TensorFlow - version = 4\n",
      "\t Training context : TensorFlow GPU\n",
      "\n",
      "\n",
      "Diabetes - version = 7\n",
      "\t Training context : Hyperdrive\n",
      "\t AUC : 0.8569106291712714\n",
      "\t Accuracy : 0.7902222222222223\n",
      "\n",
      "\n",
      "IBM_attrition_explainer - version = 5\n",
      "\n",
      "\n",
      "local_deploy_model - version = 5\n",
      "\n",
      "\n",
      "Exemple4-AutoML-Forecast - version = 3\n",
      "\t Training context : Azure Auto ML\n",
      "\t R2 : 0.36960142200884405\n",
      "\t RMSE : 0.02304059602768627\n",
      "\n",
      "\n",
      "Exemple3-AutoML-Regression - version = 4\n",
      "\t Training context : Azure Auto ML\n",
      "\t R2 : 0.8823064055329451\n",
      "\t RMSE : 0.06954349242467574\n",
      "\n",
      "\n",
      "Exemple2-AutoML-Classif - version = 3\n",
      "\t Training context : Azure Auto ML\n",
      "\t AUC : 0.9995067640229488\n",
      "\t Accuracy : 0.972896061079299\n",
      "\n",
      "\n",
      "Diabetes - version = 6\n",
      "\t Training context : Hyperdrive\n",
      "\t AUC : 0.8569106291712714\n",
      "\t Accuracy : 0.7902222222222223\n",
      "\n",
      "\n",
      "Diabetes - version = 5\n",
      "\t Training context : Hyperdrive\n",
      "\t AUC : 0.8569106291712714\n",
      "\t Accuracy : 0.7902222222222223\n",
      "\n",
      "\n",
      "boston_model.pkl - version = 7\n",
      "\t algo : Regression\n",
      "\t Training context : Azure ML\n",
      "\t Framework : scikit-learn\n",
      "\n",
      "\n",
      "boston_model.pkl - version = 6\n",
      "\t algo : Regression\n",
      "\t Training context : Azure ML\n",
      "\t Framework : scikit-learn\n",
      "\n",
      "\n",
      "boston_model.pkl - version = 5\n",
      "\t algo : Regression\n",
      "\t type : sklearn\n",
      "\n",
      "\n",
      "boston_model.pkl - version = 4\n",
      "\t algo : Regression\n",
      "\t type : sklearn\n",
      "\n",
      "\n",
      "Diabetes - version = 4\n",
      "\t Training context : Hyperdrive\n",
      "\t AUC : 0.8569106291712714\n",
      "\t Accuracy : 0.7902222222222223\n",
      "\n",
      "\n",
      "Diabetes - version = 3\n",
      "\t Training context : Hyperdrive\n",
      "\t AUC : 0.8569106291712714\n",
      "\t Accuracy : 0.7902222222222223\n",
      "\n",
      "\n",
      "Diabetes - version = 2\n",
      "\t Training context : Hyperdrive\n",
      "\t AUC : 0.8569106291712714\n",
      "\t Accuracy : 0.7902222222222223\n",
      "\n",
      "\n",
      "Diabetes - version = 1\n",
      "\t Training context : Hyperdrive\n",
      "\t AUC : 0.8569106291712714\n",
      "\t Accuracy : 0.7902222222222223\n",
      "\n",
      "\n",
      "Exemple10-Modele-TensorFlow - version = 3\n",
      "\t Training context : TensorFlow GPU\n",
      "\n",
      "\n",
      "Exemple10-Modele-TensorFlow - version = 2\n",
      "\t Training context : TensorFlow GPU\n",
      "\n",
      "\n",
      "sklearn_regression_model.pkl - version = 2\n",
      "\t area : diabetes\n",
      "\t type : regression\n",
      "\n",
      "\n",
      "IBM_attrition_explainer - version = 4\n",
      "\n",
      "\n",
      "local_deploy_model - version = 4\n",
      "\n",
      "\n",
      "Exemple10-Modele-TensorFlow - version = 1\n",
      "\t Training context : TensorFlow GPU\n",
      "\n",
      "\n",
      "sklearn_regression_model.pkl - version = 1\n",
      "\t area : diabetes\n",
      "\t type : regression\n",
      "\n",
      "\n",
      "diabetes_model - version = 2\n",
      "\t Training context : Pipeline\n",
      "\n",
      "\n",
      "Exemple4-AutoML-Forecast - version = 2\n",
      "\t Training context : Azure Auto ML\n",
      "\t R2 : 0.2102297702988311\n",
      "\t RMSE : 0.025719636958220327\n",
      "\n",
      "\n",
      "boston_model.pkl - version = 3\n",
      "\t algo : Regression\n",
      "\t type : sklearn\n",
      "\n",
      "\n",
      "Exemple3-AutoML-Regression - version = 3\n",
      "\t Training context : Azure Auto ML\n",
      "\t R2 : 0.8823064055329451\n",
      "\t RMSE : 0.06954349242467574\n",
      "\n",
      "\n",
      "Exemple3-AutoML-Regression - version = 2\n",
      "\t Training context : Azure Auto ML\n",
      "\t R2 : 0.8823064055329451\n",
      "\t RMSE : 0.06954349242467574\n",
      "\n",
      "\n",
      "IBM_attrition_explainer - version = 3\n",
      "\n",
      "\n",
      "local_deploy_model - version = 3\n",
      "\n",
      "\n",
      "Exemple2-AutoML-Classif - version = 2\n",
      "\t Training context : Azure Auto ML\n",
      "\t AUC : 0.9994894633959408\n",
      "\t Accuracy : 0.972896061079299\n",
      "\n",
      "\n",
      "IBM_attrition_explainer - version = 2\n",
      "\n",
      "\n",
      "local_deploy_model - version = 2\n",
      "\n",
      "\n",
      "diabetes_model - version = 1\n",
      "\t Training context : Pipeline\n",
      "\n",
      "\n",
      "IBM_attrition_explainer - version = 1\n",
      "\n",
      "\n",
      "local_deploy_model - version = 1\n",
      "\n",
      "\n",
      "boston_model.pkl - version = 2\n",
      "\t algo : Regression\n",
      "\t type : sklearn\n",
      "\n",
      "\n",
      "boston_model.pkl - version = 1\n",
      "\t algo : Regression\n",
      "\t type : sklearn\n",
      "\n",
      "\n",
      "Exemple4-AutoML-Forecast - version = 1\n",
      "\t Training context : Azure Auto ML\n",
      "\t R2 : 0.2102297702988311\n",
      "\t RMSE : 0.025719636958220327\n",
      "\n",
      "\n",
      "Exemple3-AutoML-Regression - version = 1\n",
      "\t Training context : Azure Auto ML\n",
      "\t R2 : 0.8823064055329451\n",
      "\t RMSE : 0.06954349242467574\n",
      "\n",
      "\n",
      "Exemple2-AutoML-Classif - version = 1\n",
      "\t Training context : Azure Auto ML\n",
      "\t AUC : 0.9992547179382384\n",
      "\t Accuracy : 0.9646507603948424\n",
      "\n",
      "\n"
     ]
    }
   ],
   "source": [
    "# Liste des modèles référencés\n",
    "for model in Model.list(ws):\n",
    "    print(model.name, '- version =', model.version)\n",
    "    for tag_name in model.tags:\n",
    "        tag = model.tags[tag_name]\n",
    "        print ('\\t',tag_name, ':', tag)\n",
    "    for prop_name in model.properties:\n",
    "        prop = model.properties[prop_name]\n",
    "        print ('\\t',prop_name, ':', prop)\n",
    "    print('\\n')"
   ]
  },
  {
   "cell_type": "markdown",
   "metadata": {},
   "source": [
    "<img src=\"https://github.com/retkowsky/images/blob/master/Powered-by-MS-Azure-logo-v2.png?raw=true\" height=\"300\" width=\"300\">"
   ]
  }
 ],
 "metadata": {
  "authors": [
   {
    "name": "savitam"
   }
  ],
  "kernelspec": {
   "display_name": "Python 3.6 - AzureML",
   "language": "python",
   "name": "python3-azureml"
  },
  "language_info": {
   "codemirror_mode": {
    "name": "ipython",
    "version": 3
   },
   "file_extension": ".py",
   "mimetype": "text/x-python",
   "name": "python",
   "nbconvert_exporter": "python",
   "pygments_lexer": "ipython3",
   "version": "3.6.9"
  }
 },
 "nbformat": 4,
 "nbformat_minor": 2
}
