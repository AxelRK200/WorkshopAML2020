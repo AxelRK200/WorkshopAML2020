{
 "cells": [
  {
   "cell_type": "markdown",
   "metadata": {},
   "source": [
    "# Configuration Azure ML"
   ]
  },
  {
   "cell_type": "markdown",
   "metadata": {},
   "source": [
    "<img src='https://github.com/retkowsky/images/blob/master/AzureMLservicebanniere.png?raw=true'>"
   ]
  },
  {
   "cell_type": "markdown",
   "metadata": {},
   "source": [
    "## 1. Infos"
   ]
  },
  {
   "cell_type": "code",
   "execution_count": 1,
   "metadata": {},
   "outputs": [
    {
     "data": {
      "text/plain": [
       "'3.6.9 |Anaconda, Inc.| (default, Jul 30 2019, 19:07:31) \\n[GCC 7.3.0]'"
      ]
     },
     "execution_count": 1,
     "metadata": {},
     "output_type": "execute_result"
    }
   ],
   "source": [
    "import sys\n",
    "sys.version"
   ]
  },
  {
   "cell_type": "code",
   "execution_count": 2,
   "metadata": {},
   "outputs": [
    {
     "name": "stdout",
     "output_type": "stream",
     "text": [
      "Date : 2020-03-10 14:25:34.127076\n"
     ]
    }
   ],
   "source": [
    "import datetime\n",
    "maintenant = datetime.datetime.now()\n",
    "print('Date :', maintenant)"
   ]
  },
  {
   "cell_type": "code",
   "execution_count": 3,
   "metadata": {},
   "outputs": [],
   "source": [
    "from azureml.core import Workspace, Environment"
   ]
  },
  {
   "cell_type": "markdown",
   "metadata": {},
   "source": [
    "## 2. Installation librairie AzureML service\n",
    "\n",
    "Note : Le kernel Python 3.6 Azure ML contient déjà Azure ML.\n",
    "\n",
    "\n",
    "> Release notes Azure ML service : https://docs.microsoft.com/en-us/azure/machine-learning/service/azure-machine-learning-release-notes\n",
    "\n",
    "> Installation : https://docs.microsoft.com/en-us/python/api/overview/azure/ml/install?view=azure-ml-py"
   ]
  },
  {
   "cell_type": "markdown",
   "metadata": {},
   "source": [
    "### 2.1 Pour installer la première fois le SDK"
   ]
  },
  {
   "cell_type": "code",
   "execution_count": 4,
   "metadata": {},
   "outputs": [],
   "source": [
    "#pip install azureml-sdk"
   ]
  },
  {
   "cell_type": "markdown",
   "metadata": {},
   "source": [
    "> Redémarrer ensuite le kernel Jupyter"
   ]
  },
  {
   "cell_type": "markdown",
   "metadata": {},
   "source": [
    "### 2.2 Pour mettre à jour Azure ML service"
   ]
  },
  {
   "cell_type": "code",
   "execution_count": 5,
   "metadata": {},
   "outputs": [],
   "source": [
    "#pip install --upgrade azureml-sdk"
   ]
  },
  {
   "cell_type": "markdown",
   "metadata": {},
   "source": [
    "Penser à mettre à jour les extras et ensuite à relancer le kernel Jupyter"
   ]
  },
  {
   "cell_type": "code",
   "execution_count": 6,
   "metadata": {},
   "outputs": [],
   "source": [
    "#pip install --upgrade azureml-sdk[automl,notebooks,explain,accel-models,services,tensorboard]"
   ]
  },
  {
   "cell_type": "markdown",
   "metadata": {},
   "source": [
    "## 3. Version Azure ML installée"
   ]
  },
  {
   "cell_type": "code",
   "execution_count": 7,
   "metadata": {},
   "outputs": [
    {
     "name": "stdout",
     "output_type": "stream",
     "text": [
      "Version Azure ML =  1.0.83\n"
     ]
    }
   ],
   "source": [
    "import azureml.core\n",
    "print(\"Version Azure ML = \",azureml.core.VERSION)"
   ]
  },
  {
   "cell_type": "markdown",
   "metadata": {},
   "source": [
    "## 4. Workspace Azure ML"
   ]
  },
  {
   "cell_type": "code",
   "execution_count": 8,
   "metadata": {},
   "outputs": [],
   "source": [
    "import os\n",
    "subscription_id = os.environ.get(\"SUBSCRIPTION_ID\", \"ARENSEIGNER\")\n",
    "resource_group = os.environ.get(\"RESOURCE_GROUP\", \"AzureMLWorkshopRG\")\n",
    "workspace_name = os.environ.get(\"WORKSPACE_NAME\", \"AzureMLWorkshop\")"
   ]
  },
  {
   "cell_type": "code",
   "execution_count": 9,
   "metadata": {},
   "outputs": [
    {
     "name": "stdout",
     "output_type": "stream",
     "text": [
      "Performing interactive authentication. Please follow the instructions on the terminal.\n",
      "To sign in, use a web browser to open the page https://microsoft.com/devicelogin and enter the code C4ZSYKMZW to authenticate.\n",
      "Interactive authentication successfully completed.\n",
      "Le workspace Azure ML service a été trouvé : OK\n"
     ]
    }
   ],
   "source": [
    "from azureml.core import Workspace\n",
    "\n",
    "try:\n",
    "   ws = Workspace(subscription_id = subscription_id, resource_group = resource_group, workspace_name = workspace_name)\n",
    "   ws.write_config()\n",
    "   print(\"Le workspace Azure ML service a été trouvé : OK\")\n",
    "except:\n",
    "   print(\"Le workspace Azure ML service n'a pas été trouvé\")"
   ]
  },
  {
   "cell_type": "code",
   "execution_count": 10,
   "metadata": {},
   "outputs": [
    {
     "name": "stdout",
     "output_type": "stream",
     "text": [
      "Workspace name: AzureMLWorkshop\n",
      "Azure region: westeurope\n",
      "Resource group: AzureMLWorkshopRG\n"
     ]
    }
   ],
   "source": [
    "# Importations workspace\n",
    "ws = Workspace.from_config()\n",
    "print('Workspace name: ' + ws.name, \n",
    "      'Azure region: ' + ws.location, \n",
    "      'Resource group: ' + ws.resource_group, sep='\\n')"
   ]
  },
  {
   "cell_type": "code",
   "execution_count": 11,
   "metadata": {},
   "outputs": [
    {
     "data": {
      "text/plain": [
       "{'id': '/subscriptions/70b8f39e-8863-49f7-b6ba-34a80799550c/resourceGroups/AzureMLWorkshopRG/providers/Microsoft.MachineLearningServices/workspaces/AzureMLWorkshop',\n",
       " 'name': 'AzureMLWorkshop',\n",
       " 'location': 'westeurope',\n",
       " 'type': 'Microsoft.MachineLearningServices/workspaces',\n",
       " 'tags': {},\n",
       " 'sku': 'Enterprise',\n",
       " 'workspaceid': '3ead7922-76f5-437e-9c14-08f627fe3f3f',\n",
       " 'description': '',\n",
       " 'friendlyName': '',\n",
       " 'creationTime': '2020-03-10T14:12:37.0857676+00:00',\n",
       " 'keyVault': '/subscriptions/70b8f39e-8863-49f7-b6ba-34a80799550c/resourcegroups/azuremlworkshoprg/providers/microsoft.keyvault/vaults/azuremlworksho4555363360',\n",
       " 'applicationInsights': '/subscriptions/70b8f39e-8863-49f7-b6ba-34a80799550c/resourcegroups/azuremlworkshoprg/providers/microsoft.insights/components/azuremlworksho7354952743',\n",
       " 'identityPrincipalId': 'd8e68e73-adf5-472c-95cb-456bffd80caa',\n",
       " 'identityTenantId': '72f988bf-86f1-41af-91ab-2d7cd011db47',\n",
       " 'identityType': 'SystemAssigned',\n",
       " 'storageAccount': '/subscriptions/70b8f39e-8863-49f7-b6ba-34a80799550c/resourcegroups/azuremlworkshoprg/providers/microsoft.storage/storageaccounts/azuremlworksho6034843387',\n",
       " 'hbiWorkspace': False}"
      ]
     },
     "execution_count": 11,
     "metadata": {},
     "output_type": "execute_result"
    }
   ],
   "source": [
    "# Infos\n",
    "from azureml.core.workspace import Workspace\n",
    "ws = Workspace.from_config()\n",
    "ws.get_details()"
   ]
  },
  {
   "cell_type": "code",
   "execution_count": 12,
   "metadata": {},
   "outputs": [
    {
     "name": "stdout",
     "output_type": "stream",
     "text": [
      "Compute Targets :\n",
      "Datastores :\n",
      "\t azureml_globaldatasets : AzureBlob\n",
      "\t workspacefilestore : AzureFile\n",
      "\t workspaceblobstore : AzureBlob\n",
      "Datasets :\n"
     ]
    }
   ],
   "source": [
    "from azureml.core import ComputeTarget, Datastore, Dataset\n",
    "\n",
    "print(\"Compute Targets :\")\n",
    "for compute_name in ws.compute_targets:\n",
    "    compute = ws.compute_targets[compute_name]\n",
    "    print(\"\\t\", compute.name, ':', compute.type)\n",
    "    \n",
    "print(\"Datastores :\")\n",
    "for datastore_name in ws.datastores:\n",
    "    datastore = Datastore.get(ws, datastore_name)\n",
    "    print(\"\\t\", datastore.name, ':', datastore.datastore_type)\n",
    "    \n",
    "print(\"Datasets :\")\n",
    "for dataset_name in list(ws.datasets.keys()):\n",
    "    dataset = Dataset.get_by_name(ws, dataset_name)\n",
    "    print(\"\\t\", dataset.name)"
   ]
  },
  {
   "cell_type": "markdown",
   "metadata": {},
   "source": [
    "## 5. Gestion des environnements\n",
    "> Documentation : https://docs.microsoft.com/fr-fr/azure/machine-learning/how-to-use-environments"
   ]
  },
  {
   "cell_type": "markdown",
   "metadata": {},
   "source": [
    "### 5.1 Environnements existants"
   ]
  },
  {
   "cell_type": "code",
   "execution_count": 13,
   "metadata": {},
   "outputs": [
    {
     "name": "stdout",
     "output_type": "stream",
     "text": [
      "Nom : AzureML-Tutorial\n",
      "\n",
      "Packages : channels:\n",
      "- conda-forge\n",
      "dependencies:\n",
      "- python=3.6.2\n",
      "- pip:\n",
      "  - azureml-core==1.0.85.5\n",
      "  - azureml-defaults==1.0.85.1\n",
      "  - azureml-telemetry==1.0.85.2\n",
      "  - azureml-train-restclients-hyperdrive==1.0.85\n",
      "  - azureml-train-core==1.0.85\n",
      "  - azureml-widgets==1.0.85.1\n",
      "  - azureml-pipeline-core==1.0.85.1\n",
      "  - azureml-pipeline-steps==1.0.85\n",
      "  - azureml-opendatasets==1.0.85\n",
      "  - azureml-automl-core==1.0.85.5\n",
      "  - azureml-automl-runtime==1.0.85.5\n",
      "  - azureml-train-automl-client==1.0.85.4\n",
      "  - azureml-train-automl-runtime==1.0.85.5\n",
      "  - azureml-train-automl==1.0.85\n",
      "  - azureml-train==1.0.85\n",
      "  - azureml-sdk==1.0.85\n",
      "  - azureml-interpret==1.0.85\n",
      "  - azureml-tensorboard==1.0.85\n",
      "  - azureml-mlflow==1.0.85\n",
      "  - mlflow\n",
      "  - sklearn-pandas\n",
      "- pandas\n",
      "- numpy\n",
      "- tqdm\n",
      "- scikit-learn\n",
      "- matplotlib\n",
      "name: azureml_240f3a96fdafd72fea6a79b7c7161479\n",
      "\n",
      "Nom : AzureML-Minimal\n",
      "\n",
      "Packages : channels:\n",
      "- conda-forge\n",
      "dependencies:\n",
      "- python=3.6.2\n",
      "- pip:\n",
      "  - azureml-core==1.0.85.5\n",
      "  - azureml-defaults==1.0.85.1\n",
      "name: azureml_29749af95e307ec889456f5901c255f2\n",
      "\n",
      "Nom : AzureML-Chainer-5.1.0-GPU\n",
      "\n",
      "Packages : channels:\n",
      "- conda-forge\n",
      "dependencies:\n",
      "- python=3.6.2\n",
      "- pip:\n",
      "  - azureml-core==1.0.85.5\n",
      "  - azureml-defaults==1.0.85.1\n",
      "  - azureml-telemetry==1.0.85.2\n",
      "  - azureml-train-restclients-hyperdrive==1.0.85\n",
      "  - azureml-train-core==1.0.85\n",
      "  - chainer==5.1.0\n",
      "  - cupy-cuda90==5.1.0\n",
      "  - mpi4py==3.0.0\n",
      "name: azureml_6899d56bb5bcef070fe837021a77a0a4\n",
      "\n",
      "Nom : AzureML-PyTorch-1.2-CPU\n",
      "\n",
      "Packages : channels:\n",
      "- conda-forge\n",
      "dependencies:\n",
      "- python=3.6.2\n",
      "- pip:\n",
      "  - azureml-core==1.0.85.5\n",
      "  - azureml-defaults==1.0.85.1\n",
      "  - azureml-telemetry==1.0.85.2\n",
      "  - azureml-train-restclients-hyperdrive==1.0.85\n",
      "  - azureml-train-core==1.0.85\n",
      "  - torch==1.2\n",
      "  - torchvision==0.4.0\n",
      "  - mkl==2018.0.3\n",
      "  - horovod==0.16.1\n",
      "  - tensorboard==1.14.0\n",
      "  - future==0.17.1\n",
      "name: azureml_12e37575eedf108cb5f176e22aaa06b5\n",
      "\n",
      "Nom : AzureML-TensorFlow-1.12-CPU\n",
      "\n",
      "Packages : channels:\n",
      "- conda-forge\n",
      "dependencies:\n",
      "- python=3.6.2\n",
      "- pip:\n",
      "  - azureml-core==1.0.85.5\n",
      "  - azureml-defaults==1.0.85.1\n",
      "  - azureml-telemetry==1.0.85.2\n",
      "  - azureml-train-restclients-hyperdrive==1.0.85\n",
      "  - azureml-train-core==1.0.85\n",
      "  - tensorflow==1.12\n",
      "  - horovod==0.15.2\n",
      "name: azureml_d9f6b6c34cdf6333f888f88b1e8bfa90\n",
      "\n",
      "Nom : AzureML-TensorFlow-1.13-CPU\n",
      "\n",
      "Packages : channels:\n",
      "- conda-forge\n",
      "dependencies:\n",
      "- python=3.6.2\n",
      "- pip:\n",
      "  - azureml-core==1.0.85.5\n",
      "  - azureml-defaults==1.0.85.1\n",
      "  - azureml-telemetry==1.0.85.2\n",
      "  - azureml-train-restclients-hyperdrive==1.0.85\n",
      "  - azureml-train-core==1.0.85\n",
      "  - tensorflow==1.13.1\n",
      "  - horovod==0.16.1\n",
      "name: azureml_fc1e54a3566f9356e768bc2841556fd3\n",
      "\n",
      "Nom : AzureML-PyTorch-1.1-CPU\n",
      "\n",
      "Packages : channels:\n",
      "- conda-forge\n",
      "dependencies:\n",
      "- python=3.6.2\n",
      "- pip:\n",
      "  - azureml-core==1.0.85.5\n",
      "  - azureml-defaults==1.0.85.1\n",
      "  - azureml-telemetry==1.0.85.2\n",
      "  - azureml-train-restclients-hyperdrive==1.0.85\n",
      "  - azureml-train-core==1.0.85\n",
      "  - torch==1.1\n",
      "  - torchvision==0.2.1\n",
      "  - mkl==2018.0.3\n",
      "  - horovod==0.16.1\n",
      "  - tensorboard==1.14.0\n",
      "  - future==0.17.1\n",
      "name: azureml_e9cce505df52a310b8a26e5a04c66c0c\n",
      "\n",
      "Nom : AzureML-TensorFlow-1.10-CPU\n",
      "\n",
      "Packages : channels:\n",
      "- conda-forge\n",
      "dependencies:\n",
      "- python=3.6.2\n",
      "- pip:\n",
      "  - azureml-core==1.0.85.5\n",
      "  - azureml-defaults==1.0.85.1\n",
      "  - azureml-telemetry==1.0.85.2\n",
      "  - azureml-train-restclients-hyperdrive==1.0.85\n",
      "  - azureml-train-core==1.0.85\n",
      "  - tensorflow==1.10\n",
      "  - horovod==0.15.2\n",
      "name: azureml_87e851dbec58a64b80e01e02f558f4c7\n",
      "\n",
      "Nom : AzureML-PyTorch-1.0-GPU\n",
      "\n",
      "Packages : channels:\n",
      "- conda-forge\n",
      "dependencies:\n",
      "- python=3.6.2\n",
      "- pip:\n",
      "  - azureml-core==1.0.85.5\n",
      "  - azureml-defaults==1.0.85.1\n",
      "  - azureml-telemetry==1.0.85.2\n",
      "  - azureml-train-restclients-hyperdrive==1.0.85\n",
      "  - azureml-train-core==1.0.85\n",
      "  - torch==1.0\n",
      "  - torchvision==0.2.1\n",
      "  - mkl==2018.0.3\n",
      "  - horovod==0.16.1\n",
      "name: azureml_d9df3dc85550db37b37a860f8f4b0117\n",
      "\n",
      "Nom : AzureML-TensorFlow-1.12-GPU\n",
      "\n",
      "Packages : channels:\n",
      "- conda-forge\n",
      "dependencies:\n",
      "- python=3.6.2\n",
      "- pip:\n",
      "  - azureml-core==1.0.85.5\n",
      "  - azureml-defaults==1.0.85.1\n",
      "  - azureml-telemetry==1.0.85.2\n",
      "  - azureml-train-restclients-hyperdrive==1.0.85\n",
      "  - azureml-train-core==1.0.85\n",
      "  - tensorflow-gpu==1.12.0\n",
      "  - horovod==0.15.2\n",
      "name: azureml_fad1baea9793718f7c43b5a0cfa91c4e\n",
      "\n",
      "Nom : AzureML-TensorFlow-1.13-GPU\n",
      "\n",
      "Packages : channels:\n",
      "- conda-forge\n",
      "dependencies:\n",
      "- python=3.6.2\n",
      "- pip:\n",
      "  - azureml-core==1.0.85.5\n",
      "  - azureml-defaults==1.0.85.1\n",
      "  - azureml-telemetry==1.0.85.2\n",
      "  - azureml-train-restclients-hyperdrive==1.0.85\n",
      "  - azureml-train-core==1.0.85\n",
      "  - tensorflow-gpu==1.13.1\n",
      "  - horovod==0.16.1\n",
      "name: azureml_5a0da968f2d1d5774ba1e4ad05c0d999\n",
      "\n",
      "Nom : AzureML-Chainer-5.1.0-CPU\n",
      "\n",
      "Packages : channels:\n",
      "- conda-forge\n",
      "dependencies:\n",
      "- python=3.6.2\n",
      "- pip:\n",
      "  - azureml-core==1.0.85.5\n",
      "  - azureml-defaults==1.0.85.1\n",
      "  - azureml-telemetry==1.0.85.2\n",
      "  - azureml-train-restclients-hyperdrive==1.0.85\n",
      "  - azureml-train-core==1.0.85\n",
      "  - chainer==5.1.0\n",
      "  - mpi4py==3.0.0\n",
      "name: azureml_1745ccf56b7fdffb98a57c0c051eab3e\n",
      "\n",
      "Nom : AzureML-PyTorch-1.0-CPU\n",
      "\n",
      "Packages : channels:\n",
      "- conda-forge\n",
      "dependencies:\n",
      "- python=3.6.2\n",
      "- pip:\n",
      "  - azureml-core==1.0.85.5\n",
      "  - azureml-defaults==1.0.85.1\n",
      "  - azureml-telemetry==1.0.85.2\n",
      "  - azureml-train-restclients-hyperdrive==1.0.85\n",
      "  - azureml-train-core==1.0.85\n",
      "  - torch==1.0\n",
      "  - torchvision==0.2.1\n",
      "  - mkl==2018.0.3\n",
      "  - horovod==0.16.1\n",
      "name: azureml_d9df3dc85550db37b37a860f8f4b0117\n",
      "\n",
      "Nom : AzureML-Scikit-learn-0.20.3\n",
      "\n",
      "Packages : channels:\n",
      "- conda-forge\n",
      "dependencies:\n",
      "- python=3.6.2\n",
      "- pip:\n",
      "  - azureml-core==1.0.85.5\n",
      "  - azureml-defaults==1.0.85.1\n",
      "  - azureml-telemetry==1.0.85.2\n",
      "  - azureml-train-restclients-hyperdrive==1.0.85\n",
      "  - azureml-train-core==1.0.85\n",
      "  - scikit-learn==0.20.3\n",
      "  - scipy==1.2.1\n",
      "  - numpy==1.16.2\n",
      "  - joblib==0.13.2\n",
      "name: azureml_186b4e3ad6f313060c7d8ed53a7fdf57\n",
      "\n",
      "Nom : AzureML-PyTorch-1.2-GPU\n",
      "\n",
      "Packages : channels:\n",
      "- conda-forge\n",
      "dependencies:\n",
      "- python=3.6.2\n",
      "- pip:\n",
      "  - azureml-core==1.0.85.5\n",
      "  - azureml-defaults==1.0.85.1\n",
      "  - azureml-telemetry==1.0.85.2\n",
      "  - azureml-train-restclients-hyperdrive==1.0.85\n",
      "  - azureml-train-core==1.0.85\n",
      "  - torch==1.2\n",
      "  - torchvision==0.4.0\n",
      "  - mkl==2018.0.3\n",
      "  - horovod==0.16.1\n",
      "  - tensorboard==1.14.0\n",
      "  - future==0.17.1\n",
      "name: azureml_12e37575eedf108cb5f176e22aaa06b5\n",
      "\n",
      "Nom : AzureML-PyTorch-1.1-GPU\n",
      "\n",
      "Packages : channels:\n",
      "- conda-forge\n",
      "dependencies:\n",
      "- python=3.6.2\n",
      "- pip:\n",
      "  - azureml-core==1.0.85.5\n",
      "  - azureml-defaults==1.0.85.1\n",
      "  - azureml-telemetry==1.0.85.2\n",
      "  - azureml-train-restclients-hyperdrive==1.0.85\n",
      "  - azureml-train-core==1.0.85\n",
      "  - torch==1.1\n",
      "  - torchvision==0.2.1\n",
      "  - mkl==2018.0.3\n",
      "  - horovod==0.16.1\n",
      "  - tensorboard==1.14.0\n",
      "  - future==0.17.1\n",
      "name: azureml_e9cce505df52a310b8a26e5a04c66c0c\n",
      "\n",
      "Nom : AzureML-TensorFlow-1.10-GPU\n",
      "\n",
      "Packages : channels:\n",
      "- conda-forge\n",
      "dependencies:\n",
      "- python=3.6.2\n",
      "- pip:\n",
      "  - azureml-core==1.0.85.5\n",
      "  - azureml-defaults==1.0.85.1\n",
      "  - azureml-telemetry==1.0.85.2\n",
      "  - azureml-train-restclients-hyperdrive==1.0.85\n",
      "  - azureml-train-core==1.0.85\n",
      "  - tensorflow-gpu==1.10.0\n",
      "  - horovod==0.15.2\n",
      "name: azureml_9a40f2349da0ab50fe72efed95dad665\n",
      "\n",
      "Nom : AzureML-PyTorch-1.3-GPU\n",
      "\n",
      "Packages : channels:\n",
      "- conda-forge\n",
      "dependencies:\n",
      "- python=3.6.2\n",
      "- pip:\n",
      "  - azureml-core==1.0.85.5\n",
      "  - azureml-defaults==1.0.85.1\n",
      "  - azureml-telemetry==1.0.85.2\n",
      "  - azureml-train-restclients-hyperdrive==1.0.85\n",
      "  - azureml-train-core==1.0.85\n",
      "  - torch==1.3\n",
      "  - torchvision==0.4.1\n",
      "  - mkl==2018.0.3\n",
      "  - horovod==0.18.1\n",
      "  - tensorboard==1.14.0\n",
      "  - future==0.17.1\n",
      "name: azureml_90a3e565eebbcad2469b1ec618b5400e\n",
      "\n",
      "Nom : AzureML-TensorFlow-2.0-CPU\n",
      "\n",
      "Packages : channels:\n",
      "- conda-forge\n",
      "dependencies:\n",
      "- python=3.6.2\n",
      "- pip:\n",
      "  - azureml-core==1.0.85.5\n",
      "  - azureml-defaults==1.0.85.1\n",
      "  - azureml-telemetry==1.0.85.2\n",
      "  - azureml-train-restclients-hyperdrive==1.0.85\n",
      "  - azureml-train-core==1.0.85\n",
      "  - tensorflow==2.0\n",
      "  - horovod==0.18.1\n",
      "name: azureml_af1d9ee96a24b6e719cf427b722d4542\n",
      "\n",
      "Nom : AzureML-PyTorch-1.3-CPU\n",
      "\n",
      "Packages : channels:\n",
      "- conda-forge\n",
      "dependencies:\n",
      "- python=3.6.2\n",
      "- pip:\n",
      "  - azureml-core==1.0.85.5\n",
      "  - azureml-defaults==1.0.85.1\n",
      "  - azureml-telemetry==1.0.85.2\n",
      "  - azureml-train-restclients-hyperdrive==1.0.85\n",
      "  - azureml-train-core==1.0.85\n",
      "  - torch==1.3\n",
      "  - torchvision==0.4.1\n",
      "  - mkl==2018.0.3\n",
      "  - horovod==0.18.1\n",
      "  - tensorboard==1.14.0\n",
      "  - future==0.17.1\n",
      "name: azureml_90a3e565eebbcad2469b1ec618b5400e\n",
      "\n",
      "Nom : AzureML-TensorFlow-2.0-GPU\n",
      "\n",
      "Packages : channels:\n",
      "- conda-forge\n",
      "dependencies:\n",
      "- python=3.6.2\n",
      "- pip:\n",
      "  - azureml-core==1.0.85.5\n",
      "  - azureml-defaults==1.0.85.1\n",
      "  - azureml-telemetry==1.0.85.2\n",
      "  - azureml-train-restclients-hyperdrive==1.0.85\n",
      "  - azureml-train-core==1.0.85\n",
      "  - tensorflow-gpu==2.0.0\n",
      "  - horovod==0.18.1\n",
      "name: azureml_32e32f14358c91cc9ccb383a1f787246\n",
      "\n",
      "Nom : AzureML-PySpark-MmlSpark-0.15\n",
      "\n",
      "Packages : channels:\n",
      "- conda-forge\n",
      "dependencies:\n",
      "- python=3.6.2\n",
      "- pip:\n",
      "  - azureml-core==1.0.85.5\n",
      "  - azureml-defaults==1.0.85.1\n",
      "  - azureml-telemetry==1.0.85.2\n",
      "  - azureml-train-restclients-hyperdrive==1.0.85\n",
      "  - azureml-train-core==1.0.85\n",
      "name: azureml_4d3185d3b82dd8ca09a3981862ed32e0\n",
      "\n",
      "Nom : AzureML-AutoML\n",
      "\n",
      "Packages : channels:\n",
      "- conda-forge\n",
      "- pytorch\n",
      "dependencies:\n",
      "- python=3.6.2\n",
      "- pip:\n",
      "  - azureml-core==1.1.2rc0\n",
      "  - azureml-pipeline-core==1.1.2rc0\n",
      "  - azureml-telemetry==1.1.2rc0\n",
      "  - azureml-defaults==1.1.2rc0\n",
      "  - azureml-interpret==1.1.2rc0\n",
      "  - azureml-explain-model==1.1.2rc0\n",
      "  - azureml-automl-core==1.1.2rc0\n",
      "  - azureml-automl-runtime==1.1.2rc0\n",
      "  - azureml-train-automl-client==1.1.2rc0\n",
      "  - azureml-train-automl-runtime==1.1.2rc0\n",
      "  - inference-schema\n",
      "- numpy>=1.16.0,<=1.16.2\n",
      "- pandas>=0.21.0,<=0.23.4\n",
      "- py-xgboost<=0.80\n",
      "- fbprophet==0.5\n",
      "- setuptools-git\n",
      "name: azureml_432645c0a6e3ab094c7f99584e727334\n",
      "\n",
      "Nom : AzureML-PyTorch-1.4-GPU\n",
      "\n",
      "Packages : channels:\n",
      "- conda-forge\n",
      "dependencies:\n",
      "- python=3.6.2\n",
      "- pip:\n",
      "  - azureml-core==1.0.85.5\n",
      "  - azureml-defaults==1.0.85.1\n",
      "  - azureml-telemetry==1.0.85.2\n",
      "  - azureml-train-restclients-hyperdrive==1.0.85\n",
      "  - azureml-train-core==1.0.85\n",
      "  - torch==1.4.0\n",
      "  - torchvision==0.5.0\n",
      "  - mkl==2018.0.3\n",
      "  - horovod==0.18.1\n",
      "  - tensorboard==1.14.0\n",
      "  - future==0.17.1\n",
      "name: azureml_277ca08dcbbc6d5e933c13fe5e3b51ad\n",
      "\n",
      "Nom : AzureML-PyTorch-1.4-CPU\n",
      "\n",
      "Packages : channels:\n",
      "- conda-forge\n",
      "dependencies:\n",
      "- python=3.6.2\n",
      "- pip:\n",
      "  - azureml-core==1.0.85.5\n",
      "  - azureml-defaults==1.0.85.1\n",
      "  - azureml-telemetry==1.0.85.2\n",
      "  - azureml-train-restclients-hyperdrive==1.0.85\n",
      "  - azureml-train-core==1.0.85\n",
      "  - torch==1.4.0\n",
      "  - torchvision==0.5.0\n",
      "  - mkl==2018.0.3\n",
      "  - horovod==0.18.1\n",
      "  - tensorboard==1.14.0\n",
      "  - future==0.17.1\n",
      "name: azureml_277ca08dcbbc6d5e933c13fe5e3b51ad\n",
      "\n",
      "Nom : AzureML-VowpalWabbit-8.8.0\n",
      "\n",
      "Packages : channels:\n",
      "- conda-forge\n",
      "dependencies:\n",
      "- python=3.6.2\n",
      "- pip:\n",
      "  - azureml-core==1.0.85.5\n",
      "  - azureml-defaults==1.0.85.1\n",
      "  - azureml-dataprep[fuse,pandas]\n",
      "name: azureml_48f392f5ff4ce9eb19eece655a39cdf9\n",
      "\n",
      "Nom : AzureML-Hyperdrive-ForecastDNN\n",
      "\n",
      "Packages : dependencies:\n",
      "- python=3.7\n",
      "- pip:\n",
      "  - azureml-core==1.0.85.5\n",
      "  - azureml-pipeline-core==1.0.85.1\n",
      "  - azureml-telemetry==1.0.85.2\n",
      "  - azureml-defaults==1.0.85.1\n",
      "  - azureml-automl-core==1.0.85.5\n",
      "  - azureml-automl-runtime==1.0.85.5\n",
      "  - azureml-train-automl-client==1.0.85.4\n",
      "  - azureml-train-automl-runtime==1.0.85.5\n",
      "  - azureml-contrib-automl-dnn-forecasting==1.0.85.2\n",
      "name: azureml_e67ec728d7574c159419bbcd77efeea3\n",
      "\n",
      "Nom : AzureML-AutoML-GPU\n",
      "\n",
      "Packages : channels:\n",
      "- conda-forge\n",
      "dependencies:\n",
      "- python=3.6.2\n",
      "name: gpuexp\n",
      "\n",
      "Nom : AzureML-AutoML-DNN-GPU\n",
      "\n",
      "Packages : channels:\n",
      "- conda-forge\n",
      "dependencies:\n",
      "- python=3.6.2\n",
      "name: gpuexp\n",
      "\n",
      "Nom : AzureML-AutoML-DNN\n",
      "\n",
      "Packages : channels:\n",
      "- conda-forge\n",
      "- pytorch\n",
      "dependencies:\n",
      "- python=3.6.2\n",
      "- pip:\n",
      "  - azureml-core==1.1.2rc0\n",
      "  - azureml-pipeline-core==1.1.2rc0\n",
      "  - azureml-telemetry==1.1.2rc0\n",
      "  - azureml-defaults==1.1.2rc0\n",
      "  - azureml-interpret==1.1.2rc0\n",
      "  - azureml-explain-model==1.1.2rc0\n",
      "  - azureml-automl-core==1.1.2rc0\n",
      "  - azureml-automl-runtime==1.1.2rc0\n",
      "  - azureml-train-automl-client==1.1.2rc0\n",
      "  - azureml-train-automl-runtime==1.1.2rc0\n",
      "  - inference-schema\n",
      "  - pytorch-transformers==1.0.0\n",
      "  - spacy==2.1.8\n",
      "  - https://aka.ms/automl-resources/packages/en_core_web_sm-2.1.0.tar.gz\n",
      "- pandas>=0.21.0,<=0.23.4\n",
      "- numpy>=1.16.0,<=1.16.2\n",
      "- py-xgboost<=0.80\n",
      "- fbprophet==0.5\n",
      "- setuptools-git\n",
      "- pytorch=1.1.0\n",
      "- cudatoolkit=9.0\n",
      "name: azureml_f64d2c5ee6f8d3c75e3a0bfc48d5c6c2\n",
      "\n",
      "Nom : AzureML-Designer-R\n",
      "\n",
      "Packages : channels:\n",
      "- conda-forge\n",
      "dependencies:\n",
      "- python=3.6.8\n",
      "- r-caret=6.0\n",
      "- r-catools=1.17.1\n",
      "- r-cluster=2.0.7\n",
      "- r-dplyr=0.7.6\n",
      "- r-e1071=1.7\n",
      "- r-forcats=0.3.0\n",
      "- r-glmnet=2.0\n",
      "- r-matrix=1.2\n",
      "- r-mgcv=1.8\n",
      "- r-nlme=3.1\n",
      "- r-nnet=7.3\n",
      "- r-plyr=1.8.4\n",
      "- r-randomforest=4.6\n",
      "- r-reticulate=1.12\n",
      "- r-rocr=1.0\n",
      "- r-rpart=4.1\n",
      "- r-stringr=1.3.1\n",
      "- r-tidyverse=1.2.1\n",
      "- r-timedate=3043.102\n",
      "- r-tseries=0.10\n",
      "- r=3.5.1\n",
      "- pip: []\n",
      "name: azureml_479fba23a1323306c7c09673e67edb85\n",
      "\n",
      "Nom : AzureML-Designer-Recommender\n",
      "\n",
      "Packages : channels:\n",
      "- conda-forge\n",
      "dependencies:\n",
      "- python=3.6.8\n",
      "- scikit-surprise=1.0.6\n",
      "- pip: []\n",
      "name: azureml_bc58b2414988f8e7b03149d6fdc30869\n",
      "\n",
      "Nom : AzureML-Designer-Transform\n",
      "\n",
      "Packages : channels:\n",
      "- defaults\n",
      "dependencies:\n",
      "- python=3.6.8\n",
      "- pip:\n",
      "  - azureml-dataprep[fuse]==1.1.38\n",
      "  - azureml-designer-datatransform-modules==0.0.40\n",
      "  - azureml-telemetry==1.0.85.1\n",
      "  - pandas==0.25.3\n",
      "name: azureml_d148f00dd94c8a9e2bb078767e0d3ee1\n",
      "\n",
      "Nom : AzureML-Designer\n",
      "\n",
      "Packages : channels:\n",
      "- defaults\n",
      "dependencies:\n",
      "- python=3.6.8\n",
      "- pip:\n",
      "  - azureml-dataprep[fuse]==1.1.38\n",
      "  - azureml-designer-classic-modules==0.0.112\n",
      "  - azureml-telemetry==1.0.85.1\n",
      "  - pandas==0.25.3\n",
      "name: azureml_44390dc78029b12e1b9d23947f47f054\n",
      "\n",
      "Nom : AzureML-Designer-IO\n",
      "\n",
      "Packages : channels:\n",
      "- defaults\n",
      "dependencies:\n",
      "- python=3.6.8\n",
      "- pip:\n",
      "  - azureml-dataprep[fuse]==1.1.38\n",
      "  - azureml-designer-dataio-modules==0.0.20\n",
      "  - azureml-telemetry==1.0.85.1\n",
      "  - pandas==0.25.3\n",
      "name: azureml_0e629de27e3145b3f8472c478c11bf21\n",
      "\n",
      "Nom : AzureML-Designer-NLP\n",
      "\n",
      "Packages : channels:\n",
      "- defaults\n",
      "dependencies:\n",
      "- python=3.6.8\n",
      "- pip:\n",
      "  - azureml-dataprep[fuse]==1.1.38\n",
      "  - azureml-designer-classic-modules==0.0.112\n",
      "  - azureml-telemetry==1.0.85.1\n",
      "  - https://github.com/explosion/spacy-models/releases/download/en_core_web_sm-2.1.0/en_core_web_sm-2.1.0.tar.gz#egg=en_core_web_sm\n",
      "  - pandas==0.25.3\n",
      "  - spacy==2.1.7\n",
      "name: azureml_d44d9639767602ea3ad2031ae0769093\n",
      "\n"
     ]
    }
   ],
   "source": [
    "# Liste des packages\n",
    "envs = Environment.list(workspace=ws)\n",
    "\n",
    "for env in envs:\n",
    "    if env.startswith(\"AzureML\"):\n",
    "        print(\"Nom :\",env)\n",
    "        print()\n",
    "        print(\"Packages :\", envs[env].python.conda_dependencies.serialize_to_string())"
   ]
  },
  {
   "cell_type": "code",
   "execution_count": 14,
   "metadata": {},
   "outputs": [],
   "source": [
    "# Info environnement Azure ML Minimal\n",
    "\n",
    "ws = Workspace.from_config()\n",
    "env = Environment.get(workspace=ws, name=\"AzureML-Minimal\")"
   ]
  },
  {
   "cell_type": "code",
   "execution_count": 15,
   "metadata": {},
   "outputs": [
    {
     "name": "stdout",
     "output_type": "stream",
     "text": [
      "Nom :  Environment(Name: AzureML-Minimal,\n",
      "Version: 13)\n",
      "\n",
      "packages :  channels:\n",
      "- conda-forge\n",
      "dependencies:\n",
      "- python=3.6.2\n",
      "- pip:\n",
      "  - azureml-core==1.0.85.5\n",
      "  - azureml-defaults==1.0.85.1\n",
      "name: azureml_29749af95e307ec889456f5901c255f2\n",
      "\n"
     ]
    }
   ],
   "source": [
    "# Info environnement Azure ML Minimal\n",
    "\n",
    "env = Environment.get(workspace=ws, name=\"AzureML-Minimal\")\n",
    "print(\"Nom : \",env)\n",
    "print()\n",
    "print(\"packages : \", env.python.conda_dependencies.serialize_to_string())"
   ]
  },
  {
   "cell_type": "code",
   "execution_count": 16,
   "metadata": {},
   "outputs": [
    {
     "name": "stdout",
     "output_type": "stream",
     "text": [
      "Nom :  Environment(Name: AzureML-AutoML-DNN,\n",
      "Version: 2)\n",
      "\n",
      "Packages :  channels:\n",
      "- conda-forge\n",
      "- pytorch\n",
      "dependencies:\n",
      "- python=3.6.2\n",
      "- pip:\n",
      "  - azureml-core==1.1.2rc0\n",
      "  - azureml-pipeline-core==1.1.2rc0\n",
      "  - azureml-telemetry==1.1.2rc0\n",
      "  - azureml-defaults==1.1.2rc0\n",
      "  - azureml-interpret==1.1.2rc0\n",
      "  - azureml-explain-model==1.1.2rc0\n",
      "  - azureml-automl-core==1.1.2rc0\n",
      "  - azureml-automl-runtime==1.1.2rc0\n",
      "  - azureml-train-automl-client==1.1.2rc0\n",
      "  - azureml-train-automl-runtime==1.1.2rc0\n",
      "  - inference-schema\n",
      "  - pytorch-transformers==1.0.0\n",
      "  - spacy==2.1.8\n",
      "  - https://aka.ms/automl-resources/packages/en_core_web_sm-2.1.0.tar.gz\n",
      "- pandas>=0.21.0,<=0.23.4\n",
      "- numpy>=1.16.0,<=1.16.2\n",
      "- py-xgboost<=0.80\n",
      "- fbprophet==0.5\n",
      "- setuptools-git\n",
      "- pytorch=1.1.0\n",
      "- cudatoolkit=9.0\n",
      "name: azureml_f64d2c5ee6f8d3c75e3a0bfc48d5c6c2\n",
      "\n"
     ]
    }
   ],
   "source": [
    "# Autre package\n",
    "\n",
    "env = Environment.get(workspace=ws, name=\"AzureML-AutoML-DNN\")\n",
    "print(\"Nom : \",env)\n",
    "print()\n",
    "print(\"Packages : \", env.python.conda_dependencies.serialize_to_string())"
   ]
  },
  {
   "cell_type": "markdown",
   "metadata": {},
   "source": [
    "### 5.2 Création d'un environnement"
   ]
  },
  {
   "cell_type": "code",
   "execution_count": 17,
   "metadata": {},
   "outputs": [],
   "source": [
    "from azureml.core.environment import CondaDependencies\n",
    "\n",
    "myenv = Environment(name=\"myenv\")\n",
    "conda_dep = CondaDependencies()\n",
    "conda_dep.add_conda_package(\"scikit-learn\")"
   ]
  },
  {
   "cell_type": "code",
   "execution_count": 18,
   "metadata": {},
   "outputs": [],
   "source": [
    "conda_dep.add_pip_package(\"pillow==5.4.1\")\n",
    "myenv.python.conda_dependencies=conda_dep"
   ]
  },
  {
   "cell_type": "code",
   "execution_count": 19,
   "metadata": {},
   "outputs": [],
   "source": [
    "myenv.environment_variables = {\"MESSAGE\":\"Mon environnement !\"}"
   ]
  },
  {
   "cell_type": "code",
   "execution_count": 20,
   "metadata": {},
   "outputs": [],
   "source": [
    "from azureml.core import ScriptRunConfig, Experiment\n",
    "\n",
    "myexp = Experiment(workspace=ws, name = \"Exemple0-Environnement\")"
   ]
  },
  {
   "cell_type": "markdown",
   "metadata": {},
   "source": [
    "### Création fichier python"
   ]
  },
  {
   "cell_type": "code",
   "execution_count": 22,
   "metadata": {},
   "outputs": [
    {
     "name": "stdout",
     "output_type": "stream",
     "text": [
      "Writing exemplepython.py\n"
     ]
    }
   ],
   "source": [
    "%%writefile exemplepython.py\n",
    "import random\n",
    "for n in range(10):\n",
    "  print(random.randint(1,101))"
   ]
  },
  {
   "cell_type": "code",
   "execution_count": null,
   "metadata": {},
   "outputs": [
    {
     "name": "stdout",
     "output_type": "stream",
     "text": [
      "RunId: Exemple0-Environnement_1583850446_eb1a9156\n",
      "Web View: https://ml.azure.com/experiments/Exemple0-Environnement/runs/Exemple0-Environnement_1583850446_eb1a9156?wsid=/subscriptions/70b8f39e-8863-49f7-b6ba-34a80799550c/resourcegroups/AzureMLWorkshopRG/workspaces/AzureMLWorkshop\n",
      "\n",
      "Streaming azureml-logs/60_control_log.txt\n",
      "=========================================\n",
      "\n",
      "Streaming log file azureml-logs/60_control_log.txt\n",
      "Running: ['/bin/bash', '/tmp/azureml_runs/Exemple0-Environnement_1583850446_eb1a9156/azureml-environment-setup/conda_env_checker.sh']\n",
      "Starting the daemon thread to refresh tokens in background for process with pid = 6299\n",
      "Materialized conda environment not found on target: /home/azureuser/.azureml/envs/azureml_4390bfe13f2e7dc75f70af2283967bc7\n",
      "\n",
      "\n",
      "Logging experiment preparation status in history service.\n",
      "Running: ['/bin/bash', '/tmp/azureml_runs/Exemple0-Environnement_1583850446_eb1a9156/azureml-environment-setup/conda_env_builder.sh']\n",
      "Running: ['conda', '--version']\n",
      "conda 4.5.12\n",
      "\n",
      "Creating conda environment...\n",
      "Running: ['conda', 'env', 'create', '-p', '/home/azureuser/.azureml/envs/azureml_4390bfe13f2e7dc75f70af2283967bc7', '-f', 'azureml-environment-setup/mutated_conda_dependencies.yml']\n"
     ]
    }
   ],
   "source": [
    "runconfig = ScriptRunConfig(source_directory=\".\", script=\"exemplepython.py\")\n",
    "runconfig.run_config.target = \"local\"\n",
    "runconfig.run_config.environment = myenv\n",
    "run = myexp.submit(config=runconfig)\n",
    "\n",
    "run.wait_for_completion(show_output=True)"
   ]
  },
  {
   "cell_type": "code",
   "execution_count": null,
   "metadata": {},
   "outputs": [],
   "source": [
    "run.get_environment()"
   ]
  },
  {
   "cell_type": "code",
   "execution_count": null,
   "metadata": {},
   "outputs": [],
   "source": [
    "# Enregistrement environnement\n",
    "myenv.register(workspace=ws)"
   ]
  },
  {
   "cell_type": "markdown",
   "metadata": {},
   "source": [
    "### Liste des environnements"
   ]
  },
  {
   "cell_type": "code",
   "execution_count": null,
   "metadata": {},
   "outputs": [],
   "source": [
    "# Liste\n",
    "for name,env in ws.environments.items():\n",
    "    print(\"Name {} \\t version {}\".format(name,env.version))\n",
    "\n",
    "restored_environment = Environment.get(workspace=ws,name=\"myenv\",version=\"1\")\n",
    "\n",
    "print(\"Attributes of restored environment\")\n",
    "restored_environment"
   ]
  },
  {
   "cell_type": "markdown",
   "metadata": {},
   "source": [
    "## 6. Azure ML Studio"
   ]
  },
  {
   "cell_type": "markdown",
   "metadata": {},
   "source": [
    "https://ml.azure.com/"
   ]
  },
  {
   "cell_type": "markdown",
   "metadata": {},
   "source": [
    "<img src=\"https://github.com/retkowsky/images/blob/master/LandingPage.jpg?raw=true\">"
   ]
  },
  {
   "cell_type": "markdown",
   "metadata": {},
   "source": [
    "## 7. Azure ML CLI (Command Line Interface)"
   ]
  },
  {
   "cell_type": "markdown",
   "metadata": {},
   "source": [
    ">Documentation Azure ML CLI :\n",
    "https://docs.microsoft.com/en-us/azure/machine-learning/reference-azure-machine-learning-cli\n",
    "\n",
    ">Prérequis : Azure CLI\n",
    "Pour installer Azure CLI sur Windows :\n",
    "https://docs.microsoft.com/en-us/cli/azure/install-azure-cli-windows?view=azure-cli-latest\n",
    "<br>\n",
    "\n",
    "**. Installation Azure ML CLI<br>**\n",
    "az extension add -n azure-cli-ml\n",
    "\n",
    "**. Check<br>**\n",
    "az ml -h<br>\n",
    "\n",
    "az --version\n",
    "\n",
    "**. Création ressource groupe<br>**\n",
    "az group create -n mltestRG -l westeurope\n",
    "\n",
    "**. Création workspace Azure ML<br>**\n",
    "az ml workspace create -w monworkspace -g mltestRG\n",
    "\n",
    "**. Attach workspace Azure ML<br>**\n",
    "az ml folder attach -w monworkspace -g mltestRG\n",
    "\n",
    "**. Création compute server mycomputesrv<br>**\n",
    "az ml computetarget create  amlcompute -n mysrv1 --min-nodes 0 --max-nodes 2   -s STANDARD_D2_V2<br>\n",
    "\n",
    "az ml computetarget create  amlcompute -n mysrv2 --min-nodes 1 --max-nodes 2   -s STANDARD_D3_V2\n",
    "\n",
    "**. Liste des compute servers<br>**\n",
    "az ml computetarget list\n",
    "\n",
    "**. Liste experimentations<br>**\n",
    "az ml experiment list"
   ]
  },
  {
   "cell_type": "markdown",
   "metadata": {},
   "source": [
    "## 8. Documentation"
   ]
  },
  {
   "cell_type": "markdown",
   "metadata": {},
   "source": [
    "- Documentation :<br> https://docs.microsoft.com/en-us/azure/machine-learning/\n",
    "\n",
    "- Nouveautés versions Azure ML service: <br>\n",
    "https://docs.microsoft.com/en-us/azure/machine-learning/service/azure-machine-learning-release-notes?view=azure-ml-py\n",
    "\n",
    "- What is Azure ML service SDK?<br>\n",
    "https://docs.microsoft.com/en-us/python/api/overview/azure/ml/intro?view=azure-ml-py\n",
    "\n",
    "- Azure ML service CLI<br>\n",
    "https://docs.microsoft.com/en-us/cli/azure/ext/azure-cli-ml/ml?view=azure-cli-latest\n",
    "\n",
    "- Azure ML Visual Interface<br>\n",
    "Algorithm & module reference overview<br>\n",
    "https://docs.microsoft.com/en-us/azure/machine-learning/algorithm-module-reference/module-reference\n"
   ]
  },
  {
   "cell_type": "markdown",
   "metadata": {},
   "source": [
    "<img src=\"https://github.com/retkowsky/images/blob/master/Powered-by-MS-Azure-logo-v2.png?raw=true\" height=\"300\" width=\"300\">"
   ]
  }
 ],
 "metadata": {
  "kernelspec": {
   "display_name": "Python 3.6 - AzureML",
   "language": "python",
   "name": "python3-azureml"
  },
  "language_info": {
   "codemirror_mode": {
    "name": "ipython",
    "version": 3
   },
   "file_extension": ".py",
   "mimetype": "text/x-python",
   "name": "python",
   "nbconvert_exporter": "python",
   "pygments_lexer": "ipython3",
   "version": "3.6.9"
  }
 },
 "nbformat": 4,
 "nbformat_minor": 2
}
