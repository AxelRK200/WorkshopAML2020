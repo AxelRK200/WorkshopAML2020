{
 "cells": [
  {
   "cell_type": "markdown",
   "metadata": {},
   "source": [
    "# Monitoring modèle"
   ]
  },
  {
   "cell_type": "markdown",
   "metadata": {},
   "source": [
    "<img src='https://github.com/retkowsky/images/blob/master/AzureMLservicebanniere.png?raw=true'>"
   ]
  },
  {
   "cell_type": "markdown",
   "metadata": {},
   "source": [
    "## 1. Infos"
   ]
  },
  {
   "cell_type": "code",
   "execution_count": 1,
   "metadata": {},
   "outputs": [
    {
     "name": "stdout",
     "output_type": "stream",
     "text": [
      "Version :  1.0.83\n"
     ]
    }
   ],
   "source": [
    "from azureml.core import Workspace\n",
    "from azureml.core.compute import AksCompute, ComputeTarget\n",
    "from azureml.core.webservice import AksWebservice\n",
    "import azureml.core\n",
    "import json\n",
    "\n",
    "print('Version : ', azureml.core.VERSION)"
   ]
  },
  {
   "cell_type": "code",
   "execution_count": 2,
   "metadata": {},
   "outputs": [
    {
     "name": "stdout",
     "output_type": "stream",
     "text": [
      "2020-02-26 11:56:30.443925\n"
     ]
    }
   ],
   "source": [
    "import datetime\n",
    "now = datetime.datetime.now()\n",
    "print(now)"
   ]
  },
  {
   "cell_type": "markdown",
   "metadata": {},
   "source": [
    "## 2. Worspace\n"
   ]
  },
  {
   "cell_type": "code",
   "execution_count": 3,
   "metadata": {},
   "outputs": [
    {
     "name": "stdout",
     "output_type": "stream",
     "text": [
      "workshop-aml-2020\n",
      "workshopaml2020RG\n",
      "westeurope\n",
      "70b8f39e-8863-49f7-b6ba-34a80799550c\n"
     ]
    }
   ],
   "source": [
    "ws = Workspace.from_config()\n",
    "print(ws.name, ws.resource_group, ws.location, ws.subscription_id, sep = '\\n')"
   ]
  },
  {
   "cell_type": "markdown",
   "metadata": {},
   "source": [
    "## 3. Enregistrement du modèle de ML\n",
    "Register an existing trained model, add descirption and tags."
   ]
  },
  {
   "cell_type": "code",
   "execution_count": 4,
   "metadata": {},
   "outputs": [
    {
     "name": "stdout",
     "output_type": "stream",
     "text": [
      "Registering model sklearn_regression_model.pkl\n",
      "sklearn_regression_model.pkl Ridge regression model to predict diabetes 4\n"
     ]
    }
   ],
   "source": [
    "#Register the model\n",
    "from azureml.core.model import Model\n",
    "model = Model.register(model_path = \"sklearn_regression_model.pkl\", # this points to a local file\n",
    "                       model_name = \"sklearn_regression_model.pkl\", # this is the name the model is registered as\n",
    "                       tags = {'area': \"diabetes\", 'type': \"regression\"},\n",
    "                       description = \"Ridge regression model to predict diabetes\",\n",
    "                       workspace = ws)\n",
    "\n",
    "print(model.name, model.description, model.version)"
   ]
  },
  {
   "cell_type": "markdown",
   "metadata": {},
   "source": [
    "## 4. Scoring File\n",
    "Here is an example:\n",
    "### a. In your init function add:\n",
    "```python\n",
    "print (\"model initialized\" + time.strftime(\"%H:%M:%S\"))```\n",
    "\n",
    "### b. In your run function add:\n",
    "```python\n",
    "print (\"Prediction created\" + time.strftime(\"%H:%M:%S\"))```"
   ]
  },
  {
   "cell_type": "code",
   "execution_count": 5,
   "metadata": {},
   "outputs": [
    {
     "name": "stdout",
     "output_type": "stream",
     "text": [
      "Overwriting score.py\n"
     ]
    }
   ],
   "source": [
    "%%writefile score.py\n",
    "import os\n",
    "import pickle\n",
    "import json\n",
    "import numpy \n",
    "from sklearn.externals import joblib\n",
    "from sklearn.linear_model import Ridge\n",
    "import time\n",
    "\n",
    "def init():\n",
    "    global model\n",
    "    #Print statement for appinsights custom traces:\n",
    "    print (\"model initialized\" + time.strftime(\"%H:%M:%S\"))\n",
    "    \n",
    "    # AZUREML_MODEL_DIR is an environment variable created during deployment.\n",
    "    # It is the path to the model folder (./azureml-models/$MODEL_NAME/$VERSION)\n",
    "    # For multiple models, it points to the folder containing all deployed models (./azureml-models)\n",
    "    model_path = os.path.join(os.getenv('AZUREML_MODEL_DIR'), 'sklearn_regression_model.pkl')\n",
    "    \n",
    "    # deserialize the model file back into a sklearn model\n",
    "    model = joblib.load(model_path)\n",
    "  \n",
    "\n",
    "# note you can pass in multiple rows for scoring\n",
    "def run(raw_data):\n",
    "    try:\n",
    "        data = json.loads(raw_data)['data']\n",
    "        data = numpy.array(data)\n",
    "        result = model.predict(data)\n",
    "        print (\"Prediction created\" + time.strftime(\"%H:%M:%S\"))\n",
    "        # you can return any datatype as long as it is JSON-serializable\n",
    "        return result.tolist()\n",
    "    except Exception as e:\n",
    "        error = str(e)\n",
    "        print (error + time.strftime(\"%H:%M:%S\"))\n",
    "        return error"
   ]
  },
  {
   "cell_type": "markdown",
   "metadata": {},
   "source": [
    "## 5. myenv.yml\n",
    "Please note that you must indicate azureml-defaults with verion >= 1.0.45 as a pip dependency, because it contains the functionality needed to host the model as a web service."
   ]
  },
  {
   "cell_type": "code",
   "execution_count": 6,
   "metadata": {},
   "outputs": [],
   "source": [
    "from azureml.core.conda_dependencies import CondaDependencies \n",
    "\n",
    "myenv = CondaDependencies.create(conda_packages=['numpy','scikit-learn'],\n",
    "                                 pip_packages=['azureml-defaults'])\n",
    "\n",
    "with open(\"myenv.yml\",\"w\") as f:\n",
    "    f.write(myenv.serialize_to_string())"
   ]
  },
  {
   "cell_type": "markdown",
   "metadata": {},
   "source": [
    "## 6. Create Inference Configuration"
   ]
  },
  {
   "cell_type": "code",
   "execution_count": 7,
   "metadata": {},
   "outputs": [],
   "source": [
    "from azureml.core.model import InferenceConfig\n",
    "from azureml.core.environment import Environment\n",
    "\n",
    "\n",
    "myenv = Environment.from_conda_specification(name=\"myenv\", file_path=\"myenv.yml\")\n",
    "inference_config = InferenceConfig(entry_script=\"score.py\", environment=myenv)"
   ]
  },
  {
   "cell_type": "markdown",
   "metadata": {},
   "source": [
    "## Deploy to ACI (Optional)"
   ]
  },
  {
   "cell_type": "markdown",
   "metadata": {},
   "source": [
    "from azureml.core.webservice import AciWebservice\n",
    "\n",
    "aci_deployment_config = AciWebservice.deploy_configuration(cpu_cores = 1, \n",
    "                                               memory_gb = 1, \n",
    "                                               tags = {'area': \"diabetes\", 'type': \"regression\"}, \n",
    "                                               description = 'Predict diabetes using regression model',\n",
    "                                               enable_app_insights = True)"
   ]
  },
  {
   "cell_type": "markdown",
   "metadata": {},
   "source": [
    "from azureml.core.webservice import Webservice\n",
    "\n",
    "aci_service_name = 'my-aci-service-4'\n",
    "aci_service = Model.deploy(ws, aci_service_name, [model], inference_config, aci_deployment_config)\n",
    "aci_service.wait_for_deployment(True)\n",
    "print(aci_service.state)"
   ]
  },
  {
   "cell_type": "markdown",
   "metadata": {},
   "source": [
    "%%time\n",
    "\n",
    "test_sample = json.dumps({'data': [\n",
    "    [1,28,13,45,54,6,57,8,8,10], \n",
    "    [101,9,8,37,6,45,4,3,2,41]\n",
    "]})\n",
    "test_sample = bytes(test_sample,encoding='utf8')"
   ]
  },
  {
   "cell_type": "markdown",
   "metadata": {},
   "source": [
    "if aci_service.state == \"Healthy\":\n",
    "    prediction = aci_service.run(input_data=test_sample)\n",
    "    print(prediction)\n",
    "else:\n",
    "   raise ValueError(\"Service deployment isn't healthy, can't call the service. Error: \", aci_service.error)"
   ]
  },
  {
   "cell_type": "markdown",
   "metadata": {},
   "source": [
    "## 7. Déploiement Azure Kubernetes Service (AKS)"
   ]
  },
  {
   "cell_type": "markdown",
   "metadata": {},
   "source": [
    "> Le nom du service **aks** doit être disponible"
   ]
  },
  {
   "cell_type": "code",
   "execution_count": 9,
   "metadata": {},
   "outputs": [],
   "source": [
    "# Use the default configuration (can also provide parameters to customize)\n",
    "prov_config = AksCompute.provisioning_configuration()\n",
    "\n",
    "aks_name = 'aks-exemple12' \n",
    "# Create the cluster\n",
    "aks_target = ComputeTarget.create(workspace = ws, \n",
    "                                  name = aks_name, \n",
    "                                  provisioning_configuration = prov_config)"
   ]
  },
  {
   "cell_type": "code",
   "execution_count": 10,
   "metadata": {},
   "outputs": [
    {
     "name": "stdout",
     "output_type": "stream",
     "text": [
      "Creating............................................................................................................................................................................\n",
      "SucceededProvisioning operation finished, operation \"Succeeded\"\n",
      "CPU times: user 1.04 s, sys: 21 ms, total: 1.06 s\n",
      "Wall time: 14min 41s\n"
     ]
    }
   ],
   "source": [
    "%%time\n",
    "aks_target.wait_for_completion(show_output = True)"
   ]
  },
  {
   "cell_type": "markdown",
   "metadata": {},
   "source": [
    "> Note : Prévoir 10 minutes de temps de traitement"
   ]
  },
  {
   "cell_type": "markdown",
   "metadata": {},
   "source": [
    "### Voir dans le portail Azure le service AKS généré :"
   ]
  },
  {
   "cell_type": "markdown",
   "metadata": {},
   "source": [
    "<img src=\"https://github.com/retkowsky/images/blob/master/akssnapshot.jpg?raw=true\">"
   ]
  },
  {
   "cell_type": "code",
   "execution_count": 11,
   "metadata": {},
   "outputs": [
    {
     "name": "stdout",
     "output_type": "stream",
     "text": [
      "Etat AKS : Succeeded\n",
      "\n",
      "Erreur(s) AKS : None\n"
     ]
    }
   ],
   "source": [
    "print(\"Etat AKS :\", aks_target.provisioning_state)\n",
    "print()\n",
    "print(\"Erreur(s) AKS :\",aks_target.provisioning_errors)"
   ]
  },
  {
   "cell_type": "markdown",
   "metadata": {},
   "source": [
    "If you already have a cluster you can attach the service to it:"
   ]
  },
  {
   "cell_type": "markdown",
   "metadata": {},
   "source": [
    "```python \n",
    "%%time\n",
    "resource_id = '/subscriptions/<subscriptionid>/resourcegroups/<resourcegroupname>/providers/Microsoft.ContainerService/managedClusters/<aksservername>'\n",
    "create_name= 'myaks4'\n",
    "attach_config = AksCompute.attach_configuration(resource_id=resource_id)\n",
    "aks_target = ComputeTarget.attach(workspace = ws, \n",
    "                                  name = create_name, \n",
    "                                  attach_configuration=attach_config)\n",
    "## Wait for the operation to complete\n",
    "aks_target.wait_for_provisioning(True)```"
   ]
  },
  {
   "cell_type": "markdown",
   "metadata": {},
   "source": [
    "### a. Activation App Insights\n",
    "In order to enable App Insights in your service you will need to update your AKS configuration file:"
   ]
  },
  {
   "cell_type": "code",
   "execution_count": 12,
   "metadata": {},
   "outputs": [],
   "source": [
    "#Set the web service configuration\n",
    "aks_deployment_config = AksWebservice.deploy_configuration(enable_app_insights=True)"
   ]
  },
  {
   "cell_type": "markdown",
   "metadata": {},
   "source": [
    "### b. Déploiement du service"
   ]
  },
  {
   "cell_type": "code",
   "execution_count": 14,
   "metadata": {},
   "outputs": [
    {
     "name": "stdout",
     "output_type": "stream",
     "text": [
      "Running................\n",
      "Succeeded\n",
      "AKS service creation operation finished, operation \"Succeeded\"\n",
      "Healthy\n",
      "CPU times: user 173 ms, sys: 20.7 ms, total: 194 ms\n",
      "Wall time: 1min 33s\n"
     ]
    }
   ],
   "source": [
    "%%time\n",
    "if aks_target.provisioning_state== \"Succeeded\": \n",
    "    aks_service_name ='aks-ex12'\n",
    "    aks_service = Model.deploy(ws,\n",
    "                               aks_service_name, \n",
    "                               [model], \n",
    "                               inference_config, \n",
    "                               aks_deployment_config, \n",
    "                               deployment_target = aks_target)    \n",
    "    aks_service.wait_for_deployment(show_output = True)\n",
    "    print(aks_service.state)\n",
    "else:\n",
    "    raise ValueError(\"AKS provisioning failed. Error: \", aks_service.error)"
   ]
  },
  {
   "cell_type": "markdown",
   "metadata": {},
   "source": [
    "> Prévoir 2 minutes de temps de traitements"
   ]
  },
  {
   "cell_type": "markdown",
   "metadata": {},
   "source": [
    "## 8. Réalisation de plusieurs tests d'appel au modèle de ML exposé dans AKS"
   ]
  },
  {
   "cell_type": "code",
   "execution_count": 16,
   "metadata": {},
   "outputs": [
    {
     "name": "stdout",
     "output_type": "stream",
     "text": [
      "Prédictions du modèle :  [4032.0580991117286, 11618.028587878263]\n",
      "\n",
      "CPU times: user 1.13 ms, sys: 2.83 ms, total: 3.96 ms\n",
      "Wall time: 30.2 ms\n"
     ]
    }
   ],
   "source": [
    "%%time\n",
    "\n",
    "test_sample1 = json.dumps({'data': [\n",
    "    [1,28,13,45,54,6,57,8,8,10], \n",
    "    [101,9,8,37,6,45,4,3,2,41]\n",
    "]})\n",
    "test_sample1 = bytes(test_sample1,encoding='utf8')\n",
    "\n",
    "if aks_service.state == \"Healthy\":\n",
    "    prediction1 = aks_service.run(input_data=test_sample1)\n",
    "    print(\"Prédictions du modèle : \", prediction1)\n",
    "    print()\n",
    "else:\n",
    "    raise ValueError(\"Service deployment isn't healthy, can't call the service. Error: \", aks_service.error)"
   ]
  },
  {
   "cell_type": "code",
   "execution_count": 17,
   "metadata": {},
   "outputs": [
    {
     "name": "stdout",
     "output_type": "stream",
     "text": [
      "Prédictions du modèle :  [7909.812215422598, 11478.00168731773]\n",
      "\n",
      "CPU times: user 3.28 ms, sys: 0 ns, total: 3.28 ms\n",
      "Wall time: 13.7 ms\n"
     ]
    }
   ],
   "source": [
    "%%time\n",
    "\n",
    "test_sample2 = json.dumps({'data': [\n",
    "    [2,28,13,45,54,6,57,8,8,50], \n",
    "    [10,9,8,37,6,45,4,3,2,43]\n",
    "]})\n",
    "test_sample2 = bytes(test_sample2,encoding='utf8')\n",
    "\n",
    "if aks_service.state == \"Healthy\":\n",
    "    prediction2 = aks_service.run(input_data=test_sample2)\n",
    "    print(\"Prédictions du modèle : \", prediction2)\n",
    "    print()\n",
    "else:\n",
    "    raise ValueError(\"Service deployment isn't healthy, can't call the service. Error: \", aks_service.error)"
   ]
  },
  {
   "cell_type": "code",
   "execution_count": 21,
   "metadata": {},
   "outputs": [
    {
     "name": "stdout",
     "output_type": "stream",
     "text": [
      "Prédictions du modèle :  [1107.1856643704434, 31507.059368998056]\n",
      "\n",
      "CPU times: user 2.37 ms, sys: 1.12 ms, total: 3.49 ms\n",
      "Wall time: 11.8 ms\n"
     ]
    }
   ],
   "source": [
    "%%time\n",
    "\n",
    "test_sample3 = json.dumps({'data': [\n",
    "    [24,48,3,45,54,6,57,8,8,50], \n",
    "    [13,5,55,37,6,45,4,3,2,43]\n",
    "]})\n",
    "test_sample3 = bytes(test_sample3,encoding='utf8')\n",
    "\n",
    "if aks_service.state == \"Healthy\":\n",
    "    prediction3 = aks_service.run(input_data=test_sample3)\n",
    "    print(\"Prédictions du modèle : \", prediction3)\n",
    "    print()\n",
    "else:\n",
    "    raise ValueError(\"Service deployment isn't healthy, can't call the service. Error: \", aks_service.error)"
   ]
  },
  {
   "cell_type": "markdown",
   "metadata": {},
   "source": [
    "## 9. Accés aux données de télémétries AppInsights\n",
    "Aller dans le portail Azure pour visualiser les informations de télémétries disponibles depuis AKS"
   ]
  },
  {
   "cell_type": "markdown",
   "metadata": {},
   "source": [
    "<img src=\"https://github.com/retkowsky/images/blob/master/aksresults.jpg?raw=true\">"
   ]
  },
  {
   "cell_type": "markdown",
   "metadata": {},
   "source": [
    "## 10. Désactivation"
   ]
  },
  {
   "cell_type": "markdown",
   "metadata": {},
   "source": [
    "### Suppression services AKS ACI et modèle"
   ]
  },
  {
   "cell_type": "code",
   "execution_count": 23,
   "metadata": {},
   "outputs": [],
   "source": [
    "#aks_service.delete()\n",
    "#aci_service.delete()\n",
    "#model.delete()"
   ]
  },
  {
   "cell_type": "code",
   "execution_count": null,
   "metadata": {},
   "outputs": [],
   "source": []
  }
 ],
 "metadata": {
  "authors": [
   {
    "name": "shipatel"
   }
  ],
  "kernelspec": {
   "display_name": "Python 3.6 - AzureML",
   "language": "python",
   "name": "python3-azureml"
  },
  "language_info": {
   "codemirror_mode": {
    "name": "ipython",
    "version": 3
   },
   "file_extension": ".py",
   "mimetype": "text/x-python",
   "name": "python",
   "nbconvert_exporter": "python",
   "pygments_lexer": "ipython3",
   "version": "3.6.9"
  }
 },
 "nbformat": 4,
 "nbformat_minor": 2
}
