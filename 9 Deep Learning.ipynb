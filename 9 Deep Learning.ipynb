{
 "cells": [
  {
   "cell_type": "markdown",
   "metadata": {},
   "source": [
    "# Deep Learning"
   ]
  },
  {
   "cell_type": "markdown",
   "metadata": {},
   "source": [
    "<img src='https://github.com/retkowsky/images/blob/master/AzureMLservicebanniere.png?raw=true'>"
   ]
  },
  {
   "cell_type": "markdown",
   "metadata": {},
   "source": [
    "https://en.wikipedia.org/wiki/MNIST_database\n",
    "\n",
    "Exemple **MNIST** (Modified National Institute of Standards and Technology.<br>\n",
    "Pour représenter cette image, nous allons utiliser un vecteur binaire de **784 variables (28x28)**. La ième valeur du vecteur prendra la valeur 0 ou 1 suivant si le ième pixel dans l'image est blanc ou noir.\n",
    "\n",
    "Un algorithme de **Deep Learning** va commencer par subdiviser ce problème complexe, en sous problèmes plus simple à résoudre. Pour cela, il va prendre des sous parties de l'image, par exemple, des groupements de pixels de 5x5, 4x4, ou 3x3, et opérer une fonction afin d'extraire des motifs dans cette sous-partie (on parle d'opération de convolution).\n",
    "Ainsi, différentes transformations sont opérées sur différentes parties de l'image d'entrée, retravaillées puis combinées à la couche suivante, etc., etc. permettant ainsi de générer des cartographies des pixels importants dans l'image.<br>\n"
   ]
  },
  {
   "cell_type": "markdown",
   "metadata": {},
   "source": [
    "<img src=\"https://upload.wikimedia.org/wikipedia/commons/2/27/MnistExamples.png\">"
   ]
  },
  {
   "cell_type": "markdown",
   "metadata": {},
   "source": [
    "<img src=\"https://msdnshared.blob.core.windows.net/media/2016/04/042816_1315_Unepremirei32.png\">"
   ]
  },
  {
   "cell_type": "markdown",
   "metadata": {},
   "source": [
    "L'illustration ci-dessus met en évidence la succession des couches, et l'extraction de l'information qu'elles réalisent. Elle permet aussi de refléter la hiérarchie entre les couches :\n",
    "\n",
    "La première se focalise sur une petite portion de l'image (5x5 par exemple).\n",
    "La seconde récupère le résultat de toutes les portions précédentes et essaye de repérer de nouveaux indicateurs.\n",
    "La troisième va encore plus loin, en suivant le même principe, permettant d'identifier assez précisément les contours du visage.\n",
    "Vous l'aurez donc compris, chaque couche est génératrice de variables. Chaque couche va venir rajouter son lot de variable issues de la combinaison des précédentes. C'est ici qu'intervient la véritable différence entre un réseau de neurones « classique » et un algorithme de Deep Learning.\n",
    "\n",
    "Cette faculté à générer des variables, qui plus est, très pertinentes dans un problème donné, permet à l'algorithme de découvrir des indicateurs de « haut niveaux » générant un fort pouvoir prédictif.\n",
    "\n",
    "En combinant toutes ces informations issues des différentes couches, correctement pondérées, nous obtenons un système capable d'identifier les éléments importants d'une image, dans le but final de prédire la sortie avec la plus forte probabilité d'être correcte."
   ]
  },
  {
   "cell_type": "markdown",
   "metadata": {},
   "source": [
    "## Partitionnement des données\n",
    "On va utiliser une partie des données pour apprendre (60 000) et le reste (10 000) pour vérifier si notre algorithme est correct. <br>Nous utilisons KERAS qui est une surcouche à TensorFlow."
   ]
  },
  {
   "cell_type": "code",
   "execution_count": 1,
   "metadata": {},
   "outputs": [
    {
     "data": {
      "text/plain": [
       "'3.6.9 |Anaconda, Inc.| (default, Jul 30 2019, 19:07:31) \\n[GCC 7.3.0]'"
      ]
     },
     "execution_count": 1,
     "metadata": {},
     "output_type": "execute_result"
    }
   ],
   "source": [
    "import sys\n",
    "sys.version"
   ]
  },
  {
   "cell_type": "code",
   "execution_count": 2,
   "metadata": {},
   "outputs": [
    {
     "name": "stderr",
     "output_type": "stream",
     "text": [
      "Using TensorFlow backend.\n"
     ]
    }
   ],
   "source": [
    "%matplotlib inline\n",
    "import matplotlib.pyplot as plt\n",
    "import numpy as np\n",
    "from keras.datasets import mnist\n",
    "from keras.models import Sequential\n",
    "from keras.layers.core import Dense, Activation\n",
    "from keras.optimizers import SGD\n",
    "from keras.utils import np_utils"
   ]
  },
  {
   "cell_type": "code",
   "execution_count": 3,
   "metadata": {},
   "outputs": [
    {
     "name": "stdout",
     "output_type": "stream",
     "text": [
      "1. Training : 60000\n",
      "2. Test : 10000\n"
     ]
    }
   ],
   "source": [
    "nb_classes = 10 # On doit reconnaitre 10 chiffres différents\n",
    "\n",
    "# Affichage du nombre de lignes\n",
    "(training_images, training_labels), (test_images, test_labels) = mnist.load_data()\n",
    "print ('1. Training :', training_images.shape[0])\n",
    "print ('2. Test :', test_images.shape[0])"
   ]
  },
  {
   "cell_type": "markdown",
   "metadata": {},
   "source": [
    "## Visualisation"
   ]
  },
  {
   "cell_type": "code",
   "execution_count": 4,
   "metadata": {},
   "outputs": [
    {
     "data": {
      "image/png": "[encoded data removed]",
      "text/plain": [
       "<Figure size 432x288 with 8 Axes>"
      ]
     },
     "metadata": {
      "needs_background": "light"
     },
     "output_type": "display_data"
    }
   ],
   "source": [
    "for i in range(8):\n",
    "    plt.subplot(2,4,i+1)\n",
    "    plt.imshow(training_images[i], cmap='gray', interpolation='none')\n",
    "    plt.title(\"Chiffre : {}\".format(training_labels[i]))"
   ]
  },
  {
   "cell_type": "markdown",
   "metadata": {},
   "source": [
    "## Traitement\n",
    "Les images sont représentées par 28 pixels sur 28 pixels.\n",
    "Nous allons donc générer un réseau de 784 neurones (28 X 28).\n",
    "En sortie nous voulons 10 neurones (= les 10 chiffres de 0 à 9).\n",
    "\n",
    "Nous allons convertir les images qui sont sous forme de tableaux 28 par 28 en un vecteur de longueur 784.\n",
    "Nous allons diviser les valeurs par 255 pour que notre vecteur ne contienne que des données entre 0 et 1.<br>\n",
    "Au final nous allons convertir les classes de chiffres en catégories."
   ]
  },
  {
   "cell_type": "code",
   "execution_count": 5,
   "metadata": {},
   "outputs": [],
   "source": [
    "training_images = training_images.reshape(60000, 784)\n",
    "test_images = test_images.reshape(10000, 784)\n",
    "training_images = training_images.astype('float32')\n",
    "test_images = test_images.astype('float32')\n",
    "training_images /= 255\n",
    "test_images /= 255\n",
    "\n",
    "training_labels_categories = np_utils.to_categorical(training_labels, nb_classes)\n",
    "test_labels_categories = np_utils.to_categorical(test_labels, nb_classes)"
   ]
  },
  {
   "cell_type": "markdown",
   "metadata": {},
   "source": [
    "## Estimation\n",
    "Nous allons estimer un réseau avec une première couche de 500 neurones et une couche de sortie de 10 neurones.<br>\n",
    "Autres paramétres :\n",
    "- Fonction d’optimisation : SGD (Stochastique Gradient Descent) et « vitesse d’apprentissage » 0.5\n",
    "- Taille du batch : 500 (nombre d’images utilisées pour entrainer le réseau)\n",
    "- Nombre d’epoch : 1 (un epoch = un apprentissage sur toutes les données)\n"
   ]
  },
  {
   "cell_type": "code",
   "execution_count": 6,
   "metadata": {},
   "outputs": [
    {
     "name": "stderr",
     "output_type": "stream",
     "text": [
      "WARNING - From /anaconda/envs/azureml_py36/lib/python3.6/site-packages/tensorflow_core/python/ops/resource_variable_ops.py:1630: calling BaseResourceVariable.__init__ (from tensorflow.python.ops.resource_variable_ops) with constraint is deprecated and will be removed in a future version.\n",
      "Instructions for updating:\n",
      "If using Keras pass *_constraint arguments to layers.\n",
      "WARNING - From /anaconda/envs/azureml_py36/lib/python3.6/site-packages/keras/backend/tensorflow_backend.py:422: The name tf.global_variables is deprecated. Please use tf.compat.v1.global_variables instead.\n",
      "\n"
     ]
    },
    {
     "name": "stdout",
     "output_type": "stream",
     "text": [
      "Train on 60000 samples, validate on 10000 samples\n",
      "Epoch 1/1\n",
      "60000/60000 [==============================] - 1s 24us/step - loss: 0.4952 - accuracy: 0.8497 - val_loss: 0.2650 - val_accuracy: 0.9241\n",
      "\n",
      "==> Accuracy sur la base de Test : 0.9240999817848206\n",
      "\n",
      "CPU times: user 1.6 s, sys: 150 ms, total: 1.76 s\n",
      "Wall time: 3.01 s\n"
     ]
    }
   ],
   "source": [
    "%%time\n",
    "model = Sequential()\n",
    "model.add(Dense(100, input_shape=(784,)))\n",
    "model.add(Activation('relu'))\n",
    "model.add(Dense(10))\n",
    "model.add(Activation('softmax'))\n",
    "\n",
    "model.compile(loss='categorical_crossentropy', optimizer=SGD(0.5), metrics=['accuracy'])\n",
    "\n",
    "history = model.fit(training_images, training_labels_categories, batch_size=500, epochs=1,\n",
    "                    verbose=1, validation_data=(test_images, test_labels_categories))\n",
    "score = model.evaluate(test_images, test_labels_categories, verbose=0)\n",
    "print()\n",
    "print('==> Accuracy sur la base de Test :', score[1])\n",
    "print()"
   ]
  },
  {
   "cell_type": "markdown",
   "metadata": {},
   "source": [
    "## Nouveau modèle :"
   ]
  },
  {
   "cell_type": "code",
   "execution_count": 7,
   "metadata": {},
   "outputs": [
    {
     "name": "stdout",
     "output_type": "stream",
     "text": [
      "Train on 60000 samples, validate on 10000 samples\n",
      "Epoch 1/20\n",
      "60000/60000 [==============================] - 3s 45us/step - loss: 0.5386 - accuracy: 0.8385 - val_loss: 0.2657 - val_accuracy: 0.9277\n",
      "Epoch 2/20\n",
      "60000/60000 [==============================] - 3s 44us/step - loss: 0.2480 - accuracy: 0.9298 - val_loss: 0.2089 - val_accuracy: 0.9410\n",
      "Epoch 3/20\n",
      "60000/60000 [==============================] - 3s 45us/step - loss: 0.1965 - accuracy: 0.9450 - val_loss: 0.1837 - val_accuracy: 0.9481\n",
      "Epoch 4/20\n",
      "60000/60000 [==============================] - 3s 46us/step - loss: 0.1645 - accuracy: 0.9537 - val_loss: 0.1527 - val_accuracy: 0.9561\n",
      "Epoch 5/20\n",
      "60000/60000 [==============================] - 3s 45us/step - loss: 0.1415 - accuracy: 0.9611 - val_loss: 0.1372 - val_accuracy: 0.9612\n",
      "Epoch 6/20\n",
      "60000/60000 [==============================] - 3s 45us/step - loss: 0.1255 - accuracy: 0.9651 - val_loss: 0.1235 - val_accuracy: 0.9648\n",
      "Epoch 7/20\n",
      "60000/60000 [==============================] - 3s 44us/step - loss: 0.1127 - accuracy: 0.9691 - val_loss: 0.1164 - val_accuracy: 0.9665\n",
      "Epoch 8/20\n",
      "60000/60000 [==============================] - 3s 53us/step - loss: 0.1019 - accuracy: 0.9722 - val_loss: 0.1088 - val_accuracy: 0.9675\n",
      "Epoch 9/20\n",
      "60000/60000 [==============================] - 3s 47us/step - loss: 0.0930 - accuracy: 0.9751 - val_loss: 0.0991 - val_accuracy: 0.9712\n",
      "Epoch 10/20\n",
      "60000/60000 [==============================] - 3s 54us/step - loss: 0.0853 - accuracy: 0.9774 - val_loss: 0.0964 - val_accuracy: 0.9712\n",
      "Epoch 11/20\n",
      "60000/60000 [==============================] - 3s 44us/step - loss: 0.0791 - accuracy: 0.9792 - val_loss: 0.0911 - val_accuracy: 0.9730\n",
      "Epoch 12/20\n",
      "60000/60000 [==============================] - 3s 48us/step - loss: 0.0728 - accuracy: 0.9804 - val_loss: 0.0872 - val_accuracy: 0.9743\n",
      "Epoch 13/20\n",
      "60000/60000 [==============================] - 3s 54us/step - loss: 0.0681 - accuracy: 0.9821 - val_loss: 0.0835 - val_accuracy: 0.9754\n",
      "Epoch 14/20\n",
      "60000/60000 [==============================] - 3s 47us/step - loss: 0.0636 - accuracy: 0.9835 - val_loss: 0.0801 - val_accuracy: 0.9767\n",
      "Epoch 15/20\n",
      "60000/60000 [==============================] - 3s 47us/step - loss: 0.0598 - accuracy: 0.9844 - val_loss: 0.0787 - val_accuracy: 0.9765\n",
      "Epoch 16/20\n",
      "60000/60000 [==============================] - 3s 53us/step - loss: 0.0560 - accuracy: 0.9859 - val_loss: 0.0769 - val_accuracy: 0.9779\n",
      "Epoch 17/20\n",
      "60000/60000 [==============================] - 3s 56us/step - loss: 0.0529 - accuracy: 0.9866 - val_loss: 0.0735 - val_accuracy: 0.9777\n",
      "Epoch 18/20\n",
      "60000/60000 [==============================] - 3s 54us/step - loss: 0.0494 - accuracy: 0.9875 - val_loss: 0.0724 - val_accuracy: 0.9779\n",
      "Epoch 19/20\n",
      "60000/60000 [==============================] - 3s 57us/step - loss: 0.0467 - accuracy: 0.9885 - val_loss: 0.0713 - val_accuracy: 0.9785\n",
      "Epoch 20/20\n",
      "60000/60000 [==============================] - 4s 70us/step - loss: 0.0443 - accuracy: 0.9894 - val_loss: 0.0720 - val_accuracy: 0.9783\n",
      "\n",
      "Accuracy sur la base de Test : 0.9782999753952026\n",
      "\n",
      "CPU times: user 2min 44s, sys: 17.8 s, total: 3min 2s\n",
      "Wall time: 1min\n"
     ]
    }
   ],
   "source": [
    "%%time\n",
    "\n",
    "model = Sequential()\n",
    "model.add(Dense(2000, input_shape=(784,)))\n",
    "model.add(Activation('relu'))\n",
    "model.add(Dense(10))\n",
    "model.add(Activation('softmax'))\n",
    "\n",
    "model.compile(loss='categorical_crossentropy', optimizer=SGD(0.5), metrics=['accuracy'])\n",
    "\n",
    "history = model.fit(training_images, training_labels_categories, batch_size=800, epochs=20,\n",
    "                    verbose=1, validation_data=(test_images, test_labels_categories))\n",
    "score = model.evaluate(test_images, test_labels_categories, verbose=0)\n",
    "print()\n",
    "print('Accuracy sur la base de Test :', score[1])\n",
    "print()"
   ]
  },
  {
   "cell_type": "markdown",
   "metadata": {},
   "source": [
    "## Test du modèle"
   ]
  },
  {
   "cell_type": "code",
   "execution_count": 8,
   "metadata": {},
   "outputs": [
    {
     "data": {
      "image/png": "[encoded data removed]",
      "text/plain": [
       "<Figure size 432x288 with 3 Axes>"
      ]
     },
     "metadata": {
      "needs_background": "light"
     },
     "output_type": "display_data"
    }
   ],
   "source": [
    "classes_predites = model.predict_classes(test_images)\n",
    "correct_indices = np.nonzero(classes_predites == test_labels)[0]\n",
    "incorrect_indices = np.nonzero(classes_predites != test_labels)[0]\n",
    "\n",
    "plt.figure()\n",
    "for i, correct in enumerate(correct_indices[:3]):\n",
    "    plt.subplot(1,3,i+1)\n",
    "    plt.imshow(test_images[correct].reshape(28,28), cmap='gray', interpolation='none')\n",
    "    plt.title(\"Score={} Chiffre={}\".format(classes_predites[correct], test_labels[correct]))"
   ]
  },
  {
   "cell_type": "markdown",
   "metadata": {},
   "source": [
    "### Erreurs du modèle :"
   ]
  },
  {
   "cell_type": "code",
   "execution_count": 9,
   "metadata": {},
   "outputs": [
    {
     "data": {
      "text/plain": [
       "array([   8,  247,  259,  321,  340,  381,  445,  495,  582,  619,  659,\n",
       "        684,  691,  707,  720,  740,  844,  947,  951,  965, 1003, 1014,\n",
       "       1039, 1112, 1181, 1182, 1192, 1194, 1226, 1232, 1242, 1247, 1260,\n",
       "       1299, 1319, 1393, 1395, 1444, 1464, 1494, 1500, 1522, 1530, 1549,\n",
       "       1553, 1581, 1609, 1621, 1671, 1681, 1709, 1717, 1790, 1850, 1878,\n",
       "       1901, 1940, 1941, 1952, 1984, 1987, 2004, 2016, 2035, 2043, 2044,\n",
       "       2053, 2070, 2098, 2109, 2118, 2129, 2130, 2135, 2182, 2189, 2224,\n",
       "       2266, 2272, 2293, 2299, 2387, 2406, 2414, 2433, 2454, 2488, 2514,\n",
       "       2526, 2597, 2607, 2648, 2654, 2810, 2877, 2896, 2915, 2939, 2953,\n",
       "       3005, 3060, 3073, 3117, 3289, 3405, 3422, 3503, 3520, 3533, 3558,\n",
       "       3559, 3567, 3597, 3681, 3718, 3757, 3767, 3776, 3780, 3796, 3808,\n",
       "       3811, 3818, 3838, 3853, 3893, 3906, 3926, 3941, 3985, 4065, 4075,\n",
       "       4078, 4163, 4176, 4199, 4201, 4224, 4248, 4289, 4355, 4497, 4536,\n",
       "       4601, 4639, 4761, 4807, 4814, 4823, 4860, 4876, 4880, 4886, 4956,\n",
       "       4966, 5331, 5457, 5600, 5634, 5642, 5676, 5734, 5749, 5842, 5936,\n",
       "       5937, 5955, 5972, 5973, 5982, 6024, 6035, 6043, 6045, 6059, 6071,\n",
       "       6166, 6505, 6532, 6560, 6571, 6597, 6625, 6651, 6755, 6783, 6847,\n",
       "       7216, 7434, 7886, 8020, 8094, 8311, 8408, 8520, 8522, 8527, 9009,\n",
       "       9015, 9024, 9280, 9587, 9634, 9664, 9679, 9692, 9698, 9729, 9745,\n",
       "       9749, 9768, 9770, 9779, 9808, 9811, 9839, 9944])"
      ]
     },
     "execution_count": 9,
     "metadata": {},
     "output_type": "execute_result"
    }
   ],
   "source": [
    "incorrect_indices"
   ]
  },
  {
   "cell_type": "code",
   "execution_count": 10,
   "metadata": {},
   "outputs": [
    {
     "data": {
      "image/png": "[encoded data removed]",
      "text/plain": [
       "<Figure size 432x288 with 3 Axes>"
      ]
     },
     "metadata": {
      "needs_background": "light"
     },
     "output_type": "display_data"
    }
   ],
   "source": [
    "plt.figure()\n",
    "for i, incorrect in enumerate(incorrect_indices[:3]):\n",
    "    plt.subplot(1,3,i+1)\n",
    "    plt.imshow(test_images[incorrect].reshape(28,28), cmap='gray', interpolation='none')\n",
    "    plt.title(\"Score={} Chiffre={}\".format(classes_predites[incorrect], test_labels[incorrect]))"
   ]
  },
  {
   "cell_type": "markdown",
   "metadata": {},
   "source": [
    "<img src=\"https://github.com/retkowsky/images/blob/master/Powered-by-MS-Azure-logo-v2.png?raw=true\" height=\"300\" width=\"300\">"
   ]
  },
  {
   "cell_type": "code",
   "execution_count": null,
   "metadata": {},
   "outputs": [],
   "source": []
  }
 ],
 "metadata": {
  "kernelspec": {
   "display_name": "Python 3.6 - AzureML",
   "language": "python",
   "name": "python3-azureml"
  },
  "language_info": {
   "codemirror_mode": {
    "name": "ipython",
    "version": 3
   },
   "file_extension": ".py",
   "mimetype": "text/x-python",
   "name": "python",
   "nbconvert_exporter": "python",
   "pygments_lexer": "ipython3",
   "version": "3.6.9"
  }
 },
 "nbformat": 4,
 "nbformat_minor": 2
}
